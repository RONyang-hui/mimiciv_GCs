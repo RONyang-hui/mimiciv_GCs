{
 "cells": [
  {
   "cell_type": "code",
   "execution_count": 67,
   "metadata": {
    "vscode": {
     "languageId": "r"
    }
   },
   "outputs": [],
   "source": [
    "library(survey)\n",
    "library(RPostgreSQL)\n",
    "library(twang)\n",
    "library(Matching)\n",
    "library(tidyverse)\n",
    "library(readxl)\n",
    "library(rms)\n",
    "library(survey)\n",
    "library(ggplot2)"
   ]
  },
  {
   "cell_type": "code",
   "execution_count": 68,
   "metadata": {
    "vscode": {
     "languageId": "r"
    }
   },
   "outputs": [],
   "source": [
    "data_dir <- file.path(\"..\", \"data\")"
   ]
  },
  {
   "cell_type": "code",
   "execution_count": 69,
   "metadata": {
    "vscode": {
     "languageId": "r"
    }
   },
   "outputs": [
    {
     "data": {
      "text/html": [
       "<table class=\"dataframe\">\n",
       "<caption>A data.frame: 6 × 122</caption>\n",
       "<thead>\n",
       "\t<tr><th></th><th scope=col>stay_id</th><th scope=col>hadm_id</th><th scope=col>subject_id</th><th scope=col>gender</th><th scope=col>age</th><th scope=col>sapsii</th><th scope=col>icu_intime</th><th scope=col>icu_outtime</th><th scope=col>weight</th><th scope=col>sofa_24hours</th><th scope=col>⋯</th><th scope=col>lab_potassium_flag</th><th scope=col>lab_troponin_flag</th><th scope=col>lab_po2_flag</th><th scope=col>lab_lactate_flag</th><th scope=col>gcs_int</th><th scope=col>ca_int</th><th scope=col>event_state_int</th><th scope=col>mort_28_day_int</th><th scope=col>ps</th><th scope=col>ps_weight</th></tr>\n",
       "\t<tr><th></th><th scope=col>&lt;int&gt;</th><th scope=col>&lt;int&gt;</th><th scope=col>&lt;int&gt;</th><th scope=col>&lt;fct&gt;</th><th scope=col>&lt;dbl&gt;</th><th scope=col>&lt;int&gt;</th><th scope=col>&lt;dttm&gt;</th><th scope=col>&lt;dttm&gt;</th><th scope=col>&lt;dbl&gt;</th><th scope=col>&lt;int&gt;</th><th scope=col>⋯</th><th scope=col>&lt;fct&gt;</th><th scope=col>&lt;fct&gt;</th><th scope=col>&lt;fct&gt;</th><th scope=col>&lt;fct&gt;</th><th scope=col>&lt;int&gt;</th><th scope=col>&lt;int&gt;</th><th scope=col>&lt;int&gt;</th><th scope=col>&lt;int&gt;</th><th scope=col>&lt;dbl&gt;</th><th scope=col>&lt;dbl&gt;</th></tr>\n",
       "</thead>\n",
       "<tbody>\n",
       "\t<tr><th scope=row>1</th><td>38302142</td><td>20475690</td><td>13620446</td><td>F</td><td>66.04835</td><td>31</td><td>2159-01-21 01:45:32</td><td>2159-01-25 14:09:02</td><td>138.0</td><td> 1</td><td>⋯</td><td>1</td><td>0</td><td>1</td><td>1</td><td>0</td><td> 1</td><td>1</td><td>0</td><td>0.24414645</td><td>1.323008</td></tr>\n",
       "\t<tr><th scope=row>2</th><td>31869153</td><td>21383344</td><td>15359363</td><td>F</td><td>41.91122</td><td>39</td><td>2166-12-02 16:08:45</td><td>2166-12-05 02:10:02</td><td> 70.0</td><td> 0</td><td>⋯</td><td>1</td><td>0</td><td>0</td><td>0</td><td>1</td><td>NA</td><td>0</td><td>0</td><td>0.49112332</td><td>2.036148</td></tr>\n",
       "\t<tr><th scope=row>3</th><td>31501167</td><td>20944291</td><td>12162143</td><td>F</td><td>87.59137</td><td>35</td><td>2174-08-05 00:49:12</td><td>2174-08-06 16:13:22</td><td> 65.0</td><td> 1</td><td>⋯</td><td>1</td><td>0</td><td>1</td><td>1</td><td>0</td><td> 1</td><td>0</td><td>0</td><td>0.06747939</td><td>1.072362</td></tr>\n",
       "\t<tr><th scope=row>4</th><td>39256124</td><td>24959920</td><td>18226317</td><td>M</td><td>66.88656</td><td>28</td><td>2130-11-20 19:28:29</td><td>2130-11-25 12:42:59</td><td> 88.0</td><td> 3</td><td>⋯</td><td>1</td><td>0</td><td>0</td><td>0</td><td>0</td><td> 1</td><td>0</td><td>0</td><td>0.07645528</td><td>1.082785</td></tr>\n",
       "\t<tr><th scope=row>5</th><td>31132695</td><td>28164203</td><td>15928453</td><td>F</td><td>44.39155</td><td>55</td><td>2113-05-24 00:14:32</td><td>2113-05-29 14:24:45</td><td> 45.9</td><td>10</td><td>⋯</td><td>1</td><td>0</td><td>1</td><td>1</td><td>0</td><td> 1</td><td>1</td><td>0</td><td>0.05389380</td><td>1.056964</td></tr>\n",
       "\t<tr><th scope=row>6</th><td>39784690</td><td>23246205</td><td>16810503</td><td>M</td><td>56.61848</td><td>30</td><td>2149-08-14 21:32:37</td><td>2149-08-21 12:15:14</td><td> 80.0</td><td> 3</td><td>⋯</td><td>1</td><td>0</td><td>1</td><td>1</td><td>0</td><td> 1</td><td>0</td><td>0</td><td>0.03894196</td><td>1.040520</td></tr>\n",
       "</tbody>\n",
       "</table>\n"
      ],
      "text/latex": [
       "A data.frame: 6 × 122\n",
       "\\begin{tabular}{r|lllllllllllllllllllll}\n",
       "  & stay\\_id & hadm\\_id & subject\\_id & gender & age & sapsii & icu\\_intime & icu\\_outtime & weight & sofa\\_24hours & ⋯ & lab\\_potassium\\_flag & lab\\_troponin\\_flag & lab\\_po2\\_flag & lab\\_lactate\\_flag & gcs\\_int & ca\\_int & event\\_state\\_int & mort\\_28\\_day\\_int & ps & ps\\_weight\\\\\n",
       "  & <int> & <int> & <int> & <fct> & <dbl> & <int> & <dttm> & <dttm> & <dbl> & <int> & ⋯ & <fct> & <fct> & <fct> & <fct> & <int> & <int> & <int> & <int> & <dbl> & <dbl>\\\\\n",
       "\\hline\n",
       "\t1 & 38302142 & 20475690 & 13620446 & F & 66.04835 & 31 & 2159-01-21 01:45:32 & 2159-01-25 14:09:02 & 138.0 &  1 & ⋯ & 1 & 0 & 1 & 1 & 0 &  1 & 1 & 0 & 0.24414645 & 1.323008\\\\\n",
       "\t2 & 31869153 & 21383344 & 15359363 & F & 41.91122 & 39 & 2166-12-02 16:08:45 & 2166-12-05 02:10:02 &  70.0 &  0 & ⋯ & 1 & 0 & 0 & 0 & 1 & NA & 0 & 0 & 0.49112332 & 2.036148\\\\\n",
       "\t3 & 31501167 & 20944291 & 12162143 & F & 87.59137 & 35 & 2174-08-05 00:49:12 & 2174-08-06 16:13:22 &  65.0 &  1 & ⋯ & 1 & 0 & 1 & 1 & 0 &  1 & 0 & 0 & 0.06747939 & 1.072362\\\\\n",
       "\t4 & 39256124 & 24959920 & 18226317 & M & 66.88656 & 28 & 2130-11-20 19:28:29 & 2130-11-25 12:42:59 &  88.0 &  3 & ⋯ & 1 & 0 & 0 & 0 & 0 &  1 & 0 & 0 & 0.07645528 & 1.082785\\\\\n",
       "\t5 & 31132695 & 28164203 & 15928453 & F & 44.39155 & 55 & 2113-05-24 00:14:32 & 2113-05-29 14:24:45 &  45.9 & 10 & ⋯ & 1 & 0 & 1 & 1 & 0 &  1 & 1 & 0 & 0.05389380 & 1.056964\\\\\n",
       "\t6 & 39784690 & 23246205 & 16810503 & M & 56.61848 & 30 & 2149-08-14 21:32:37 & 2149-08-21 12:15:14 &  80.0 &  3 & ⋯ & 1 & 0 & 1 & 1 & 0 &  1 & 0 & 0 & 0.03894196 & 1.040520\\\\\n",
       "\\end{tabular}\n"
      ],
      "text/markdown": [
       "\n",
       "A data.frame: 6 × 122\n",
       "\n",
       "| <!--/--> | stay_id &lt;int&gt; | hadm_id &lt;int&gt; | subject_id &lt;int&gt; | gender &lt;fct&gt; | age &lt;dbl&gt; | sapsii &lt;int&gt; | icu_intime &lt;dttm&gt; | icu_outtime &lt;dttm&gt; | weight &lt;dbl&gt; | sofa_24hours &lt;int&gt; | ⋯ ⋯ | lab_potassium_flag &lt;fct&gt; | lab_troponin_flag &lt;fct&gt; | lab_po2_flag &lt;fct&gt; | lab_lactate_flag &lt;fct&gt; | gcs_int &lt;int&gt; | ca_int &lt;int&gt; | event_state_int &lt;int&gt; | mort_28_day_int &lt;int&gt; | ps &lt;dbl&gt; | ps_weight &lt;dbl&gt; |\n",
       "|---|---|---|---|---|---|---|---|---|---|---|---|---|---|---|---|---|---|---|---|---|---|\n",
       "| 1 | 38302142 | 20475690 | 13620446 | F | 66.04835 | 31 | 2159-01-21 01:45:32 | 2159-01-25 14:09:02 | 138.0 |  1 | ⋯ | 1 | 0 | 1 | 1 | 0 |  1 | 1 | 0 | 0.24414645 | 1.323008 |\n",
       "| 2 | 31869153 | 21383344 | 15359363 | F | 41.91122 | 39 | 2166-12-02 16:08:45 | 2166-12-05 02:10:02 |  70.0 |  0 | ⋯ | 1 | 0 | 0 | 0 | 1 | NA | 0 | 0 | 0.49112332 | 2.036148 |\n",
       "| 3 | 31501167 | 20944291 | 12162143 | F | 87.59137 | 35 | 2174-08-05 00:49:12 | 2174-08-06 16:13:22 |  65.0 |  1 | ⋯ | 1 | 0 | 1 | 1 | 0 |  1 | 0 | 0 | 0.06747939 | 1.072362 |\n",
       "| 4 | 39256124 | 24959920 | 18226317 | M | 66.88656 | 28 | 2130-11-20 19:28:29 | 2130-11-25 12:42:59 |  88.0 |  3 | ⋯ | 1 | 0 | 0 | 0 | 0 |  1 | 0 | 0 | 0.07645528 | 1.082785 |\n",
       "| 5 | 31132695 | 28164203 | 15928453 | F | 44.39155 | 55 | 2113-05-24 00:14:32 | 2113-05-29 14:24:45 |  45.9 | 10 | ⋯ | 1 | 0 | 1 | 1 | 0 |  1 | 1 | 0 | 0.05389380 | 1.056964 |\n",
       "| 6 | 39784690 | 23246205 | 16810503 | M | 56.61848 | 30 | 2149-08-14 21:32:37 | 2149-08-21 12:15:14 |  80.0 |  3 | ⋯ | 1 | 0 | 1 | 1 | 0 |  1 | 0 | 0 | 0.03894196 | 1.040520 |\n",
       "\n"
      ],
      "text/plain": [
       "  stay_id  hadm_id  subject_id gender age      sapsii icu_intime         \n",
       "1 38302142 20475690 13620446   F      66.04835 31     2159-01-21 01:45:32\n",
       "2 31869153 21383344 15359363   F      41.91122 39     2166-12-02 16:08:45\n",
       "3 31501167 20944291 12162143   F      87.59137 35     2174-08-05 00:49:12\n",
       "4 39256124 24959920 18226317   M      66.88656 28     2130-11-20 19:28:29\n",
       "5 31132695 28164203 15928453   F      44.39155 55     2113-05-24 00:14:32\n",
       "6 39784690 23246205 16810503   M      56.61848 30     2149-08-14 21:32:37\n",
       "  icu_outtime         weight sofa_24hours ⋯ lab_potassium_flag\n",
       "1 2159-01-25 14:09:02 138.0   1           ⋯ 1                 \n",
       "2 2166-12-05 02:10:02  70.0   0           ⋯ 1                 \n",
       "3 2174-08-06 16:13:22  65.0   1           ⋯ 1                 \n",
       "4 2130-11-25 12:42:59  88.0   3           ⋯ 1                 \n",
       "5 2113-05-29 14:24:45  45.9  10           ⋯ 1                 \n",
       "6 2149-08-21 12:15:14  80.0   3           ⋯ 1                 \n",
       "  lab_troponin_flag lab_po2_flag lab_lactate_flag gcs_int ca_int\n",
       "1 0                 1            1                0        1    \n",
       "2 0                 0            0                1       NA    \n",
       "3 0                 1            1                0        1    \n",
       "4 0                 0            0                0        1    \n",
       "5 0                 1            1                0        1    \n",
       "6 0                 1            1                0        1    \n",
       "  event_state_int mort_28_day_int ps         ps_weight\n",
       "1 1               0               0.24414645 1.323008 \n",
       "2 0               0               0.49112332 2.036148 \n",
       "3 0               0               0.06747939 1.072362 \n",
       "4 0               0               0.07645528 1.082785 \n",
       "5 1               0               0.05389380 1.056964 \n",
       "6 0               0               0.03894196 1.040520 "
      ]
     },
     "metadata": {},
     "output_type": "display_data"
    }
   ],
   "source": [
    "full_data <- readRDS(file.path(data_dir, \"full_data_ps.rds\"))\n",
    "head(full_data)"
   ]
  },
  {
   "cell_type": "code",
   "execution_count": 70,
   "metadata": {
    "vscode": {
     "languageId": "r"
    }
   },
   "outputs": [
    {
     "name": "stdout",
     "output_type": "stream",
     "text": [
      "                          cov  pval\n",
      "1                         age 0.228\n",
      "2                      gender 0.189\n",
      "3                      weight 0.979\n",
      "4                      sapsii 0.492\n",
      "5                sofa_24hours 0.045\n",
      "6                 mort_28_day 0.480\n",
      "7               survival_days 0.025\n",
      "8              infection_flag 0.324\n",
      "9                vs_map_first 0.957\n",
      "10        vs_heart_rate_first 0.960\n",
      "11              vs_temp_first 0.804\n",
      "12              lab_wbc_first 0.187\n",
      "13       lab_hemoglobin_first 0.143\n",
      "14         lab_platelet_first 0.579\n",
      "15           lab_sodium_first 0.672\n",
      "16        lab_potassium_first 0.991\n",
      "17      lab_bicarbonate_first 0.151\n",
      "18         lab_chloride_first 0.762\n",
      "19              lab_bun_first 0.875\n",
      "20          lab_lactate_first 0.231\n",
      "21       lab_creatinine_first 0.113\n",
      "22               lab_ph_first 0.022\n",
      "23              lab_po2_first 0.399\n",
      "24             lab_pco2_first 0.583\n",
      "25               lab_bnp_flag 0.635\n",
      "26          lab_troponin_flag 0.454\n",
      "27 lab_creatinine_kinase_flag 0.357\n"
     ]
    }
   ],
   "source": [
    "wtd_pval <- data.table::fread(file.path(data_dir, \"wtd_pval.csv\"), data.table = FALSE)\n",
    "print(wtd_pval)"
   ]
  },
  {
   "cell_type": "code",
   "execution_count": 71,
   "metadata": {
    "vscode": {
     "languageId": "r"
    }
   },
   "outputs": [
    {
     "data": {
      "text/html": [
       "<style>\n",
       ".list-inline {list-style: none; margin:0; padding: 0}\n",
       ".list-inline>li {display: inline-block}\n",
       ".list-inline>li:not(:last-child)::after {content: \"\\00b7\"; padding: 0 .5ex}\n",
       "</style>\n",
       "<ol class=list-inline><li>'sofa_24hours'</li><li>'survival_days'</li><li>'lab_ph_first'</li></ol>\n"
      ],
      "text/latex": [
       "\\begin{enumerate*}\n",
       "\\item 'sofa\\_24hours'\n",
       "\\item 'survival\\_days'\n",
       "\\item 'lab\\_ph\\_first'\n",
       "\\end{enumerate*}\n"
      ],
      "text/markdown": [
       "1. 'sofa_24hours'\n",
       "2. 'survival_days'\n",
       "3. 'lab_ph_first'\n",
       "\n",
       "\n"
      ],
      "text/plain": [
       "[1] \"sofa_24hours\"  \"survival_days\" \"lab_ph_first\" "
      ]
     },
     "metadata": {},
     "output_type": "display_data"
    }
   ],
   "source": [
    "wpv <- wtd_pval %>%\n",
    "    filter(pval < 0.1) %>%\n",
    "    pull(cov)\n",
    "\n",
    "wpv"
   ]
  },
  {
   "cell_type": "code",
   "execution_count": 72,
   "metadata": {
    "vscode": {
     "languageId": "r"
    }
   },
   "outputs": [],
   "source": [
    "ipw_svydesign <- readRDS(file.path(data_dir, \"ipw_svydesign.rds\"))"
   ]
  },
  {
   "cell_type": "code",
   "execution_count": 73,
   "metadata": {
    "vscode": {
     "languageId": "r"
    }
   },
   "outputs": [
    {
     "data": {
      "text/html": [
       "'mort_28_day ~ gcs + sofa_24hours + survival_days + lab_ph_first'"
      ],
      "text/latex": [
       "'mort\\_28\\_day \\textasciitilde{} gcs + sofa\\_24hours + survival\\_days + lab\\_ph\\_first'"
      ],
      "text/markdown": [
       "'mort_28_day ~ gcs + sofa_24hours + survival_days + lab_ph_first'"
      ],
      "text/plain": [
       "[1] \"mort_28_day ~ gcs + sofa_24hours + survival_days + lab_ph_first\""
      ]
     },
     "metadata": {},
     "output_type": "display_data"
    }
   ],
   "source": [
    "fml <- wpv %>%\n",
    "c(\"gcs\", .) %>%\n",
    "paste(collapse = \" + \") %>%\n",
    "sprintf(\"mort_28_day ~ %s\", .)\n",
    "\n",
    "fml\n",
    "\n"
   ]
  },
  {
   "cell_type": "code",
   "execution_count": 74,
   "metadata": {
    "vscode": {
     "languageId": "r"
    }
   },
   "outputs": [],
   "source": [
    "fml <- mort_28_day ~ gcs + sofa_24hours + vs_cvp_flag + lab_ph_first"
   ]
  },
  {
   "cell_type": "code",
   "execution_count": 75,
   "metadata": {
    "vscode": {
     "languageId": "r"
    }
   },
   "outputs": [],
   "source": [
    "logi <- svyglm(as.formula(fml), family = quasibinomial, design = ipw_svydesign)"
   ]
  },
  {
   "cell_type": "code",
   "execution_count": 76,
   "metadata": {
    "vscode": {
     "languageId": "r"
    }
   },
   "outputs": [
    {
     "data": {
      "text/plain": [
       "\n",
       "Call:\n",
       "svyglm(formula = as.formula(fml), design = ipw_svydesign, family = quasibinomial)\n",
       "\n",
       "Survey design:\n",
       "svydesign(ids = ~stay_id, weights = ~ps_weight, data = full_data)\n",
       "\n",
       "Coefficients:\n",
       "             Estimate Std. Error t value Pr(>|t|)    \n",
       "(Intercept)   5.21726    7.08912   0.736    0.462    \n",
       "gcs1         -0.15575    0.21538  -0.723    0.470    \n",
       "sofa_24hours  0.27538    0.03056   9.012  < 2e-16 ***\n",
       "vs_cvp_flag1 -1.15630    0.22388  -5.165 2.58e-07 ***\n",
       "lab_ph_first -1.13131    0.95887  -1.180    0.238    \n",
       "---\n",
       "Signif. codes:  0 '***' 0.001 '**' 0.01 '*' 0.05 '.' 0.1 ' ' 1\n",
       "\n",
       "(Dispersion parameter for quasibinomial family taken to be 1.001487)\n",
       "\n",
       "Number of Fisher Scoring iterations: 5\n"
      ]
     },
     "metadata": {},
     "output_type": "display_data"
    }
   ],
   "source": [
    "summary(logi)"
   ]
  },
  {
   "cell_type": "code",
   "execution_count": 77,
   "metadata": {
    "vscode": {
     "languageId": "r"
    }
   },
   "outputs": [
    {
     "data": {
      "text/html": [
       "<table class=\"dataframe\">\n",
       "<caption>A matrix: 5 × 3 of type dbl</caption>\n",
       "<thead>\n",
       "\t<tr><th></th><th scope=col>OR</th><th scope=col>2.5 %</th><th scope=col>97.5 %</th></tr>\n",
       "</thead>\n",
       "<tbody>\n",
       "\t<tr><th scope=row>(Intercept)</th><td>184.4279995</td><td>0.0001693869</td><td>2.008047e+08</td></tr>\n",
       "\t<tr><th scope=row>gcs1</th><td>  0.8557723</td><td>0.5609752133</td><td>1.305488e+00</td></tr>\n",
       "\t<tr><th scope=row>sofa_24hours</th><td>  1.3170322</td><td>1.2404326432</td><td>1.398362e+00</td></tr>\n",
       "\t<tr><th scope=row>vs_cvp_flag1</th><td>  0.3146470</td><td>0.2028488070</td><td>4.880618e-01</td></tr>\n",
       "\t<tr><th scope=row>lab_ph_first</th><td>  0.3226112</td><td>0.0492183892</td><td>2.114616e+00</td></tr>\n",
       "</tbody>\n",
       "</table>\n"
      ],
      "text/latex": [
       "A matrix: 5 × 3 of type dbl\n",
       "\\begin{tabular}{r|lll}\n",
       "  & OR & 2.5 \\% & 97.5 \\%\\\\\n",
       "\\hline\n",
       "\t(Intercept) & 184.4279995 & 0.0001693869 & 2.008047e+08\\\\\n",
       "\tgcs1 &   0.8557723 & 0.5609752133 & 1.305488e+00\\\\\n",
       "\tsofa\\_24hours &   1.3170322 & 1.2404326432 & 1.398362e+00\\\\\n",
       "\tvs\\_cvp\\_flag1 &   0.3146470 & 0.2028488070 & 4.880618e-01\\\\\n",
       "\tlab\\_ph\\_first &   0.3226112 & 0.0492183892 & 2.114616e+00\\\\\n",
       "\\end{tabular}\n"
      ],
      "text/markdown": [
       "\n",
       "A matrix: 5 × 3 of type dbl\n",
       "\n",
       "| <!--/--> | OR | 2.5 % | 97.5 % |\n",
       "|---|---|---|---|\n",
       "| (Intercept) | 184.4279995 | 0.0001693869 | 2.008047e+08 |\n",
       "| gcs1 |   0.8557723 | 0.5609752133 | 1.305488e+00 |\n",
       "| sofa_24hours |   1.3170322 | 1.2404326432 | 1.398362e+00 |\n",
       "| vs_cvp_flag1 |   0.3146470 | 0.2028488070 | 4.880618e-01 |\n",
       "| lab_ph_first |   0.3226112 | 0.0492183892 | 2.114616e+00 |\n",
       "\n"
      ],
      "text/plain": [
       "             OR          2.5 %        97.5 %      \n",
       "(Intercept)  184.4279995 0.0001693869 2.008047e+08\n",
       "gcs1           0.8557723 0.5609752133 1.305488e+00\n",
       "sofa_24hours   1.3170322 1.2404326432 1.398362e+00\n",
       "vs_cvp_flag1   0.3146470 0.2028488070 4.880618e-01\n",
       "lab_ph_first   0.3226112 0.0492183892 2.114616e+00"
      ]
     },
     "metadata": {},
     "output_type": "display_data"
    }
   ],
   "source": [
    "exp(cbind(OR = coef(logi), confint(logi)))"
   ]
  },
  {
   "cell_type": "code",
   "execution_count": 78,
   "metadata": {
    "vscode": {
     "languageId": "r"
    }
   },
   "outputs": [],
   "source": [
    "fml <- mort_28_day ~ gcs + sofa_24hours + vs_cvp_flag + lab_ph_first + cumulative_dose\n"
   ]
  },
  {
   "cell_type": "code",
   "execution_count": 79,
   "metadata": {
    "vscode": {
     "languageId": "r"
    }
   },
   "outputs": [
    {
     "name": "stdout",
     "output_type": "stream",
     "text": [
      " num [1:4401] 0 1450 0 0 0 0 920 0 0 0 ...\n"
     ]
    }
   ],
   "source": [
    "full_data$cumulative_dose <- ifelse(is.na(full_data$cumulative_dose), 0, full_data$cumulative_dose)\n",
    "str(full_data$cumulative_dose)"
   ]
  },
  {
   "cell_type": "code",
   "execution_count": 80,
   "metadata": {
    "vscode": {
     "languageId": "r"
    }
   },
   "outputs": [],
   "source": [
    "full_data$dose_group <- cut(full_data$cumulative_dose, \n",
    "                           breaks = c(0, 1888, Inf), \n",
    "                           labels = c(\"Low\", \"High\"))\n",
    "\n",
    "# 将 NA 值替换为 0\n",
    "full_data$dose_group <- ifelse(is.na(full_data$dose_group), 0, full_data$dose_group)"
   ]
  },
  {
   "cell_type": "code",
   "execution_count": 81,
   "metadata": {
    "vscode": {
     "languageId": "r"
    }
   },
   "outputs": [
    {
     "name": "stdout",
     "output_type": "stream",
     "text": [
      " num [1:4401] 0 1 0 0 0 0 1 0 0 0 ...\n"
     ]
    }
   ],
   "source": [
    "\n",
    "\n",
    "str(full_data$dose_group)"
   ]
  },
  {
   "cell_type": "code",
   "execution_count": 82,
   "metadata": {
    "vscode": {
     "languageId": "r"
    }
   },
   "outputs": [],
   "source": [
    "fml <- mort_28_day ~ gcs + sofa_24hours + vs_cvp_flag + lab_ph_first + dose_group"
   ]
  },
  {
   "cell_type": "code",
   "execution_count": 83,
   "metadata": {
    "vscode": {
     "languageId": "r"
    }
   },
   "outputs": [
    {
     "data": {
      "text/plain": [
       "\n",
       "Call:\n",
       "glm(formula = as.formula(fml), family = binomial, data = full_data, \n",
       "    na.action = na.exclude)\n",
       "\n",
       "Coefficients:\n",
       "             Estimate Std. Error z value Pr(>|z|)    \n",
       "(Intercept)  10.33137    4.56295   2.264  0.02356 *  \n",
       "gcs1         -0.14964    0.53180  -0.281  0.77842    \n",
       "sofa_24hours  0.26853    0.01856  14.466  < 2e-16 ***\n",
       "vs_cvp_flag1 -1.14418    0.15035  -7.610 2.74e-14 ***\n",
       "lab_ph_first -1.82601    0.61924  -2.949  0.00319 ** \n",
       "dose_group    0.25747    0.41390   0.622  0.53390    \n",
       "---\n",
       "Signif. codes:  0 '***' 0.001 '**' 0.01 '*' 0.05 '.' 0.1 ' ' 1\n",
       "\n",
       "(Dispersion parameter for binomial family taken to be 1)\n",
       "\n",
       "    Null deviance: 1978.5  on 2735  degrees of freedom\n",
       "Residual deviance: 1677.2  on 2730  degrees of freedom\n",
       "  (1665 observations deleted due to missingness)\n",
       "AIC: 1689.2\n",
       "\n",
       "Number of Fisher Scoring iterations: 5\n"
      ]
     },
     "metadata": {},
     "output_type": "display_data"
    },
    {
     "name": "stderr",
     "output_type": "stream",
     "text": [
      "Waiting for profiling to be done...\n",
      "\n"
     ]
    },
    {
     "data": {
      "text/html": [
       "<table class=\"dataframe\">\n",
       "<caption>A matrix: 6 × 3 of type dbl</caption>\n",
       "<thead>\n",
       "\t<tr><th></th><th scope=col>OR</th><th scope=col>2.5 %</th><th scope=col>97.5 %</th></tr>\n",
       "</thead>\n",
       "<tbody>\n",
       "\t<tr><th scope=row>(Intercept)</th><td>3.068020e+04</td><td>3.78064891</td><td>2.262443e+08</td></tr>\n",
       "\t<tr><th scope=row>gcs1</th><td>8.610195e-01</td><td>0.30049773</td><td>2.434766e+00</td></tr>\n",
       "\t<tr><th scope=row>sofa_24hours</th><td>1.308047e+00</td><td>1.26186570</td><td>1.357184e+00</td></tr>\n",
       "\t<tr><th scope=row>vs_cvp_flag1</th><td>3.184854e-01</td><td>0.23576480</td><td>4.253238e-01</td></tr>\n",
       "\t<tr><th scope=row>lab_ph_first</th><td>1.610543e-01</td><td>0.04804869</td><td>5.458854e-01</td></tr>\n",
       "\t<tr><th scope=row>dose_group</th><td>1.293656e+00</td><td>0.55880431</td><td>2.853296e+00</td></tr>\n",
       "</tbody>\n",
       "</table>\n"
      ],
      "text/latex": [
       "A matrix: 6 × 3 of type dbl\n",
       "\\begin{tabular}{r|lll}\n",
       "  & OR & 2.5 \\% & 97.5 \\%\\\\\n",
       "\\hline\n",
       "\t(Intercept) & 3.068020e+04 & 3.78064891 & 2.262443e+08\\\\\n",
       "\tgcs1 & 8.610195e-01 & 0.30049773 & 2.434766e+00\\\\\n",
       "\tsofa\\_24hours & 1.308047e+00 & 1.26186570 & 1.357184e+00\\\\\n",
       "\tvs\\_cvp\\_flag1 & 3.184854e-01 & 0.23576480 & 4.253238e-01\\\\\n",
       "\tlab\\_ph\\_first & 1.610543e-01 & 0.04804869 & 5.458854e-01\\\\\n",
       "\tdose\\_group & 1.293656e+00 & 0.55880431 & 2.853296e+00\\\\\n",
       "\\end{tabular}\n"
      ],
      "text/markdown": [
       "\n",
       "A matrix: 6 × 3 of type dbl\n",
       "\n",
       "| <!--/--> | OR | 2.5 % | 97.5 % |\n",
       "|---|---|---|---|\n",
       "| (Intercept) | 3.068020e+04 | 3.78064891 | 2.262443e+08 |\n",
       "| gcs1 | 8.610195e-01 | 0.30049773 | 2.434766e+00 |\n",
       "| sofa_24hours | 1.308047e+00 | 1.26186570 | 1.357184e+00 |\n",
       "| vs_cvp_flag1 | 3.184854e-01 | 0.23576480 | 4.253238e-01 |\n",
       "| lab_ph_first | 1.610543e-01 | 0.04804869 | 5.458854e-01 |\n",
       "| dose_group | 1.293656e+00 | 0.55880431 | 2.853296e+00 |\n",
       "\n"
      ],
      "text/plain": [
       "             OR           2.5 %      97.5 %      \n",
       "(Intercept)  3.068020e+04 3.78064891 2.262443e+08\n",
       "gcs1         8.610195e-01 0.30049773 2.434766e+00\n",
       "sofa_24hours 1.308047e+00 1.26186570 1.357184e+00\n",
       "vs_cvp_flag1 3.184854e-01 0.23576480 4.253238e-01\n",
       "lab_ph_first 1.610543e-01 0.04804869 5.458854e-01\n",
       "dose_group   1.293656e+00 0.55880431 2.853296e+00"
      ]
     },
     "metadata": {},
     "output_type": "display_data"
    }
   ],
   "source": [
    "unweighted <- glm(as.formula(fml), data = full_data, family = binomial, na.action = na.exclude)\n",
    "summary(unweighted)\n",
    "exp(cbind(OR = coef(unweighted), confint(unweighted)))"
   ]
  },
  {
   "cell_type": "code",
   "execution_count": 84,
   "metadata": {
    "vscode": {
     "languageId": "r"
    }
   },
   "outputs": [],
   "source": [
    "\n",
    "library(rms)\n",
    "library(survey)\n",
    "library(ggplot2)\n"
   ]
  },
  {
   "cell_type": "code",
   "execution_count": 85,
   "metadata": {
    "vscode": {
     "languageId": "r"
    }
   },
   "outputs": [
    {
     "data": {
      "text/html": [
       "<table class=\"dataframe\">\n",
       "<caption>A tibble: 6 × 6</caption>\n",
       "<thead>\n",
       "\t<tr><th scope=col>mort_28_day</th><th scope=col>survival_days</th><th scope=col>cumulative_dose</th><th scope=col>gcs</th><th scope=col>dose_val_rx_average</th><th scope=col>pre_dose_val_rx</th></tr>\n",
       "\t<tr><th scope=col>&lt;dbl&gt;</th><th scope=col>&lt;dbl&gt;</th><th scope=col>&lt;dbl&gt;</th><th scope=col>&lt;dbl&gt;</th><th scope=col>&lt;dbl&gt;</th><th scope=col>&lt;dbl&gt;</th></tr>\n",
       "</thead>\n",
       "<tbody>\n",
       "\t<tr><td>0</td><td> 222.627164</td><td> 316</td><td>1</td><td>  3</td><td> 4</td></tr>\n",
       "\t<tr><td>0</td><td>   1.703252</td><td>  NA</td><td>0</td><td> 10</td><td>NA</td></tr>\n",
       "\t<tr><td>0</td><td>1695.817130</td><td>  NA</td><td>0</td><td> NA</td><td>NA</td></tr>\n",
       "\t<tr><td>0</td><td>   1.117257</td><td>2140</td><td>1</td><td>100</td><td>20</td></tr>\n",
       "\t<tr><td>0</td><td>   1.823623</td><td>  NA</td><td>0</td><td> NA</td><td>NA</td></tr>\n",
       "\t<tr><td>0</td><td>   4.109074</td><td>  NA</td><td>0</td><td> NA</td><td>NA</td></tr>\n",
       "</tbody>\n",
       "</table>\n"
      ],
      "text/latex": [
       "A tibble: 6 × 6\n",
       "\\begin{tabular}{llllll}\n",
       " mort\\_28\\_day & survival\\_days & cumulative\\_dose & gcs & dose\\_val\\_rx\\_average & pre\\_dose\\_val\\_rx\\\\\n",
       " <dbl> & <dbl> & <dbl> & <dbl> & <dbl> & <dbl>\\\\\n",
       "\\hline\n",
       "\t 0 &  222.627164 &  316 & 1 &   3 &  4\\\\\n",
       "\t 0 &    1.703252 &   NA & 0 &  10 & NA\\\\\n",
       "\t 0 & 1695.817130 &   NA & 0 &  NA & NA\\\\\n",
       "\t 0 &    1.117257 & 2140 & 1 & 100 & 20\\\\\n",
       "\t 0 &    1.823623 &   NA & 0 &  NA & NA\\\\\n",
       "\t 0 &    4.109074 &   NA & 0 &  NA & NA\\\\\n",
       "\\end{tabular}\n"
      ],
      "text/markdown": [
       "\n",
       "A tibble: 6 × 6\n",
       "\n",
       "| mort_28_day &lt;dbl&gt; | survival_days &lt;dbl&gt; | cumulative_dose &lt;dbl&gt; | gcs &lt;dbl&gt; | dose_val_rx_average &lt;dbl&gt; | pre_dose_val_rx &lt;dbl&gt; |\n",
       "|---|---|---|---|---|---|\n",
       "| 0 |  222.627164 |  316 | 1 |   3 |  4 |\n",
       "| 0 |    1.703252 |   NA | 0 |  10 | NA |\n",
       "| 0 | 1695.817130 |   NA | 0 |  NA | NA |\n",
       "| 0 |    1.117257 | 2140 | 1 | 100 | 20 |\n",
       "| 0 |    1.823623 |   NA | 0 |  NA | NA |\n",
       "| 0 |    4.109074 |   NA | 0 |  NA | NA |\n",
       "\n"
      ],
      "text/plain": [
       "  mort_28_day survival_days cumulative_dose gcs dose_val_rx_average\n",
       "1 0            222.627164    316            1     3                \n",
       "2 0              1.703252     NA            0    10                \n",
       "3 0           1695.817130     NA            0    NA                \n",
       "4 0              1.117257   2140            1   100                \n",
       "5 0              1.823623     NA            0    NA                \n",
       "6 0              4.109074     NA            0    NA                \n",
       "  pre_dose_val_rx\n",
       "1  4             \n",
       "2 NA             \n",
       "3 NA             \n",
       "4 20             \n",
       "5 NA             \n",
       "6 NA             "
      ]
     },
     "metadata": {},
     "output_type": "display_data"
    }
   ],
   "source": [
    "m1 <- read_excel(file.path(data_dir, \"rcs.xlsx\"))\n",
    "head(m1)"
   ]
  },
  {
   "cell_type": "code",
   "execution_count": 86,
   "metadata": {
    "vscode": {
     "languageId": "r"
    }
   },
   "outputs": [
    {
     "data": {
      "text/html": [
       "<table class=\"dataframe\">\n",
       "<caption>A tibble: 6 × 6</caption>\n",
       "<thead>\n",
       "\t<tr><th scope=col>mort_28_day</th><th scope=col>survival_days</th><th scope=col>cumulative_dose</th><th scope=col>gcs</th><th scope=col>dose_val_rx_average</th><th scope=col>pre_dose_val_rx</th></tr>\n",
       "\t<tr><th scope=col>&lt;dbl&gt;</th><th scope=col>&lt;dbl&gt;</th><th scope=col>&lt;dbl&gt;</th><th scope=col>&lt;dbl&gt;</th><th scope=col>&lt;dbl&gt;</th><th scope=col>&lt;dbl&gt;</th></tr>\n",
       "</thead>\n",
       "<tbody>\n",
       "\t<tr><td>0</td><td> 222.627164</td><td> 316</td><td>1</td><td>  3</td><td> 4</td></tr>\n",
       "\t<tr><td>0</td><td>   1.703252</td><td>  NA</td><td>0</td><td> 10</td><td>NA</td></tr>\n",
       "\t<tr><td>0</td><td>1695.817130</td><td>  NA</td><td>0</td><td> NA</td><td>NA</td></tr>\n",
       "\t<tr><td>0</td><td>   1.117257</td><td>2140</td><td>1</td><td>100</td><td>20</td></tr>\n",
       "\t<tr><td>0</td><td>   1.823623</td><td>  NA</td><td>0</td><td> NA</td><td>NA</td></tr>\n",
       "\t<tr><td>0</td><td>   4.109074</td><td>  NA</td><td>0</td><td> NA</td><td>NA</td></tr>\n",
       "</tbody>\n",
       "</table>\n"
      ],
      "text/latex": [
       "A tibble: 6 × 6\n",
       "\\begin{tabular}{llllll}\n",
       " mort\\_28\\_day & survival\\_days & cumulative\\_dose & gcs & dose\\_val\\_rx\\_average & pre\\_dose\\_val\\_rx\\\\\n",
       " <dbl> & <dbl> & <dbl> & <dbl> & <dbl> & <dbl>\\\\\n",
       "\\hline\n",
       "\t 0 &  222.627164 &  316 & 1 &   3 &  4\\\\\n",
       "\t 0 &    1.703252 &   NA & 0 &  10 & NA\\\\\n",
       "\t 0 & 1695.817130 &   NA & 0 &  NA & NA\\\\\n",
       "\t 0 &    1.117257 & 2140 & 1 & 100 & 20\\\\\n",
       "\t 0 &    1.823623 &   NA & 0 &  NA & NA\\\\\n",
       "\t 0 &    4.109074 &   NA & 0 &  NA & NA\\\\\n",
       "\\end{tabular}\n"
      ],
      "text/markdown": [
       "\n",
       "A tibble: 6 × 6\n",
       "\n",
       "| mort_28_day &lt;dbl&gt; | survival_days &lt;dbl&gt; | cumulative_dose &lt;dbl&gt; | gcs &lt;dbl&gt; | dose_val_rx_average &lt;dbl&gt; | pre_dose_val_rx &lt;dbl&gt; |\n",
       "|---|---|---|---|---|---|\n",
       "| 0 |  222.627164 |  316 | 1 |   3 |  4 |\n",
       "| 0 |    1.703252 |   NA | 0 |  10 | NA |\n",
       "| 0 | 1695.817130 |   NA | 0 |  NA | NA |\n",
       "| 0 |    1.117257 | 2140 | 1 | 100 | 20 |\n",
       "| 0 |    1.823623 |   NA | 0 |  NA | NA |\n",
       "| 0 |    4.109074 |   NA | 0 |  NA | NA |\n",
       "\n"
      ],
      "text/plain": [
       "  mort_28_day survival_days cumulative_dose gcs dose_val_rx_average\n",
       "1 0            222.627164    316            1     3                \n",
       "2 0              1.703252     NA            0    10                \n",
       "3 0           1695.817130     NA            0    NA                \n",
       "4 0              1.117257   2140            1   100                \n",
       "5 0              1.823623     NA            0    NA                \n",
       "6 0              4.109074     NA            0    NA                \n",
       "  pre_dose_val_rx\n",
       "1  4             \n",
       "2 NA             \n",
       "3 NA             \n",
       "4 20             \n",
       "5 NA             \n",
       "6 NA             "
      ]
     },
     "metadata": {},
     "output_type": "display_data"
    }
   ],
   "source": [
    " \n",
    " dd <- datadist(m1) \n",
    " head(m1) "
   ]
  },
  {
   "cell_type": "code",
   "execution_count": 87,
   "metadata": {
    "vscode": {
     "languageId": "r"
    }
   },
   "outputs": [],
   "source": [
    "options(datadist='dd') "
   ]
  },
  {
   "cell_type": "code",
   "execution_count": 88,
   "metadata": {
    "vscode": {
     "languageId": "r"
    }
   },
   "outputs": [],
   "source": [
    "\n",
    "m3<- cph(Surv(survival_days, mort_28_day) ~ rcs(pre_dose_val_rx,4),x=TRUE , y=TRUE,data = m1) "
   ]
  },
  {
   "cell_type": "code",
   "execution_count": 89,
   "metadata": {
    "vscode": {
     "languageId": "r"
    }
   },
   "outputs": [
    {
     "data": {
      "text/html": [
       "<table class=\"dataframe\">\n",
       "<caption>A anova.rms: 3 × 3 of type dbl</caption>\n",
       "<thead>\n",
       "\t<tr><th></th><th scope=col>Chi-Square</th><th scope=col>d.f.</th><th scope=col>P</th></tr>\n",
       "</thead>\n",
       "<tbody>\n",
       "\t<tr><th scope=row>pre_dose_val_rx</th><td>8.584875</td><td>3</td><td>0.03535101</td></tr>\n",
       "\t<tr><th scope=row> Nonlinear</th><td>8.092985</td><td>2</td><td>0.01748359</td></tr>\n",
       "\t<tr><th scope=row>TOTAL</th><td>8.584875</td><td>3</td><td>0.03535101</td></tr>\n",
       "</tbody>\n",
       "</table>\n"
      ],
      "text/latex": [
       "A anova.rms: 3 × 3 of type dbl\n",
       "\\begin{tabular}{r|lll}\n",
       "  & Chi-Square & d.f. & P\\\\\n",
       "\\hline\n",
       "\tpre\\_dose\\_val\\_rx & 8.584875 & 3 & 0.03535101\\\\\n",
       "\t Nonlinear & 8.092985 & 2 & 0.01748359\\\\\n",
       "\tTOTAL & 8.584875 & 3 & 0.03535101\\\\\n",
       "\\end{tabular}\n"
      ],
      "text/markdown": [
       "\n",
       "A anova.rms: 3 × 3 of type dbl\n",
       "\n",
       "| <!--/--> | Chi-Square | d.f. | P |\n",
       "|---|---|---|---|\n",
       "| pre_dose_val_rx | 8.584875 | 3 | 0.03535101 |\n",
       "|  Nonlinear | 8.092985 | 2 | 0.01748359 |\n",
       "| TOTAL | 8.584875 | 3 | 0.03535101 |\n",
       "\n"
      ],
      "text/plain": [
       "                Chi-Square d.f. P         \n",
       "pre_dose_val_rx 8.584875   3    0.03535101\n",
       " Nonlinear      8.092985   2    0.01748359\n",
       "TOTAL           8.584875   3    0.03535101"
      ]
     },
     "metadata": {},
     "output_type": "display_data"
    }
   ],
   "source": [
    "anova(m3) "
   ]
  },
  {
   "cell_type": "code",
   "execution_count": 124,
   "metadata": {
    "vscode": {
     "languageId": "r"
    }
   },
   "outputs": [
    {
     "data": {
      "text/html": [
       "<table class=\"dataframe\">\n",
       "<caption>A Predict: 200 × 4</caption>\n",
       "<thead>\n",
       "\t<tr><th scope=col>pre_dose_val_rx</th><th scope=col>yhat</th><th scope=col>lower</th><th scope=col>upper</th></tr>\n",
       "\t<tr><th scope=col>&lt;dbl&gt;</th><th scope=col>&lt;dbl&gt;</th><th scope=col>&lt;dbl&gt;</th><th scope=col>&lt;dbl&gt;</th></tr>\n",
       "</thead>\n",
       "<tbody>\n",
       "\t<tr><td> 1.000000</td><td>2.5057008</td><td>0.7449735</td><td>8.427865</td></tr>\n",
       "\t<tr><td> 1.497487</td><td>2.2886913</td><td>0.7560270</td><td>6.928467</td></tr>\n",
       "\t<tr><td> 1.994975</td><td>2.0904763</td><td>0.7671661</td><td>5.696408</td></tr>\n",
       "\t<tr><td> 2.492462</td><td>1.9094500</td><td>0.7783621</td><td>4.684194</td></tr>\n",
       "\t<tr><td> 2.989950</td><td>1.7453270</td><td>0.7896001</td><td>3.857860</td></tr>\n",
       "\t<tr><td> 3.487437</td><td>1.5992082</td><td>0.8009031</td><td>3.193229</td></tr>\n",
       "\t<tr><td> 3.984925</td><td>1.4715862</td><td>0.8123072</td><td>2.665945</td></tr>\n",
       "\t<tr><td> 4.482412</td><td>1.3624224</td><td>0.8238693</td><td>2.253021</td></tr>\n",
       "\t<tr><td> 4.979899</td><td>1.2713818</td><td>0.8356891</td><td>1.934226</td></tr>\n",
       "\t<tr><td> 5.477387</td><td>1.1976258</td><td>0.8479134</td><td>1.691573</td></tr>\n",
       "\t<tr><td> 5.974874</td><td>1.1387081</td><td>0.8606215</td><td>1.506651</td></tr>\n",
       "\t<tr><td> 6.472362</td><td>1.0922546</td><td>0.8738818</td><td>1.365196</td></tr>\n",
       "\t<tr><td> 6.969849</td><td>1.0564027</td><td>0.8877921</td><td>1.257036</td></tr>\n",
       "\t<tr><td> 7.467337</td><td>1.0296824</td><td>0.9024920</td><td>1.174798</td></tr>\n",
       "\t<tr><td> 7.964824</td><td>1.0109258</td><td>0.9181780</td><td>1.113042</td></tr>\n",
       "\t<tr><td> 8.462312</td><td>0.9991979</td><td>0.9351223</td><td>1.067664</td></tr>\n",
       "\t<tr><td> 8.959799</td><td>0.9937427</td><td>0.9536922</td><td>1.035475</td></tr>\n",
       "\t<tr><td> 9.457286</td><td>0.9939409</td><td>0.9743640</td><td>1.013911</td></tr>\n",
       "\t<tr><td> 9.954774</td><td>0.9992760</td><td>0.9977210</td><td>1.000834</td></tr>\n",
       "\t<tr><td>10.452261</td><td>1.0093054</td><td>0.9944085</td><td>1.024426</td></tr>\n",
       "\t<tr><td>10.949749</td><td>1.0236371</td><td>0.9930556</td><td>1.055160</td></tr>\n",
       "\t<tr><td>11.447236</td><td>1.0419087</td><td>0.9954369</td><td>1.090550</td></tr>\n",
       "\t<tr><td>11.944724</td><td>1.0637697</td><td>1.0004600</td><td>1.131086</td></tr>\n",
       "\t<tr><td>12.442211</td><td>1.0888646</td><td>1.0072689</td><td>1.177070</td></tr>\n",
       "\t<tr><td>12.939698</td><td>1.1168180</td><td>1.0152163</td><td>1.228588</td></tr>\n",
       "\t<tr><td>13.437186</td><td>1.1472215</td><td>1.0238218</td><td>1.285494</td></tr>\n",
       "\t<tr><td>13.934673</td><td>1.1796209</td><td>1.0327289</td><td>1.347406</td></tr>\n",
       "\t<tr><td>14.432161</td><td>1.2135062</td><td>1.0416663</td><td>1.413694</td></tr>\n",
       "\t<tr><td>14.929648</td><td>1.2483025</td><td>1.0504182</td><td>1.483466</td></tr>\n",
       "\t<tr><td>15.427136</td><td>1.2834356</td><td>1.0588276</td><td>1.555690</td></tr>\n",
       "\t<tr><td>⋮</td><td>⋮</td><td>⋮</td><td>⋮</td></tr>\n",
       "\t<tr><td> 85.57286</td><td>0.6131105</td><td>0.13661808</td><td>2.751499</td></tr>\n",
       "\t<tr><td> 86.07035</td><td>0.5976843</td><td>0.13072424</td><td>2.732672</td></tr>\n",
       "\t<tr><td> 86.56784</td><td>0.5825847</td><td>0.12504873</td><td>2.714181</td></tr>\n",
       "\t<tr><td> 87.06533</td><td>0.5678088</td><td>0.11958627</td><td>2.696019</td></tr>\n",
       "\t<tr><td> 87.56281</td><td>0.5533535</td><td>0.11433148</td><td>2.678178</td></tr>\n",
       "\t<tr><td> 88.06030</td><td>0.5392153</td><td>0.10927893</td><td>2.660652</td></tr>\n",
       "\t<tr><td> 88.55779</td><td>0.5253909</td><td>0.10442316</td><td>2.643433</td></tr>\n",
       "\t<tr><td> 89.05528</td><td>0.5118766</td><td>0.09975867</td><td>2.626515</td></tr>\n",
       "\t<tr><td> 89.55276</td><td>0.4986685</td><td>0.09527993</td><td>2.609891</td></tr>\n",
       "\t<tr><td> 90.05025</td><td>0.4857628</td><td>0.09098144</td><td>2.593556</td></tr>\n",
       "\t<tr><td> 90.54774</td><td>0.4731554</td><td>0.08685771</td><td>2.577504</td></tr>\n",
       "\t<tr><td> 91.04523</td><td>0.4608423</td><td>0.08290328</td><td>2.561728</td></tr>\n",
       "\t<tr><td> 91.54271</td><td>0.4488191</td><td>0.07911273</td><td>2.546223</td></tr>\n",
       "\t<tr><td> 92.04020</td><td>0.4370817</td><td>0.07548070</td><td>2.530983</td></tr>\n",
       "\t<tr><td> 92.53769</td><td>0.4256255</td><td>0.07200190</td><td>2.516004</td></tr>\n",
       "\t<tr><td> 93.03518</td><td>0.4144462</td><td>0.06867109</td><td>2.501280</td></tr>\n",
       "\t<tr><td> 93.53266</td><td>0.4035392</td><td>0.06548312</td><td>2.486807</td></tr>\n",
       "\t<tr><td> 94.03015</td><td>0.3929000</td><td>0.06243294</td><td>2.472579</td></tr>\n",
       "\t<tr><td> 94.52764</td><td>0.3825240</td><td>0.05951558</td><td>2.458593</td></tr>\n",
       "\t<tr><td> 95.02513</td><td>0.3724066</td><td>0.05672618</td><td>2.444844</td></tr>\n",
       "\t<tr><td> 95.52261</td><td>0.3625431</td><td>0.05405997</td><td>2.431328</td></tr>\n",
       "\t<tr><td> 96.02010</td><td>0.3529289</td><td>0.05151229</td><td>2.418041</td></tr>\n",
       "\t<tr><td> 96.51759</td><td>0.3435593</td><td>0.04907861</td><td>2.404979</td></tr>\n",
       "\t<tr><td> 97.01508</td><td>0.3344296</td><td>0.04675449</td><td>2.392138</td></tr>\n",
       "\t<tr><td> 97.51256</td><td>0.3255352</td><td>0.04453562</td><td>2.379515</td></tr>\n",
       "\t<tr><td> 98.01005</td><td>0.3168714</td><td>0.04241780</td><td>2.367107</td></tr>\n",
       "\t<tr><td> 98.50754</td><td>0.3084335</td><td>0.04039696</td><td>2.354910</td></tr>\n",
       "\t<tr><td> 99.00503</td><td>0.3002169</td><td>0.03846913</td><td>2.342921</td></tr>\n",
       "\t<tr><td> 99.50251</td><td>0.2922169</td><td>0.03663049</td><td>2.331138</td></tr>\n",
       "\t<tr><td>100.00000</td><td>0.2844291</td><td>0.03487731</td><td>2.319557</td></tr>\n",
       "</tbody>\n",
       "</table>\n"
      ],
      "text/latex": [
       "A Predict: 200 × 4\n",
       "\\begin{tabular}{llll}\n",
       " pre\\_dose\\_val\\_rx & yhat & lower & upper\\\\\n",
       " <dbl> & <dbl> & <dbl> & <dbl>\\\\\n",
       "\\hline\n",
       "\t  1.000000 & 2.5057008 & 0.7449735 & 8.427865\\\\\n",
       "\t  1.497487 & 2.2886913 & 0.7560270 & 6.928467\\\\\n",
       "\t  1.994975 & 2.0904763 & 0.7671661 & 5.696408\\\\\n",
       "\t  2.492462 & 1.9094500 & 0.7783621 & 4.684194\\\\\n",
       "\t  2.989950 & 1.7453270 & 0.7896001 & 3.857860\\\\\n",
       "\t  3.487437 & 1.5992082 & 0.8009031 & 3.193229\\\\\n",
       "\t  3.984925 & 1.4715862 & 0.8123072 & 2.665945\\\\\n",
       "\t  4.482412 & 1.3624224 & 0.8238693 & 2.253021\\\\\n",
       "\t  4.979899 & 1.2713818 & 0.8356891 & 1.934226\\\\\n",
       "\t  5.477387 & 1.1976258 & 0.8479134 & 1.691573\\\\\n",
       "\t  5.974874 & 1.1387081 & 0.8606215 & 1.506651\\\\\n",
       "\t  6.472362 & 1.0922546 & 0.8738818 & 1.365196\\\\\n",
       "\t  6.969849 & 1.0564027 & 0.8877921 & 1.257036\\\\\n",
       "\t  7.467337 & 1.0296824 & 0.9024920 & 1.174798\\\\\n",
       "\t  7.964824 & 1.0109258 & 0.9181780 & 1.113042\\\\\n",
       "\t  8.462312 & 0.9991979 & 0.9351223 & 1.067664\\\\\n",
       "\t  8.959799 & 0.9937427 & 0.9536922 & 1.035475\\\\\n",
       "\t  9.457286 & 0.9939409 & 0.9743640 & 1.013911\\\\\n",
       "\t  9.954774 & 0.9992760 & 0.9977210 & 1.000834\\\\\n",
       "\t 10.452261 & 1.0093054 & 0.9944085 & 1.024426\\\\\n",
       "\t 10.949749 & 1.0236371 & 0.9930556 & 1.055160\\\\\n",
       "\t 11.447236 & 1.0419087 & 0.9954369 & 1.090550\\\\\n",
       "\t 11.944724 & 1.0637697 & 1.0004600 & 1.131086\\\\\n",
       "\t 12.442211 & 1.0888646 & 1.0072689 & 1.177070\\\\\n",
       "\t 12.939698 & 1.1168180 & 1.0152163 & 1.228588\\\\\n",
       "\t 13.437186 & 1.1472215 & 1.0238218 & 1.285494\\\\\n",
       "\t 13.934673 & 1.1796209 & 1.0327289 & 1.347406\\\\\n",
       "\t 14.432161 & 1.2135062 & 1.0416663 & 1.413694\\\\\n",
       "\t 14.929648 & 1.2483025 & 1.0504182 & 1.483466\\\\\n",
       "\t 15.427136 & 1.2834356 & 1.0588276 & 1.555690\\\\\n",
       "\t ⋮ & ⋮ & ⋮ & ⋮\\\\\n",
       "\t  85.57286 & 0.6131105 & 0.13661808 & 2.751499\\\\\n",
       "\t  86.07035 & 0.5976843 & 0.13072424 & 2.732672\\\\\n",
       "\t  86.56784 & 0.5825847 & 0.12504873 & 2.714181\\\\\n",
       "\t  87.06533 & 0.5678088 & 0.11958627 & 2.696019\\\\\n",
       "\t  87.56281 & 0.5533535 & 0.11433148 & 2.678178\\\\\n",
       "\t  88.06030 & 0.5392153 & 0.10927893 & 2.660652\\\\\n",
       "\t  88.55779 & 0.5253909 & 0.10442316 & 2.643433\\\\\n",
       "\t  89.05528 & 0.5118766 & 0.09975867 & 2.626515\\\\\n",
       "\t  89.55276 & 0.4986685 & 0.09527993 & 2.609891\\\\\n",
       "\t  90.05025 & 0.4857628 & 0.09098144 & 2.593556\\\\\n",
       "\t  90.54774 & 0.4731554 & 0.08685771 & 2.577504\\\\\n",
       "\t  91.04523 & 0.4608423 & 0.08290328 & 2.561728\\\\\n",
       "\t  91.54271 & 0.4488191 & 0.07911273 & 2.546223\\\\\n",
       "\t  92.04020 & 0.4370817 & 0.07548070 & 2.530983\\\\\n",
       "\t  92.53769 & 0.4256255 & 0.07200190 & 2.516004\\\\\n",
       "\t  93.03518 & 0.4144462 & 0.06867109 & 2.501280\\\\\n",
       "\t  93.53266 & 0.4035392 & 0.06548312 & 2.486807\\\\\n",
       "\t  94.03015 & 0.3929000 & 0.06243294 & 2.472579\\\\\n",
       "\t  94.52764 & 0.3825240 & 0.05951558 & 2.458593\\\\\n",
       "\t  95.02513 & 0.3724066 & 0.05672618 & 2.444844\\\\\n",
       "\t  95.52261 & 0.3625431 & 0.05405997 & 2.431328\\\\\n",
       "\t  96.02010 & 0.3529289 & 0.05151229 & 2.418041\\\\\n",
       "\t  96.51759 & 0.3435593 & 0.04907861 & 2.404979\\\\\n",
       "\t  97.01508 & 0.3344296 & 0.04675449 & 2.392138\\\\\n",
       "\t  97.51256 & 0.3255352 & 0.04453562 & 2.379515\\\\\n",
       "\t  98.01005 & 0.3168714 & 0.04241780 & 2.367107\\\\\n",
       "\t  98.50754 & 0.3084335 & 0.04039696 & 2.354910\\\\\n",
       "\t  99.00503 & 0.3002169 & 0.03846913 & 2.342921\\\\\n",
       "\t  99.50251 & 0.2922169 & 0.03663049 & 2.331138\\\\\n",
       "\t 100.00000 & 0.2844291 & 0.03487731 & 2.319557\\\\\n",
       "\\end{tabular}\n"
      ],
      "text/markdown": [
       "\n",
       "A Predict: 200 × 4\n",
       "\n",
       "| pre_dose_val_rx &lt;dbl&gt; | yhat &lt;dbl&gt; | lower &lt;dbl&gt; | upper &lt;dbl&gt; |\n",
       "|---|---|---|---|\n",
       "|  1.000000 | 2.5057008 | 0.7449735 | 8.427865 |\n",
       "|  1.497487 | 2.2886913 | 0.7560270 | 6.928467 |\n",
       "|  1.994975 | 2.0904763 | 0.7671661 | 5.696408 |\n",
       "|  2.492462 | 1.9094500 | 0.7783621 | 4.684194 |\n",
       "|  2.989950 | 1.7453270 | 0.7896001 | 3.857860 |\n",
       "|  3.487437 | 1.5992082 | 0.8009031 | 3.193229 |\n",
       "|  3.984925 | 1.4715862 | 0.8123072 | 2.665945 |\n",
       "|  4.482412 | 1.3624224 | 0.8238693 | 2.253021 |\n",
       "|  4.979899 | 1.2713818 | 0.8356891 | 1.934226 |\n",
       "|  5.477387 | 1.1976258 | 0.8479134 | 1.691573 |\n",
       "|  5.974874 | 1.1387081 | 0.8606215 | 1.506651 |\n",
       "|  6.472362 | 1.0922546 | 0.8738818 | 1.365196 |\n",
       "|  6.969849 | 1.0564027 | 0.8877921 | 1.257036 |\n",
       "|  7.467337 | 1.0296824 | 0.9024920 | 1.174798 |\n",
       "|  7.964824 | 1.0109258 | 0.9181780 | 1.113042 |\n",
       "|  8.462312 | 0.9991979 | 0.9351223 | 1.067664 |\n",
       "|  8.959799 | 0.9937427 | 0.9536922 | 1.035475 |\n",
       "|  9.457286 | 0.9939409 | 0.9743640 | 1.013911 |\n",
       "|  9.954774 | 0.9992760 | 0.9977210 | 1.000834 |\n",
       "| 10.452261 | 1.0093054 | 0.9944085 | 1.024426 |\n",
       "| 10.949749 | 1.0236371 | 0.9930556 | 1.055160 |\n",
       "| 11.447236 | 1.0419087 | 0.9954369 | 1.090550 |\n",
       "| 11.944724 | 1.0637697 | 1.0004600 | 1.131086 |\n",
       "| 12.442211 | 1.0888646 | 1.0072689 | 1.177070 |\n",
       "| 12.939698 | 1.1168180 | 1.0152163 | 1.228588 |\n",
       "| 13.437186 | 1.1472215 | 1.0238218 | 1.285494 |\n",
       "| 13.934673 | 1.1796209 | 1.0327289 | 1.347406 |\n",
       "| 14.432161 | 1.2135062 | 1.0416663 | 1.413694 |\n",
       "| 14.929648 | 1.2483025 | 1.0504182 | 1.483466 |\n",
       "| 15.427136 | 1.2834356 | 1.0588276 | 1.555690 |\n",
       "| ⋮ | ⋮ | ⋮ | ⋮ |\n",
       "|  85.57286 | 0.6131105 | 0.13661808 | 2.751499 |\n",
       "|  86.07035 | 0.5976843 | 0.13072424 | 2.732672 |\n",
       "|  86.56784 | 0.5825847 | 0.12504873 | 2.714181 |\n",
       "|  87.06533 | 0.5678088 | 0.11958627 | 2.696019 |\n",
       "|  87.56281 | 0.5533535 | 0.11433148 | 2.678178 |\n",
       "|  88.06030 | 0.5392153 | 0.10927893 | 2.660652 |\n",
       "|  88.55779 | 0.5253909 | 0.10442316 | 2.643433 |\n",
       "|  89.05528 | 0.5118766 | 0.09975867 | 2.626515 |\n",
       "|  89.55276 | 0.4986685 | 0.09527993 | 2.609891 |\n",
       "|  90.05025 | 0.4857628 | 0.09098144 | 2.593556 |\n",
       "|  90.54774 | 0.4731554 | 0.08685771 | 2.577504 |\n",
       "|  91.04523 | 0.4608423 | 0.08290328 | 2.561728 |\n",
       "|  91.54271 | 0.4488191 | 0.07911273 | 2.546223 |\n",
       "|  92.04020 | 0.4370817 | 0.07548070 | 2.530983 |\n",
       "|  92.53769 | 0.4256255 | 0.07200190 | 2.516004 |\n",
       "|  93.03518 | 0.4144462 | 0.06867109 | 2.501280 |\n",
       "|  93.53266 | 0.4035392 | 0.06548312 | 2.486807 |\n",
       "|  94.03015 | 0.3929000 | 0.06243294 | 2.472579 |\n",
       "|  94.52764 | 0.3825240 | 0.05951558 | 2.458593 |\n",
       "|  95.02513 | 0.3724066 | 0.05672618 | 2.444844 |\n",
       "|  95.52261 | 0.3625431 | 0.05405997 | 2.431328 |\n",
       "|  96.02010 | 0.3529289 | 0.05151229 | 2.418041 |\n",
       "|  96.51759 | 0.3435593 | 0.04907861 | 2.404979 |\n",
       "|  97.01508 | 0.3344296 | 0.04675449 | 2.392138 |\n",
       "|  97.51256 | 0.3255352 | 0.04453562 | 2.379515 |\n",
       "|  98.01005 | 0.3168714 | 0.04241780 | 2.367107 |\n",
       "|  98.50754 | 0.3084335 | 0.04039696 | 2.354910 |\n",
       "|  99.00503 | 0.3002169 | 0.03846913 | 2.342921 |\n",
       "|  99.50251 | 0.2922169 | 0.03663049 | 2.331138 |\n",
       "| 100.00000 | 0.2844291 | 0.03487731 | 2.319557 |\n",
       "\n"
      ],
      "text/plain": [
       "    pre_dose_val_rx yhat      lower      upper   \n",
       "1    1.000000       2.5057008 0.7449735  8.427865\n",
       "2    1.497487       2.2886913 0.7560270  6.928467\n",
       "3    1.994975       2.0904763 0.7671661  5.696408\n",
       "4    2.492462       1.9094500 0.7783621  4.684194\n",
       "5    2.989950       1.7453270 0.7896001  3.857860\n",
       "6    3.487437       1.5992082 0.8009031  3.193229\n",
       "7    3.984925       1.4715862 0.8123072  2.665945\n",
       "8    4.482412       1.3624224 0.8238693  2.253021\n",
       "9    4.979899       1.2713818 0.8356891  1.934226\n",
       "10   5.477387       1.1976258 0.8479134  1.691573\n",
       "11   5.974874       1.1387081 0.8606215  1.506651\n",
       "12   6.472362       1.0922546 0.8738818  1.365196\n",
       "13   6.969849       1.0564027 0.8877921  1.257036\n",
       "14   7.467337       1.0296824 0.9024920  1.174798\n",
       "15   7.964824       1.0109258 0.9181780  1.113042\n",
       "16   8.462312       0.9991979 0.9351223  1.067664\n",
       "17   8.959799       0.9937427 0.9536922  1.035475\n",
       "18   9.457286       0.9939409 0.9743640  1.013911\n",
       "19   9.954774       0.9992760 0.9977210  1.000834\n",
       "20  10.452261       1.0093054 0.9944085  1.024426\n",
       "21  10.949749       1.0236371 0.9930556  1.055160\n",
       "22  11.447236       1.0419087 0.9954369  1.090550\n",
       "23  11.944724       1.0637697 1.0004600  1.131086\n",
       "24  12.442211       1.0888646 1.0072689  1.177070\n",
       "25  12.939698       1.1168180 1.0152163  1.228588\n",
       "26  13.437186       1.1472215 1.0238218  1.285494\n",
       "27  13.934673       1.1796209 1.0327289  1.347406\n",
       "28  14.432161       1.2135062 1.0416663  1.413694\n",
       "29  14.929648       1.2483025 1.0504182  1.483466\n",
       "30  15.427136       1.2834356 1.0588276  1.555690\n",
       "⋮   ⋮               ⋮         ⋮          ⋮       \n",
       "171  85.57286       0.6131105 0.13661808 2.751499\n",
       "172  86.07035       0.5976843 0.13072424 2.732672\n",
       "173  86.56784       0.5825847 0.12504873 2.714181\n",
       "174  87.06533       0.5678088 0.11958627 2.696019\n",
       "175  87.56281       0.5533535 0.11433148 2.678178\n",
       "176  88.06030       0.5392153 0.10927893 2.660652\n",
       "177  88.55779       0.5253909 0.10442316 2.643433\n",
       "178  89.05528       0.5118766 0.09975867 2.626515\n",
       "179  89.55276       0.4986685 0.09527993 2.609891\n",
       "180  90.05025       0.4857628 0.09098144 2.593556\n",
       "181  90.54774       0.4731554 0.08685771 2.577504\n",
       "182  91.04523       0.4608423 0.08290328 2.561728\n",
       "183  91.54271       0.4488191 0.07911273 2.546223\n",
       "184  92.04020       0.4370817 0.07548070 2.530983\n",
       "185  92.53769       0.4256255 0.07200190 2.516004\n",
       "186  93.03518       0.4144462 0.06867109 2.501280\n",
       "187  93.53266       0.4035392 0.06548312 2.486807\n",
       "188  94.03015       0.3929000 0.06243294 2.472579\n",
       "189  94.52764       0.3825240 0.05951558 2.458593\n",
       "190  95.02513       0.3724066 0.05672618 2.444844\n",
       "191  95.52261       0.3625431 0.05405997 2.431328\n",
       "192  96.02010       0.3529289 0.05151229 2.418041\n",
       "193  96.51759       0.3435593 0.04907861 2.404979\n",
       "194  97.01508       0.3344296 0.04675449 2.392138\n",
       "195  97.51256       0.3255352 0.04453562 2.379515\n",
       "196  98.01005       0.3168714 0.04241780 2.367107\n",
       "197  98.50754       0.3084335 0.04039696 2.354910\n",
       "198  99.00503       0.3002169 0.03846913 2.342921\n",
       "199  99.50251       0.2922169 0.03663049 2.331138\n",
       "200 100.00000       0.2844291 0.03487731 2.319557"
      ]
     },
     "metadata": {},
     "output_type": "display_data"
    }
   ],
   "source": [
    "HR<-Predict(m3,pre_dose_val_rx,fun=exp,ref.zero = TRUE ) \n",
    "View(HR)"
   ]
  },
  {
   "cell_type": "code",
   "execution_count": 125,
   "metadata": {
    "vscode": {
     "languageId": "r"
    }
   },
   "outputs": [
    {
     "data": {
      "text/html": [
       "<table class=\"dataframe\">\n",
       "<caption>A Predict: 78 × 4</caption>\n",
       "<thead>\n",
       "\t<tr><th></th><th scope=col>pre_dose_val_rx</th><th scope=col>yhat</th><th scope=col>lower</th><th scope=col>upper</th></tr>\n",
       "\t<tr><th></th><th scope=col>&lt;dbl&gt;</th><th scope=col>&lt;dbl&gt;</th><th scope=col>&lt;dbl&gt;</th><th scope=col>&lt;dbl&gt;</th></tr>\n",
       "</thead>\n",
       "<tbody>\n",
       "\t<tr><th scope=row>23</th><td>11.94472</td><td>1.063770</td><td>1.000460</td><td>1.131086</td></tr>\n",
       "\t<tr><th scope=row>24</th><td>12.44221</td><td>1.088865</td><td>1.007269</td><td>1.177070</td></tr>\n",
       "\t<tr><th scope=row>25</th><td>12.93970</td><td>1.116818</td><td>1.015216</td><td>1.228588</td></tr>\n",
       "\t<tr><th scope=row>26</th><td>13.43719</td><td>1.147221</td><td>1.023822</td><td>1.285494</td></tr>\n",
       "\t<tr><th scope=row>27</th><td>13.93467</td><td>1.179621</td><td>1.032729</td><td>1.347406</td></tr>\n",
       "\t<tr><th scope=row>28</th><td>14.43216</td><td>1.213506</td><td>1.041666</td><td>1.413694</td></tr>\n",
       "\t<tr><th scope=row>29</th><td>14.92965</td><td>1.248303</td><td>1.050418</td><td>1.483466</td></tr>\n",
       "\t<tr><th scope=row>30</th><td>15.42714</td><td>1.283436</td><td>1.058828</td><td>1.555690</td></tr>\n",
       "\t<tr><th scope=row>31</th><td>15.92462</td><td>1.318713</td><td>1.066901</td><td>1.629958</td></tr>\n",
       "\t<tr><th scope=row>32</th><td>16.42211</td><td>1.354097</td><td>1.074685</td><td>1.706155</td></tr>\n",
       "\t<tr><th scope=row>33</th><td>16.91960</td><td>1.389551</td><td>1.082209</td><td>1.784176</td></tr>\n",
       "\t<tr><th scope=row>34</th><td>17.41709</td><td>1.425036</td><td>1.089493</td><td>1.863921</td></tr>\n",
       "\t<tr><th scope=row>35</th><td>17.91457</td><td>1.460514</td><td>1.096547</td><td>1.945288</td></tr>\n",
       "\t<tr><th scope=row>36</th><td>18.41206</td><td>1.495944</td><td>1.103382</td><td>2.028173</td></tr>\n",
       "\t<tr><th scope=row>37</th><td>18.90955</td><td>1.531287</td><td>1.110000</td><td>2.112468</td></tr>\n",
       "\t<tr><th scope=row>38</th><td>19.40704</td><td>1.566503</td><td>1.116407</td><td>2.198063</td></tr>\n",
       "\t<tr><th scope=row>39</th><td>19.90452</td><td>1.601551</td><td>1.122602</td><td>2.284841</td></tr>\n",
       "\t<tr><th scope=row>40</th><td>20.40201</td><td>1.636390</td><td>1.128586</td><td>2.372680</td></tr>\n",
       "\t<tr><th scope=row>41</th><td>20.89950</td><td>1.670979</td><td>1.134358</td><td>2.461455</td></tr>\n",
       "\t<tr><th scope=row>42</th><td>21.39698</td><td>1.705278</td><td>1.139917</td><td>2.551037</td></tr>\n",
       "\t<tr><th scope=row>43</th><td>21.89447</td><td>1.739244</td><td>1.145262</td><td>2.641290</td></tr>\n",
       "\t<tr><th scope=row>44</th><td>22.39196</td><td>1.772838</td><td>1.150390</td><td>2.732076</td></tr>\n",
       "\t<tr><th scope=row>45</th><td>22.88945</td><td>1.806019</td><td>1.155300</td><td>2.823254</td></tr>\n",
       "\t<tr><th scope=row>46</th><td>23.38693</td><td>1.838747</td><td>1.159987</td><td>2.914678</td></tr>\n",
       "\t<tr><th scope=row>47</th><td>23.88442</td><td>1.870981</td><td>1.164451</td><td>3.006199</td></tr>\n",
       "\t<tr><th scope=row>48</th><td>24.38191</td><td>1.902684</td><td>1.168687</td><td>3.097669</td></tr>\n",
       "\t<tr><th scope=row>49</th><td>24.87940</td><td>1.933816</td><td>1.172694</td><td>3.188935</td></tr>\n",
       "\t<tr><th scope=row>50</th><td>25.37688</td><td>1.964339</td><td>1.176467</td><td>3.279844</td></tr>\n",
       "\t<tr><th scope=row>51</th><td>25.87437</td><td>1.994217</td><td>1.180005</td><td>3.370242</td></tr>\n",
       "\t<tr><th scope=row>52</th><td>26.37186</td><td>2.023413</td><td>1.183303</td><td>3.459976</td></tr>\n",
       "\t<tr><th scope=row>⋮</th><td>⋮</td><td>⋮</td><td>⋮</td><td>⋮</td></tr>\n",
       "\t<tr><th scope=row>71</th><td>35.82412</td><td>2.409144</td><td>1.196439</td><td>4.851038</td></tr>\n",
       "\t<tr><th scope=row>72</th><td>36.32161</td><td>2.419033</td><td>1.194320</td><td>4.899627</td></tr>\n",
       "\t<tr><th scope=row>73</th><td>36.81910</td><td>2.427792</td><td>1.191900</td><td>4.945190</td></tr>\n",
       "\t<tr><th scope=row>74</th><td>37.31658</td><td>2.435417</td><td>1.189179</td><td>4.987688</td></tr>\n",
       "\t<tr><th scope=row>75</th><td>37.81407</td><td>2.441906</td><td>1.186154</td><td>5.027091</td></tr>\n",
       "\t<tr><th scope=row>76</th><td>38.31156</td><td>2.447260</td><td>1.182823</td><td>5.063376</td></tr>\n",
       "\t<tr><th scope=row>77</th><td>38.80905</td><td>2.451479</td><td>1.179185</td><td>5.096530</td></tr>\n",
       "\t<tr><th scope=row>78</th><td>39.30653</td><td>2.454568</td><td>1.175236</td><td>5.126548</td></tr>\n",
       "\t<tr><th scope=row>79</th><td>39.80402</td><td>2.456532</td><td>1.170977</td><td>5.153431</td></tr>\n",
       "\t<tr><th scope=row>80</th><td>40.30151</td><td>2.457376</td><td>1.166404</td><td>5.177189</td></tr>\n",
       "\t<tr><th scope=row>81</th><td>40.79899</td><td>2.457109</td><td>1.161518</td><td>5.197841</td></tr>\n",
       "\t<tr><th scope=row>82</th><td>41.29648</td><td>2.455741</td><td>1.156316</td><td>5.215411</td></tr>\n",
       "\t<tr><th scope=row>83</th><td>41.79397</td><td>2.453283</td><td>1.150798</td><td>5.229932</td></tr>\n",
       "\t<tr><th scope=row>84</th><td>42.29146</td><td>2.449747</td><td>1.144963</td><td>5.241443</td></tr>\n",
       "\t<tr><th scope=row>85</th><td>42.78894</td><td>2.445147</td><td>1.138810</td><td>5.249990</td></tr>\n",
       "\t<tr><th scope=row>86</th><td>43.28643</td><td>2.439498</td><td>1.132339</td><td>5.255625</td></tr>\n",
       "\t<tr><th scope=row>87</th><td>43.78392</td><td>2.432817</td><td>1.125550</td><td>5.258407</td></tr>\n",
       "\t<tr><th scope=row>88</th><td>44.28141</td><td>2.425121</td><td>1.118442</td><td>5.258399</td></tr>\n",
       "\t<tr><th scope=row>89</th><td>44.77889</td><td>2.416430</td><td>1.111016</td><td>5.255671</td></tr>\n",
       "\t<tr><th scope=row>90</th><td>45.27638</td><td>2.406764</td><td>1.103273</td><td>5.250296</td></tr>\n",
       "\t<tr><th scope=row>91</th><td>45.77387</td><td>2.396142</td><td>1.095213</td><td>5.242354</td></tr>\n",
       "\t<tr><th scope=row>92</th><td>46.27136</td><td>2.384588</td><td>1.086839</td><td>5.231926</td></tr>\n",
       "\t<tr><th scope=row>93</th><td>46.76884</td><td>2.372124</td><td>1.078150</td><td>5.219099</td></tr>\n",
       "\t<tr><th scope=row>94</th><td>47.26633</td><td>2.358774</td><td>1.069149</td><td>5.203963</td></tr>\n",
       "\t<tr><th scope=row>95</th><td>47.76382</td><td>2.344562</td><td>1.059839</td><td>5.186610</td></tr>\n",
       "\t<tr><th scope=row>96</th><td>48.26131</td><td>2.329514</td><td>1.050221</td><td>5.167136</td></tr>\n",
       "\t<tr><th scope=row>97</th><td>48.75879</td><td>2.313656</td><td>1.040300</td><td>5.145637</td></tr>\n",
       "\t<tr><th scope=row>98</th><td>49.25628</td><td>2.297014</td><td>1.030077</td><td>5.122212</td></tr>\n",
       "\t<tr><th scope=row>99</th><td>49.75377</td><td>2.279616</td><td>1.019558</td><td>5.096962</td></tr>\n",
       "\t<tr><th scope=row>100</th><td>50.25126</td><td>2.261489</td><td>1.008746</td><td>5.069987</td></tr>\n",
       "</tbody>\n",
       "</table>\n"
      ],
      "text/latex": [
       "A Predict: 78 × 4\n",
       "\\begin{tabular}{r|llll}\n",
       "  & pre\\_dose\\_val\\_rx & yhat & lower & upper\\\\\n",
       "  & <dbl> & <dbl> & <dbl> & <dbl>\\\\\n",
       "\\hline\n",
       "\t23 & 11.94472 & 1.063770 & 1.000460 & 1.131086\\\\\n",
       "\t24 & 12.44221 & 1.088865 & 1.007269 & 1.177070\\\\\n",
       "\t25 & 12.93970 & 1.116818 & 1.015216 & 1.228588\\\\\n",
       "\t26 & 13.43719 & 1.147221 & 1.023822 & 1.285494\\\\\n",
       "\t27 & 13.93467 & 1.179621 & 1.032729 & 1.347406\\\\\n",
       "\t28 & 14.43216 & 1.213506 & 1.041666 & 1.413694\\\\\n",
       "\t29 & 14.92965 & 1.248303 & 1.050418 & 1.483466\\\\\n",
       "\t30 & 15.42714 & 1.283436 & 1.058828 & 1.555690\\\\\n",
       "\t31 & 15.92462 & 1.318713 & 1.066901 & 1.629958\\\\\n",
       "\t32 & 16.42211 & 1.354097 & 1.074685 & 1.706155\\\\\n",
       "\t33 & 16.91960 & 1.389551 & 1.082209 & 1.784176\\\\\n",
       "\t34 & 17.41709 & 1.425036 & 1.089493 & 1.863921\\\\\n",
       "\t35 & 17.91457 & 1.460514 & 1.096547 & 1.945288\\\\\n",
       "\t36 & 18.41206 & 1.495944 & 1.103382 & 2.028173\\\\\n",
       "\t37 & 18.90955 & 1.531287 & 1.110000 & 2.112468\\\\\n",
       "\t38 & 19.40704 & 1.566503 & 1.116407 & 2.198063\\\\\n",
       "\t39 & 19.90452 & 1.601551 & 1.122602 & 2.284841\\\\\n",
       "\t40 & 20.40201 & 1.636390 & 1.128586 & 2.372680\\\\\n",
       "\t41 & 20.89950 & 1.670979 & 1.134358 & 2.461455\\\\\n",
       "\t42 & 21.39698 & 1.705278 & 1.139917 & 2.551037\\\\\n",
       "\t43 & 21.89447 & 1.739244 & 1.145262 & 2.641290\\\\\n",
       "\t44 & 22.39196 & 1.772838 & 1.150390 & 2.732076\\\\\n",
       "\t45 & 22.88945 & 1.806019 & 1.155300 & 2.823254\\\\\n",
       "\t46 & 23.38693 & 1.838747 & 1.159987 & 2.914678\\\\\n",
       "\t47 & 23.88442 & 1.870981 & 1.164451 & 3.006199\\\\\n",
       "\t48 & 24.38191 & 1.902684 & 1.168687 & 3.097669\\\\\n",
       "\t49 & 24.87940 & 1.933816 & 1.172694 & 3.188935\\\\\n",
       "\t50 & 25.37688 & 1.964339 & 1.176467 & 3.279844\\\\\n",
       "\t51 & 25.87437 & 1.994217 & 1.180005 & 3.370242\\\\\n",
       "\t52 & 26.37186 & 2.023413 & 1.183303 & 3.459976\\\\\n",
       "\t⋮ & ⋮ & ⋮ & ⋮ & ⋮\\\\\n",
       "\t71 & 35.82412 & 2.409144 & 1.196439 & 4.851038\\\\\n",
       "\t72 & 36.32161 & 2.419033 & 1.194320 & 4.899627\\\\\n",
       "\t73 & 36.81910 & 2.427792 & 1.191900 & 4.945190\\\\\n",
       "\t74 & 37.31658 & 2.435417 & 1.189179 & 4.987688\\\\\n",
       "\t75 & 37.81407 & 2.441906 & 1.186154 & 5.027091\\\\\n",
       "\t76 & 38.31156 & 2.447260 & 1.182823 & 5.063376\\\\\n",
       "\t77 & 38.80905 & 2.451479 & 1.179185 & 5.096530\\\\\n",
       "\t78 & 39.30653 & 2.454568 & 1.175236 & 5.126548\\\\\n",
       "\t79 & 39.80402 & 2.456532 & 1.170977 & 5.153431\\\\\n",
       "\t80 & 40.30151 & 2.457376 & 1.166404 & 5.177189\\\\\n",
       "\t81 & 40.79899 & 2.457109 & 1.161518 & 5.197841\\\\\n",
       "\t82 & 41.29648 & 2.455741 & 1.156316 & 5.215411\\\\\n",
       "\t83 & 41.79397 & 2.453283 & 1.150798 & 5.229932\\\\\n",
       "\t84 & 42.29146 & 2.449747 & 1.144963 & 5.241443\\\\\n",
       "\t85 & 42.78894 & 2.445147 & 1.138810 & 5.249990\\\\\n",
       "\t86 & 43.28643 & 2.439498 & 1.132339 & 5.255625\\\\\n",
       "\t87 & 43.78392 & 2.432817 & 1.125550 & 5.258407\\\\\n",
       "\t88 & 44.28141 & 2.425121 & 1.118442 & 5.258399\\\\\n",
       "\t89 & 44.77889 & 2.416430 & 1.111016 & 5.255671\\\\\n",
       "\t90 & 45.27638 & 2.406764 & 1.103273 & 5.250296\\\\\n",
       "\t91 & 45.77387 & 2.396142 & 1.095213 & 5.242354\\\\\n",
       "\t92 & 46.27136 & 2.384588 & 1.086839 & 5.231926\\\\\n",
       "\t93 & 46.76884 & 2.372124 & 1.078150 & 5.219099\\\\\n",
       "\t94 & 47.26633 & 2.358774 & 1.069149 & 5.203963\\\\\n",
       "\t95 & 47.76382 & 2.344562 & 1.059839 & 5.186610\\\\\n",
       "\t96 & 48.26131 & 2.329514 & 1.050221 & 5.167136\\\\\n",
       "\t97 & 48.75879 & 2.313656 & 1.040300 & 5.145637\\\\\n",
       "\t98 & 49.25628 & 2.297014 & 1.030077 & 5.122212\\\\\n",
       "\t99 & 49.75377 & 2.279616 & 1.019558 & 5.096962\\\\\n",
       "\t100 & 50.25126 & 2.261489 & 1.008746 & 5.069987\\\\\n",
       "\\end{tabular}\n"
      ],
      "text/markdown": [
       "\n",
       "A Predict: 78 × 4\n",
       "\n",
       "| <!--/--> | pre_dose_val_rx &lt;dbl&gt; | yhat &lt;dbl&gt; | lower &lt;dbl&gt; | upper &lt;dbl&gt; |\n",
       "|---|---|---|---|---|\n",
       "| 23 | 11.94472 | 1.063770 | 1.000460 | 1.131086 |\n",
       "| 24 | 12.44221 | 1.088865 | 1.007269 | 1.177070 |\n",
       "| 25 | 12.93970 | 1.116818 | 1.015216 | 1.228588 |\n",
       "| 26 | 13.43719 | 1.147221 | 1.023822 | 1.285494 |\n",
       "| 27 | 13.93467 | 1.179621 | 1.032729 | 1.347406 |\n",
       "| 28 | 14.43216 | 1.213506 | 1.041666 | 1.413694 |\n",
       "| 29 | 14.92965 | 1.248303 | 1.050418 | 1.483466 |\n",
       "| 30 | 15.42714 | 1.283436 | 1.058828 | 1.555690 |\n",
       "| 31 | 15.92462 | 1.318713 | 1.066901 | 1.629958 |\n",
       "| 32 | 16.42211 | 1.354097 | 1.074685 | 1.706155 |\n",
       "| 33 | 16.91960 | 1.389551 | 1.082209 | 1.784176 |\n",
       "| 34 | 17.41709 | 1.425036 | 1.089493 | 1.863921 |\n",
       "| 35 | 17.91457 | 1.460514 | 1.096547 | 1.945288 |\n",
       "| 36 | 18.41206 | 1.495944 | 1.103382 | 2.028173 |\n",
       "| 37 | 18.90955 | 1.531287 | 1.110000 | 2.112468 |\n",
       "| 38 | 19.40704 | 1.566503 | 1.116407 | 2.198063 |\n",
       "| 39 | 19.90452 | 1.601551 | 1.122602 | 2.284841 |\n",
       "| 40 | 20.40201 | 1.636390 | 1.128586 | 2.372680 |\n",
       "| 41 | 20.89950 | 1.670979 | 1.134358 | 2.461455 |\n",
       "| 42 | 21.39698 | 1.705278 | 1.139917 | 2.551037 |\n",
       "| 43 | 21.89447 | 1.739244 | 1.145262 | 2.641290 |\n",
       "| 44 | 22.39196 | 1.772838 | 1.150390 | 2.732076 |\n",
       "| 45 | 22.88945 | 1.806019 | 1.155300 | 2.823254 |\n",
       "| 46 | 23.38693 | 1.838747 | 1.159987 | 2.914678 |\n",
       "| 47 | 23.88442 | 1.870981 | 1.164451 | 3.006199 |\n",
       "| 48 | 24.38191 | 1.902684 | 1.168687 | 3.097669 |\n",
       "| 49 | 24.87940 | 1.933816 | 1.172694 | 3.188935 |\n",
       "| 50 | 25.37688 | 1.964339 | 1.176467 | 3.279844 |\n",
       "| 51 | 25.87437 | 1.994217 | 1.180005 | 3.370242 |\n",
       "| 52 | 26.37186 | 2.023413 | 1.183303 | 3.459976 |\n",
       "| ⋮ | ⋮ | ⋮ | ⋮ | ⋮ |\n",
       "| 71 | 35.82412 | 2.409144 | 1.196439 | 4.851038 |\n",
       "| 72 | 36.32161 | 2.419033 | 1.194320 | 4.899627 |\n",
       "| 73 | 36.81910 | 2.427792 | 1.191900 | 4.945190 |\n",
       "| 74 | 37.31658 | 2.435417 | 1.189179 | 4.987688 |\n",
       "| 75 | 37.81407 | 2.441906 | 1.186154 | 5.027091 |\n",
       "| 76 | 38.31156 | 2.447260 | 1.182823 | 5.063376 |\n",
       "| 77 | 38.80905 | 2.451479 | 1.179185 | 5.096530 |\n",
       "| 78 | 39.30653 | 2.454568 | 1.175236 | 5.126548 |\n",
       "| 79 | 39.80402 | 2.456532 | 1.170977 | 5.153431 |\n",
       "| 80 | 40.30151 | 2.457376 | 1.166404 | 5.177189 |\n",
       "| 81 | 40.79899 | 2.457109 | 1.161518 | 5.197841 |\n",
       "| 82 | 41.29648 | 2.455741 | 1.156316 | 5.215411 |\n",
       "| 83 | 41.79397 | 2.453283 | 1.150798 | 5.229932 |\n",
       "| 84 | 42.29146 | 2.449747 | 1.144963 | 5.241443 |\n",
       "| 85 | 42.78894 | 2.445147 | 1.138810 | 5.249990 |\n",
       "| 86 | 43.28643 | 2.439498 | 1.132339 | 5.255625 |\n",
       "| 87 | 43.78392 | 2.432817 | 1.125550 | 5.258407 |\n",
       "| 88 | 44.28141 | 2.425121 | 1.118442 | 5.258399 |\n",
       "| 89 | 44.77889 | 2.416430 | 1.111016 | 5.255671 |\n",
       "| 90 | 45.27638 | 2.406764 | 1.103273 | 5.250296 |\n",
       "| 91 | 45.77387 | 2.396142 | 1.095213 | 5.242354 |\n",
       "| 92 | 46.27136 | 2.384588 | 1.086839 | 5.231926 |\n",
       "| 93 | 46.76884 | 2.372124 | 1.078150 | 5.219099 |\n",
       "| 94 | 47.26633 | 2.358774 | 1.069149 | 5.203963 |\n",
       "| 95 | 47.76382 | 2.344562 | 1.059839 | 5.186610 |\n",
       "| 96 | 48.26131 | 2.329514 | 1.050221 | 5.167136 |\n",
       "| 97 | 48.75879 | 2.313656 | 1.040300 | 5.145637 |\n",
       "| 98 | 49.25628 | 2.297014 | 1.030077 | 5.122212 |\n",
       "| 99 | 49.75377 | 2.279616 | 1.019558 | 5.096962 |\n",
       "| 100 | 50.25126 | 2.261489 | 1.008746 | 5.069987 |\n",
       "\n"
      ],
      "text/plain": [
       "    pre_dose_val_rx yhat     lower    upper   \n",
       "23  11.94472        1.063770 1.000460 1.131086\n",
       "24  12.44221        1.088865 1.007269 1.177070\n",
       "25  12.93970        1.116818 1.015216 1.228588\n",
       "26  13.43719        1.147221 1.023822 1.285494\n",
       "27  13.93467        1.179621 1.032729 1.347406\n",
       "28  14.43216        1.213506 1.041666 1.413694\n",
       "29  14.92965        1.248303 1.050418 1.483466\n",
       "30  15.42714        1.283436 1.058828 1.555690\n",
       "31  15.92462        1.318713 1.066901 1.629958\n",
       "32  16.42211        1.354097 1.074685 1.706155\n",
       "33  16.91960        1.389551 1.082209 1.784176\n",
       "34  17.41709        1.425036 1.089493 1.863921\n",
       "35  17.91457        1.460514 1.096547 1.945288\n",
       "36  18.41206        1.495944 1.103382 2.028173\n",
       "37  18.90955        1.531287 1.110000 2.112468\n",
       "38  19.40704        1.566503 1.116407 2.198063\n",
       "39  19.90452        1.601551 1.122602 2.284841\n",
       "40  20.40201        1.636390 1.128586 2.372680\n",
       "41  20.89950        1.670979 1.134358 2.461455\n",
       "42  21.39698        1.705278 1.139917 2.551037\n",
       "43  21.89447        1.739244 1.145262 2.641290\n",
       "44  22.39196        1.772838 1.150390 2.732076\n",
       "45  22.88945        1.806019 1.155300 2.823254\n",
       "46  23.38693        1.838747 1.159987 2.914678\n",
       "47  23.88442        1.870981 1.164451 3.006199\n",
       "48  24.38191        1.902684 1.168687 3.097669\n",
       "49  24.87940        1.933816 1.172694 3.188935\n",
       "50  25.37688        1.964339 1.176467 3.279844\n",
       "51  25.87437        1.994217 1.180005 3.370242\n",
       "52  26.37186        2.023413 1.183303 3.459976\n",
       "⋮   ⋮               ⋮        ⋮        ⋮       \n",
       "71  35.82412        2.409144 1.196439 4.851038\n",
       "72  36.32161        2.419033 1.194320 4.899627\n",
       "73  36.81910        2.427792 1.191900 4.945190\n",
       "74  37.31658        2.435417 1.189179 4.987688\n",
       "75  37.81407        2.441906 1.186154 5.027091\n",
       "76  38.31156        2.447260 1.182823 5.063376\n",
       "77  38.80905        2.451479 1.179185 5.096530\n",
       "78  39.30653        2.454568 1.175236 5.126548\n",
       "79  39.80402        2.456532 1.170977 5.153431\n",
       "80  40.30151        2.457376 1.166404 5.177189\n",
       "81  40.79899        2.457109 1.161518 5.197841\n",
       "82  41.29648        2.455741 1.156316 5.215411\n",
       "83  41.79397        2.453283 1.150798 5.229932\n",
       "84  42.29146        2.449747 1.144963 5.241443\n",
       "85  42.78894        2.445147 1.138810 5.249990\n",
       "86  43.28643        2.439498 1.132339 5.255625\n",
       "87  43.78392        2.432817 1.125550 5.258407\n",
       "88  44.28141        2.425121 1.118442 5.258399\n",
       "89  44.77889        2.416430 1.111016 5.255671\n",
       "90  45.27638        2.406764 1.103273 5.250296\n",
       "91  45.77387        2.396142 1.095213 5.242354\n",
       "92  46.27136        2.384588 1.086839 5.231926\n",
       "93  46.76884        2.372124 1.078150 5.219099\n",
       "94  47.26633        2.358774 1.069149 5.203963\n",
       "95  47.76382        2.344562 1.059839 5.186610\n",
       "96  48.26131        2.329514 1.050221 5.167136\n",
       "97  48.75879        2.313656 1.040300 5.145637\n",
       "98  49.25628        2.297014 1.030077 5.122212\n",
       "99  49.75377        2.279616 1.019558 5.096962\n",
       "100 50.25126        2.261489 1.008746 5.069987"
      ]
     },
     "metadata": {},
     "output_type": "display_data"
    }
   ],
   "source": [
    "find_non_crossing_intervals <- function(df) {\n",
    "  df_filtered <- df[(df$lower > 1 & df$upper > 1) | (df$lower < 1 & df$upper < 1), ]\n",
    "  return(df_filtered)\n",
    "}\n",
    "\n",
    "HR_filtered <- find_non_crossing_intervals(HR)\n",
    "HR_filtered"
   ]
  },
  {
   "cell_type": "code",
   "execution_count": 126,
   "metadata": {
    "vscode": {
     "languageId": "r"
    }
   },
   "outputs": [
    {
     "data": {
      "text/html": [
       "<table class=\"dataframe\">\n",
       "<caption>A Predict: 1 × 4</caption>\n",
       "<thead>\n",
       "\t<tr><th scope=col>pre_dose_val_rx</th><th scope=col>yhat</th><th scope=col>lower</th><th scope=col>upper</th></tr>\n",
       "\t<tr><th scope=col>&lt;dbl&gt;</th><th scope=col>&lt;dbl&gt;</th><th scope=col>&lt;dbl&gt;</th><th scope=col>&lt;dbl&gt;</th></tr>\n",
       "</thead>\n",
       "<tbody>\n",
       "\t<tr><td>44.5</td><td>2.421424</td><td>1.115218</td><td>5.257531</td></tr>\n",
       "</tbody>\n",
       "</table>\n"
      ],
      "text/latex": [
       "A Predict: 1 × 4\n",
       "\\begin{tabular}{llll}\n",
       " pre\\_dose\\_val\\_rx & yhat & lower & upper\\\\\n",
       " <dbl> & <dbl> & <dbl> & <dbl>\\\\\n",
       "\\hline\n",
       "\t 44.5 & 2.421424 & 1.115218 & 5.257531\\\\\n",
       "\\end{tabular}\n"
      ],
      "text/markdown": [
       "\n",
       "A Predict: 1 × 4\n",
       "\n",
       "| pre_dose_val_rx &lt;dbl&gt; | yhat &lt;dbl&gt; | lower &lt;dbl&gt; | upper &lt;dbl&gt; |\n",
       "|---|---|---|---|\n",
       "| 44.5 | 2.421424 | 1.115218 | 5.257531 |\n",
       "\n"
      ],
      "text/plain": [
       "  pre_dose_val_rx yhat     lower    upper   \n",
       "1 44.5            2.421424 1.115218 5.257531"
      ]
     },
     "metadata": {},
     "output_type": "display_data"
    }
   ],
   "source": [
    "HR <- Predict(m3, pre_dose_val_rx = 44.5, fun = exp, ref.zero = TRUE)\n",
    "HR"
   ]
  },
  {
   "cell_type": "code",
   "execution_count": 91,
   "metadata": {
    "vscode": {
     "languageId": "r"
    }
   },
   "outputs": [
    {
     "data": {
      "image/png": "[encoded data removed]",
      "text/plain": [
       "plot without title"
      ]
     },
     "metadata": {
      "image/png": {
       "height": 420,
       "width": 420
      }
     },
     "output_type": "display_data"
    }
   ],
   "source": [
    "P1<-ggplot(HR)\n",
    "P1"
   ]
  },
  {
   "cell_type": "code",
   "execution_count": 92,
   "metadata": {
    "vscode": {
     "languageId": "r"
    }
   },
   "outputs": [
    {
     "data": {
      "text/html": [
       "<style>\n",
       ".list-inline {list-style: none; margin:0; padding: 0}\n",
       ".list-inline>li {display: inline-block}\n",
       ".list-inline>li:not(:last-child)::after {content: \"\\00b7\"; padding: 0 .5ex}\n",
       "</style>\n",
       "<ol class=list-inline><li>9.5</li><li>10</li><li>10.5</li><li>11</li><li>11.5</li><li>82.5</li></ol>\n"
      ],
      "text/latex": [
       "\\begin{enumerate*}\n",
       "\\item 9.5\n",
       "\\item 10\n",
       "\\item 10.5\n",
       "\\item 11\n",
       "\\item 11.5\n",
       "\\item 82.5\n",
       "\\end{enumerate*}\n"
      ],
      "text/markdown": [
       "1. 9.5\n",
       "2. 10\n",
       "3. 10.5\n",
       "4. 11\n",
       "5. 11.5\n",
       "6. 82.5\n",
       "\n",
       "\n"
      ],
      "text/plain": [
       "[1]  9.5 10.0 10.5 11.0 11.5 82.5"
      ]
     },
     "metadata": {},
     "output_type": "display_data"
    },
    {
     "data": {
      "image/png": "[encoded data removed]",
      "text/plain": [
       "plot without title"
      ]
     },
     "metadata": {
      "image/png": {
       "height": 420,
       "width": 420
      }
     },
     "output_type": "display_data"
    }
   ],
   "source": [
    "\n",
    "P2 <- ggplot(HR, aes(x=pre_dose_val_rx, y=yhat)) + theme_classic() + labs(x=\"tyg\",y=\"HR (95%CI)\")\n",
    "\n",
    "x_values <- HR$pre_dose_val_rx[abs(HR$yhat - 1) < 0.01]\n",
    "x_values\n",
    "for (x in x_values) {\n",
    "  P2 <- P2 + geom_vline(xintercept=x, linetype=2, size=1) +\n",
    "  labs(x=\"pre_dose_val_rx\",y=\"HR (95%CI)\") \n",
    "}\n",
    "\n",
    "P2"
   ]
  },
  {
   "cell_type": "code",
   "execution_count": 122,
   "metadata": {
    "vscode": {
     "languageId": "r"
    }
   },
   "outputs": [
    {
     "data": {
      "text/html": [
       "<table class=\"dataframe\">\n",
       "<caption>A Predict: 0 × 4</caption>\n",
       "<thead>\n",
       "\t<tr><th scope=col>pre_dose_val_rx</th><th scope=col>yhat</th><th scope=col>lower</th><th scope=col>upper</th></tr>\n",
       "\t<tr><th scope=col>&lt;dbl&gt;</th><th scope=col>&lt;dbl&gt;</th><th scope=col>&lt;dbl&gt;</th><th scope=col>&lt;dbl&gt;</th></tr>\n",
       "</thead>\n",
       "<tbody>\n",
       "</tbody>\n",
       "</table>\n"
      ],
      "text/latex": [
       "A Predict: 0 × 4\n",
       "\\begin{tabular}{llll}\n",
       " pre\\_dose\\_val\\_rx & yhat & lower & upper\\\\\n",
       " <dbl> & <dbl> & <dbl> & <dbl>\\\\\n",
       "\\hline\n",
       "\\end{tabular}\n"
      ],
      "text/markdown": [
       "\n",
       "A Predict: 0 × 4\n",
       "\n",
       "| pre_dose_val_rx &lt;dbl&gt; | yhat &lt;dbl&gt; | lower &lt;dbl&gt; | upper &lt;dbl&gt; |\n",
       "|---|---|---|---|\n",
       "\n"
      ],
      "text/plain": [
       "     pre_dose_val_rx yhat lower upper"
      ]
     },
     "metadata": {},
     "output_type": "display_data"
    }
   ],
   "source": [
    "find_non_crossing_intervals <- function(df) {\n",
    "  df_filtered <- df[(df$lower > 1 & df$upper > 1) | (df$lower < 1 & df$upper < 1), ]\n",
    "  return(df_filtered)\n",
    "}\n",
    "\n",
    "HR_filtered <- find_non_crossing_intervals(HR)\n"
   ]
  },
  {
   "cell_type": "code",
   "execution_count": 94,
   "metadata": {
    "vscode": {
     "languageId": "r"
    }
   },
   "outputs": [
    {
     "name": "stdout",
     "output_type": "stream",
     "text": [
      "[1] 44.5\n"
     ]
    }
   ],
   "source": [
    "# find the line for the maximum value of HR\n",
    "max_HR_row <- HR_filtered[which.max(HR_filtered$yhat), ]\n",
    "\n",
    "\n",
    "# get the valuefrom this line\n",
    "max_HR_pre_dose_val_rx <- max_HR_row$pre_dose_val_rx\n",
    "\n",
    "\n",
    "print(max_HR_pre_dose_val_rx)"
   ]
  },
  {
   "cell_type": "code",
   "execution_count": 95,
   "metadata": {
    "vscode": {
     "languageId": "r"
    }
   },
   "outputs": [
    {
     "name": "stdout",
     "output_type": "stream",
     "text": [
      "[1] 16\n"
     ]
    }
   ],
   "source": [
    "# find the line for the maximum value of HR\n",
    "max_HR_row <- HR_filtered[which.min(HR_filtered$yhat), ]\n",
    "\n",
    "# get the value from this line\n",
    "max_HR_pre_dose_val_rx <- max_HR_row$pre_dose_val_rx\n",
    "\n",
    "\n",
    "print(max_HR_pre_dose_val_rx)"
   ]
  },
  {
   "cell_type": "code",
   "execution_count": 96,
   "metadata": {
    "vscode": {
     "languageId": "r"
    }
   },
   "outputs": [
    {
     "data": {
      "image/png": "[encoded data removed]",
      "text/plain": [
       "plot without title"
      ]
     },
     "metadata": {
      "image/png": {
       "height": 420,
       "width": 420
      }
     },
     "output_type": "display_data"
    }
   ],
   "source": [
    "P2 <- ggplot()+ geom_line(data=HR,aes(pre_dose_val_rx,yhat),linetype=\"solid\", size=1,alpha = 0.7,colour=\"darkred\")+ geom_ribbon(data=HR, aes(pre_dose_val_rx, ymin = lower, ymax = upper),alpha = 0.1,fill=\"darkred\") \n",
    "P2 <- P2 + theme_classic() + geom_hline(yintercept = 1, linetype=\"dashed\", size=1) +\n",
    "geom_vline(xintercept = 9.5,linetype=2,size=1) + geom_vline(xintercept = 82.5,linetype=2,size=1) +  labs(x=\"glucocorticoid daily dose\",y=\"HR (95%CI)\") \n",
    "P2"
   ]
  },
  {
   "cell_type": "code",
   "execution_count": 97,
   "metadata": {
    "vscode": {
     "languageId": "r"
    }
   },
   "outputs": [],
   "source": [
    "full_data$pre_dose_val_rx <- as.numeric(full_data$pre_dose_val_rx)\n",
    "full_data$pre_dose_group <- cut(full_data$pre_dose_val_rx, \n",
    "                           breaks = c(-Inf, 16, 44.5, Inf),\n",
    "                           labels = c(\"Low\", \"Medium\", \"High\"))"
   ]
  },
  {
   "cell_type": "code",
   "execution_count": 98,
   "metadata": {
    "vscode": {
     "languageId": "r"
    }
   },
   "outputs": [
    {
     "data": {
      "text/html": [
       "<style>\n",
       ".list-inline {list-style: none; margin:0; padding: 0}\n",
       ".list-inline>li {display: inline-block}\n",
       ".list-inline>li:not(:last-child)::after {content: \"\\00b7\"; padding: 0 .5ex}\n",
       "</style>\n",
       "<ol class=list-inline><li>'stay_id'</li><li>'group'</li><li>'match'</li><li>'hadm_id'</li><li>'subject_id'</li><li>'gender'</li><li>'age'</li><li>'sapsii'</li><li>'icu_intime'</li><li>'icu_outtime'</li><li>'weight'</li><li>'sofa_24hours'</li><li>'infection'</li><li>'mort_28_day'</li><li>'survival_days'</li><li>'gcs_include'</li><li>'gcs_include_combine'</li><li>'vs_heart_rate_first'</li><li>'vs_heart_rate_min'</li><li>'vs_heart_rate_max'</li><li>'vs_cvp_first'</li><li>'vs_cvp_min'</li><li>'vs_cvp_max'</li><li>'vs_map_first'</li><li>'vs_map_min'</li><li>'vs_map_max'</li><li>'vs_temp_first'</li><li>'vs_temp_min'</li><li>'vs_temp_max'</li><li>'lab_hemoglobin_first'</li><li>'lab_hemoglobin_min'</li><li>'lab_hemoglobin_max'</li><li>'lab_hemoglobin_abnormal'</li><li>'lab_platelet_first'</li><li>'lab_platelet_min'</li><li>'lab_platelet_max'</li><li>'lab_platelet_abnormal'</li><li>'lab_creatinine_kinase_first'</li><li>'lab_creatinine_kinase_min'</li><li>'lab_creatinine_kinase_max'</li><li>'lab_creatinine_kinase_abnormal'</li><li>'lab_wbc_first'</li><li>'lab_wbc_min'</li><li>'lab_wbc_max'</li><li>'lab_wbc_abnormal'</li><li>'lab_ph_first'</li><li>'lab_ph_min'</li><li>'lab_ph_max'</li><li>'lab_ph_abnormal'</li><li>'lab_chloride_first'</li><li>'lab_chloride_min'</li><li>'lab_chloride_max'</li><li>'lab_chloride_abnormal'</li><li>'lab_sodium_first'</li><li>'lab_sodium_min'</li><li>'lab_sodium_max'</li><li>'lab_sodium_abnormal'</li><li>'lab_bun_first'</li><li>'lab_bun_min'</li><li>'lab_bun_max'</li><li>'lab_bun_abnormal'</li><li>'lab_bicarbonate_first'</li><li>'lab_bicarbonate_min'</li><li>'lab_bicarbonate_max'</li><li>'lab_bicarbonate_abnormal'</li><li>'lab_pco2_first'</li><li>'lab_pco2_min'</li><li>'lab_pco2_max'</li><li>'lab_pco2_abnormal'</li><li>'lab_creatinine_first'</li><li>'lab_creatinine_min'</li><li>'lab_creatinine_max'</li><li>'lab_creatinine_abnormal'</li><li>'lab_potassium_first'</li><li>'lab_potassium_min'</li><li>'lab_potassium_max'</li><li>'lab_potassium_abnormal'</li><li>'lab_troponin_first'</li><li>'lab_troponin_min'</li><li>'lab_troponin_max'</li><li>'lab_troponin_abnormal'</li><li>'lab_po2_first'</li><li>'lab_po2_min'</li><li>'lab_po2_max'</li><li>'lab_po2_abnormal'</li><li>'lab_lactate_first'</li><li>'lab_lactate_min'</li><li>'lab_lactate_max'</li><li>'lab_lactate_abnormal'</li><li>'pre_dose_val_rx'</li><li>'los_drug'</li><li>'cumulative_dose'</li><li>'gcs'</li><li>'ca'</li><li>'infection_flag'</li><li>'dose_val_rx_average'</li><li>'los_drug_average'</li><li>'event_state'</li><li>'vs_heart_rate_flag'</li><li>'vs_cvp_flag'</li><li>'vs_map_flag'</li><li>'vs_temp_flag'</li><li>'lab_hemoglobin_flag'</li><li>'lab_platelet_flag'</li><li>'lab_creatinine_kinase_flag'</li><li>'lab_wbc_flag'</li><li>'lab_ph_flag'</li><li>'lab_chloride_flag'</li><li>'lab_sodium_flag'</li><li>'lab_bun_flag'</li><li>'lab_bicarbonate_flag'</li><li>'lab_bnp_flag'</li><li>'lab_pco2_flag'</li><li>'lab_creatinine_flag'</li><li>'lab_potassium_flag'</li><li>'lab_troponin_flag'</li><li>'lab_po2_flag'</li><li>'lab_lactate_flag'</li><li>'gcs_int'</li><li>'ca_int'</li><li>'event_state_int'</li><li>'mort_28_day_int'</li><li>'ps'</li><li>'ps_weight'</li></ol>\n"
      ],
      "text/latex": [
       "\\begin{enumerate*}\n",
       "\\item 'stay\\_id'\n",
       "\\item 'group'\n",
       "\\item 'match'\n",
       "\\item 'hadm\\_id'\n",
       "\\item 'subject\\_id'\n",
       "\\item 'gender'\n",
       "\\item 'age'\n",
       "\\item 'sapsii'\n",
       "\\item 'icu\\_intime'\n",
       "\\item 'icu\\_outtime'\n",
       "\\item 'weight'\n",
       "\\item 'sofa\\_24hours'\n",
       "\\item 'infection'\n",
       "\\item 'mort\\_28\\_day'\n",
       "\\item 'survival\\_days'\n",
       "\\item 'gcs\\_include'\n",
       "\\item 'gcs\\_include\\_combine'\n",
       "\\item 'vs\\_heart\\_rate\\_first'\n",
       "\\item 'vs\\_heart\\_rate\\_min'\n",
       "\\item 'vs\\_heart\\_rate\\_max'\n",
       "\\item 'vs\\_cvp\\_first'\n",
       "\\item 'vs\\_cvp\\_min'\n",
       "\\item 'vs\\_cvp\\_max'\n",
       "\\item 'vs\\_map\\_first'\n",
       "\\item 'vs\\_map\\_min'\n",
       "\\item 'vs\\_map\\_max'\n",
       "\\item 'vs\\_temp\\_first'\n",
       "\\item 'vs\\_temp\\_min'\n",
       "\\item 'vs\\_temp\\_max'\n",
       "\\item 'lab\\_hemoglobin\\_first'\n",
       "\\item 'lab\\_hemoglobin\\_min'\n",
       "\\item 'lab\\_hemoglobin\\_max'\n",
       "\\item 'lab\\_hemoglobin\\_abnormal'\n",
       "\\item 'lab\\_platelet\\_first'\n",
       "\\item 'lab\\_platelet\\_min'\n",
       "\\item 'lab\\_platelet\\_max'\n",
       "\\item 'lab\\_platelet\\_abnormal'\n",
       "\\item 'lab\\_creatinine\\_kinase\\_first'\n",
       "\\item 'lab\\_creatinine\\_kinase\\_min'\n",
       "\\item 'lab\\_creatinine\\_kinase\\_max'\n",
       "\\item 'lab\\_creatinine\\_kinase\\_abnormal'\n",
       "\\item 'lab\\_wbc\\_first'\n",
       "\\item 'lab\\_wbc\\_min'\n",
       "\\item 'lab\\_wbc\\_max'\n",
       "\\item 'lab\\_wbc\\_abnormal'\n",
       "\\item 'lab\\_ph\\_first'\n",
       "\\item 'lab\\_ph\\_min'\n",
       "\\item 'lab\\_ph\\_max'\n",
       "\\item 'lab\\_ph\\_abnormal'\n",
       "\\item 'lab\\_chloride\\_first'\n",
       "\\item 'lab\\_chloride\\_min'\n",
       "\\item 'lab\\_chloride\\_max'\n",
       "\\item 'lab\\_chloride\\_abnormal'\n",
       "\\item 'lab\\_sodium\\_first'\n",
       "\\item 'lab\\_sodium\\_min'\n",
       "\\item 'lab\\_sodium\\_max'\n",
       "\\item 'lab\\_sodium\\_abnormal'\n",
       "\\item 'lab\\_bun\\_first'\n",
       "\\item 'lab\\_bun\\_min'\n",
       "\\item 'lab\\_bun\\_max'\n",
       "\\item 'lab\\_bun\\_abnormal'\n",
       "\\item 'lab\\_bicarbonate\\_first'\n",
       "\\item 'lab\\_bicarbonate\\_min'\n",
       "\\item 'lab\\_bicarbonate\\_max'\n",
       "\\item 'lab\\_bicarbonate\\_abnormal'\n",
       "\\item 'lab\\_pco2\\_first'\n",
       "\\item 'lab\\_pco2\\_min'\n",
       "\\item 'lab\\_pco2\\_max'\n",
       "\\item 'lab\\_pco2\\_abnormal'\n",
       "\\item 'lab\\_creatinine\\_first'\n",
       "\\item 'lab\\_creatinine\\_min'\n",
       "\\item 'lab\\_creatinine\\_max'\n",
       "\\item 'lab\\_creatinine\\_abnormal'\n",
       "\\item 'lab\\_potassium\\_first'\n",
       "\\item 'lab\\_potassium\\_min'\n",
       "\\item 'lab\\_potassium\\_max'\n",
       "\\item 'lab\\_potassium\\_abnormal'\n",
       "\\item 'lab\\_troponin\\_first'\n",
       "\\item 'lab\\_troponin\\_min'\n",
       "\\item 'lab\\_troponin\\_max'\n",
       "\\item 'lab\\_troponin\\_abnormal'\n",
       "\\item 'lab\\_po2\\_first'\n",
       "\\item 'lab\\_po2\\_min'\n",
       "\\item 'lab\\_po2\\_max'\n",
       "\\item 'lab\\_po2\\_abnormal'\n",
       "\\item 'lab\\_lactate\\_first'\n",
       "\\item 'lab\\_lactate\\_min'\n",
       "\\item 'lab\\_lactate\\_max'\n",
       "\\item 'lab\\_lactate\\_abnormal'\n",
       "\\item 'pre\\_dose\\_val\\_rx'\n",
       "\\item 'los\\_drug'\n",
       "\\item 'cumulative\\_dose'\n",
       "\\item 'gcs'\n",
       "\\item 'ca'\n",
       "\\item 'infection\\_flag'\n",
       "\\item 'dose\\_val\\_rx\\_average'\n",
       "\\item 'los\\_drug\\_average'\n",
       "\\item 'event\\_state'\n",
       "\\item 'vs\\_heart\\_rate\\_flag'\n",
       "\\item 'vs\\_cvp\\_flag'\n",
       "\\item 'vs\\_map\\_flag'\n",
       "\\item 'vs\\_temp\\_flag'\n",
       "\\item 'lab\\_hemoglobin\\_flag'\n",
       "\\item 'lab\\_platelet\\_flag'\n",
       "\\item 'lab\\_creatinine\\_kinase\\_flag'\n",
       "\\item 'lab\\_wbc\\_flag'\n",
       "\\item 'lab\\_ph\\_flag'\n",
       "\\item 'lab\\_chloride\\_flag'\n",
       "\\item 'lab\\_sodium\\_flag'\n",
       "\\item 'lab\\_bun\\_flag'\n",
       "\\item 'lab\\_bicarbonate\\_flag'\n",
       "\\item 'lab\\_bnp\\_flag'\n",
       "\\item 'lab\\_pco2\\_flag'\n",
       "\\item 'lab\\_creatinine\\_flag'\n",
       "\\item 'lab\\_potassium\\_flag'\n",
       "\\item 'lab\\_troponin\\_flag'\n",
       "\\item 'lab\\_po2\\_flag'\n",
       "\\item 'lab\\_lactate\\_flag'\n",
       "\\item 'gcs\\_int'\n",
       "\\item 'ca\\_int'\n",
       "\\item 'event\\_state\\_int'\n",
       "\\item 'mort\\_28\\_day\\_int'\n",
       "\\item 'ps'\n",
       "\\item 'ps\\_weight'\n",
       "\\end{enumerate*}\n"
      ],
      "text/markdown": [
       "1. 'stay_id'\n",
       "2. 'group'\n",
       "3. 'match'\n",
       "4. 'hadm_id'\n",
       "5. 'subject_id'\n",
       "6. 'gender'\n",
       "7. 'age'\n",
       "8. 'sapsii'\n",
       "9. 'icu_intime'\n",
       "10. 'icu_outtime'\n",
       "11. 'weight'\n",
       "12. 'sofa_24hours'\n",
       "13. 'infection'\n",
       "14. 'mort_28_day'\n",
       "15. 'survival_days'\n",
       "16. 'gcs_include'\n",
       "17. 'gcs_include_combine'\n",
       "18. 'vs_heart_rate_first'\n",
       "19. 'vs_heart_rate_min'\n",
       "20. 'vs_heart_rate_max'\n",
       "21. 'vs_cvp_first'\n",
       "22. 'vs_cvp_min'\n",
       "23. 'vs_cvp_max'\n",
       "24. 'vs_map_first'\n",
       "25. 'vs_map_min'\n",
       "26. 'vs_map_max'\n",
       "27. 'vs_temp_first'\n",
       "28. 'vs_temp_min'\n",
       "29. 'vs_temp_max'\n",
       "30. 'lab_hemoglobin_first'\n",
       "31. 'lab_hemoglobin_min'\n",
       "32. 'lab_hemoglobin_max'\n",
       "33. 'lab_hemoglobin_abnormal'\n",
       "34. 'lab_platelet_first'\n",
       "35. 'lab_platelet_min'\n",
       "36. 'lab_platelet_max'\n",
       "37. 'lab_platelet_abnormal'\n",
       "38. 'lab_creatinine_kinase_first'\n",
       "39. 'lab_creatinine_kinase_min'\n",
       "40. 'lab_creatinine_kinase_max'\n",
       "41. 'lab_creatinine_kinase_abnormal'\n",
       "42. 'lab_wbc_first'\n",
       "43. 'lab_wbc_min'\n",
       "44. 'lab_wbc_max'\n",
       "45. 'lab_wbc_abnormal'\n",
       "46. 'lab_ph_first'\n",
       "47. 'lab_ph_min'\n",
       "48. 'lab_ph_max'\n",
       "49. 'lab_ph_abnormal'\n",
       "50. 'lab_chloride_first'\n",
       "51. 'lab_chloride_min'\n",
       "52. 'lab_chloride_max'\n",
       "53. 'lab_chloride_abnormal'\n",
       "54. 'lab_sodium_first'\n",
       "55. 'lab_sodium_min'\n",
       "56. 'lab_sodium_max'\n",
       "57. 'lab_sodium_abnormal'\n",
       "58. 'lab_bun_first'\n",
       "59. 'lab_bun_min'\n",
       "60. 'lab_bun_max'\n",
       "61. 'lab_bun_abnormal'\n",
       "62. 'lab_bicarbonate_first'\n",
       "63. 'lab_bicarbonate_min'\n",
       "64. 'lab_bicarbonate_max'\n",
       "65. 'lab_bicarbonate_abnormal'\n",
       "66. 'lab_pco2_first'\n",
       "67. 'lab_pco2_min'\n",
       "68. 'lab_pco2_max'\n",
       "69. 'lab_pco2_abnormal'\n",
       "70. 'lab_creatinine_first'\n",
       "71. 'lab_creatinine_min'\n",
       "72. 'lab_creatinine_max'\n",
       "73. 'lab_creatinine_abnormal'\n",
       "74. 'lab_potassium_first'\n",
       "75. 'lab_potassium_min'\n",
       "76. 'lab_potassium_max'\n",
       "77. 'lab_potassium_abnormal'\n",
       "78. 'lab_troponin_first'\n",
       "79. 'lab_troponin_min'\n",
       "80. 'lab_troponin_max'\n",
       "81. 'lab_troponin_abnormal'\n",
       "82. 'lab_po2_first'\n",
       "83. 'lab_po2_min'\n",
       "84. 'lab_po2_max'\n",
       "85. 'lab_po2_abnormal'\n",
       "86. 'lab_lactate_first'\n",
       "87. 'lab_lactate_min'\n",
       "88. 'lab_lactate_max'\n",
       "89. 'lab_lactate_abnormal'\n",
       "90. 'pre_dose_val_rx'\n",
       "91. 'los_drug'\n",
       "92. 'cumulative_dose'\n",
       "93. 'gcs'\n",
       "94. 'ca'\n",
       "95. 'infection_flag'\n",
       "96. 'dose_val_rx_average'\n",
       "97. 'los_drug_average'\n",
       "98. 'event_state'\n",
       "99. 'vs_heart_rate_flag'\n",
       "100. 'vs_cvp_flag'\n",
       "101. 'vs_map_flag'\n",
       "102. 'vs_temp_flag'\n",
       "103. 'lab_hemoglobin_flag'\n",
       "104. 'lab_platelet_flag'\n",
       "105. 'lab_creatinine_kinase_flag'\n",
       "106. 'lab_wbc_flag'\n",
       "107. 'lab_ph_flag'\n",
       "108. 'lab_chloride_flag'\n",
       "109. 'lab_sodium_flag'\n",
       "110. 'lab_bun_flag'\n",
       "111. 'lab_bicarbonate_flag'\n",
       "112. 'lab_bnp_flag'\n",
       "113. 'lab_pco2_flag'\n",
       "114. 'lab_creatinine_flag'\n",
       "115. 'lab_potassium_flag'\n",
       "116. 'lab_troponin_flag'\n",
       "117. 'lab_po2_flag'\n",
       "118. 'lab_lactate_flag'\n",
       "119. 'gcs_int'\n",
       "120. 'ca_int'\n",
       "121. 'event_state_int'\n",
       "122. 'mort_28_day_int'\n",
       "123. 'ps'\n",
       "124. 'ps_weight'\n",
       "\n",
       "\n"
      ],
      "text/plain": [
       "  [1] \"stay_id\"                        \"group\"                         \n",
       "  [3] \"match\"                          \"hadm_id\"                       \n",
       "  [5] \"subject_id\"                     \"gender\"                        \n",
       "  [7] \"age\"                            \"sapsii\"                        \n",
       "  [9] \"icu_intime\"                     \"icu_outtime\"                   \n",
       " [11] \"weight\"                         \"sofa_24hours\"                  \n",
       " [13] \"infection\"                      \"mort_28_day\"                   \n",
       " [15] \"survival_days\"                  \"gcs_include\"                   \n",
       " [17] \"gcs_include_combine\"            \"vs_heart_rate_first\"           \n",
       " [19] \"vs_heart_rate_min\"              \"vs_heart_rate_max\"             \n",
       " [21] \"vs_cvp_first\"                   \"vs_cvp_min\"                    \n",
       " [23] \"vs_cvp_max\"                     \"vs_map_first\"                  \n",
       " [25] \"vs_map_min\"                     \"vs_map_max\"                    \n",
       " [27] \"vs_temp_first\"                  \"vs_temp_min\"                   \n",
       " [29] \"vs_temp_max\"                    \"lab_hemoglobin_first\"          \n",
       " [31] \"lab_hemoglobin_min\"             \"lab_hemoglobin_max\"            \n",
       " [33] \"lab_hemoglobin_abnormal\"        \"lab_platelet_first\"            \n",
       " [35] \"lab_platelet_min\"               \"lab_platelet_max\"              \n",
       " [37] \"lab_platelet_abnormal\"          \"lab_creatinine_kinase_first\"   \n",
       " [39] \"lab_creatinine_kinase_min\"      \"lab_creatinine_kinase_max\"     \n",
       " [41] \"lab_creatinine_kinase_abnormal\" \"lab_wbc_first\"                 \n",
       " [43] \"lab_wbc_min\"                    \"lab_wbc_max\"                   \n",
       " [45] \"lab_wbc_abnormal\"               \"lab_ph_first\"                  \n",
       " [47] \"lab_ph_min\"                     \"lab_ph_max\"                    \n",
       " [49] \"lab_ph_abnormal\"                \"lab_chloride_first\"            \n",
       " [51] \"lab_chloride_min\"               \"lab_chloride_max\"              \n",
       " [53] \"lab_chloride_abnormal\"          \"lab_sodium_first\"              \n",
       " [55] \"lab_sodium_min\"                 \"lab_sodium_max\"                \n",
       " [57] \"lab_sodium_abnormal\"            \"lab_bun_first\"                 \n",
       " [59] \"lab_bun_min\"                    \"lab_bun_max\"                   \n",
       " [61] \"lab_bun_abnormal\"               \"lab_bicarbonate_first\"         \n",
       " [63] \"lab_bicarbonate_min\"            \"lab_bicarbonate_max\"           \n",
       " [65] \"lab_bicarbonate_abnormal\"       \"lab_pco2_first\"                \n",
       " [67] \"lab_pco2_min\"                   \"lab_pco2_max\"                  \n",
       " [69] \"lab_pco2_abnormal\"              \"lab_creatinine_first\"          \n",
       " [71] \"lab_creatinine_min\"             \"lab_creatinine_max\"            \n",
       " [73] \"lab_creatinine_abnormal\"        \"lab_potassium_first\"           \n",
       " [75] \"lab_potassium_min\"              \"lab_potassium_max\"             \n",
       " [77] \"lab_potassium_abnormal\"         \"lab_troponin_first\"            \n",
       " [79] \"lab_troponin_min\"               \"lab_troponin_max\"              \n",
       " [81] \"lab_troponin_abnormal\"          \"lab_po2_first\"                 \n",
       " [83] \"lab_po2_min\"                    \"lab_po2_max\"                   \n",
       " [85] \"lab_po2_abnormal\"               \"lab_lactate_first\"             \n",
       " [87] \"lab_lactate_min\"                \"lab_lactate_max\"               \n",
       " [89] \"lab_lactate_abnormal\"           \"pre_dose_val_rx\"               \n",
       " [91] \"los_drug\"                       \"cumulative_dose\"               \n",
       " [93] \"gcs\"                            \"ca\"                            \n",
       " [95] \"infection_flag\"                 \"dose_val_rx_average\"           \n",
       " [97] \"los_drug_average\"               \"event_state\"                   \n",
       " [99] \"vs_heart_rate_flag\"             \"vs_cvp_flag\"                   \n",
       "[101] \"vs_map_flag\"                    \"vs_temp_flag\"                  \n",
       "[103] \"lab_hemoglobin_flag\"            \"lab_platelet_flag\"             \n",
       "[105] \"lab_creatinine_kinase_flag\"     \"lab_wbc_flag\"                  \n",
       "[107] \"lab_ph_flag\"                    \"lab_chloride_flag\"             \n",
       "[109] \"lab_sodium_flag\"                \"lab_bun_flag\"                  \n",
       "[111] \"lab_bicarbonate_flag\"           \"lab_bnp_flag\"                  \n",
       "[113] \"lab_pco2_flag\"                  \"lab_creatinine_flag\"           \n",
       "[115] \"lab_potassium_flag\"             \"lab_troponin_flag\"             \n",
       "[117] \"lab_po2_flag\"                   \"lab_lactate_flag\"              \n",
       "[119] \"gcs_int\"                        \"ca_int\"                        \n",
       "[121] \"event_state_int\"                \"mort_28_day_int\"               \n",
       "[123] \"ps\"                             \"ps_weight\"                     "
      ]
     },
     "metadata": {},
     "output_type": "display_data"
    }
   ],
   "source": [
    "m1 <- read.csv(file.path(data_dir, \"ps_df.csv\"))\n",
    "colnames(m1)\n",
    "m1$pre_dose_val_rx <- as.numeric(m1$pre_dose_val_rx)"
   ]
  },
  {
   "cell_type": "code",
   "execution_count": 99,
   "metadata": {
    "vscode": {
     "languageId": "r"
    }
   },
   "outputs": [
    {
     "data": {
      "text/html": [
       "<table class=\"dataframe\">\n",
       "<caption>A data.frame: 6 × 124</caption>\n",
       "<thead>\n",
       "\t<tr><th></th><th scope=col>stay_id</th><th scope=col>group</th><th scope=col>match</th><th scope=col>hadm_id</th><th scope=col>subject_id</th><th scope=col>gender</th><th scope=col>age</th><th scope=col>sapsii</th><th scope=col>icu_intime</th><th scope=col>icu_outtime</th><th scope=col>⋯</th><th scope=col>lab_potassium_flag</th><th scope=col>lab_troponin_flag</th><th scope=col>lab_po2_flag</th><th scope=col>lab_lactate_flag</th><th scope=col>gcs_int</th><th scope=col>ca_int</th><th scope=col>event_state_int</th><th scope=col>mort_28_day_int</th><th scope=col>ps</th><th scope=col>ps_weight</th></tr>\n",
       "\t<tr><th></th><th scope=col>&lt;int&gt;</th><th scope=col>&lt;chr&gt;</th><th scope=col>&lt;int&gt;</th><th scope=col>&lt;int&gt;</th><th scope=col>&lt;int&gt;</th><th scope=col>&lt;chr&gt;</th><th scope=col>&lt;dbl&gt;</th><th scope=col>&lt;int&gt;</th><th scope=col>&lt;chr&gt;</th><th scope=col>&lt;chr&gt;</th><th scope=col>⋯</th><th scope=col>&lt;int&gt;</th><th scope=col>&lt;int&gt;</th><th scope=col>&lt;int&gt;</th><th scope=col>&lt;int&gt;</th><th scope=col>&lt;int&gt;</th><th scope=col>&lt;int&gt;</th><th scope=col>&lt;int&gt;</th><th scope=col>&lt;int&gt;</th><th scope=col>&lt;dbl&gt;</th><th scope=col>&lt;dbl&gt;</th></tr>\n",
       "</thead>\n",
       "<tbody>\n",
       "\t<tr><th scope=row>1</th><td>31869153</td><td>trtd</td><td>1</td><td>21383344</td><td>15359363</td><td>F</td><td>41.91122</td><td>39</td><td>2166-12-02T16:08:45Z</td><td>2166-12-05T02:10:02Z</td><td>⋯</td><td>1</td><td>0</td><td>0</td><td>0</td><td>1</td><td>NA</td><td>0</td><td>0</td><td>0.57470795</td><td> 1.740014</td></tr>\n",
       "\t<tr><th scope=row>2</th><td>39943969</td><td>trtd</td><td>2</td><td>21237030</td><td>19839346</td><td>F</td><td>57.41306</td><td>55</td><td>2129-06-01T17:03:32Z</td><td>2129-06-14T18:11:11Z</td><td>⋯</td><td>1</td><td>0</td><td>1</td><td>1</td><td>1</td><td> 1</td><td>1</td><td>1</td><td>0.22189905</td><td> 4.506554</td></tr>\n",
       "\t<tr><th scope=row>3</th><td>31592145</td><td>trtd</td><td>3</td><td>23461808</td><td>18507152</td><td>M</td><td>75.20097</td><td>36</td><td>2142-03-17T18:24:17Z</td><td>2142-03-18T21:35:30Z</td><td>⋯</td><td>1</td><td>0</td><td>0</td><td>0</td><td>1</td><td> 0</td><td>1</td><td>0</td><td>0.08418521</td><td>11.878571</td></tr>\n",
       "\t<tr><th scope=row>4</th><td>34069747</td><td>trtd</td><td>4</td><td>28293583</td><td>15756685</td><td>M</td><td>64.57062</td><td>49</td><td>2196-08-21T01:15:25Z</td><td>2196-09-03T01:09:34Z</td><td>⋯</td><td>1</td><td>0</td><td>1</td><td>1</td><td>1</td><td> 1</td><td>0</td><td>0</td><td>0.48884097</td><td> 2.045655</td></tr>\n",
       "\t<tr><th scope=row>5</th><td>30928501</td><td>trtd</td><td>5</td><td>23312997</td><td>12137322</td><td>F</td><td>73.23301</td><td>35</td><td>2125-03-28T00:34:22Z</td><td>2125-03-29T10:04:51Z</td><td>⋯</td><td>1</td><td>0</td><td>1</td><td>1</td><td>1</td><td> 0</td><td>0</td><td>0</td><td>0.22218050</td><td> 4.500845</td></tr>\n",
       "\t<tr><th scope=row>6</th><td>30384294</td><td>trtd</td><td>6</td><td>22084837</td><td>17011637</td><td>F</td><td>40.92149</td><td>13</td><td>2132-12-03T17:25:47Z</td><td>2132-12-06T15:22:54Z</td><td>⋯</td><td>1</td><td>0</td><td>1</td><td>1</td><td>1</td><td>NA</td><td>0</td><td>0</td><td>0.21603559</td><td> 4.628867</td></tr>\n",
       "</tbody>\n",
       "</table>\n"
      ],
      "text/latex": [
       "A data.frame: 6 × 124\n",
       "\\begin{tabular}{r|lllllllllllllllllllll}\n",
       "  & stay\\_id & group & match & hadm\\_id & subject\\_id & gender & age & sapsii & icu\\_intime & icu\\_outtime & ⋯ & lab\\_potassium\\_flag & lab\\_troponin\\_flag & lab\\_po2\\_flag & lab\\_lactate\\_flag & gcs\\_int & ca\\_int & event\\_state\\_int & mort\\_28\\_day\\_int & ps & ps\\_weight\\\\\n",
       "  & <int> & <chr> & <int> & <int> & <int> & <chr> & <dbl> & <int> & <chr> & <chr> & ⋯ & <int> & <int> & <int> & <int> & <int> & <int> & <int> & <int> & <dbl> & <dbl>\\\\\n",
       "\\hline\n",
       "\t1 & 31869153 & trtd & 1 & 21383344 & 15359363 & F & 41.91122 & 39 & 2166-12-02T16:08:45Z & 2166-12-05T02:10:02Z & ⋯ & 1 & 0 & 0 & 0 & 1 & NA & 0 & 0 & 0.57470795 &  1.740014\\\\\n",
       "\t2 & 39943969 & trtd & 2 & 21237030 & 19839346 & F & 57.41306 & 55 & 2129-06-01T17:03:32Z & 2129-06-14T18:11:11Z & ⋯ & 1 & 0 & 1 & 1 & 1 &  1 & 1 & 1 & 0.22189905 &  4.506554\\\\\n",
       "\t3 & 31592145 & trtd & 3 & 23461808 & 18507152 & M & 75.20097 & 36 & 2142-03-17T18:24:17Z & 2142-03-18T21:35:30Z & ⋯ & 1 & 0 & 0 & 0 & 1 &  0 & 1 & 0 & 0.08418521 & 11.878571\\\\\n",
       "\t4 & 34069747 & trtd & 4 & 28293583 & 15756685 & M & 64.57062 & 49 & 2196-08-21T01:15:25Z & 2196-09-03T01:09:34Z & ⋯ & 1 & 0 & 1 & 1 & 1 &  1 & 0 & 0 & 0.48884097 &  2.045655\\\\\n",
       "\t5 & 30928501 & trtd & 5 & 23312997 & 12137322 & F & 73.23301 & 35 & 2125-03-28T00:34:22Z & 2125-03-29T10:04:51Z & ⋯ & 1 & 0 & 1 & 1 & 1 &  0 & 0 & 0 & 0.22218050 &  4.500845\\\\\n",
       "\t6 & 30384294 & trtd & 6 & 22084837 & 17011637 & F & 40.92149 & 13 & 2132-12-03T17:25:47Z & 2132-12-06T15:22:54Z & ⋯ & 1 & 0 & 1 & 1 & 1 & NA & 0 & 0 & 0.21603559 &  4.628867\\\\\n",
       "\\end{tabular}\n"
      ],
      "text/markdown": [
       "\n",
       "A data.frame: 6 × 124\n",
       "\n",
       "| <!--/--> | stay_id &lt;int&gt; | group &lt;chr&gt; | match &lt;int&gt; | hadm_id &lt;int&gt; | subject_id &lt;int&gt; | gender &lt;chr&gt; | age &lt;dbl&gt; | sapsii &lt;int&gt; | icu_intime &lt;chr&gt; | icu_outtime &lt;chr&gt; | ⋯ ⋯ | lab_potassium_flag &lt;int&gt; | lab_troponin_flag &lt;int&gt; | lab_po2_flag &lt;int&gt; | lab_lactate_flag &lt;int&gt; | gcs_int &lt;int&gt; | ca_int &lt;int&gt; | event_state_int &lt;int&gt; | mort_28_day_int &lt;int&gt; | ps &lt;dbl&gt; | ps_weight &lt;dbl&gt; |\n",
       "|---|---|---|---|---|---|---|---|---|---|---|---|---|---|---|---|---|---|---|---|---|---|\n",
       "| 1 | 31869153 | trtd | 1 | 21383344 | 15359363 | F | 41.91122 | 39 | 2166-12-02T16:08:45Z | 2166-12-05T02:10:02Z | ⋯ | 1 | 0 | 0 | 0 | 1 | NA | 0 | 0 | 0.57470795 |  1.740014 |\n",
       "| 2 | 39943969 | trtd | 2 | 21237030 | 19839346 | F | 57.41306 | 55 | 2129-06-01T17:03:32Z | 2129-06-14T18:11:11Z | ⋯ | 1 | 0 | 1 | 1 | 1 |  1 | 1 | 1 | 0.22189905 |  4.506554 |\n",
       "| 3 | 31592145 | trtd | 3 | 23461808 | 18507152 | M | 75.20097 | 36 | 2142-03-17T18:24:17Z | 2142-03-18T21:35:30Z | ⋯ | 1 | 0 | 0 | 0 | 1 |  0 | 1 | 0 | 0.08418521 | 11.878571 |\n",
       "| 4 | 34069747 | trtd | 4 | 28293583 | 15756685 | M | 64.57062 | 49 | 2196-08-21T01:15:25Z | 2196-09-03T01:09:34Z | ⋯ | 1 | 0 | 1 | 1 | 1 |  1 | 0 | 0 | 0.48884097 |  2.045655 |\n",
       "| 5 | 30928501 | trtd | 5 | 23312997 | 12137322 | F | 73.23301 | 35 | 2125-03-28T00:34:22Z | 2125-03-29T10:04:51Z | ⋯ | 1 | 0 | 1 | 1 | 1 |  0 | 0 | 0 | 0.22218050 |  4.500845 |\n",
       "| 6 | 30384294 | trtd | 6 | 22084837 | 17011637 | F | 40.92149 | 13 | 2132-12-03T17:25:47Z | 2132-12-06T15:22:54Z | ⋯ | 1 | 0 | 1 | 1 | 1 | NA | 0 | 0 | 0.21603559 |  4.628867 |\n",
       "\n"
      ],
      "text/plain": [
       "  stay_id  group match hadm_id  subject_id gender age      sapsii\n",
       "1 31869153 trtd  1     21383344 15359363   F      41.91122 39    \n",
       "2 39943969 trtd  2     21237030 19839346   F      57.41306 55    \n",
       "3 31592145 trtd  3     23461808 18507152   M      75.20097 36    \n",
       "4 34069747 trtd  4     28293583 15756685   M      64.57062 49    \n",
       "5 30928501 trtd  5     23312997 12137322   F      73.23301 35    \n",
       "6 30384294 trtd  6     22084837 17011637   F      40.92149 13    \n",
       "  icu_intime           icu_outtime          ⋯ lab_potassium_flag\n",
       "1 2166-12-02T16:08:45Z 2166-12-05T02:10:02Z ⋯ 1                 \n",
       "2 2129-06-01T17:03:32Z 2129-06-14T18:11:11Z ⋯ 1                 \n",
       "3 2142-03-17T18:24:17Z 2142-03-18T21:35:30Z ⋯ 1                 \n",
       "4 2196-08-21T01:15:25Z 2196-09-03T01:09:34Z ⋯ 1                 \n",
       "5 2125-03-28T00:34:22Z 2125-03-29T10:04:51Z ⋯ 1                 \n",
       "6 2132-12-03T17:25:47Z 2132-12-06T15:22:54Z ⋯ 1                 \n",
       "  lab_troponin_flag lab_po2_flag lab_lactate_flag gcs_int ca_int\n",
       "1 0                 0            0                1       NA    \n",
       "2 0                 1            1                1        1    \n",
       "3 0                 0            0                1        0    \n",
       "4 0                 1            1                1        1    \n",
       "5 0                 1            1                1        0    \n",
       "6 0                 1            1                1       NA    \n",
       "  event_state_int mort_28_day_int ps         ps_weight\n",
       "1 0               0               0.57470795  1.740014\n",
       "2 1               1               0.22189905  4.506554\n",
       "3 1               0               0.08418521 11.878571\n",
       "4 0               0               0.48884097  2.045655\n",
       "5 0               0               0.22218050  4.500845\n",
       "6 0               0               0.21603559  4.628867"
      ]
     },
     "metadata": {},
     "output_type": "display_data"
    }
   ],
   "source": [
    "# Further subgroup analysis after stratification by age, drug dosage, and various other indicators\n",
    "head(m1)"
   ]
  },
  {
   "cell_type": "code",
   "execution_count": 100,
   "metadata": {
    "vscode": {
     "languageId": "r"
    }
   },
   "outputs": [
    {
     "name": "stderr",
     "output_type": "stream",
     "text": [
      "Warning message in datadist(m1):\n",
      "\"lab_hemoglobin_abnormal is constant\"\n"
     ]
    },
    {
     "data": {
      "text/html": [
       "<table class=\"dataframe\">\n",
       "<caption>A data.frame: 6 × 124</caption>\n",
       "<thead>\n",
       "\t<tr><th></th><th scope=col>stay_id</th><th scope=col>group</th><th scope=col>match</th><th scope=col>hadm_id</th><th scope=col>subject_id</th><th scope=col>gender</th><th scope=col>age</th><th scope=col>sapsii</th><th scope=col>icu_intime</th><th scope=col>icu_outtime</th><th scope=col>⋯</th><th scope=col>lab_potassium_flag</th><th scope=col>lab_troponin_flag</th><th scope=col>lab_po2_flag</th><th scope=col>lab_lactate_flag</th><th scope=col>gcs_int</th><th scope=col>ca_int</th><th scope=col>event_state_int</th><th scope=col>mort_28_day_int</th><th scope=col>ps</th><th scope=col>ps_weight</th></tr>\n",
       "\t<tr><th></th><th scope=col>&lt;int&gt;</th><th scope=col>&lt;chr&gt;</th><th scope=col>&lt;int&gt;</th><th scope=col>&lt;int&gt;</th><th scope=col>&lt;int&gt;</th><th scope=col>&lt;chr&gt;</th><th scope=col>&lt;dbl&gt;</th><th scope=col>&lt;int&gt;</th><th scope=col>&lt;chr&gt;</th><th scope=col>&lt;chr&gt;</th><th scope=col>⋯</th><th scope=col>&lt;int&gt;</th><th scope=col>&lt;int&gt;</th><th scope=col>&lt;int&gt;</th><th scope=col>&lt;int&gt;</th><th scope=col>&lt;int&gt;</th><th scope=col>&lt;int&gt;</th><th scope=col>&lt;int&gt;</th><th scope=col>&lt;int&gt;</th><th scope=col>&lt;dbl&gt;</th><th scope=col>&lt;dbl&gt;</th></tr>\n",
       "</thead>\n",
       "<tbody>\n",
       "\t<tr><th scope=row>1</th><td>31869153</td><td>trtd</td><td>1</td><td>21383344</td><td>15359363</td><td>F</td><td>41.91122</td><td>39</td><td>2166-12-02T16:08:45Z</td><td>2166-12-05T02:10:02Z</td><td>⋯</td><td>1</td><td>0</td><td>0</td><td>0</td><td>1</td><td>NA</td><td>0</td><td>0</td><td>0.57470795</td><td> 1.740014</td></tr>\n",
       "\t<tr><th scope=row>2</th><td>39943969</td><td>trtd</td><td>2</td><td>21237030</td><td>19839346</td><td>F</td><td>57.41306</td><td>55</td><td>2129-06-01T17:03:32Z</td><td>2129-06-14T18:11:11Z</td><td>⋯</td><td>1</td><td>0</td><td>1</td><td>1</td><td>1</td><td> 1</td><td>1</td><td>1</td><td>0.22189905</td><td> 4.506554</td></tr>\n",
       "\t<tr><th scope=row>3</th><td>31592145</td><td>trtd</td><td>3</td><td>23461808</td><td>18507152</td><td>M</td><td>75.20097</td><td>36</td><td>2142-03-17T18:24:17Z</td><td>2142-03-18T21:35:30Z</td><td>⋯</td><td>1</td><td>0</td><td>0</td><td>0</td><td>1</td><td> 0</td><td>1</td><td>0</td><td>0.08418521</td><td>11.878571</td></tr>\n",
       "\t<tr><th scope=row>4</th><td>34069747</td><td>trtd</td><td>4</td><td>28293583</td><td>15756685</td><td>M</td><td>64.57062</td><td>49</td><td>2196-08-21T01:15:25Z</td><td>2196-09-03T01:09:34Z</td><td>⋯</td><td>1</td><td>0</td><td>1</td><td>1</td><td>1</td><td> 1</td><td>0</td><td>0</td><td>0.48884097</td><td> 2.045655</td></tr>\n",
       "\t<tr><th scope=row>5</th><td>30928501</td><td>trtd</td><td>5</td><td>23312997</td><td>12137322</td><td>F</td><td>73.23301</td><td>35</td><td>2125-03-28T00:34:22Z</td><td>2125-03-29T10:04:51Z</td><td>⋯</td><td>1</td><td>0</td><td>1</td><td>1</td><td>1</td><td> 0</td><td>0</td><td>0</td><td>0.22218050</td><td> 4.500845</td></tr>\n",
       "\t<tr><th scope=row>6</th><td>30384294</td><td>trtd</td><td>6</td><td>22084837</td><td>17011637</td><td>F</td><td>40.92149</td><td>13</td><td>2132-12-03T17:25:47Z</td><td>2132-12-06T15:22:54Z</td><td>⋯</td><td>1</td><td>0</td><td>1</td><td>1</td><td>1</td><td>NA</td><td>0</td><td>0</td><td>0.21603559</td><td> 4.628867</td></tr>\n",
       "</tbody>\n",
       "</table>\n"
      ],
      "text/latex": [
       "A data.frame: 6 × 124\n",
       "\\begin{tabular}{r|lllllllllllllllllllll}\n",
       "  & stay\\_id & group & match & hadm\\_id & subject\\_id & gender & age & sapsii & icu\\_intime & icu\\_outtime & ⋯ & lab\\_potassium\\_flag & lab\\_troponin\\_flag & lab\\_po2\\_flag & lab\\_lactate\\_flag & gcs\\_int & ca\\_int & event\\_state\\_int & mort\\_28\\_day\\_int & ps & ps\\_weight\\\\\n",
       "  & <int> & <chr> & <int> & <int> & <int> & <chr> & <dbl> & <int> & <chr> & <chr> & ⋯ & <int> & <int> & <int> & <int> & <int> & <int> & <int> & <int> & <dbl> & <dbl>\\\\\n",
       "\\hline\n",
       "\t1 & 31869153 & trtd & 1 & 21383344 & 15359363 & F & 41.91122 & 39 & 2166-12-02T16:08:45Z & 2166-12-05T02:10:02Z & ⋯ & 1 & 0 & 0 & 0 & 1 & NA & 0 & 0 & 0.57470795 &  1.740014\\\\\n",
       "\t2 & 39943969 & trtd & 2 & 21237030 & 19839346 & F & 57.41306 & 55 & 2129-06-01T17:03:32Z & 2129-06-14T18:11:11Z & ⋯ & 1 & 0 & 1 & 1 & 1 &  1 & 1 & 1 & 0.22189905 &  4.506554\\\\\n",
       "\t3 & 31592145 & trtd & 3 & 23461808 & 18507152 & M & 75.20097 & 36 & 2142-03-17T18:24:17Z & 2142-03-18T21:35:30Z & ⋯ & 1 & 0 & 0 & 0 & 1 &  0 & 1 & 0 & 0.08418521 & 11.878571\\\\\n",
       "\t4 & 34069747 & trtd & 4 & 28293583 & 15756685 & M & 64.57062 & 49 & 2196-08-21T01:15:25Z & 2196-09-03T01:09:34Z & ⋯ & 1 & 0 & 1 & 1 & 1 &  1 & 0 & 0 & 0.48884097 &  2.045655\\\\\n",
       "\t5 & 30928501 & trtd & 5 & 23312997 & 12137322 & F & 73.23301 & 35 & 2125-03-28T00:34:22Z & 2125-03-29T10:04:51Z & ⋯ & 1 & 0 & 1 & 1 & 1 &  0 & 0 & 0 & 0.22218050 &  4.500845\\\\\n",
       "\t6 & 30384294 & trtd & 6 & 22084837 & 17011637 & F & 40.92149 & 13 & 2132-12-03T17:25:47Z & 2132-12-06T15:22:54Z & ⋯ & 1 & 0 & 1 & 1 & 1 & NA & 0 & 0 & 0.21603559 &  4.628867\\\\\n",
       "\\end{tabular}\n"
      ],
      "text/markdown": [
       "\n",
       "A data.frame: 6 × 124\n",
       "\n",
       "| <!--/--> | stay_id &lt;int&gt; | group &lt;chr&gt; | match &lt;int&gt; | hadm_id &lt;int&gt; | subject_id &lt;int&gt; | gender &lt;chr&gt; | age &lt;dbl&gt; | sapsii &lt;int&gt; | icu_intime &lt;chr&gt; | icu_outtime &lt;chr&gt; | ⋯ ⋯ | lab_potassium_flag &lt;int&gt; | lab_troponin_flag &lt;int&gt; | lab_po2_flag &lt;int&gt; | lab_lactate_flag &lt;int&gt; | gcs_int &lt;int&gt; | ca_int &lt;int&gt; | event_state_int &lt;int&gt; | mort_28_day_int &lt;int&gt; | ps &lt;dbl&gt; | ps_weight &lt;dbl&gt; |\n",
       "|---|---|---|---|---|---|---|---|---|---|---|---|---|---|---|---|---|---|---|---|---|---|\n",
       "| 1 | 31869153 | trtd | 1 | 21383344 | 15359363 | F | 41.91122 | 39 | 2166-12-02T16:08:45Z | 2166-12-05T02:10:02Z | ⋯ | 1 | 0 | 0 | 0 | 1 | NA | 0 | 0 | 0.57470795 |  1.740014 |\n",
       "| 2 | 39943969 | trtd | 2 | 21237030 | 19839346 | F | 57.41306 | 55 | 2129-06-01T17:03:32Z | 2129-06-14T18:11:11Z | ⋯ | 1 | 0 | 1 | 1 | 1 |  1 | 1 | 1 | 0.22189905 |  4.506554 |\n",
       "| 3 | 31592145 | trtd | 3 | 23461808 | 18507152 | M | 75.20097 | 36 | 2142-03-17T18:24:17Z | 2142-03-18T21:35:30Z | ⋯ | 1 | 0 | 0 | 0 | 1 |  0 | 1 | 0 | 0.08418521 | 11.878571 |\n",
       "| 4 | 34069747 | trtd | 4 | 28293583 | 15756685 | M | 64.57062 | 49 | 2196-08-21T01:15:25Z | 2196-09-03T01:09:34Z | ⋯ | 1 | 0 | 1 | 1 | 1 |  1 | 0 | 0 | 0.48884097 |  2.045655 |\n",
       "| 5 | 30928501 | trtd | 5 | 23312997 | 12137322 | F | 73.23301 | 35 | 2125-03-28T00:34:22Z | 2125-03-29T10:04:51Z | ⋯ | 1 | 0 | 1 | 1 | 1 |  0 | 0 | 0 | 0.22218050 |  4.500845 |\n",
       "| 6 | 30384294 | trtd | 6 | 22084837 | 17011637 | F | 40.92149 | 13 | 2132-12-03T17:25:47Z | 2132-12-06T15:22:54Z | ⋯ | 1 | 0 | 1 | 1 | 1 | NA | 0 | 0 | 0.21603559 |  4.628867 |\n",
       "\n"
      ],
      "text/plain": [
       "  stay_id  group match hadm_id  subject_id gender age      sapsii\n",
       "1 31869153 trtd  1     21383344 15359363   F      41.91122 39    \n",
       "2 39943969 trtd  2     21237030 19839346   F      57.41306 55    \n",
       "3 31592145 trtd  3     23461808 18507152   M      75.20097 36    \n",
       "4 34069747 trtd  4     28293583 15756685   M      64.57062 49    \n",
       "5 30928501 trtd  5     23312997 12137322   F      73.23301 35    \n",
       "6 30384294 trtd  6     22084837 17011637   F      40.92149 13    \n",
       "  icu_intime           icu_outtime          ⋯ lab_potassium_flag\n",
       "1 2166-12-02T16:08:45Z 2166-12-05T02:10:02Z ⋯ 1                 \n",
       "2 2129-06-01T17:03:32Z 2129-06-14T18:11:11Z ⋯ 1                 \n",
       "3 2142-03-17T18:24:17Z 2142-03-18T21:35:30Z ⋯ 1                 \n",
       "4 2196-08-21T01:15:25Z 2196-09-03T01:09:34Z ⋯ 1                 \n",
       "5 2125-03-28T00:34:22Z 2125-03-29T10:04:51Z ⋯ 1                 \n",
       "6 2132-12-03T17:25:47Z 2132-12-06T15:22:54Z ⋯ 1                 \n",
       "  lab_troponin_flag lab_po2_flag lab_lactate_flag gcs_int ca_int\n",
       "1 0                 0            0                1       NA    \n",
       "2 0                 1            1                1        1    \n",
       "3 0                 0            0                1        0    \n",
       "4 0                 1            1                1        1    \n",
       "5 0                 1            1                1        0    \n",
       "6 0                 1            1                1       NA    \n",
       "  event_state_int mort_28_day_int ps         ps_weight\n",
       "1 0               0               0.57470795  1.740014\n",
       "2 1               1               0.22189905  4.506554\n",
       "3 1               0               0.08418521 11.878571\n",
       "4 0               0               0.48884097  2.045655\n",
       "5 0               0               0.22218050  4.500845\n",
       "6 0               0               0.21603559  4.628867"
      ]
     },
     "metadata": {},
     "output_type": "display_data"
    }
   ],
   "source": [
    " dd <- datadist(m1) \n",
    " head(m1) "
   ]
  },
  {
   "cell_type": "code",
   "execution_count": 101,
   "metadata": {
    "vscode": {
     "languageId": "r"
    }
   },
   "outputs": [],
   "source": [
    "options(datadist='dd') "
   ]
  },
  {
   "cell_type": "code",
   "execution_count": 102,
   "metadata": {
    "vscode": {
     "languageId": "r"
    }
   },
   "outputs": [],
   "source": [
    "\n",
    "m3<- cph(Surv(survival_days, mort_28_day) ~ rcs(pre_dose_val_rx,4),x=TRUE , y=TRUE,data = m1) "
   ]
  },
  {
   "cell_type": "code",
   "execution_count": 103,
   "metadata": {
    "vscode": {
     "languageId": "r"
    }
   },
   "outputs": [
    {
     "data": {
      "text/html": [
       "<table class=\"dataframe\">\n",
       "<caption>A anova.rms: 3 × 3 of type dbl</caption>\n",
       "<thead>\n",
       "\t<tr><th></th><th scope=col>Chi-Square</th><th scope=col>d.f.</th><th scope=col>P</th></tr>\n",
       "</thead>\n",
       "<tbody>\n",
       "\t<tr><th scope=row>pre_dose_val_rx</th><td>7.059017</td><td>3</td><td>0.07004031</td></tr>\n",
       "\t<tr><th scope=row> Nonlinear</th><td>6.805855</td><td>2</td><td>0.03327571</td></tr>\n",
       "\t<tr><th scope=row>TOTAL</th><td>7.059017</td><td>3</td><td>0.07004031</td></tr>\n",
       "</tbody>\n",
       "</table>\n"
      ],
      "text/latex": [
       "A anova.rms: 3 × 3 of type dbl\n",
       "\\begin{tabular}{r|lll}\n",
       "  & Chi-Square & d.f. & P\\\\\n",
       "\\hline\n",
       "\tpre\\_dose\\_val\\_rx & 7.059017 & 3 & 0.07004031\\\\\n",
       "\t Nonlinear & 6.805855 & 2 & 0.03327571\\\\\n",
       "\tTOTAL & 7.059017 & 3 & 0.07004031\\\\\n",
       "\\end{tabular}\n"
      ],
      "text/markdown": [
       "\n",
       "A anova.rms: 3 × 3 of type dbl\n",
       "\n",
       "| <!--/--> | Chi-Square | d.f. | P |\n",
       "|---|---|---|---|\n",
       "| pre_dose_val_rx | 7.059017 | 3 | 0.07004031 |\n",
       "|  Nonlinear | 6.805855 | 2 | 0.03327571 |\n",
       "| TOTAL | 7.059017 | 3 | 0.07004031 |\n",
       "\n"
      ],
      "text/plain": [
       "                Chi-Square d.f. P         \n",
       "pre_dose_val_rx 7.059017   3    0.07004031\n",
       " Nonlinear      6.805855   2    0.03327571\n",
       "TOTAL           7.059017   3    0.07004031"
      ]
     },
     "metadata": {},
     "output_type": "display_data"
    }
   ],
   "source": [
    "anova(m3) "
   ]
  },
  {
   "cell_type": "code",
   "execution_count": 104,
   "metadata": {
    "vscode": {
     "languageId": "r"
    }
   },
   "outputs": [
    {
     "data": {
      "text/html": [
       "<table class=\"dataframe\">\n",
       "<caption>A Predict: 200 × 4</caption>\n",
       "<thead>\n",
       "\t<tr><th scope=col>pre_dose_val_rx</th><th scope=col>yhat</th><th scope=col>lower</th><th scope=col>upper</th></tr>\n",
       "\t<tr><th scope=col>&lt;dbl&gt;</th><th scope=col>&lt;dbl&gt;</th><th scope=col>&lt;dbl&gt;</th><th scope=col>&lt;dbl&gt;</th></tr>\n",
       "</thead>\n",
       "<tbody>\n",
       "\t<tr><td> 1.000000</td><td>2.5057008</td><td>0.7449735</td><td>8.427865</td></tr>\n",
       "\t<tr><td> 1.497487</td><td>2.2886913</td><td>0.7560270</td><td>6.928467</td></tr>\n",
       "\t<tr><td> 1.994975</td><td>2.0904763</td><td>0.7671661</td><td>5.696408</td></tr>\n",
       "\t<tr><td> 2.492462</td><td>1.9094500</td><td>0.7783621</td><td>4.684194</td></tr>\n",
       "\t<tr><td> 2.989950</td><td>1.7453270</td><td>0.7896001</td><td>3.857860</td></tr>\n",
       "\t<tr><td> 3.487437</td><td>1.5992082</td><td>0.8009031</td><td>3.193229</td></tr>\n",
       "\t<tr><td> 3.984925</td><td>1.4715862</td><td>0.8123072</td><td>2.665945</td></tr>\n",
       "\t<tr><td> 4.482412</td><td>1.3624224</td><td>0.8238693</td><td>2.253021</td></tr>\n",
       "\t<tr><td> 4.979899</td><td>1.2713818</td><td>0.8356891</td><td>1.934226</td></tr>\n",
       "\t<tr><td> 5.477387</td><td>1.1976258</td><td>0.8479134</td><td>1.691573</td></tr>\n",
       "\t<tr><td> 5.974874</td><td>1.1387081</td><td>0.8606215</td><td>1.506651</td></tr>\n",
       "\t<tr><td> 6.472362</td><td>1.0922546</td><td>0.8738818</td><td>1.365196</td></tr>\n",
       "\t<tr><td> 6.969849</td><td>1.0564027</td><td>0.8877921</td><td>1.257036</td></tr>\n",
       "\t<tr><td> 7.467337</td><td>1.0296824</td><td>0.9024920</td><td>1.174798</td></tr>\n",
       "\t<tr><td> 7.964824</td><td>1.0109258</td><td>0.9181780</td><td>1.113042</td></tr>\n",
       "\t<tr><td> 8.462312</td><td>0.9991979</td><td>0.9351223</td><td>1.067664</td></tr>\n",
       "\t<tr><td> 8.959799</td><td>0.9937427</td><td>0.9536922</td><td>1.035475</td></tr>\n",
       "\t<tr><td> 9.457286</td><td>0.9939409</td><td>0.9743640</td><td>1.013911</td></tr>\n",
       "\t<tr><td> 9.954774</td><td>0.9992760</td><td>0.9977210</td><td>1.000834</td></tr>\n",
       "\t<tr><td>10.452261</td><td>1.0093054</td><td>0.9944085</td><td>1.024426</td></tr>\n",
       "\t<tr><td>10.949749</td><td>1.0236371</td><td>0.9930556</td><td>1.055160</td></tr>\n",
       "\t<tr><td>11.447236</td><td>1.0419087</td><td>0.9954369</td><td>1.090550</td></tr>\n",
       "\t<tr><td>11.944724</td><td>1.0637697</td><td>1.0004600</td><td>1.131086</td></tr>\n",
       "\t<tr><td>12.442211</td><td>1.0888646</td><td>1.0072689</td><td>1.177070</td></tr>\n",
       "\t<tr><td>12.939698</td><td>1.1168180</td><td>1.0152163</td><td>1.228588</td></tr>\n",
       "\t<tr><td>13.437186</td><td>1.1472215</td><td>1.0238218</td><td>1.285494</td></tr>\n",
       "\t<tr><td>13.934673</td><td>1.1796209</td><td>1.0327289</td><td>1.347406</td></tr>\n",
       "\t<tr><td>14.432161</td><td>1.2135062</td><td>1.0416663</td><td>1.413694</td></tr>\n",
       "\t<tr><td>14.929648</td><td>1.2483025</td><td>1.0504182</td><td>1.483466</td></tr>\n",
       "\t<tr><td>15.427136</td><td>1.2834356</td><td>1.0588276</td><td>1.555690</td></tr>\n",
       "\t<tr><td>⋮</td><td>⋮</td><td>⋮</td><td>⋮</td></tr>\n",
       "\t<tr><td> 85.57286</td><td>0.6131105</td><td>0.13661808</td><td>2.751499</td></tr>\n",
       "\t<tr><td> 86.07035</td><td>0.5976843</td><td>0.13072424</td><td>2.732672</td></tr>\n",
       "\t<tr><td> 86.56784</td><td>0.5825847</td><td>0.12504873</td><td>2.714181</td></tr>\n",
       "\t<tr><td> 87.06533</td><td>0.5678088</td><td>0.11958627</td><td>2.696019</td></tr>\n",
       "\t<tr><td> 87.56281</td><td>0.5533535</td><td>0.11433148</td><td>2.678178</td></tr>\n",
       "\t<tr><td> 88.06030</td><td>0.5392153</td><td>0.10927893</td><td>2.660652</td></tr>\n",
       "\t<tr><td> 88.55779</td><td>0.5253909</td><td>0.10442316</td><td>2.643433</td></tr>\n",
       "\t<tr><td> 89.05528</td><td>0.5118766</td><td>0.09975867</td><td>2.626515</td></tr>\n",
       "\t<tr><td> 89.55276</td><td>0.4986685</td><td>0.09527993</td><td>2.609891</td></tr>\n",
       "\t<tr><td> 90.05025</td><td>0.4857628</td><td>0.09098144</td><td>2.593556</td></tr>\n",
       "\t<tr><td> 90.54774</td><td>0.4731554</td><td>0.08685771</td><td>2.577504</td></tr>\n",
       "\t<tr><td> 91.04523</td><td>0.4608423</td><td>0.08290328</td><td>2.561728</td></tr>\n",
       "\t<tr><td> 91.54271</td><td>0.4488191</td><td>0.07911273</td><td>2.546223</td></tr>\n",
       "\t<tr><td> 92.04020</td><td>0.4370817</td><td>0.07548070</td><td>2.530983</td></tr>\n",
       "\t<tr><td> 92.53769</td><td>0.4256255</td><td>0.07200190</td><td>2.516004</td></tr>\n",
       "\t<tr><td> 93.03518</td><td>0.4144462</td><td>0.06867109</td><td>2.501280</td></tr>\n",
       "\t<tr><td> 93.53266</td><td>0.4035392</td><td>0.06548312</td><td>2.486807</td></tr>\n",
       "\t<tr><td> 94.03015</td><td>0.3929000</td><td>0.06243294</td><td>2.472579</td></tr>\n",
       "\t<tr><td> 94.52764</td><td>0.3825240</td><td>0.05951558</td><td>2.458593</td></tr>\n",
       "\t<tr><td> 95.02513</td><td>0.3724066</td><td>0.05672618</td><td>2.444844</td></tr>\n",
       "\t<tr><td> 95.52261</td><td>0.3625431</td><td>0.05405997</td><td>2.431328</td></tr>\n",
       "\t<tr><td> 96.02010</td><td>0.3529289</td><td>0.05151229</td><td>2.418041</td></tr>\n",
       "\t<tr><td> 96.51759</td><td>0.3435593</td><td>0.04907861</td><td>2.404979</td></tr>\n",
       "\t<tr><td> 97.01508</td><td>0.3344296</td><td>0.04675449</td><td>2.392138</td></tr>\n",
       "\t<tr><td> 97.51256</td><td>0.3255352</td><td>0.04453562</td><td>2.379515</td></tr>\n",
       "\t<tr><td> 98.01005</td><td>0.3168714</td><td>0.04241780</td><td>2.367107</td></tr>\n",
       "\t<tr><td> 98.50754</td><td>0.3084335</td><td>0.04039696</td><td>2.354910</td></tr>\n",
       "\t<tr><td> 99.00503</td><td>0.3002169</td><td>0.03846913</td><td>2.342921</td></tr>\n",
       "\t<tr><td> 99.50251</td><td>0.2922169</td><td>0.03663049</td><td>2.331138</td></tr>\n",
       "\t<tr><td>100.00000</td><td>0.2844291</td><td>0.03487731</td><td>2.319557</td></tr>\n",
       "</tbody>\n",
       "</table>\n"
      ],
      "text/latex": [
       "A Predict: 200 × 4\n",
       "\\begin{tabular}{llll}\n",
       " pre\\_dose\\_val\\_rx & yhat & lower & upper\\\\\n",
       " <dbl> & <dbl> & <dbl> & <dbl>\\\\\n",
       "\\hline\n",
       "\t  1.000000 & 2.5057008 & 0.7449735 & 8.427865\\\\\n",
       "\t  1.497487 & 2.2886913 & 0.7560270 & 6.928467\\\\\n",
       "\t  1.994975 & 2.0904763 & 0.7671661 & 5.696408\\\\\n",
       "\t  2.492462 & 1.9094500 & 0.7783621 & 4.684194\\\\\n",
       "\t  2.989950 & 1.7453270 & 0.7896001 & 3.857860\\\\\n",
       "\t  3.487437 & 1.5992082 & 0.8009031 & 3.193229\\\\\n",
       "\t  3.984925 & 1.4715862 & 0.8123072 & 2.665945\\\\\n",
       "\t  4.482412 & 1.3624224 & 0.8238693 & 2.253021\\\\\n",
       "\t  4.979899 & 1.2713818 & 0.8356891 & 1.934226\\\\\n",
       "\t  5.477387 & 1.1976258 & 0.8479134 & 1.691573\\\\\n",
       "\t  5.974874 & 1.1387081 & 0.8606215 & 1.506651\\\\\n",
       "\t  6.472362 & 1.0922546 & 0.8738818 & 1.365196\\\\\n",
       "\t  6.969849 & 1.0564027 & 0.8877921 & 1.257036\\\\\n",
       "\t  7.467337 & 1.0296824 & 0.9024920 & 1.174798\\\\\n",
       "\t  7.964824 & 1.0109258 & 0.9181780 & 1.113042\\\\\n",
       "\t  8.462312 & 0.9991979 & 0.9351223 & 1.067664\\\\\n",
       "\t  8.959799 & 0.9937427 & 0.9536922 & 1.035475\\\\\n",
       "\t  9.457286 & 0.9939409 & 0.9743640 & 1.013911\\\\\n",
       "\t  9.954774 & 0.9992760 & 0.9977210 & 1.000834\\\\\n",
       "\t 10.452261 & 1.0093054 & 0.9944085 & 1.024426\\\\\n",
       "\t 10.949749 & 1.0236371 & 0.9930556 & 1.055160\\\\\n",
       "\t 11.447236 & 1.0419087 & 0.9954369 & 1.090550\\\\\n",
       "\t 11.944724 & 1.0637697 & 1.0004600 & 1.131086\\\\\n",
       "\t 12.442211 & 1.0888646 & 1.0072689 & 1.177070\\\\\n",
       "\t 12.939698 & 1.1168180 & 1.0152163 & 1.228588\\\\\n",
       "\t 13.437186 & 1.1472215 & 1.0238218 & 1.285494\\\\\n",
       "\t 13.934673 & 1.1796209 & 1.0327289 & 1.347406\\\\\n",
       "\t 14.432161 & 1.2135062 & 1.0416663 & 1.413694\\\\\n",
       "\t 14.929648 & 1.2483025 & 1.0504182 & 1.483466\\\\\n",
       "\t 15.427136 & 1.2834356 & 1.0588276 & 1.555690\\\\\n",
       "\t ⋮ & ⋮ & ⋮ & ⋮\\\\\n",
       "\t  85.57286 & 0.6131105 & 0.13661808 & 2.751499\\\\\n",
       "\t  86.07035 & 0.5976843 & 0.13072424 & 2.732672\\\\\n",
       "\t  86.56784 & 0.5825847 & 0.12504873 & 2.714181\\\\\n",
       "\t  87.06533 & 0.5678088 & 0.11958627 & 2.696019\\\\\n",
       "\t  87.56281 & 0.5533535 & 0.11433148 & 2.678178\\\\\n",
       "\t  88.06030 & 0.5392153 & 0.10927893 & 2.660652\\\\\n",
       "\t  88.55779 & 0.5253909 & 0.10442316 & 2.643433\\\\\n",
       "\t  89.05528 & 0.5118766 & 0.09975867 & 2.626515\\\\\n",
       "\t  89.55276 & 0.4986685 & 0.09527993 & 2.609891\\\\\n",
       "\t  90.05025 & 0.4857628 & 0.09098144 & 2.593556\\\\\n",
       "\t  90.54774 & 0.4731554 & 0.08685771 & 2.577504\\\\\n",
       "\t  91.04523 & 0.4608423 & 0.08290328 & 2.561728\\\\\n",
       "\t  91.54271 & 0.4488191 & 0.07911273 & 2.546223\\\\\n",
       "\t  92.04020 & 0.4370817 & 0.07548070 & 2.530983\\\\\n",
       "\t  92.53769 & 0.4256255 & 0.07200190 & 2.516004\\\\\n",
       "\t  93.03518 & 0.4144462 & 0.06867109 & 2.501280\\\\\n",
       "\t  93.53266 & 0.4035392 & 0.06548312 & 2.486807\\\\\n",
       "\t  94.03015 & 0.3929000 & 0.06243294 & 2.472579\\\\\n",
       "\t  94.52764 & 0.3825240 & 0.05951558 & 2.458593\\\\\n",
       "\t  95.02513 & 0.3724066 & 0.05672618 & 2.444844\\\\\n",
       "\t  95.52261 & 0.3625431 & 0.05405997 & 2.431328\\\\\n",
       "\t  96.02010 & 0.3529289 & 0.05151229 & 2.418041\\\\\n",
       "\t  96.51759 & 0.3435593 & 0.04907861 & 2.404979\\\\\n",
       "\t  97.01508 & 0.3344296 & 0.04675449 & 2.392138\\\\\n",
       "\t  97.51256 & 0.3255352 & 0.04453562 & 2.379515\\\\\n",
       "\t  98.01005 & 0.3168714 & 0.04241780 & 2.367107\\\\\n",
       "\t  98.50754 & 0.3084335 & 0.04039696 & 2.354910\\\\\n",
       "\t  99.00503 & 0.3002169 & 0.03846913 & 2.342921\\\\\n",
       "\t  99.50251 & 0.2922169 & 0.03663049 & 2.331138\\\\\n",
       "\t 100.00000 & 0.2844291 & 0.03487731 & 2.319557\\\\\n",
       "\\end{tabular}\n"
      ],
      "text/markdown": [
       "\n",
       "A Predict: 200 × 4\n",
       "\n",
       "| pre_dose_val_rx &lt;dbl&gt; | yhat &lt;dbl&gt; | lower &lt;dbl&gt; | upper &lt;dbl&gt; |\n",
       "|---|---|---|---|\n",
       "|  1.000000 | 2.5057008 | 0.7449735 | 8.427865 |\n",
       "|  1.497487 | 2.2886913 | 0.7560270 | 6.928467 |\n",
       "|  1.994975 | 2.0904763 | 0.7671661 | 5.696408 |\n",
       "|  2.492462 | 1.9094500 | 0.7783621 | 4.684194 |\n",
       "|  2.989950 | 1.7453270 | 0.7896001 | 3.857860 |\n",
       "|  3.487437 | 1.5992082 | 0.8009031 | 3.193229 |\n",
       "|  3.984925 | 1.4715862 | 0.8123072 | 2.665945 |\n",
       "|  4.482412 | 1.3624224 | 0.8238693 | 2.253021 |\n",
       "|  4.979899 | 1.2713818 | 0.8356891 | 1.934226 |\n",
       "|  5.477387 | 1.1976258 | 0.8479134 | 1.691573 |\n",
       "|  5.974874 | 1.1387081 | 0.8606215 | 1.506651 |\n",
       "|  6.472362 | 1.0922546 | 0.8738818 | 1.365196 |\n",
       "|  6.969849 | 1.0564027 | 0.8877921 | 1.257036 |\n",
       "|  7.467337 | 1.0296824 | 0.9024920 | 1.174798 |\n",
       "|  7.964824 | 1.0109258 | 0.9181780 | 1.113042 |\n",
       "|  8.462312 | 0.9991979 | 0.9351223 | 1.067664 |\n",
       "|  8.959799 | 0.9937427 | 0.9536922 | 1.035475 |\n",
       "|  9.457286 | 0.9939409 | 0.9743640 | 1.013911 |\n",
       "|  9.954774 | 0.9992760 | 0.9977210 | 1.000834 |\n",
       "| 10.452261 | 1.0093054 | 0.9944085 | 1.024426 |\n",
       "| 10.949749 | 1.0236371 | 0.9930556 | 1.055160 |\n",
       "| 11.447236 | 1.0419087 | 0.9954369 | 1.090550 |\n",
       "| 11.944724 | 1.0637697 | 1.0004600 | 1.131086 |\n",
       "| 12.442211 | 1.0888646 | 1.0072689 | 1.177070 |\n",
       "| 12.939698 | 1.1168180 | 1.0152163 | 1.228588 |\n",
       "| 13.437186 | 1.1472215 | 1.0238218 | 1.285494 |\n",
       "| 13.934673 | 1.1796209 | 1.0327289 | 1.347406 |\n",
       "| 14.432161 | 1.2135062 | 1.0416663 | 1.413694 |\n",
       "| 14.929648 | 1.2483025 | 1.0504182 | 1.483466 |\n",
       "| 15.427136 | 1.2834356 | 1.0588276 | 1.555690 |\n",
       "| ⋮ | ⋮ | ⋮ | ⋮ |\n",
       "|  85.57286 | 0.6131105 | 0.13661808 | 2.751499 |\n",
       "|  86.07035 | 0.5976843 | 0.13072424 | 2.732672 |\n",
       "|  86.56784 | 0.5825847 | 0.12504873 | 2.714181 |\n",
       "|  87.06533 | 0.5678088 | 0.11958627 | 2.696019 |\n",
       "|  87.56281 | 0.5533535 | 0.11433148 | 2.678178 |\n",
       "|  88.06030 | 0.5392153 | 0.10927893 | 2.660652 |\n",
       "|  88.55779 | 0.5253909 | 0.10442316 | 2.643433 |\n",
       "|  89.05528 | 0.5118766 | 0.09975867 | 2.626515 |\n",
       "|  89.55276 | 0.4986685 | 0.09527993 | 2.609891 |\n",
       "|  90.05025 | 0.4857628 | 0.09098144 | 2.593556 |\n",
       "|  90.54774 | 0.4731554 | 0.08685771 | 2.577504 |\n",
       "|  91.04523 | 0.4608423 | 0.08290328 | 2.561728 |\n",
       "|  91.54271 | 0.4488191 | 0.07911273 | 2.546223 |\n",
       "|  92.04020 | 0.4370817 | 0.07548070 | 2.530983 |\n",
       "|  92.53769 | 0.4256255 | 0.07200190 | 2.516004 |\n",
       "|  93.03518 | 0.4144462 | 0.06867109 | 2.501280 |\n",
       "|  93.53266 | 0.4035392 | 0.06548312 | 2.486807 |\n",
       "|  94.03015 | 0.3929000 | 0.06243294 | 2.472579 |\n",
       "|  94.52764 | 0.3825240 | 0.05951558 | 2.458593 |\n",
       "|  95.02513 | 0.3724066 | 0.05672618 | 2.444844 |\n",
       "|  95.52261 | 0.3625431 | 0.05405997 | 2.431328 |\n",
       "|  96.02010 | 0.3529289 | 0.05151229 | 2.418041 |\n",
       "|  96.51759 | 0.3435593 | 0.04907861 | 2.404979 |\n",
       "|  97.01508 | 0.3344296 | 0.04675449 | 2.392138 |\n",
       "|  97.51256 | 0.3255352 | 0.04453562 | 2.379515 |\n",
       "|  98.01005 | 0.3168714 | 0.04241780 | 2.367107 |\n",
       "|  98.50754 | 0.3084335 | 0.04039696 | 2.354910 |\n",
       "|  99.00503 | 0.3002169 | 0.03846913 | 2.342921 |\n",
       "|  99.50251 | 0.2922169 | 0.03663049 | 2.331138 |\n",
       "| 100.00000 | 0.2844291 | 0.03487731 | 2.319557 |\n",
       "\n"
      ],
      "text/plain": [
       "    pre_dose_val_rx yhat      lower      upper   \n",
       "1    1.000000       2.5057008 0.7449735  8.427865\n",
       "2    1.497487       2.2886913 0.7560270  6.928467\n",
       "3    1.994975       2.0904763 0.7671661  5.696408\n",
       "4    2.492462       1.9094500 0.7783621  4.684194\n",
       "5    2.989950       1.7453270 0.7896001  3.857860\n",
       "6    3.487437       1.5992082 0.8009031  3.193229\n",
       "7    3.984925       1.4715862 0.8123072  2.665945\n",
       "8    4.482412       1.3624224 0.8238693  2.253021\n",
       "9    4.979899       1.2713818 0.8356891  1.934226\n",
       "10   5.477387       1.1976258 0.8479134  1.691573\n",
       "11   5.974874       1.1387081 0.8606215  1.506651\n",
       "12   6.472362       1.0922546 0.8738818  1.365196\n",
       "13   6.969849       1.0564027 0.8877921  1.257036\n",
       "14   7.467337       1.0296824 0.9024920  1.174798\n",
       "15   7.964824       1.0109258 0.9181780  1.113042\n",
       "16   8.462312       0.9991979 0.9351223  1.067664\n",
       "17   8.959799       0.9937427 0.9536922  1.035475\n",
       "18   9.457286       0.9939409 0.9743640  1.013911\n",
       "19   9.954774       0.9992760 0.9977210  1.000834\n",
       "20  10.452261       1.0093054 0.9944085  1.024426\n",
       "21  10.949749       1.0236371 0.9930556  1.055160\n",
       "22  11.447236       1.0419087 0.9954369  1.090550\n",
       "23  11.944724       1.0637697 1.0004600  1.131086\n",
       "24  12.442211       1.0888646 1.0072689  1.177070\n",
       "25  12.939698       1.1168180 1.0152163  1.228588\n",
       "26  13.437186       1.1472215 1.0238218  1.285494\n",
       "27  13.934673       1.1796209 1.0327289  1.347406\n",
       "28  14.432161       1.2135062 1.0416663  1.413694\n",
       "29  14.929648       1.2483025 1.0504182  1.483466\n",
       "30  15.427136       1.2834356 1.0588276  1.555690\n",
       "⋮   ⋮               ⋮         ⋮          ⋮       \n",
       "171  85.57286       0.6131105 0.13661808 2.751499\n",
       "172  86.07035       0.5976843 0.13072424 2.732672\n",
       "173  86.56784       0.5825847 0.12504873 2.714181\n",
       "174  87.06533       0.5678088 0.11958627 2.696019\n",
       "175  87.56281       0.5533535 0.11433148 2.678178\n",
       "176  88.06030       0.5392153 0.10927893 2.660652\n",
       "177  88.55779       0.5253909 0.10442316 2.643433\n",
       "178  89.05528       0.5118766 0.09975867 2.626515\n",
       "179  89.55276       0.4986685 0.09527993 2.609891\n",
       "180  90.05025       0.4857628 0.09098144 2.593556\n",
       "181  90.54774       0.4731554 0.08685771 2.577504\n",
       "182  91.04523       0.4608423 0.08290328 2.561728\n",
       "183  91.54271       0.4488191 0.07911273 2.546223\n",
       "184  92.04020       0.4370817 0.07548070 2.530983\n",
       "185  92.53769       0.4256255 0.07200190 2.516004\n",
       "186  93.03518       0.4144462 0.06867109 2.501280\n",
       "187  93.53266       0.4035392 0.06548312 2.486807\n",
       "188  94.03015       0.3929000 0.06243294 2.472579\n",
       "189  94.52764       0.3825240 0.05951558 2.458593\n",
       "190  95.02513       0.3724066 0.05672618 2.444844\n",
       "191  95.52261       0.3625431 0.05405997 2.431328\n",
       "192  96.02010       0.3529289 0.05151229 2.418041\n",
       "193  96.51759       0.3435593 0.04907861 2.404979\n",
       "194  97.01508       0.3344296 0.04675449 2.392138\n",
       "195  97.51256       0.3255352 0.04453562 2.379515\n",
       "196  98.01005       0.3168714 0.04241780 2.367107\n",
       "197  98.50754       0.3084335 0.04039696 2.354910\n",
       "198  99.00503       0.3002169 0.03846913 2.342921\n",
       "199  99.50251       0.2922169 0.03663049 2.331138\n",
       "200 100.00000       0.2844291 0.03487731 2.319557"
      ]
     },
     "metadata": {},
     "output_type": "display_data"
    },
    {
     "data": {
      "text/html": [
       "<style>\n",
       ".list-inline {list-style: none; margin:0; padding: 0}\n",
       ".list-inline>li {display: inline-block}\n",
       ".list-inline>li:not(:last-child)::after {content: \"\\00b7\"; padding: 0 .5ex}\n",
       "</style>\n",
       "<ol class=list-inline><li>'pre_dose_val_rx'</li><li>'yhat'</li><li>'lower'</li><li>'upper'</li></ol>\n"
      ],
      "text/latex": [
       "\\begin{enumerate*}\n",
       "\\item 'pre\\_dose\\_val\\_rx'\n",
       "\\item 'yhat'\n",
       "\\item 'lower'\n",
       "\\item 'upper'\n",
       "\\end{enumerate*}\n"
      ],
      "text/markdown": [
       "1. 'pre_dose_val_rx'\n",
       "2. 'yhat'\n",
       "3. 'lower'\n",
       "4. 'upper'\n",
       "\n",
       "\n"
      ],
      "text/plain": [
       "[1] \"pre_dose_val_rx\" \"yhat\"            \"lower\"           \"upper\"          "
      ]
     },
     "metadata": {},
     "output_type": "display_data"
    }
   ],
   "source": [
    "\n",
    "HR<-Predict(m3, pre_dose_val_rx,fun=exp,ref.zero = TRUE ) \n",
    "View(HR)\n",
    "colnames(HR)\n"
   ]
  },
  {
   "cell_type": "code",
   "execution_count": 105,
   "metadata": {
    "vscode": {
     "languageId": "r"
    }
   },
   "outputs": [
    {
     "data": {
      "text/html": [
       "<table class=\"dataframe\">\n",
       "<caption>A Predict: 78 × 4</caption>\n",
       "<thead>\n",
       "\t<tr><th></th><th scope=col>pre_dose_val_rx</th><th scope=col>yhat</th><th scope=col>lower</th><th scope=col>upper</th></tr>\n",
       "\t<tr><th></th><th scope=col>&lt;dbl&gt;</th><th scope=col>&lt;dbl&gt;</th><th scope=col>&lt;dbl&gt;</th><th scope=col>&lt;dbl&gt;</th></tr>\n",
       "</thead>\n",
       "<tbody>\n",
       "\t<tr><th scope=row>23</th><td>11.94472</td><td>1.063770</td><td>1.000460</td><td>1.131086</td></tr>\n",
       "\t<tr><th scope=row>24</th><td>12.44221</td><td>1.088865</td><td>1.007269</td><td>1.177070</td></tr>\n",
       "\t<tr><th scope=row>25</th><td>12.93970</td><td>1.116818</td><td>1.015216</td><td>1.228588</td></tr>\n",
       "\t<tr><th scope=row>26</th><td>13.43719</td><td>1.147221</td><td>1.023822</td><td>1.285494</td></tr>\n",
       "\t<tr><th scope=row>27</th><td>13.93467</td><td>1.179621</td><td>1.032729</td><td>1.347406</td></tr>\n",
       "\t<tr><th scope=row>28</th><td>14.43216</td><td>1.213506</td><td>1.041666</td><td>1.413694</td></tr>\n",
       "\t<tr><th scope=row>29</th><td>14.92965</td><td>1.248303</td><td>1.050418</td><td>1.483466</td></tr>\n",
       "\t<tr><th scope=row>30</th><td>15.42714</td><td>1.283436</td><td>1.058828</td><td>1.555690</td></tr>\n",
       "\t<tr><th scope=row>31</th><td>15.92462</td><td>1.318713</td><td>1.066901</td><td>1.629958</td></tr>\n",
       "\t<tr><th scope=row>32</th><td>16.42211</td><td>1.354097</td><td>1.074685</td><td>1.706155</td></tr>\n",
       "\t<tr><th scope=row>33</th><td>16.91960</td><td>1.389551</td><td>1.082209</td><td>1.784176</td></tr>\n",
       "\t<tr><th scope=row>34</th><td>17.41709</td><td>1.425036</td><td>1.089493</td><td>1.863921</td></tr>\n",
       "\t<tr><th scope=row>35</th><td>17.91457</td><td>1.460514</td><td>1.096547</td><td>1.945288</td></tr>\n",
       "\t<tr><th scope=row>36</th><td>18.41206</td><td>1.495944</td><td>1.103382</td><td>2.028173</td></tr>\n",
       "\t<tr><th scope=row>37</th><td>18.90955</td><td>1.531287</td><td>1.110000</td><td>2.112468</td></tr>\n",
       "\t<tr><th scope=row>38</th><td>19.40704</td><td>1.566503</td><td>1.116407</td><td>2.198063</td></tr>\n",
       "\t<tr><th scope=row>39</th><td>19.90452</td><td>1.601551</td><td>1.122602</td><td>2.284841</td></tr>\n",
       "\t<tr><th scope=row>40</th><td>20.40201</td><td>1.636390</td><td>1.128586</td><td>2.372680</td></tr>\n",
       "\t<tr><th scope=row>41</th><td>20.89950</td><td>1.670979</td><td>1.134358</td><td>2.461455</td></tr>\n",
       "\t<tr><th scope=row>42</th><td>21.39698</td><td>1.705278</td><td>1.139917</td><td>2.551037</td></tr>\n",
       "\t<tr><th scope=row>43</th><td>21.89447</td><td>1.739244</td><td>1.145262</td><td>2.641290</td></tr>\n",
       "\t<tr><th scope=row>44</th><td>22.39196</td><td>1.772838</td><td>1.150390</td><td>2.732076</td></tr>\n",
       "\t<tr><th scope=row>45</th><td>22.88945</td><td>1.806019</td><td>1.155300</td><td>2.823254</td></tr>\n",
       "\t<tr><th scope=row>46</th><td>23.38693</td><td>1.838747</td><td>1.159987</td><td>2.914678</td></tr>\n",
       "\t<tr><th scope=row>47</th><td>23.88442</td><td>1.870981</td><td>1.164451</td><td>3.006199</td></tr>\n",
       "\t<tr><th scope=row>48</th><td>24.38191</td><td>1.902684</td><td>1.168687</td><td>3.097669</td></tr>\n",
       "\t<tr><th scope=row>49</th><td>24.87940</td><td>1.933816</td><td>1.172694</td><td>3.188935</td></tr>\n",
       "\t<tr><th scope=row>50</th><td>25.37688</td><td>1.964339</td><td>1.176467</td><td>3.279844</td></tr>\n",
       "\t<tr><th scope=row>51</th><td>25.87437</td><td>1.994217</td><td>1.180005</td><td>3.370242</td></tr>\n",
       "\t<tr><th scope=row>52</th><td>26.37186</td><td>2.023413</td><td>1.183303</td><td>3.459976</td></tr>\n",
       "\t<tr><th scope=row>⋮</th><td>⋮</td><td>⋮</td><td>⋮</td><td>⋮</td></tr>\n",
       "\t<tr><th scope=row>71</th><td>35.82412</td><td>2.409144</td><td>1.196439</td><td>4.851038</td></tr>\n",
       "\t<tr><th scope=row>72</th><td>36.32161</td><td>2.419033</td><td>1.194320</td><td>4.899627</td></tr>\n",
       "\t<tr><th scope=row>73</th><td>36.81910</td><td>2.427792</td><td>1.191900</td><td>4.945190</td></tr>\n",
       "\t<tr><th scope=row>74</th><td>37.31658</td><td>2.435417</td><td>1.189179</td><td>4.987688</td></tr>\n",
       "\t<tr><th scope=row>75</th><td>37.81407</td><td>2.441906</td><td>1.186154</td><td>5.027091</td></tr>\n",
       "\t<tr><th scope=row>76</th><td>38.31156</td><td>2.447260</td><td>1.182823</td><td>5.063376</td></tr>\n",
       "\t<tr><th scope=row>77</th><td>38.80905</td><td>2.451479</td><td>1.179185</td><td>5.096530</td></tr>\n",
       "\t<tr><th scope=row>78</th><td>39.30653</td><td>2.454568</td><td>1.175236</td><td>5.126548</td></tr>\n",
       "\t<tr><th scope=row>79</th><td>39.80402</td><td>2.456532</td><td>1.170977</td><td>5.153431</td></tr>\n",
       "\t<tr><th scope=row>80</th><td>40.30151</td><td>2.457376</td><td>1.166404</td><td>5.177189</td></tr>\n",
       "\t<tr><th scope=row>81</th><td>40.79899</td><td>2.457109</td><td>1.161518</td><td>5.197841</td></tr>\n",
       "\t<tr><th scope=row>82</th><td>41.29648</td><td>2.455741</td><td>1.156316</td><td>5.215411</td></tr>\n",
       "\t<tr><th scope=row>83</th><td>41.79397</td><td>2.453283</td><td>1.150798</td><td>5.229932</td></tr>\n",
       "\t<tr><th scope=row>84</th><td>42.29146</td><td>2.449747</td><td>1.144963</td><td>5.241443</td></tr>\n",
       "\t<tr><th scope=row>85</th><td>42.78894</td><td>2.445147</td><td>1.138810</td><td>5.249990</td></tr>\n",
       "\t<tr><th scope=row>86</th><td>43.28643</td><td>2.439498</td><td>1.132339</td><td>5.255625</td></tr>\n",
       "\t<tr><th scope=row>87</th><td>43.78392</td><td>2.432817</td><td>1.125550</td><td>5.258407</td></tr>\n",
       "\t<tr><th scope=row>88</th><td>44.28141</td><td>2.425121</td><td>1.118442</td><td>5.258399</td></tr>\n",
       "\t<tr><th scope=row>89</th><td>44.77889</td><td>2.416430</td><td>1.111016</td><td>5.255671</td></tr>\n",
       "\t<tr><th scope=row>90</th><td>45.27638</td><td>2.406764</td><td>1.103273</td><td>5.250296</td></tr>\n",
       "\t<tr><th scope=row>91</th><td>45.77387</td><td>2.396142</td><td>1.095213</td><td>5.242354</td></tr>\n",
       "\t<tr><th scope=row>92</th><td>46.27136</td><td>2.384588</td><td>1.086839</td><td>5.231926</td></tr>\n",
       "\t<tr><th scope=row>93</th><td>46.76884</td><td>2.372124</td><td>1.078150</td><td>5.219099</td></tr>\n",
       "\t<tr><th scope=row>94</th><td>47.26633</td><td>2.358774</td><td>1.069149</td><td>5.203963</td></tr>\n",
       "\t<tr><th scope=row>95</th><td>47.76382</td><td>2.344562</td><td>1.059839</td><td>5.186610</td></tr>\n",
       "\t<tr><th scope=row>96</th><td>48.26131</td><td>2.329514</td><td>1.050221</td><td>5.167136</td></tr>\n",
       "\t<tr><th scope=row>97</th><td>48.75879</td><td>2.313656</td><td>1.040300</td><td>5.145637</td></tr>\n",
       "\t<tr><th scope=row>98</th><td>49.25628</td><td>2.297014</td><td>1.030077</td><td>5.122212</td></tr>\n",
       "\t<tr><th scope=row>99</th><td>49.75377</td><td>2.279616</td><td>1.019558</td><td>5.096962</td></tr>\n",
       "\t<tr><th scope=row>100</th><td>50.25126</td><td>2.261489</td><td>1.008746</td><td>5.069987</td></tr>\n",
       "</tbody>\n",
       "</table>\n"
      ],
      "text/latex": [
       "A Predict: 78 × 4\n",
       "\\begin{tabular}{r|llll}\n",
       "  & pre\\_dose\\_val\\_rx & yhat & lower & upper\\\\\n",
       "  & <dbl> & <dbl> & <dbl> & <dbl>\\\\\n",
       "\\hline\n",
       "\t23 & 11.94472 & 1.063770 & 1.000460 & 1.131086\\\\\n",
       "\t24 & 12.44221 & 1.088865 & 1.007269 & 1.177070\\\\\n",
       "\t25 & 12.93970 & 1.116818 & 1.015216 & 1.228588\\\\\n",
       "\t26 & 13.43719 & 1.147221 & 1.023822 & 1.285494\\\\\n",
       "\t27 & 13.93467 & 1.179621 & 1.032729 & 1.347406\\\\\n",
       "\t28 & 14.43216 & 1.213506 & 1.041666 & 1.413694\\\\\n",
       "\t29 & 14.92965 & 1.248303 & 1.050418 & 1.483466\\\\\n",
       "\t30 & 15.42714 & 1.283436 & 1.058828 & 1.555690\\\\\n",
       "\t31 & 15.92462 & 1.318713 & 1.066901 & 1.629958\\\\\n",
       "\t32 & 16.42211 & 1.354097 & 1.074685 & 1.706155\\\\\n",
       "\t33 & 16.91960 & 1.389551 & 1.082209 & 1.784176\\\\\n",
       "\t34 & 17.41709 & 1.425036 & 1.089493 & 1.863921\\\\\n",
       "\t35 & 17.91457 & 1.460514 & 1.096547 & 1.945288\\\\\n",
       "\t36 & 18.41206 & 1.495944 & 1.103382 & 2.028173\\\\\n",
       "\t37 & 18.90955 & 1.531287 & 1.110000 & 2.112468\\\\\n",
       "\t38 & 19.40704 & 1.566503 & 1.116407 & 2.198063\\\\\n",
       "\t39 & 19.90452 & 1.601551 & 1.122602 & 2.284841\\\\\n",
       "\t40 & 20.40201 & 1.636390 & 1.128586 & 2.372680\\\\\n",
       "\t41 & 20.89950 & 1.670979 & 1.134358 & 2.461455\\\\\n",
       "\t42 & 21.39698 & 1.705278 & 1.139917 & 2.551037\\\\\n",
       "\t43 & 21.89447 & 1.739244 & 1.145262 & 2.641290\\\\\n",
       "\t44 & 22.39196 & 1.772838 & 1.150390 & 2.732076\\\\\n",
       "\t45 & 22.88945 & 1.806019 & 1.155300 & 2.823254\\\\\n",
       "\t46 & 23.38693 & 1.838747 & 1.159987 & 2.914678\\\\\n",
       "\t47 & 23.88442 & 1.870981 & 1.164451 & 3.006199\\\\\n",
       "\t48 & 24.38191 & 1.902684 & 1.168687 & 3.097669\\\\\n",
       "\t49 & 24.87940 & 1.933816 & 1.172694 & 3.188935\\\\\n",
       "\t50 & 25.37688 & 1.964339 & 1.176467 & 3.279844\\\\\n",
       "\t51 & 25.87437 & 1.994217 & 1.180005 & 3.370242\\\\\n",
       "\t52 & 26.37186 & 2.023413 & 1.183303 & 3.459976\\\\\n",
       "\t⋮ & ⋮ & ⋮ & ⋮ & ⋮\\\\\n",
       "\t71 & 35.82412 & 2.409144 & 1.196439 & 4.851038\\\\\n",
       "\t72 & 36.32161 & 2.419033 & 1.194320 & 4.899627\\\\\n",
       "\t73 & 36.81910 & 2.427792 & 1.191900 & 4.945190\\\\\n",
       "\t74 & 37.31658 & 2.435417 & 1.189179 & 4.987688\\\\\n",
       "\t75 & 37.81407 & 2.441906 & 1.186154 & 5.027091\\\\\n",
       "\t76 & 38.31156 & 2.447260 & 1.182823 & 5.063376\\\\\n",
       "\t77 & 38.80905 & 2.451479 & 1.179185 & 5.096530\\\\\n",
       "\t78 & 39.30653 & 2.454568 & 1.175236 & 5.126548\\\\\n",
       "\t79 & 39.80402 & 2.456532 & 1.170977 & 5.153431\\\\\n",
       "\t80 & 40.30151 & 2.457376 & 1.166404 & 5.177189\\\\\n",
       "\t81 & 40.79899 & 2.457109 & 1.161518 & 5.197841\\\\\n",
       "\t82 & 41.29648 & 2.455741 & 1.156316 & 5.215411\\\\\n",
       "\t83 & 41.79397 & 2.453283 & 1.150798 & 5.229932\\\\\n",
       "\t84 & 42.29146 & 2.449747 & 1.144963 & 5.241443\\\\\n",
       "\t85 & 42.78894 & 2.445147 & 1.138810 & 5.249990\\\\\n",
       "\t86 & 43.28643 & 2.439498 & 1.132339 & 5.255625\\\\\n",
       "\t87 & 43.78392 & 2.432817 & 1.125550 & 5.258407\\\\\n",
       "\t88 & 44.28141 & 2.425121 & 1.118442 & 5.258399\\\\\n",
       "\t89 & 44.77889 & 2.416430 & 1.111016 & 5.255671\\\\\n",
       "\t90 & 45.27638 & 2.406764 & 1.103273 & 5.250296\\\\\n",
       "\t91 & 45.77387 & 2.396142 & 1.095213 & 5.242354\\\\\n",
       "\t92 & 46.27136 & 2.384588 & 1.086839 & 5.231926\\\\\n",
       "\t93 & 46.76884 & 2.372124 & 1.078150 & 5.219099\\\\\n",
       "\t94 & 47.26633 & 2.358774 & 1.069149 & 5.203963\\\\\n",
       "\t95 & 47.76382 & 2.344562 & 1.059839 & 5.186610\\\\\n",
       "\t96 & 48.26131 & 2.329514 & 1.050221 & 5.167136\\\\\n",
       "\t97 & 48.75879 & 2.313656 & 1.040300 & 5.145637\\\\\n",
       "\t98 & 49.25628 & 2.297014 & 1.030077 & 5.122212\\\\\n",
       "\t99 & 49.75377 & 2.279616 & 1.019558 & 5.096962\\\\\n",
       "\t100 & 50.25126 & 2.261489 & 1.008746 & 5.069987\\\\\n",
       "\\end{tabular}\n"
      ],
      "text/markdown": [
       "\n",
       "A Predict: 78 × 4\n",
       "\n",
       "| <!--/--> | pre_dose_val_rx &lt;dbl&gt; | yhat &lt;dbl&gt; | lower &lt;dbl&gt; | upper &lt;dbl&gt; |\n",
       "|---|---|---|---|---|\n",
       "| 23 | 11.94472 | 1.063770 | 1.000460 | 1.131086 |\n",
       "| 24 | 12.44221 | 1.088865 | 1.007269 | 1.177070 |\n",
       "| 25 | 12.93970 | 1.116818 | 1.015216 | 1.228588 |\n",
       "| 26 | 13.43719 | 1.147221 | 1.023822 | 1.285494 |\n",
       "| 27 | 13.93467 | 1.179621 | 1.032729 | 1.347406 |\n",
       "| 28 | 14.43216 | 1.213506 | 1.041666 | 1.413694 |\n",
       "| 29 | 14.92965 | 1.248303 | 1.050418 | 1.483466 |\n",
       "| 30 | 15.42714 | 1.283436 | 1.058828 | 1.555690 |\n",
       "| 31 | 15.92462 | 1.318713 | 1.066901 | 1.629958 |\n",
       "| 32 | 16.42211 | 1.354097 | 1.074685 | 1.706155 |\n",
       "| 33 | 16.91960 | 1.389551 | 1.082209 | 1.784176 |\n",
       "| 34 | 17.41709 | 1.425036 | 1.089493 | 1.863921 |\n",
       "| 35 | 17.91457 | 1.460514 | 1.096547 | 1.945288 |\n",
       "| 36 | 18.41206 | 1.495944 | 1.103382 | 2.028173 |\n",
       "| 37 | 18.90955 | 1.531287 | 1.110000 | 2.112468 |\n",
       "| 38 | 19.40704 | 1.566503 | 1.116407 | 2.198063 |\n",
       "| 39 | 19.90452 | 1.601551 | 1.122602 | 2.284841 |\n",
       "| 40 | 20.40201 | 1.636390 | 1.128586 | 2.372680 |\n",
       "| 41 | 20.89950 | 1.670979 | 1.134358 | 2.461455 |\n",
       "| 42 | 21.39698 | 1.705278 | 1.139917 | 2.551037 |\n",
       "| 43 | 21.89447 | 1.739244 | 1.145262 | 2.641290 |\n",
       "| 44 | 22.39196 | 1.772838 | 1.150390 | 2.732076 |\n",
       "| 45 | 22.88945 | 1.806019 | 1.155300 | 2.823254 |\n",
       "| 46 | 23.38693 | 1.838747 | 1.159987 | 2.914678 |\n",
       "| 47 | 23.88442 | 1.870981 | 1.164451 | 3.006199 |\n",
       "| 48 | 24.38191 | 1.902684 | 1.168687 | 3.097669 |\n",
       "| 49 | 24.87940 | 1.933816 | 1.172694 | 3.188935 |\n",
       "| 50 | 25.37688 | 1.964339 | 1.176467 | 3.279844 |\n",
       "| 51 | 25.87437 | 1.994217 | 1.180005 | 3.370242 |\n",
       "| 52 | 26.37186 | 2.023413 | 1.183303 | 3.459976 |\n",
       "| ⋮ | ⋮ | ⋮ | ⋮ | ⋮ |\n",
       "| 71 | 35.82412 | 2.409144 | 1.196439 | 4.851038 |\n",
       "| 72 | 36.32161 | 2.419033 | 1.194320 | 4.899627 |\n",
       "| 73 | 36.81910 | 2.427792 | 1.191900 | 4.945190 |\n",
       "| 74 | 37.31658 | 2.435417 | 1.189179 | 4.987688 |\n",
       "| 75 | 37.81407 | 2.441906 | 1.186154 | 5.027091 |\n",
       "| 76 | 38.31156 | 2.447260 | 1.182823 | 5.063376 |\n",
       "| 77 | 38.80905 | 2.451479 | 1.179185 | 5.096530 |\n",
       "| 78 | 39.30653 | 2.454568 | 1.175236 | 5.126548 |\n",
       "| 79 | 39.80402 | 2.456532 | 1.170977 | 5.153431 |\n",
       "| 80 | 40.30151 | 2.457376 | 1.166404 | 5.177189 |\n",
       "| 81 | 40.79899 | 2.457109 | 1.161518 | 5.197841 |\n",
       "| 82 | 41.29648 | 2.455741 | 1.156316 | 5.215411 |\n",
       "| 83 | 41.79397 | 2.453283 | 1.150798 | 5.229932 |\n",
       "| 84 | 42.29146 | 2.449747 | 1.144963 | 5.241443 |\n",
       "| 85 | 42.78894 | 2.445147 | 1.138810 | 5.249990 |\n",
       "| 86 | 43.28643 | 2.439498 | 1.132339 | 5.255625 |\n",
       "| 87 | 43.78392 | 2.432817 | 1.125550 | 5.258407 |\n",
       "| 88 | 44.28141 | 2.425121 | 1.118442 | 5.258399 |\n",
       "| 89 | 44.77889 | 2.416430 | 1.111016 | 5.255671 |\n",
       "| 90 | 45.27638 | 2.406764 | 1.103273 | 5.250296 |\n",
       "| 91 | 45.77387 | 2.396142 | 1.095213 | 5.242354 |\n",
       "| 92 | 46.27136 | 2.384588 | 1.086839 | 5.231926 |\n",
       "| 93 | 46.76884 | 2.372124 | 1.078150 | 5.219099 |\n",
       "| 94 | 47.26633 | 2.358774 | 1.069149 | 5.203963 |\n",
       "| 95 | 47.76382 | 2.344562 | 1.059839 | 5.186610 |\n",
       "| 96 | 48.26131 | 2.329514 | 1.050221 | 5.167136 |\n",
       "| 97 | 48.75879 | 2.313656 | 1.040300 | 5.145637 |\n",
       "| 98 | 49.25628 | 2.297014 | 1.030077 | 5.122212 |\n",
       "| 99 | 49.75377 | 2.279616 | 1.019558 | 5.096962 |\n",
       "| 100 | 50.25126 | 2.261489 | 1.008746 | 5.069987 |\n",
       "\n"
      ],
      "text/plain": [
       "    pre_dose_val_rx yhat     lower    upper   \n",
       "23  11.94472        1.063770 1.000460 1.131086\n",
       "24  12.44221        1.088865 1.007269 1.177070\n",
       "25  12.93970        1.116818 1.015216 1.228588\n",
       "26  13.43719        1.147221 1.023822 1.285494\n",
       "27  13.93467        1.179621 1.032729 1.347406\n",
       "28  14.43216        1.213506 1.041666 1.413694\n",
       "29  14.92965        1.248303 1.050418 1.483466\n",
       "30  15.42714        1.283436 1.058828 1.555690\n",
       "31  15.92462        1.318713 1.066901 1.629958\n",
       "32  16.42211        1.354097 1.074685 1.706155\n",
       "33  16.91960        1.389551 1.082209 1.784176\n",
       "34  17.41709        1.425036 1.089493 1.863921\n",
       "35  17.91457        1.460514 1.096547 1.945288\n",
       "36  18.41206        1.495944 1.103382 2.028173\n",
       "37  18.90955        1.531287 1.110000 2.112468\n",
       "38  19.40704        1.566503 1.116407 2.198063\n",
       "39  19.90452        1.601551 1.122602 2.284841\n",
       "40  20.40201        1.636390 1.128586 2.372680\n",
       "41  20.89950        1.670979 1.134358 2.461455\n",
       "42  21.39698        1.705278 1.139917 2.551037\n",
       "43  21.89447        1.739244 1.145262 2.641290\n",
       "44  22.39196        1.772838 1.150390 2.732076\n",
       "45  22.88945        1.806019 1.155300 2.823254\n",
       "46  23.38693        1.838747 1.159987 2.914678\n",
       "47  23.88442        1.870981 1.164451 3.006199\n",
       "48  24.38191        1.902684 1.168687 3.097669\n",
       "49  24.87940        1.933816 1.172694 3.188935\n",
       "50  25.37688        1.964339 1.176467 3.279844\n",
       "51  25.87437        1.994217 1.180005 3.370242\n",
       "52  26.37186        2.023413 1.183303 3.459976\n",
       "⋮   ⋮               ⋮        ⋮        ⋮       \n",
       "71  35.82412        2.409144 1.196439 4.851038\n",
       "72  36.32161        2.419033 1.194320 4.899627\n",
       "73  36.81910        2.427792 1.191900 4.945190\n",
       "74  37.31658        2.435417 1.189179 4.987688\n",
       "75  37.81407        2.441906 1.186154 5.027091\n",
       "76  38.31156        2.447260 1.182823 5.063376\n",
       "77  38.80905        2.451479 1.179185 5.096530\n",
       "78  39.30653        2.454568 1.175236 5.126548\n",
       "79  39.80402        2.456532 1.170977 5.153431\n",
       "80  40.30151        2.457376 1.166404 5.177189\n",
       "81  40.79899        2.457109 1.161518 5.197841\n",
       "82  41.29648        2.455741 1.156316 5.215411\n",
       "83  41.79397        2.453283 1.150798 5.229932\n",
       "84  42.29146        2.449747 1.144963 5.241443\n",
       "85  42.78894        2.445147 1.138810 5.249990\n",
       "86  43.28643        2.439498 1.132339 5.255625\n",
       "87  43.78392        2.432817 1.125550 5.258407\n",
       "88  44.28141        2.425121 1.118442 5.258399\n",
       "89  44.77889        2.416430 1.111016 5.255671\n",
       "90  45.27638        2.406764 1.103273 5.250296\n",
       "91  45.77387        2.396142 1.095213 5.242354\n",
       "92  46.27136        2.384588 1.086839 5.231926\n",
       "93  46.76884        2.372124 1.078150 5.219099\n",
       "94  47.26633        2.358774 1.069149 5.203963\n",
       "95  47.76382        2.344562 1.059839 5.186610\n",
       "96  48.26131        2.329514 1.050221 5.167136\n",
       "97  48.75879        2.313656 1.040300 5.145637\n",
       "98  49.25628        2.297014 1.030077 5.122212\n",
       "99  49.75377        2.279616 1.019558 5.096962\n",
       "100 50.25126        2.261489 1.008746 5.069987"
      ]
     },
     "metadata": {},
     "output_type": "display_data"
    }
   ],
   "source": [
    "find_non_crossing_intervals <- function(df) {\n",
    "  df_filtered <- df[(df$lower > 1 & df$upper > 1) | (df$lower < 1 & df$upper < 1), ]\n",
    "  return(df_filtered)\n",
    "}\n",
    "\n",
    "HR_filtered <- find_non_crossing_intervals(HR)\n",
    "HR_filtered\n"
   ]
  },
  {
   "cell_type": "code",
   "execution_count": 106,
   "metadata": {
    "vscode": {
     "languageId": "r"
    }
   },
   "outputs": [
    {
     "name": "stdout",
     "output_type": "stream",
     "text": [
      "[1] 40.30151\n"
     ]
    }
   ],
   "source": [
    "# 找到HR的最大值对应的行\n",
    "max_HR_row <- HR_filtered[which.max(HR_filtered$yhat), ]\n",
    "\n",
    "# 从这一行中获取pre_dose_val_rx的值\n",
    "max_HR_pre_dose_val_rx <- max_HR_row$pre_dose_val_rx\n",
    "\n",
    "# 打印结果\n",
    "print(max_HR_pre_dose_val_rx)"
   ]
  },
  {
   "cell_type": "code",
   "execution_count": 107,
   "metadata": {
    "vscode": {
     "languageId": "r"
    }
   },
   "outputs": [
    {
     "data": {
      "image/png": "[encoded data removed]",
      "text/plain": [
       "plot without title"
      ]
     },
     "metadata": {
      "image/png": {
       "height": 420,
       "width": 420
      }
     },
     "output_type": "display_data"
    }
   ],
   "source": [
    "P1<-ggplot(HR)\n",
    "P1"
   ]
  },
  {
   "cell_type": "code",
   "execution_count": 108,
   "metadata": {
    "vscode": {
     "languageId": "r"
    }
   },
   "outputs": [
    {
     "data": {
      "text/html": [
       "<style>\n",
       ".list-inline {list-style: none; margin:0; padding: 0}\n",
       ".list-inline>li {display: inline-block}\n",
       ".list-inline>li:not(:last-child)::after {content: \"\\00b7\"; padding: 0 .5ex}\n",
       "</style>\n",
       "<ol class=list-inline><li>8.46231155778894</li><li>8.95979899497488</li><li>9.4572864321608</li><li>9.95477386934673</li><li>10.4522613065327</li><li>75.6231155778895</li></ol>\n"
      ],
      "text/latex": [
       "\\begin{enumerate*}\n",
       "\\item 8.46231155778894\n",
       "\\item 8.95979899497488\n",
       "\\item 9.4572864321608\n",
       "\\item 9.95477386934673\n",
       "\\item 10.4522613065327\n",
       "\\item 75.6231155778895\n",
       "\\end{enumerate*}\n"
      ],
      "text/markdown": [
       "1. 8.46231155778894\n",
       "2. 8.95979899497488\n",
       "3. 9.4572864321608\n",
       "4. 9.95477386934673\n",
       "5. 10.4522613065327\n",
       "6. 75.6231155778895\n",
       "\n",
       "\n"
      ],
      "text/plain": [
       "[1]  8.462312  8.959799  9.457286  9.954774 10.452261 75.623116"
      ]
     },
     "metadata": {},
     "output_type": "display_data"
    },
    {
     "data": {
      "image/png": "[encoded data removed]",
      "text/plain": [
       "plot without title"
      ]
     },
     "metadata": {
      "image/png": {
       "height": 420,
       "width": 420
      }
     },
     "output_type": "display_data"
    }
   ],
   "source": [
    "# 创建一个基础图表\n",
    "P2 <- ggplot(HR, aes(x=pre_dose_val_rx, y=yhat)) + theme_classic() + labs(x=\"GCs\",y=\"HR (95%CI)\")\n",
    "\n",
    "x_values <- HR$pre_dose_val_rx[abs(HR$yhat - 1) < 0.01]\n",
    "x_values\n",
    "for (x in x_values) {\n",
    "  P2 <- P2 + geom_vline(xintercept=x, linetype=2, size=1) +\n",
    "  labs(x=\"pre_dose_val_rx\",y=\"HR (95%CI)\") \n",
    "}\n",
    "\n",
    "P2"
   ]
  },
  {
   "cell_type": "code",
   "execution_count": 109,
   "metadata": {
    "vscode": {
     "languageId": "r"
    }
   },
   "outputs": [
    {
     "data": {
      "image/png": "[encoded data removed]",
      "text/plain": [
       "plot without title"
      ]
     },
     "metadata": {
      "image/png": {
       "height": 420,
       "width": 420
      }
     },
     "output_type": "display_data"
    }
   ],
   "source": [
    "P2 <- ggplot()+ geom_line(data=HR,aes(pre_dose_val_rx,yhat),linetype=\"solid\", size=1,alpha = 0.7,colour=\"darkred\")+ geom_ribbon(data=HR, aes(pre_dose_val_rx, ymin = lower, ymax = upper),alpha = 0.1,fill=\"darkred\") \n",
    "P2 <- P2 + theme_classic() + geom_hline(yintercept = 1, linetype=\"dashed\", size=1) +\n",
    "geom_vline(xintercept = 9.46,linetype=2,size=1) + geom_vline(xintercept = 75.6,linetype=2,size=1) +  labs(x=\"daily dose propensity score matching\",y=\"HR (95%CI)\") \n",
    "P2"
   ]
  },
  {
   "cell_type": "code",
   "execution_count": 120,
   "metadata": {
    "vscode": {
     "languageId": "r"
    }
   },
   "outputs": [
    {
     "data": {
      "text/html": [
       "<table class=\"dataframe\">\n",
       "<caption>A Predict: 1 × 4</caption>\n",
       "<thead>\n",
       "\t<tr><th scope=col>pre_dose_val_rx</th><th scope=col>yhat</th><th scope=col>lower</th><th scope=col>upper</th></tr>\n",
       "\t<tr><th scope=col>&lt;dbl&gt;</th><th scope=col>&lt;dbl&gt;</th><th scope=col>&lt;dbl&gt;</th><th scope=col>&lt;dbl&gt;</th></tr>\n",
       "</thead>\n",
       "<tbody>\n",
       "\t<tr><td>82.57789</td><td>0.7130226</td><td>0.176996</td><td>2.872387</td></tr>\n",
       "</tbody>\n",
       "</table>\n"
      ],
      "text/latex": [
       "A Predict: 1 × 4\n",
       "\\begin{tabular}{llll}\n",
       " pre\\_dose\\_val\\_rx & yhat & lower & upper\\\\\n",
       " <dbl> & <dbl> & <dbl> & <dbl>\\\\\n",
       "\\hline\n",
       "\t 82.57789 & 0.7130226 & 0.176996 & 2.872387\\\\\n",
       "\\end{tabular}\n"
      ],
      "text/markdown": [
       "\n",
       "A Predict: 1 × 4\n",
       "\n",
       "| pre_dose_val_rx &lt;dbl&gt; | yhat &lt;dbl&gt; | lower &lt;dbl&gt; | upper &lt;dbl&gt; |\n",
       "|---|---|---|---|\n",
       "| 82.57789 | 0.7130226 | 0.176996 | 2.872387 |\n",
       "\n"
      ],
      "text/plain": [
       "  pre_dose_val_rx yhat      lower    upper   \n",
       "1 82.57789        0.7130226 0.176996 2.872387"
      ]
     },
     "metadata": {},
     "output_type": "display_data"
    }
   ],
   "source": [
    "HR <- Predict(m3, pre_dose_val_rx = 82.5778894472362, fun = exp, ref.zero = TRUE)\n",
    "HR"
   ]
  },
  {
   "cell_type": "code",
   "execution_count": 121,
   "metadata": {
    "vscode": {
     "languageId": "r"
    }
   },
   "outputs": [
    {
     "data": {
      "text/html": [
       "<table class=\"dataframe\">\n",
       "<caption>A Predict: 0 × 4</caption>\n",
       "<thead>\n",
       "\t<tr><th scope=col>pre_dose_val_rx</th><th scope=col>yhat</th><th scope=col>lower</th><th scope=col>upper</th></tr>\n",
       "\t<tr><th scope=col>&lt;dbl&gt;</th><th scope=col>&lt;dbl&gt;</th><th scope=col>&lt;dbl&gt;</th><th scope=col>&lt;dbl&gt;</th></tr>\n",
       "</thead>\n",
       "<tbody>\n",
       "</tbody>\n",
       "</table>\n"
      ],
      "text/latex": [
       "A Predict: 0 × 4\n",
       "\\begin{tabular}{llll}\n",
       " pre\\_dose\\_val\\_rx & yhat & lower & upper\\\\\n",
       " <dbl> & <dbl> & <dbl> & <dbl>\\\\\n",
       "\\hline\n",
       "\\end{tabular}\n"
      ],
      "text/markdown": [
       "\n",
       "A Predict: 0 × 4\n",
       "\n",
       "| pre_dose_val_rx &lt;dbl&gt; | yhat &lt;dbl&gt; | lower &lt;dbl&gt; | upper &lt;dbl&gt; |\n",
       "|---|---|---|---|\n",
       "\n"
      ],
      "text/plain": [
       "     pre_dose_val_rx yhat lower upper"
      ]
     },
     "metadata": {},
     "output_type": "display_data"
    }
   ],
   "source": [
    "find_non_crossing_intervals <- function(df) {\n",
    "  df_filtered <- df[(df$lower > 1 & df$upper > 1) | (df$lower < 1 & df$upper < 1), ]\n",
    "  return(df_filtered)\n",
    "}\n",
    "\n",
    "HR_filtered <- find_non_crossing_intervals(HR)\n",
    "HR_filtered"
   ]
  },
  {
   "cell_type": "code",
   "execution_count": 112,
   "metadata": {
    "vscode": {
     "languageId": "r"
    }
   },
   "outputs": [
    {
     "name": "stdout",
     "output_type": "stream",
     "text": [
      "numeric(0)\n"
     ]
    }
   ],
   "source": [
    "# 找到HR的最大值对应的行\n",
    "max_HR_row <- HR_filtered[which.max(HR_filtered$yhat), ]\n",
    "\n",
    "# 从这一行中获取pre_dose_val_rx的值\n",
    "max_HR_pre_dose_val_rx <- max_HR_row$pre_dose_val_rx\n",
    "\n",
    "# 打印结果\n",
    "print(max_HR_pre_dose_val_rx)"
   ]
  },
  {
   "cell_type": "code",
   "execution_count": 113,
   "metadata": {
    "vscode": {
     "languageId": "r"
    }
   },
   "outputs": [
    {
     "name": "stdout",
     "output_type": "stream",
     "text": [
      "numeric(0)\n",
      "[1] pre_dose_val_rx yhat            lower           upper          \n",
      "<0 rows> (or 0-length row.names)\n",
      "\n",
      "Response variable (y):  \n",
      "\n",
      "Limits are 0.95 confidence limits\n"
     ]
    }
   ],
   "source": [
    "# # find the line for the maximum value of HR\n",
    "max_HR_row <- HR_filtered[which.max(HR_filtered$yhat), ]\n",
    "\n",
    "# Get the values for pre, lower, and upper from this line\n",
    "max_HR_pre_dose_val_rx <- max_HR_row$pre_dose_val_rx\n",
    "lower <- max_HR_row$lower\n",
    "upper <- max_HR_row$upper\n",
    "\n",
    "print(max_HR_pre_dose_val_rx)\n",
    "print(max_HR_row)\n"
   ]
  },
  {
   "cell_type": "code",
   "execution_count": 114,
   "metadata": {
    "vscode": {
     "languageId": "r"
    }
   },
   "outputs": [
    {
     "name": "stdout",
     "output_type": "stream",
     "text": [
      "numeric(0)\n",
      "[1] pre_dose_val_rx yhat            lower           upper          \n",
      "<0 rows> (or 0-length row.names)\n",
      "\n",
      "Response variable (y):  \n",
      "\n",
      "Limits are 0.95 confidence limits\n"
     ]
    }
   ],
   "source": [
    "# get the values pre, lower, and upper from this line\n",
    "max_HR_row <- HR_filtered[which.min(HR_filtered$yhat), ]\n",
    "\n",
    "# get the values pre, lower, and upper from this line\n",
    "max_HR_pre_dose_val_rx <- max_HR_row$pre_dose_val_rx\n",
    "lower <- max_HR_row$lower\n",
    "upper <- max_HR_row$upper\n",
    "\n",
    "\n",
    "print(max_HR_pre_dose_val_rx)\n",
    "print(max_HR_row)\n"
   ]
  },
  {
   "cell_type": "code",
   "execution_count": 115,
   "metadata": {
    "vscode": {
     "languageId": "r"
    }
   },
   "outputs": [
    {
     "data": {
      "text/html": [
       "<style>\n",
       ".list-inline {list-style: none; margin:0; padding: 0}\n",
       ".list-inline>li {display: inline-block}\n",
       ".list-inline>li:not(:last-child)::after {content: \"\\00b7\"; padding: 0 .5ex}\n",
       "</style>\n",
       "<ol class=list-inline><li>'gender'</li><li>'age'</li><li>'sapsii'</li><li>'weight'</li><li>'sofa_24hours'</li><li>'pre_dose_val_rx'</li><li>'gcs'</li><li>'infection_flag'</li><li>'dose_val_rx_average'</li><li>'los_drug_average'</li><li>'event_state'</li><li>'vs_cvp_flag'</li><li>'lab_creatinine_kinase_flag'</li><li>'lab_bnp_flag'</li><li>'lab_troponin_flag'</li><li>'gcs_int'</li><li>'event_state_int'</li><li>'ps_weight'</li></ol>\n"
      ],
      "text/latex": [
       "\\begin{enumerate*}\n",
       "\\item 'gender'\n",
       "\\item 'age'\n",
       "\\item 'sapsii'\n",
       "\\item 'weight'\n",
       "\\item 'sofa\\_24hours'\n",
       "\\item 'pre\\_dose\\_val\\_rx'\n",
       "\\item 'gcs'\n",
       "\\item 'infection\\_flag'\n",
       "\\item 'dose\\_val\\_rx\\_average'\n",
       "\\item 'los\\_drug\\_average'\n",
       "\\item 'event\\_state'\n",
       "\\item 'vs\\_cvp\\_flag'\n",
       "\\item 'lab\\_creatinine\\_kinase\\_flag'\n",
       "\\item 'lab\\_bnp\\_flag'\n",
       "\\item 'lab\\_troponin\\_flag'\n",
       "\\item 'gcs\\_int'\n",
       "\\item 'event\\_state\\_int'\n",
       "\\item 'ps\\_weight'\n",
       "\\end{enumerate*}\n"
      ],
      "text/markdown": [
       "1. 'gender'\n",
       "2. 'age'\n",
       "3. 'sapsii'\n",
       "4. 'weight'\n",
       "5. 'sofa_24hours'\n",
       "6. 'pre_dose_val_rx'\n",
       "7. 'gcs'\n",
       "8. 'infection_flag'\n",
       "9. 'dose_val_rx_average'\n",
       "10. 'los_drug_average'\n",
       "11. 'event_state'\n",
       "12. 'vs_cvp_flag'\n",
       "13. 'lab_creatinine_kinase_flag'\n",
       "14. 'lab_bnp_flag'\n",
       "15. 'lab_troponin_flag'\n",
       "16. 'gcs_int'\n",
       "17. 'event_state_int'\n",
       "18. 'ps_weight'\n",
       "\n",
       "\n"
      ],
      "text/plain": [
       " [1] \"gender\"                     \"age\"                       \n",
       " [3] \"sapsii\"                     \"weight\"                    \n",
       " [5] \"sofa_24hours\"               \"pre_dose_val_rx\"           \n",
       " [7] \"gcs\"                        \"infection_flag\"            \n",
       " [9] \"dose_val_rx_average\"        \"los_drug_average\"          \n",
       "[11] \"event_state\"                \"vs_cvp_flag\"               \n",
       "[13] \"lab_creatinine_kinase_flag\" \"lab_bnp_flag\"              \n",
       "[15] \"lab_troponin_flag\"          \"gcs_int\"                   \n",
       "[17] \"event_state_int\"            \"ps_weight\"                 "
      ]
     },
     "metadata": {},
     "output_type": "display_data"
    },
    {
     "data": {
      "text/html": [
       "18"
      ],
      "text/latex": [
       "18"
      ],
      "text/markdown": [
       "18"
      ],
      "text/plain": [
       "[1] 18"
      ]
     },
     "metadata": {},
     "output_type": "display_data"
    }
   ],
   "source": [
    "feature_names <- full_data %>%\n",
    "    names %>%\n",
    "    keep(grepl(\"vs|lab|age|gender|weight|sapsii|sofa|sofa_24hours|event_state|cam_state|gcs|flag|pre_dose_val_rx\", .)) %>%\n",
    "    discard(grepl(\"vs|lab\", .) & grepl(\"flag\", .) & !grepl(\"bnp|troponin|kinase|cvp\", .)) %>%\n",
    "    discard(grepl(\"first|min|max|gcs_include\", .)) %>%\n",
    "    discard(grepl(\"abnormal\", .))\n",
    "feature_names\n",
    "length(feature_names)"
   ]
  },
  {
   "cell_type": "code",
   "execution_count": 116,
   "metadata": {
    "vscode": {
     "languageId": "r"
    }
   },
   "outputs": [],
   "source": [
    "# 年龄分组\n",
    "m1$age_group <- cut(m1$age, breaks = c(-Inf, 55, 70, Inf), \n",
    "                          labels = c(\"Young<55\", \"Middle55-70\", \"Old>70\"))\n",
    "\n",
    "# 体重分组 \n",
    "m1$weight_group <- cut(m1$weight, breaks = c(-Inf, 70, 90, Inf),\n",
    "                             labels = c(\"Light<70\", \"Normal70-90\", \"Heavy>90\"))\n",
    "\n",
    "# SAPSII分组\n",
    "m1$sapsii_group <- cut(m1$sapsii, breaks = c(-Inf, 35, 45, Inf),\n",
    "                             labels = c(\"Low<35\", \"Medium35-45\", \"High>45\"))\n",
    "\n",
    "# SOFA 24hours分组\n",
    "m1$sofa_24hours_group <- cut(m1$sofa_24hours, breaks = c(-Inf, 3, 5, Inf), \n",
    "                                   labels = c(\"Mild<3\", \"Moderate3-5\", \"Severe>5\"))\n",
    "\n",
    "# WBC分组\n",
    "m1$wbc_group <- cut(m1$lab_wbc_first, breaks = c(-Inf, 8, 15, Inf),\n",
    "                          labels = c(\"Low<8\", \"Normal8-15\", \"High>15\"))\n",
    "\n",
    "# pH分组\n",
    "m1$ph_group <- cut(m1$lab_ph_first, breaks = c(-Inf, 7.3, 7.5, Inf),\n",
    "                         labels = c(\"Acidic<7.3\", \"Normal7.3-7.5\", \"Alkaline>7.5\"))\n",
    "\n",
    "\n",
    "m1$dose_group <- cut(m1$cumulative_dose, \n",
    "                           breaks = c(-Inf, 1888, 2830, Inf),\n",
    "                           labels = c(\"Low\", \"Medium\", \"High\"))\n",
    "m1$pre_dose_val_rx <- as.numeric(m1$pre_dose_val_rx)\n",
    "m1$pre_dose_group <- cut(m1$pre_dose_val_rx, \n",
    "                           breaks = c(-Inf, 12, 50, Inf),\n",
    "                           labels = c(\"Low\", \"Medium\", \"High\"))"
   ]
  },
  {
   "cell_type": "code",
   "execution_count": 117,
   "metadata": {
    "vscode": {
     "languageId": "r"
    }
   },
   "outputs": [
    {
     "name": "stderr",
     "output_type": "stream",
     "text": [
      "Warning message in recalculate_width_panels(panel_positions, mapped_text = mapped_text, :\n",
      "\"Unable to resize forest panel to be smaller than its heading; consider a smaller text size\"\n"
     ]
    },
    {
     "data": {
      "image/png": "[encoded data removed]",
      "text/plain": [
       "plot without title"
      ]
     },
     "metadata": {
      "image/png": {
       "height": 420,
       "width": 420
      }
     },
     "output_type": "display_data"
    }
   ],
   "source": [
    "# 建立logistic回归模型\n",
    "model <- glm(mort_28_day ~ age_group + gender + weight_group + sapsii_group + sofa_24hours_group + wbc_group + dose_group +pre_dose_group,\n",
    "              family = binomial(), data = m1)\n",
    "\n",
    "# 绘制森林图\n",
    "library(forestmodel)\n",
    "forest_model(model)"
   ]
  }
 ],
 "metadata": {
  "kernelspec": {
   "display_name": "R",
   "language": "R",
   "name": "ir"
  },
  "language_info": {
   "codemirror_mode": "r",
   "file_extension": ".r",
   "mimetype": "text/x-r-source",
   "name": "R",
   "pygments_lexer": "r",
   "version": "4.3.2"
  },
  "varInspector": {
   "cols": {
    "lenName": 16,
    "lenType": 16,
    "lenVar": 40
   },
   "kernels_config": {
    "python": {
     "delete_cmd_postfix": "",
     "delete_cmd_prefix": "del ",
     "library": "var_list.py",
     "varRefreshCmd": "print(var_dic_list())"
    },
    "r": {
     "delete_cmd_postfix": ") ",
     "delete_cmd_prefix": "rm(",
     "library": "var_list.r",
     "varRefreshCmd": "cat(var_dic_list()) "
    }
   },
   "types_to_exclude": [
    "module",
    "function",
    "builtin_function_or_method",
    "instance",
    "_Feature"
   ],
   "window_display": false
  }
 },
 "nbformat": 4,
 "nbformat_minor": 2
}
