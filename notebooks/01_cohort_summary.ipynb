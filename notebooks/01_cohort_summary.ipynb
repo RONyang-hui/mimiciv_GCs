{
 "cells": [
  {
   "cell_type": "code",
   "execution_count": 1,
   "metadata": {
    "vscode": {
     "languageId": "r"
    }
   },
   "outputs": [
    {
     "name": "stderr",
     "output_type": "stream",
     "text": [
      "Warning message:\n",
      "\"package 'RPostgreSQL' was built under R version 4.3.3\"\n",
      "Loading required package: DBI\n",
      "\n",
      "Warning message:\n",
      "\"package 'tidyverse' was built under R version 4.3.3\"\n",
      "Warning message:\n",
      "\"package 'ggplot2' was built under R version 4.3.3\"\n",
      "Warning message:\n",
      "\"package 'readr' was built under R version 4.3.3\"\n",
      "Warning message:\n",
      "\"package 'forcats' was built under R version 4.3.3\"\n",
      "Warning message:\n",
      "\"package 'lubridate' was built under R version 4.3.3\"\n",
      "── \u001b[1mAttaching core tidyverse packages\u001b[22m ──────────────────────── tidyverse 2.0.0 ──\n",
      "\u001b[32m✔\u001b[39m \u001b[34mdplyr    \u001b[39m 1.1.4     \u001b[32m✔\u001b[39m \u001b[34mreadr    \u001b[39m 2.1.5\n",
      "\u001b[32m✔\u001b[39m \u001b[34mforcats  \u001b[39m 1.0.0     \u001b[32m✔\u001b[39m \u001b[34mstringr  \u001b[39m 1.5.1\n",
      "\u001b[32m✔\u001b[39m \u001b[34mggplot2  \u001b[39m 3.5.1     \u001b[32m✔\u001b[39m \u001b[34mtibble   \u001b[39m 3.2.1\n",
      "\u001b[32m✔\u001b[39m \u001b[34mlubridate\u001b[39m 1.9.3     \u001b[32m✔\u001b[39m \u001b[34mtidyr    \u001b[39m 1.3.1\n",
      "\u001b[32m✔\u001b[39m \u001b[34mpurrr    \u001b[39m 1.0.2     \n",
      "── \u001b[1mConflicts\u001b[22m ────────────────────────────────────────── tidyverse_conflicts() ──\n",
      "\u001b[31m✖\u001b[39m \u001b[34mdplyr\u001b[39m::\u001b[32mfilter()\u001b[39m masks \u001b[34mstats\u001b[39m::filter()\n",
      "\u001b[31m✖\u001b[39m \u001b[34mdplyr\u001b[39m::\u001b[32mlag()\u001b[39m    masks \u001b[34mstats\u001b[39m::lag()\n",
      "\u001b[36mℹ\u001b[39m Use the conflicted package (\u001b[3m\u001b[34m<http://conflicted.r-lib.org/>\u001b[39m\u001b[23m) to force all conflicts to become errors\n"
     ]
    }
   ],
   "source": [
    "library(RPostgreSQL)\n",
    "library(tidyverse)"
   ]
  },
  {
   "cell_type": "code",
   "execution_count": 2,
   "metadata": {
    "vscode": {
     "languageId": "r"
    }
   },
   "outputs": [],
   "source": [
    "data_dir <- file.path(\"..\", \"data\")\n",
    "sql_dir <- file.path(\"..\", \"sql\")"
   ]
  },
  {
   "cell_type": "code",
   "execution_count": 3,
   "metadata": {
    "vscode": {
     "languageId": "r"
    }
   },
   "outputs": [],
   "source": [
    "con <- dbConnect(RPostgres::Postgres(),\n",
    "                  host = \"127.0.0.1\",\n",
    "                  port = 5432,\n",
    "                  dbname = \"mimiciv\",\n",
    "                  user = \"postgres\",\n",
    "                  password = \"123\")\n",
    "full_data = dbGetQuery(con, \"select*from mimiciv_hosp.merged_data_gcs\")\n"
   ]
  },
  {
   "cell_type": "code",
   "execution_count": 4,
   "metadata": {
    "vscode": {
     "languageId": "r"
    }
   },
   "outputs": [
    {
     "data": {
      "text/html": [
       "<table class=\"dataframe\">\n",
       "<caption>A data.frame: 6 × 116</caption>\n",
       "<thead>\n",
       "\t<tr><th></th><th scope=col>stay_id</th><th scope=col>hadm_id</th><th scope=col>subject_id</th><th scope=col>gender</th><th scope=col>age</th><th scope=col>sapsii</th><th scope=col>icu_intime</th><th scope=col>icu_outtime</th><th scope=col>weight</th><th scope=col>sofa_24hours</th><th scope=col>⋯</th><th scope=col>lab_sodium_flag</th><th scope=col>lab_bun_flag</th><th scope=col>lab_bicarbonate_flag</th><th scope=col>lab_bnp_flag</th><th scope=col>lab_pco2_flag</th><th scope=col>lab_creatinine_flag</th><th scope=col>lab_potassium_flag</th><th scope=col>lab_troponin_flag</th><th scope=col>lab_po2_flag</th><th scope=col>lab_lactate_flag</th></tr>\n",
       "\t<tr><th></th><th scope=col>&lt;int&gt;</th><th scope=col>&lt;int&gt;</th><th scope=col>&lt;int&gt;</th><th scope=col>&lt;chr&gt;</th><th scope=col>&lt;dbl&gt;</th><th scope=col>&lt;int&gt;</th><th scope=col>&lt;dttm&gt;</th><th scope=col>&lt;dttm&gt;</th><th scope=col>&lt;dbl&gt;</th><th scope=col>&lt;int&gt;</th><th scope=col>⋯</th><th scope=col>&lt;int&gt;</th><th scope=col>&lt;int&gt;</th><th scope=col>&lt;int&gt;</th><th scope=col>&lt;int&gt;</th><th scope=col>&lt;int&gt;</th><th scope=col>&lt;int&gt;</th><th scope=col>&lt;int&gt;</th><th scope=col>&lt;int&gt;</th><th scope=col>&lt;int&gt;</th><th scope=col>&lt;int&gt;</th></tr>\n",
       "</thead>\n",
       "<tbody>\n",
       "\t<tr><th scope=row>1</th><td>38302142</td><td>20475690</td><td>13620446</td><td>F</td><td>66.04835</td><td>31</td><td>2159-01-21 01:45:32</td><td>2159-01-25 14:09:02</td><td>138.0</td><td> 1</td><td>⋯</td><td>1</td><td>1</td><td>1</td><td>0</td><td>1</td><td>1</td><td>1</td><td>0</td><td>1</td><td>1</td></tr>\n",
       "\t<tr><th scope=row>2</th><td>31869153</td><td>21383344</td><td>15359363</td><td>F</td><td>41.91122</td><td>39</td><td>2166-12-02 16:08:45</td><td>2166-12-05 02:10:02</td><td> 70.0</td><td> 0</td><td>⋯</td><td>1</td><td>1</td><td>1</td><td>0</td><td>0</td><td>1</td><td>1</td><td>0</td><td>0</td><td>0</td></tr>\n",
       "\t<tr><th scope=row>3</th><td>31501167</td><td>20944291</td><td>12162143</td><td>F</td><td>87.59137</td><td>35</td><td>2174-08-05 00:49:12</td><td>2174-08-06 16:13:22</td><td> 65.0</td><td> 1</td><td>⋯</td><td>1</td><td>1</td><td>1</td><td>0</td><td>1</td><td>1</td><td>1</td><td>0</td><td>1</td><td>1</td></tr>\n",
       "\t<tr><th scope=row>4</th><td>39256124</td><td>24959920</td><td>18226317</td><td>M</td><td>66.88656</td><td>28</td><td>2130-11-20 19:28:29</td><td>2130-11-25 12:42:59</td><td> 88.0</td><td> 3</td><td>⋯</td><td>1</td><td>1</td><td>1</td><td>0</td><td>0</td><td>1</td><td>1</td><td>0</td><td>0</td><td>0</td></tr>\n",
       "\t<tr><th scope=row>5</th><td>31132695</td><td>28164203</td><td>15928453</td><td>F</td><td>44.39155</td><td>55</td><td>2113-05-24 00:14:32</td><td>2113-05-29 14:24:45</td><td> 45.9</td><td>10</td><td>⋯</td><td>1</td><td>1</td><td>1</td><td>0</td><td>1</td><td>1</td><td>1</td><td>0</td><td>1</td><td>1</td></tr>\n",
       "\t<tr><th scope=row>6</th><td>39784690</td><td>23246205</td><td>16810503</td><td>M</td><td>56.61848</td><td>30</td><td>2149-08-14 21:32:37</td><td>2149-08-21 12:15:14</td><td> 80.0</td><td> 3</td><td>⋯</td><td>1</td><td>1</td><td>1</td><td>0</td><td>1</td><td>1</td><td>1</td><td>0</td><td>1</td><td>1</td></tr>\n",
       "</tbody>\n",
       "</table>\n"
      ],
      "text/latex": [
       "A data.frame: 6 × 116\n",
       "\\begin{tabular}{r|lllllllllllllllllllll}\n",
       "  & stay\\_id & hadm\\_id & subject\\_id & gender & age & sapsii & icu\\_intime & icu\\_outtime & weight & sofa\\_24hours & ⋯ & lab\\_sodium\\_flag & lab\\_bun\\_flag & lab\\_bicarbonate\\_flag & lab\\_bnp\\_flag & lab\\_pco2\\_flag & lab\\_creatinine\\_flag & lab\\_potassium\\_flag & lab\\_troponin\\_flag & lab\\_po2\\_flag & lab\\_lactate\\_flag\\\\\n",
       "  & <int> & <int> & <int> & <chr> & <dbl> & <int> & <dttm> & <dttm> & <dbl> & <int> & ⋯ & <int> & <int> & <int> & <int> & <int> & <int> & <int> & <int> & <int> & <int>\\\\\n",
       "\\hline\n",
       "\t1 & 38302142 & 20475690 & 13620446 & F & 66.04835 & 31 & 2159-01-21 01:45:32 & 2159-01-25 14:09:02 & 138.0 &  1 & ⋯ & 1 & 1 & 1 & 0 & 1 & 1 & 1 & 0 & 1 & 1\\\\\n",
       "\t2 & 31869153 & 21383344 & 15359363 & F & 41.91122 & 39 & 2166-12-02 16:08:45 & 2166-12-05 02:10:02 &  70.0 &  0 & ⋯ & 1 & 1 & 1 & 0 & 0 & 1 & 1 & 0 & 0 & 0\\\\\n",
       "\t3 & 31501167 & 20944291 & 12162143 & F & 87.59137 & 35 & 2174-08-05 00:49:12 & 2174-08-06 16:13:22 &  65.0 &  1 & ⋯ & 1 & 1 & 1 & 0 & 1 & 1 & 1 & 0 & 1 & 1\\\\\n",
       "\t4 & 39256124 & 24959920 & 18226317 & M & 66.88656 & 28 & 2130-11-20 19:28:29 & 2130-11-25 12:42:59 &  88.0 &  3 & ⋯ & 1 & 1 & 1 & 0 & 0 & 1 & 1 & 0 & 0 & 0\\\\\n",
       "\t5 & 31132695 & 28164203 & 15928453 & F & 44.39155 & 55 & 2113-05-24 00:14:32 & 2113-05-29 14:24:45 &  45.9 & 10 & ⋯ & 1 & 1 & 1 & 0 & 1 & 1 & 1 & 0 & 1 & 1\\\\\n",
       "\t6 & 39784690 & 23246205 & 16810503 & M & 56.61848 & 30 & 2149-08-14 21:32:37 & 2149-08-21 12:15:14 &  80.0 &  3 & ⋯ & 1 & 1 & 1 & 0 & 1 & 1 & 1 & 0 & 1 & 1\\\\\n",
       "\\end{tabular}\n"
      ],
      "text/markdown": [
       "\n",
       "A data.frame: 6 × 116\n",
       "\n",
       "| <!--/--> | stay_id &lt;int&gt; | hadm_id &lt;int&gt; | subject_id &lt;int&gt; | gender &lt;chr&gt; | age &lt;dbl&gt; | sapsii &lt;int&gt; | icu_intime &lt;dttm&gt; | icu_outtime &lt;dttm&gt; | weight &lt;dbl&gt; | sofa_24hours &lt;int&gt; | ⋯ ⋯ | lab_sodium_flag &lt;int&gt; | lab_bun_flag &lt;int&gt; | lab_bicarbonate_flag &lt;int&gt; | lab_bnp_flag &lt;int&gt; | lab_pco2_flag &lt;int&gt; | lab_creatinine_flag &lt;int&gt; | lab_potassium_flag &lt;int&gt; | lab_troponin_flag &lt;int&gt; | lab_po2_flag &lt;int&gt; | lab_lactate_flag &lt;int&gt; |\n",
       "|---|---|---|---|---|---|---|---|---|---|---|---|---|---|---|---|---|---|---|---|---|---|\n",
       "| 1 | 38302142 | 20475690 | 13620446 | F | 66.04835 | 31 | 2159-01-21 01:45:32 | 2159-01-25 14:09:02 | 138.0 |  1 | ⋯ | 1 | 1 | 1 | 0 | 1 | 1 | 1 | 0 | 1 | 1 |\n",
       "| 2 | 31869153 | 21383344 | 15359363 | F | 41.91122 | 39 | 2166-12-02 16:08:45 | 2166-12-05 02:10:02 |  70.0 |  0 | ⋯ | 1 | 1 | 1 | 0 | 0 | 1 | 1 | 0 | 0 | 0 |\n",
       "| 3 | 31501167 | 20944291 | 12162143 | F | 87.59137 | 35 | 2174-08-05 00:49:12 | 2174-08-06 16:13:22 |  65.0 |  1 | ⋯ | 1 | 1 | 1 | 0 | 1 | 1 | 1 | 0 | 1 | 1 |\n",
       "| 4 | 39256124 | 24959920 | 18226317 | M | 66.88656 | 28 | 2130-11-20 19:28:29 | 2130-11-25 12:42:59 |  88.0 |  3 | ⋯ | 1 | 1 | 1 | 0 | 0 | 1 | 1 | 0 | 0 | 0 |\n",
       "| 5 | 31132695 | 28164203 | 15928453 | F | 44.39155 | 55 | 2113-05-24 00:14:32 | 2113-05-29 14:24:45 |  45.9 | 10 | ⋯ | 1 | 1 | 1 | 0 | 1 | 1 | 1 | 0 | 1 | 1 |\n",
       "| 6 | 39784690 | 23246205 | 16810503 | M | 56.61848 | 30 | 2149-08-14 21:32:37 | 2149-08-21 12:15:14 |  80.0 |  3 | ⋯ | 1 | 1 | 1 | 0 | 1 | 1 | 1 | 0 | 1 | 1 |\n",
       "\n"
      ],
      "text/plain": [
       "  stay_id  hadm_id  subject_id gender age      sapsii icu_intime         \n",
       "1 38302142 20475690 13620446   F      66.04835 31     2159-01-21 01:45:32\n",
       "2 31869153 21383344 15359363   F      41.91122 39     2166-12-02 16:08:45\n",
       "3 31501167 20944291 12162143   F      87.59137 35     2174-08-05 00:49:12\n",
       "4 39256124 24959920 18226317   M      66.88656 28     2130-11-20 19:28:29\n",
       "5 31132695 28164203 15928453   F      44.39155 55     2113-05-24 00:14:32\n",
       "6 39784690 23246205 16810503   M      56.61848 30     2149-08-14 21:32:37\n",
       "  icu_outtime         weight sofa_24hours ⋯ lab_sodium_flag lab_bun_flag\n",
       "1 2159-01-25 14:09:02 138.0   1           ⋯ 1               1           \n",
       "2 2166-12-05 02:10:02  70.0   0           ⋯ 1               1           \n",
       "3 2174-08-06 16:13:22  65.0   1           ⋯ 1               1           \n",
       "4 2130-11-25 12:42:59  88.0   3           ⋯ 1               1           \n",
       "5 2113-05-29 14:24:45  45.9  10           ⋯ 1               1           \n",
       "6 2149-08-21 12:15:14  80.0   3           ⋯ 1               1           \n",
       "  lab_bicarbonate_flag lab_bnp_flag lab_pco2_flag lab_creatinine_flag\n",
       "1 1                    0            1             1                  \n",
       "2 1                    0            0             1                  \n",
       "3 1                    0            1             1                  \n",
       "4 1                    0            0             1                  \n",
       "5 1                    0            1             1                  \n",
       "6 1                    0            1             1                  \n",
       "  lab_potassium_flag lab_troponin_flag lab_po2_flag lab_lactate_flag\n",
       "1 1                  0                 1            1               \n",
       "2 1                  0                 0            0               \n",
       "3 1                  0                 1            1               \n",
       "4 1                  0                 0            0               \n",
       "5 1                  0                 1            1               \n",
       "6 1                  0                 1            1               "
      ]
     },
     "metadata": {},
     "output_type": "display_data"
    }
   ],
   "source": [
    "\n",
    "full_data = dbGetQuery(con, \"select*from mimiciv_hosp.merged_data_gcs\")\n",
    "head(full_data)\n",
    "\n",
    "\n",
    "\n"
   ]
  },
  {
   "cell_type": "code",
   "execution_count": 5,
   "metadata": {
    "vscode": {
     "languageId": "r"
    }
   },
   "outputs": [
    {
     "data": {
      "text/html": [
       "<table class=\"dataframe\">\n",
       "<caption>A data.frame: 6 × 116</caption>\n",
       "<thead>\n",
       "\t<tr><th></th><th scope=col>stay_id</th><th scope=col>hadm_id</th><th scope=col>subject_id</th><th scope=col>gender</th><th scope=col>age</th><th scope=col>sapsii</th><th scope=col>icu_intime</th><th scope=col>icu_outtime</th><th scope=col>weight</th><th scope=col>sofa_24hours</th><th scope=col>⋯</th><th scope=col>lab_sodium_flag</th><th scope=col>lab_bun_flag</th><th scope=col>lab_bicarbonate_flag</th><th scope=col>lab_bnp_flag</th><th scope=col>lab_pco2_flag</th><th scope=col>lab_creatinine_flag</th><th scope=col>lab_potassium_flag</th><th scope=col>lab_troponin_flag</th><th scope=col>lab_po2_flag</th><th scope=col>lab_lactate_flag</th></tr>\n",
       "\t<tr><th></th><th scope=col>&lt;int&gt;</th><th scope=col>&lt;int&gt;</th><th scope=col>&lt;int&gt;</th><th scope=col>&lt;chr&gt;</th><th scope=col>&lt;dbl&gt;</th><th scope=col>&lt;int&gt;</th><th scope=col>&lt;dttm&gt;</th><th scope=col>&lt;dttm&gt;</th><th scope=col>&lt;dbl&gt;</th><th scope=col>&lt;int&gt;</th><th scope=col>⋯</th><th scope=col>&lt;int&gt;</th><th scope=col>&lt;int&gt;</th><th scope=col>&lt;int&gt;</th><th scope=col>&lt;int&gt;</th><th scope=col>&lt;int&gt;</th><th scope=col>&lt;int&gt;</th><th scope=col>&lt;int&gt;</th><th scope=col>&lt;int&gt;</th><th scope=col>&lt;int&gt;</th><th scope=col>&lt;int&gt;</th></tr>\n",
       "</thead>\n",
       "<tbody>\n",
       "\t<tr><th scope=row>1</th><td>38302142</td><td>20475690</td><td>13620446</td><td>F</td><td>66.04835</td><td>31</td><td>2159-01-21 01:45:32</td><td>2159-01-25 14:09:02</td><td>138.0</td><td> 1</td><td>⋯</td><td>1</td><td>1</td><td>1</td><td>0</td><td>1</td><td>1</td><td>1</td><td>0</td><td>1</td><td>1</td></tr>\n",
       "\t<tr><th scope=row>2</th><td>31869153</td><td>21383344</td><td>15359363</td><td>F</td><td>41.91122</td><td>39</td><td>2166-12-02 16:08:45</td><td>2166-12-05 02:10:02</td><td> 70.0</td><td> 0</td><td>⋯</td><td>1</td><td>1</td><td>1</td><td>0</td><td>0</td><td>1</td><td>1</td><td>0</td><td>0</td><td>0</td></tr>\n",
       "\t<tr><th scope=row>3</th><td>31501167</td><td>20944291</td><td>12162143</td><td>F</td><td>87.59137</td><td>35</td><td>2174-08-05 00:49:12</td><td>2174-08-06 16:13:22</td><td> 65.0</td><td> 1</td><td>⋯</td><td>1</td><td>1</td><td>1</td><td>0</td><td>1</td><td>1</td><td>1</td><td>0</td><td>1</td><td>1</td></tr>\n",
       "\t<tr><th scope=row>4</th><td>39256124</td><td>24959920</td><td>18226317</td><td>M</td><td>66.88656</td><td>28</td><td>2130-11-20 19:28:29</td><td>2130-11-25 12:42:59</td><td> 88.0</td><td> 3</td><td>⋯</td><td>1</td><td>1</td><td>1</td><td>0</td><td>0</td><td>1</td><td>1</td><td>0</td><td>0</td><td>0</td></tr>\n",
       "\t<tr><th scope=row>5</th><td>31132695</td><td>28164203</td><td>15928453</td><td>F</td><td>44.39155</td><td>55</td><td>2113-05-24 00:14:32</td><td>2113-05-29 14:24:45</td><td> 45.9</td><td>10</td><td>⋯</td><td>1</td><td>1</td><td>1</td><td>0</td><td>1</td><td>1</td><td>1</td><td>0</td><td>1</td><td>1</td></tr>\n",
       "\t<tr><th scope=row>6</th><td>39784690</td><td>23246205</td><td>16810503</td><td>M</td><td>56.61848</td><td>30</td><td>2149-08-14 21:32:37</td><td>2149-08-21 12:15:14</td><td> 80.0</td><td> 3</td><td>⋯</td><td>1</td><td>1</td><td>1</td><td>0</td><td>1</td><td>1</td><td>1</td><td>0</td><td>1</td><td>1</td></tr>\n",
       "</tbody>\n",
       "</table>\n"
      ],
      "text/latex": [
       "A data.frame: 6 × 116\n",
       "\\begin{tabular}{r|lllllllllllllllllllll}\n",
       "  & stay\\_id & hadm\\_id & subject\\_id & gender & age & sapsii & icu\\_intime & icu\\_outtime & weight & sofa\\_24hours & ⋯ & lab\\_sodium\\_flag & lab\\_bun\\_flag & lab\\_bicarbonate\\_flag & lab\\_bnp\\_flag & lab\\_pco2\\_flag & lab\\_creatinine\\_flag & lab\\_potassium\\_flag & lab\\_troponin\\_flag & lab\\_po2\\_flag & lab\\_lactate\\_flag\\\\\n",
       "  & <int> & <int> & <int> & <chr> & <dbl> & <int> & <dttm> & <dttm> & <dbl> & <int> & ⋯ & <int> & <int> & <int> & <int> & <int> & <int> & <int> & <int> & <int> & <int>\\\\\n",
       "\\hline\n",
       "\t1 & 38302142 & 20475690 & 13620446 & F & 66.04835 & 31 & 2159-01-21 01:45:32 & 2159-01-25 14:09:02 & 138.0 &  1 & ⋯ & 1 & 1 & 1 & 0 & 1 & 1 & 1 & 0 & 1 & 1\\\\\n",
       "\t2 & 31869153 & 21383344 & 15359363 & F & 41.91122 & 39 & 2166-12-02 16:08:45 & 2166-12-05 02:10:02 &  70.0 &  0 & ⋯ & 1 & 1 & 1 & 0 & 0 & 1 & 1 & 0 & 0 & 0\\\\\n",
       "\t3 & 31501167 & 20944291 & 12162143 & F & 87.59137 & 35 & 2174-08-05 00:49:12 & 2174-08-06 16:13:22 &  65.0 &  1 & ⋯ & 1 & 1 & 1 & 0 & 1 & 1 & 1 & 0 & 1 & 1\\\\\n",
       "\t4 & 39256124 & 24959920 & 18226317 & M & 66.88656 & 28 & 2130-11-20 19:28:29 & 2130-11-25 12:42:59 &  88.0 &  3 & ⋯ & 1 & 1 & 1 & 0 & 0 & 1 & 1 & 0 & 0 & 0\\\\\n",
       "\t5 & 31132695 & 28164203 & 15928453 & F & 44.39155 & 55 & 2113-05-24 00:14:32 & 2113-05-29 14:24:45 &  45.9 & 10 & ⋯ & 1 & 1 & 1 & 0 & 1 & 1 & 1 & 0 & 1 & 1\\\\\n",
       "\t6 & 39784690 & 23246205 & 16810503 & M & 56.61848 & 30 & 2149-08-14 21:32:37 & 2149-08-21 12:15:14 &  80.0 &  3 & ⋯ & 1 & 1 & 1 & 0 & 1 & 1 & 1 & 0 & 1 & 1\\\\\n",
       "\\end{tabular}\n"
      ],
      "text/markdown": [
       "\n",
       "A data.frame: 6 × 116\n",
       "\n",
       "| <!--/--> | stay_id &lt;int&gt; | hadm_id &lt;int&gt; | subject_id &lt;int&gt; | gender &lt;chr&gt; | age &lt;dbl&gt; | sapsii &lt;int&gt; | icu_intime &lt;dttm&gt; | icu_outtime &lt;dttm&gt; | weight &lt;dbl&gt; | sofa_24hours &lt;int&gt; | ⋯ ⋯ | lab_sodium_flag &lt;int&gt; | lab_bun_flag &lt;int&gt; | lab_bicarbonate_flag &lt;int&gt; | lab_bnp_flag &lt;int&gt; | lab_pco2_flag &lt;int&gt; | lab_creatinine_flag &lt;int&gt; | lab_potassium_flag &lt;int&gt; | lab_troponin_flag &lt;int&gt; | lab_po2_flag &lt;int&gt; | lab_lactate_flag &lt;int&gt; |\n",
       "|---|---|---|---|---|---|---|---|---|---|---|---|---|---|---|---|---|---|---|---|---|---|\n",
       "| 1 | 38302142 | 20475690 | 13620446 | F | 66.04835 | 31 | 2159-01-21 01:45:32 | 2159-01-25 14:09:02 | 138.0 |  1 | ⋯ | 1 | 1 | 1 | 0 | 1 | 1 | 1 | 0 | 1 | 1 |\n",
       "| 2 | 31869153 | 21383344 | 15359363 | F | 41.91122 | 39 | 2166-12-02 16:08:45 | 2166-12-05 02:10:02 |  70.0 |  0 | ⋯ | 1 | 1 | 1 | 0 | 0 | 1 | 1 | 0 | 0 | 0 |\n",
       "| 3 | 31501167 | 20944291 | 12162143 | F | 87.59137 | 35 | 2174-08-05 00:49:12 | 2174-08-06 16:13:22 |  65.0 |  1 | ⋯ | 1 | 1 | 1 | 0 | 1 | 1 | 1 | 0 | 1 | 1 |\n",
       "| 4 | 39256124 | 24959920 | 18226317 | M | 66.88656 | 28 | 2130-11-20 19:28:29 | 2130-11-25 12:42:59 |  88.0 |  3 | ⋯ | 1 | 1 | 1 | 0 | 0 | 1 | 1 | 0 | 0 | 0 |\n",
       "| 5 | 31132695 | 28164203 | 15928453 | F | 44.39155 | 55 | 2113-05-24 00:14:32 | 2113-05-29 14:24:45 |  45.9 | 10 | ⋯ | 1 | 1 | 1 | 0 | 1 | 1 | 1 | 0 | 1 | 1 |\n",
       "| 6 | 39784690 | 23246205 | 16810503 | M | 56.61848 | 30 | 2149-08-14 21:32:37 | 2149-08-21 12:15:14 |  80.0 |  3 | ⋯ | 1 | 1 | 1 | 0 | 1 | 1 | 1 | 0 | 1 | 1 |\n",
       "\n"
      ],
      "text/plain": [
       "  stay_id  hadm_id  subject_id gender age      sapsii icu_intime         \n",
       "1 38302142 20475690 13620446   F      66.04835 31     2159-01-21 01:45:32\n",
       "2 31869153 21383344 15359363   F      41.91122 39     2166-12-02 16:08:45\n",
       "3 31501167 20944291 12162143   F      87.59137 35     2174-08-05 00:49:12\n",
       "4 39256124 24959920 18226317   M      66.88656 28     2130-11-20 19:28:29\n",
       "5 31132695 28164203 15928453   F      44.39155 55     2113-05-24 00:14:32\n",
       "6 39784690 23246205 16810503   M      56.61848 30     2149-08-14 21:32:37\n",
       "  icu_outtime         weight sofa_24hours ⋯ lab_sodium_flag lab_bun_flag\n",
       "1 2159-01-25 14:09:02 138.0   1           ⋯ 1               1           \n",
       "2 2166-12-05 02:10:02  70.0   0           ⋯ 1               1           \n",
       "3 2174-08-06 16:13:22  65.0   1           ⋯ 1               1           \n",
       "4 2130-11-25 12:42:59  88.0   3           ⋯ 1               1           \n",
       "5 2113-05-29 14:24:45  45.9  10           ⋯ 1               1           \n",
       "6 2149-08-21 12:15:14  80.0   3           ⋯ 1               1           \n",
       "  lab_bicarbonate_flag lab_bnp_flag lab_pco2_flag lab_creatinine_flag\n",
       "1 1                    0            1             1                  \n",
       "2 1                    0            0             1                  \n",
       "3 1                    0            1             1                  \n",
       "4 1                    0            0             1                  \n",
       "5 1                    0            1             1                  \n",
       "6 1                    0            1             1                  \n",
       "  lab_potassium_flag lab_troponin_flag lab_po2_flag lab_lactate_flag\n",
       "1 1                  0                 1            1               \n",
       "2 1                  0                 0            0               \n",
       "3 1                  0                 1            1               \n",
       "4 1                  0                 0            0               \n",
       "5 1                  0                 1            1               \n",
       "6 1                  0                 1            1               "
      ]
     },
     "metadata": {},
     "output_type": "display_data"
    }
   ],
   "source": [
    "\n",
    "head(full_data)"
   ]
  },
  {
   "cell_type": "code",
   "execution_count": 7,
   "metadata": {
    "vscode": {
     "languageId": "r"
    }
   },
   "outputs": [],
   "source": [
    "\n",
    "\n",
    " features <- c(\"gender\", \"age\", \"gcs_include\", \"weight\", \"sapsii\", \"sofa_24hours\", \"survival_days\", \"infection\",\n",
    "              \"vs_map_first\", \"vs_heart_rate_first\", \"vs_temp_first\", \"vs_cvp_first\",\n",
    "              \"lab_wbc_first\", \"lab_hemoglobin_first\", \"lab_platelet_first\",\n",
    "              \"lab_sodium_first\", \"lab_potassium_first\", \"lab_bicarbonate_first\",\n",
    "              \"lab_chloride_first\", \"lab_bun_first\", \"lab_lactate_first\",\n",
    "              \"lab_creatinine_first\", \"lab_ph_first\", \"lab_po2_first\", \"lab_pco2_first\",\n",
    "              \"lab_troponin_first\", \"lab_creatinine_kinase_first\")         "
   ]
  },
  {
   "cell_type": "code",
   "execution_count": 8,
   "metadata": {
    "vscode": {
     "languageId": "r"
    }
   },
   "outputs": [
    {
     "name": "stderr",
     "output_type": "stream",
     "text": [
      "Warning message:\n",
      "\"\u001b[1m\u001b[22mUsing an external vector in selections was deprecated in tidyselect 1.1.0.\n",
      "\u001b[36mℹ\u001b[39m Please use `all_of()` or `any_of()` instead.\n",
      "  # Was:\n",
      "  data %>% select(features)\n",
      "\n",
      "  # Now:\n",
      "  data %>% select(all_of(features))\n",
      "\n",
      "See <https://tidyselect.r-lib.org/reference/faq-external-vector.html>.\"\n",
      "Warning message:\n",
      "\"\u001b[1m\u001b[22m`funs()` was deprecated in dplyr 0.8.0.\n",
      "\u001b[36mℹ\u001b[39m Please use a list of either functions or lambdas:\n",
      "\n",
      "# Simple named list: list(mean = mean, median = median)\n",
      "\n",
      "# Auto named with `tibble::lst()`: tibble::lst(mean, median)\n",
      "\n",
      "# Using lambdas list(~ mean(., trim = .2), ~ median(., na.rm = TRUE))\"\n"
     ]
    },
    {
     "data": {
      "text/html": [
       "<table class=\"dataframe\">\n",
       "<caption>A data.frame: 27 × 3</caption>\n",
       "<thead>\n",
       "\t<tr><th scope=col>cov</th><th scope=col>na</th><th scope=col>flag</th></tr>\n",
       "\t<tr><th scope=col>&lt;chr&gt;</th><th scope=col>&lt;dbl&gt;</th><th scope=col>&lt;lgl&gt;</th></tr>\n",
       "</thead>\n",
       "<tbody>\n",
       "\t<tr><td>Gender           </td><td> 0.0000000</td><td>FALSE</td></tr>\n",
       "\t<tr><td>Age              </td><td> 0.0000000</td><td>FALSE</td></tr>\n",
       "\t<tr><td>Gcs Include      </td><td> 0.0000000</td><td>FALSE</td></tr>\n",
       "\t<tr><td>Weight           </td><td> 0.8634401</td><td>FALSE</td></tr>\n",
       "\t<tr><td>Sapsii           </td><td> 0.0000000</td><td>FALSE</td></tr>\n",
       "\t<tr><td>Sofa 24hours     </td><td> 0.0000000</td><td>FALSE</td></tr>\n",
       "\t<tr><td>Survival Days    </td><td> 0.0000000</td><td>FALSE</td></tr>\n",
       "\t<tr><td>Infection        </td><td>26.2213133</td><td>FALSE</td></tr>\n",
       "\t<tr><td>MAP              </td><td> 0.2272211</td><td>FALSE</td></tr>\n",
       "\t<tr><td>Heart Rate       </td><td> 0.2044990</td><td>FALSE</td></tr>\n",
       "\t<tr><td>Temperature      </td><td> 3.0447626</td><td>FALSE</td></tr>\n",
       "\t<tr><td>CVP              </td><td>74.4149057</td><td> TRUE</td></tr>\n",
       "\t<tr><td>WBC              </td><td> 1.5451034</td><td>FALSE</td></tr>\n",
       "\t<tr><td>HEMOGLOBIN       </td><td> 1.5223813</td><td>FALSE</td></tr>\n",
       "\t<tr><td>PLATELET         </td><td> 1.4996592</td><td>FALSE</td></tr>\n",
       "\t<tr><td>SODIUM           </td><td> 1.0679391</td><td>FALSE</td></tr>\n",
       "\t<tr><td>POTASSIUM        </td><td> 1.0679391</td><td>FALSE</td></tr>\n",
       "\t<tr><td>BICARBONATE      </td><td> 1.1815496</td><td>FALSE</td></tr>\n",
       "\t<tr><td>CHLORIDE         </td><td> 1.0679391</td><td>FALSE</td></tr>\n",
       "\t<tr><td>BUN              </td><td> 1.2497160</td><td>FALSE</td></tr>\n",
       "\t<tr><td>LACTATE          </td><td>39.9000227</td><td>FALSE</td></tr>\n",
       "\t<tr><td>CREATININE       </td><td> 1.2269939</td><td>FALSE</td></tr>\n",
       "\t<tr><td>PH               </td><td>37.8323108</td><td>FALSE</td></tr>\n",
       "\t<tr><td>PO2              </td><td>40.7180186</td><td>FALSE</td></tr>\n",
       "\t<tr><td>PCO2             </td><td>40.7180186</td><td>FALSE</td></tr>\n",
       "\t<tr><td>TROPONIN         </td><td>79.9363781</td><td> TRUE</td></tr>\n",
       "\t<tr><td>CREATININE KINASE</td><td>67.5528289</td><td> TRUE</td></tr>\n",
       "</tbody>\n",
       "</table>\n"
      ],
      "text/latex": [
       "A data.frame: 27 × 3\n",
       "\\begin{tabular}{lll}\n",
       " cov & na & flag\\\\\n",
       " <chr> & <dbl> & <lgl>\\\\\n",
       "\\hline\n",
       "\t Gender            &  0.0000000 & FALSE\\\\\n",
       "\t Age               &  0.0000000 & FALSE\\\\\n",
       "\t Gcs Include       &  0.0000000 & FALSE\\\\\n",
       "\t Weight            &  0.8634401 & FALSE\\\\\n",
       "\t Sapsii            &  0.0000000 & FALSE\\\\\n",
       "\t Sofa 24hours      &  0.0000000 & FALSE\\\\\n",
       "\t Survival Days     &  0.0000000 & FALSE\\\\\n",
       "\t Infection         & 26.2213133 & FALSE\\\\\n",
       "\t MAP               &  0.2272211 & FALSE\\\\\n",
       "\t Heart Rate        &  0.2044990 & FALSE\\\\\n",
       "\t Temperature       &  3.0447626 & FALSE\\\\\n",
       "\t CVP               & 74.4149057 &  TRUE\\\\\n",
       "\t WBC               &  1.5451034 & FALSE\\\\\n",
       "\t HEMOGLOBIN        &  1.5223813 & FALSE\\\\\n",
       "\t PLATELET          &  1.4996592 & FALSE\\\\\n",
       "\t SODIUM            &  1.0679391 & FALSE\\\\\n",
       "\t POTASSIUM         &  1.0679391 & FALSE\\\\\n",
       "\t BICARBONATE       &  1.1815496 & FALSE\\\\\n",
       "\t CHLORIDE          &  1.0679391 & FALSE\\\\\n",
       "\t BUN               &  1.2497160 & FALSE\\\\\n",
       "\t LACTATE           & 39.9000227 & FALSE\\\\\n",
       "\t CREATININE        &  1.2269939 & FALSE\\\\\n",
       "\t PH                & 37.8323108 & FALSE\\\\\n",
       "\t PO2               & 40.7180186 & FALSE\\\\\n",
       "\t PCO2              & 40.7180186 & FALSE\\\\\n",
       "\t TROPONIN          & 79.9363781 &  TRUE\\\\\n",
       "\t CREATININE KINASE & 67.5528289 &  TRUE\\\\\n",
       "\\end{tabular}\n"
      ],
      "text/markdown": [
       "\n",
       "A data.frame: 27 × 3\n",
       "\n",
       "| cov &lt;chr&gt; | na &lt;dbl&gt; | flag &lt;lgl&gt; |\n",
       "|---|---|---|\n",
       "| Gender            |  0.0000000 | FALSE |\n",
       "| Age               |  0.0000000 | FALSE |\n",
       "| Gcs Include       |  0.0000000 | FALSE |\n",
       "| Weight            |  0.8634401 | FALSE |\n",
       "| Sapsii            |  0.0000000 | FALSE |\n",
       "| Sofa 24hours      |  0.0000000 | FALSE |\n",
       "| Survival Days     |  0.0000000 | FALSE |\n",
       "| Infection         | 26.2213133 | FALSE |\n",
       "| MAP               |  0.2272211 | FALSE |\n",
       "| Heart Rate        |  0.2044990 | FALSE |\n",
       "| Temperature       |  3.0447626 | FALSE |\n",
       "| CVP               | 74.4149057 |  TRUE |\n",
       "| WBC               |  1.5451034 | FALSE |\n",
       "| HEMOGLOBIN        |  1.5223813 | FALSE |\n",
       "| PLATELET          |  1.4996592 | FALSE |\n",
       "| SODIUM            |  1.0679391 | FALSE |\n",
       "| POTASSIUM         |  1.0679391 | FALSE |\n",
       "| BICARBONATE       |  1.1815496 | FALSE |\n",
       "| CHLORIDE          |  1.0679391 | FALSE |\n",
       "| BUN               |  1.2497160 | FALSE |\n",
       "| LACTATE           | 39.9000227 | FALSE |\n",
       "| CREATININE        |  1.2269939 | FALSE |\n",
       "| PH                | 37.8323108 | FALSE |\n",
       "| PO2               | 40.7180186 | FALSE |\n",
       "| PCO2              | 40.7180186 | FALSE |\n",
       "| TROPONIN          | 79.9363781 |  TRUE |\n",
       "| CREATININE KINASE | 67.5528289 |  TRUE |\n",
       "\n"
      ],
      "text/plain": [
       "   cov               na         flag \n",
       "1  Gender             0.0000000 FALSE\n",
       "2  Age                0.0000000 FALSE\n",
       "3  Gcs Include        0.0000000 FALSE\n",
       "4  Weight             0.8634401 FALSE\n",
       "5  Sapsii             0.0000000 FALSE\n",
       "6  Sofa 24hours       0.0000000 FALSE\n",
       "7  Survival Days      0.0000000 FALSE\n",
       "8  Infection         26.2213133 FALSE\n",
       "9  MAP                0.2272211 FALSE\n",
       "10 Heart Rate         0.2044990 FALSE\n",
       "11 Temperature        3.0447626 FALSE\n",
       "12 CVP               74.4149057  TRUE\n",
       "13 WBC                1.5451034 FALSE\n",
       "14 HEMOGLOBIN         1.5223813 FALSE\n",
       "15 PLATELET           1.4996592 FALSE\n",
       "16 SODIUM             1.0679391 FALSE\n",
       "17 POTASSIUM          1.0679391 FALSE\n",
       "18 BICARBONATE        1.1815496 FALSE\n",
       "19 CHLORIDE           1.0679391 FALSE\n",
       "20 BUN                1.2497160 FALSE\n",
       "21 LACTATE           39.9000227 FALSE\n",
       "22 CREATININE         1.2269939 FALSE\n",
       "23 PH                37.8323108 FALSE\n",
       "24 PO2               40.7180186 FALSE\n",
       "25 PCO2              40.7180186 FALSE\n",
       "26 TROPONIN          79.9363781  TRUE\n",
       "27 CREATININE KINASE 67.5528289  TRUE"
      ]
     },
     "metadata": {},
     "output_type": "display_data"
    }
   ],
   "source": [
    "## missing data \n",
    "missing <- full_data %>%\n",
    "dplyr::select(features) %>%\n",
    "summarise_all(funs(sum(is.na(.)) / length(.) * 100)) %>%\n",
    "gather(\"cov\", \"na\") %>%\n",
    "mutate(cov = str_replace_all(cov, \"_\", \" \")) %>%\n",
    "mutate(cov_ = cov) %>%\n",
    "mutate(cov = str_replace_all(cov, \"lab|vs|flag|icd|first\", \"\")) %>%\n",
    "mutate(cov = str_replace_all(cov, \"\\\\s+$|^\\\\s+\", \"\")) %>%\n",
    "mutate(cov = case_when(\n",
    "    grepl(\"icd|lab\", cov_) ~ toupper(cov),\n",
    "    TRUE ~ tools::toTitleCase(cov)\n",
    ")) %>%\n",
    "mutate(cov = case_when(\n",
    "    cov == \"Weight\" ~ \"Weight\",\n",
    "    cov == \"Saps\" ~ \"SAPS Score\",\n",
    "    cov == \"Sofa\" ~ \"SOFA Score\",\n",
    "    cov == \"Vent\" ~ \"Ventilation Use (1st 24 Hrs)\",\n",
    "    cov == \"Vaso\" ~ \"Vasopressor Use (1st 24 Hrs)\",\n",
    "    cov == \"gcs_include\" ~ \"GCs\",\n",
    "    cov == \"Temp\" ~ \"Temperature\",\n",
    "    cov == \"Map\" ~ \"MAP\",\n",
    "    cov == \"Cvp\" ~ \"CVP\",\n",
    "    TRUE ~ cov\n",
    ")) %>%\n",
    "dplyr::select(-cov_) %>%\n",
    "mutate(flag = na > 50)\n",
    "\n",
    "missing"
   ]
  },
  {
   "cell_type": "markdown",
   "metadata": {},
   "source": []
  },
  {
   "cell_type": "code",
   "execution_count": 9,
   "metadata": {
    "vscode": {
     "languageId": "r"
    }
   },
   "outputs": [],
   "source": [
    "options(repr.plot.width = 10, repr.plot.height = 6.2)"
   ]
  },
  {
   "cell_type": "code",
   "execution_count": 10,
   "metadata": {
    "vscode": {
     "languageId": "r"
    }
   },
   "outputs": [
    {
     "name": "stderr",
     "output_type": "stream",
     "text": [
      "Warning message:\n",
      "\"\u001b[1m\u001b[22mThe `<scale>` argument of `guides()` cannot be `FALSE`. Use \"none\" instead as\n",
      "of ggplot2 3.3.4.\"\n"
     ]
    },
    {
     "data": {
      "image/png": "[encoded data removed]",
      "text/plain": [
       "plot without title"
      ]
     },
     "metadata": {
      "image/png": {
       "height": 372,
       "width": 600
      }
     },
     "output_type": "display_data"
    }
   ],
   "source": [
    "missing %>%\n",
    "ggplot() +\n",
    "geom_col(aes(x = cov, y = na, fill = as.character(flag)), width = .5) +\n",
    "scale_x_discrete(limits = missing$cov) +\n",
    "scale_y_continuous(breaks = seq(0, 100, 10)) +\n",
    "scale_fill_manual(values = c(rgb(66, 139, 202, maxColorValue = 255),\n",
    "                             rgb(210, 73, 80, maxColorValue = 255))) +\n",
    "labs(x = \"\", y = \"\") +\n",
    "guides(fill = FALSE) +\n",
    "theme_bw() +\n",
    "theme(axis.text.x = element_text(angle = 90, hjust = 1, vjust = .5),\n",
    "      panel.grid.minor.x = element_blank(), panel.grid.major.x = element_blank())"
   ]
  },
  {
   "cell_type": "code",
   "execution_count": 11,
   "metadata": {
    "vscode": {
     "languageId": "r"
    }
   },
   "outputs": [],
   "source": [
    "data.table::fwrite(missing %>% dplyr::select(-flag), file.path(data_dir, \"missing.csv\"))"
   ]
  }
 ],
 "metadata": {
  "kernelspec": {
   "display_name": "R",
   "language": "R",
   "name": "ir"
  },
  "language_info": {
   "codemirror_mode": "r",
   "file_extension": ".r",
   "mimetype": "text/x-r-source",
   "name": "R",
   "pygments_lexer": "r",
   "version": "4.3.2"
  }
 },
 "nbformat": 4,
 "nbformat_minor": 2
}
