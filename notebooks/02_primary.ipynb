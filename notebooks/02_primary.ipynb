{
 "cells": [
  {
   "cell_type": "code",
   "execution_count": 1,
   "metadata": {
    "vscode": {
     "languageId": "r"
    }
   },
   "outputs": [
    {
     "name": "stderr",
     "output_type": "stream",
     "text": [
      "Warning message:\n",
      "\"package 'RPostgreSQL' was built under R version 4.3.3\"\n",
      "Loading required package: DBI\n",
      "\n"
     ]
    },
    {
     "name": "stderr",
     "output_type": "stream",
     "text": [
      "Warning message:\n",
      "\"package 'twang' was built under R version 4.3.3\"\n",
      "Warning message in .recacheSubclasses(def@className, def, env):\n",
      "\"undefined subclass \"ndiMatrix\" of class \"replValueSp\"; definition not updated\"\n",
      "To reproduce results from prior versions of the twang package, please see the version=\"legacy\" option described in the documentation.\n",
      "\n",
      "Warning message:\n",
      "\"package 'Matching' was built under R version 4.3.3\"\n",
      "Loading required package: MASS\n",
      "\n",
      "## \n",
      "##  Matching (Version 4.10-14, Build Date: 2023-09-13)\n",
      "##  See https://www.jsekhon.com for additional documentation.\n",
      "##  Please cite software as:\n",
      "##   Jasjeet S. Sekhon. 2011. ``Multivariate and Propensity Score Matching\n",
      "##   Software with Automated Balance Optimization: The Matching package for R.''\n",
      "##   Journal of Statistical Software, 42(7): 1-52. \n",
      "##\n",
      "\n",
      "\n",
      "Warning message:\n",
      "\"package 'tidyverse' was built under R version 4.3.3\"\n",
      "Warning message:\n",
      "\"package 'ggplot2' was built under R version 4.3.3\"\n",
      "Warning message:\n",
      "\"package 'readr' was built under R version 4.3.3\"\n",
      "Warning message:\n",
      "\"package 'forcats' was built under R version 4.3.3\"\n",
      "Warning message:\n",
      "\"package 'lubridate' was built under R version 4.3.3\"\n",
      "── \u001b[1mAttaching core tidyverse packages\u001b[22m ──────────────────────── tidyverse 2.0.0 ──\n",
      "\u001b[32m✔\u001b[39m \u001b[34mdplyr    \u001b[39m 1.1.4     \u001b[32m✔\u001b[39m \u001b[34mreadr    \u001b[39m 2.1.5\n",
      "\u001b[32m✔\u001b[39m \u001b[34mforcats  \u001b[39m 1.0.0     \u001b[32m✔\u001b[39m \u001b[34mstringr  \u001b[39m 1.5.1\n",
      "\u001b[32m✔\u001b[39m \u001b[34mggplot2  \u001b[39m 3.5.1     \u001b[32m✔\u001b[39m \u001b[34mtibble   \u001b[39m 3.2.1\n",
      "\u001b[32m✔\u001b[39m \u001b[34mlubridate\u001b[39m 1.9.3     \u001b[32m✔\u001b[39m \u001b[34mtidyr    \u001b[39m 1.3.1\n",
      "\u001b[32m✔\u001b[39m \u001b[34mpurrr    \u001b[39m 1.0.2     \n",
      "── \u001b[1mConflicts\u001b[22m ────────────────────────────────────────── tidyverse_conflicts() ──\n",
      "\u001b[31m✖\u001b[39m \u001b[34mdplyr\u001b[39m::\u001b[32mfilter()\u001b[39m masks \u001b[34mstats\u001b[39m::filter()\n",
      "\u001b[31m✖\u001b[39m \u001b[34mdplyr\u001b[39m::\u001b[32mlag()\u001b[39m    masks \u001b[34mstats\u001b[39m::lag()\n",
      "\u001b[31m✖\u001b[39m \u001b[34mdplyr\u001b[39m::\u001b[32mselect()\u001b[39m masks \u001b[34mMASS\u001b[39m::select()\n",
      "\u001b[36mℹ\u001b[39m Use the conflicted package (\u001b[3m\u001b[34m<http://conflicted.r-lib.org/>\u001b[39m\u001b[23m) to force all conflicts to become errors\n",
      "Warning message:\n",
      "\"package 'survey' was built under R version 4.3.3\"\n",
      "Loading required package: grid\n",
      "\n",
      "Loading required package: Matrix\n",
      "\n",
      "\n",
      "Attaching package: 'Matrix'\n",
      "\n",
      "\n",
      "The following objects are masked from 'package:tidyr':\n",
      "\n",
      "    expand, pack, unpack\n",
      "\n",
      "\n",
      "Loading required package: survival\n",
      "\n",
      "\n",
      "Attaching package: 'survey'\n",
      "\n",
      "\n",
      "The following object is masked from 'package:graphics':\n",
      "\n",
      "    dotchart\n",
      "\n",
      "\n"
     ]
    }
   ],
   "source": [
    "library(RPostgreSQL)\n",
    "library(twang)\n",
    "library(Matching)\n",
    "library(tidyverse)\n",
    "library(survey)"
   ]
  },
  {
   "cell_type": "code",
   "execution_count": 2,
   "metadata": {
    "vscode": {
     "languageId": "r"
    }
   },
   "outputs": [],
   "source": [
    "data_dir <- file.path(\"..\", \"data\")\n",
    "sql_dir <- file.path(\"..\", \"sql\")"
   ]
  },
  {
   "cell_type": "code",
   "execution_count": 3,
   "metadata": {
    "vscode": {
     "languageId": "r"
    }
   },
   "outputs": [],
   "source": [
    "\n",
    "con <- dbConnect(RPostgres::Postgres(),\n",
    "                  host = \"127.0.0.1\",\n",
    "                  port = 5432,\n",
    "                  dbname = \"mimiciv\",\n",
    "                  user = \"postgres\",\n",
    "                  password = \"123\")\n"
   ]
  },
  {
   "cell_type": "code",
   "execution_count": 4,
   "metadata": {
    "vscode": {
     "languageId": "r"
    }
   },
   "outputs": [
    {
     "data": {
      "text/html": [
       "<table class=\"dataframe\">\n",
       "<caption>A data.frame: 6 × 116</caption>\n",
       "<thead>\n",
       "\t<tr><th></th><th scope=col>stay_id</th><th scope=col>hadm_id</th><th scope=col>subject_id</th><th scope=col>gender</th><th scope=col>age</th><th scope=col>sapsii</th><th scope=col>icu_intime</th><th scope=col>icu_outtime</th><th scope=col>weight</th><th scope=col>sofa_24hours</th><th scope=col>⋯</th><th scope=col>lab_sodium_flag</th><th scope=col>lab_bun_flag</th><th scope=col>lab_bicarbonate_flag</th><th scope=col>lab_bnp_flag</th><th scope=col>lab_pco2_flag</th><th scope=col>lab_creatinine_flag</th><th scope=col>lab_potassium_flag</th><th scope=col>lab_troponin_flag</th><th scope=col>lab_po2_flag</th><th scope=col>lab_lactate_flag</th></tr>\n",
       "\t<tr><th></th><th scope=col>&lt;int&gt;</th><th scope=col>&lt;int&gt;</th><th scope=col>&lt;int&gt;</th><th scope=col>&lt;chr&gt;</th><th scope=col>&lt;dbl&gt;</th><th scope=col>&lt;int&gt;</th><th scope=col>&lt;dttm&gt;</th><th scope=col>&lt;dttm&gt;</th><th scope=col>&lt;dbl&gt;</th><th scope=col>&lt;int&gt;</th><th scope=col>⋯</th><th scope=col>&lt;int&gt;</th><th scope=col>&lt;int&gt;</th><th scope=col>&lt;int&gt;</th><th scope=col>&lt;int&gt;</th><th scope=col>&lt;int&gt;</th><th scope=col>&lt;int&gt;</th><th scope=col>&lt;int&gt;</th><th scope=col>&lt;int&gt;</th><th scope=col>&lt;int&gt;</th><th scope=col>&lt;int&gt;</th></tr>\n",
       "</thead>\n",
       "<tbody>\n",
       "\t<tr><th scope=row>1</th><td>38302142</td><td>20475690</td><td>13620446</td><td>F</td><td>66.04835</td><td>31</td><td>2159-01-21 01:45:32</td><td>2159-01-25 14:09:02</td><td>138.0</td><td> 1</td><td>⋯</td><td>1</td><td>1</td><td>1</td><td>0</td><td>1</td><td>1</td><td>1</td><td>0</td><td>1</td><td>1</td></tr>\n",
       "\t<tr><th scope=row>2</th><td>31869153</td><td>21383344</td><td>15359363</td><td>F</td><td>41.91122</td><td>39</td><td>2166-12-02 16:08:45</td><td>2166-12-05 02:10:02</td><td> 70.0</td><td> 0</td><td>⋯</td><td>1</td><td>1</td><td>1</td><td>0</td><td>0</td><td>1</td><td>1</td><td>0</td><td>0</td><td>0</td></tr>\n",
       "\t<tr><th scope=row>3</th><td>31501167</td><td>20944291</td><td>12162143</td><td>F</td><td>87.59137</td><td>35</td><td>2174-08-05 00:49:12</td><td>2174-08-06 16:13:22</td><td> 65.0</td><td> 1</td><td>⋯</td><td>1</td><td>1</td><td>1</td><td>0</td><td>1</td><td>1</td><td>1</td><td>0</td><td>1</td><td>1</td></tr>\n",
       "\t<tr><th scope=row>4</th><td>39256124</td><td>24959920</td><td>18226317</td><td>M</td><td>66.88656</td><td>28</td><td>2130-11-20 19:28:29</td><td>2130-11-25 12:42:59</td><td> 88.0</td><td> 3</td><td>⋯</td><td>1</td><td>1</td><td>1</td><td>0</td><td>0</td><td>1</td><td>1</td><td>0</td><td>0</td><td>0</td></tr>\n",
       "\t<tr><th scope=row>5</th><td>31132695</td><td>28164203</td><td>15928453</td><td>F</td><td>44.39155</td><td>55</td><td>2113-05-24 00:14:32</td><td>2113-05-29 14:24:45</td><td> 45.9</td><td>10</td><td>⋯</td><td>1</td><td>1</td><td>1</td><td>0</td><td>1</td><td>1</td><td>1</td><td>0</td><td>1</td><td>1</td></tr>\n",
       "\t<tr><th scope=row>6</th><td>39784690</td><td>23246205</td><td>16810503</td><td>M</td><td>56.61848</td><td>30</td><td>2149-08-14 21:32:37</td><td>2149-08-21 12:15:14</td><td> 80.0</td><td> 3</td><td>⋯</td><td>1</td><td>1</td><td>1</td><td>0</td><td>1</td><td>1</td><td>1</td><td>0</td><td>1</td><td>1</td></tr>\n",
       "</tbody>\n",
       "</table>\n"
      ],
      "text/latex": [
       "A data.frame: 6 × 116\n",
       "\\begin{tabular}{r|lllllllllllllllllllll}\n",
       "  & stay\\_id & hadm\\_id & subject\\_id & gender & age & sapsii & icu\\_intime & icu\\_outtime & weight & sofa\\_24hours & ⋯ & lab\\_sodium\\_flag & lab\\_bun\\_flag & lab\\_bicarbonate\\_flag & lab\\_bnp\\_flag & lab\\_pco2\\_flag & lab\\_creatinine\\_flag & lab\\_potassium\\_flag & lab\\_troponin\\_flag & lab\\_po2\\_flag & lab\\_lactate\\_flag\\\\\n",
       "  & <int> & <int> & <int> & <chr> & <dbl> & <int> & <dttm> & <dttm> & <dbl> & <int> & ⋯ & <int> & <int> & <int> & <int> & <int> & <int> & <int> & <int> & <int> & <int>\\\\\n",
       "\\hline\n",
       "\t1 & 38302142 & 20475690 & 13620446 & F & 66.04835 & 31 & 2159-01-21 01:45:32 & 2159-01-25 14:09:02 & 138.0 &  1 & ⋯ & 1 & 1 & 1 & 0 & 1 & 1 & 1 & 0 & 1 & 1\\\\\n",
       "\t2 & 31869153 & 21383344 & 15359363 & F & 41.91122 & 39 & 2166-12-02 16:08:45 & 2166-12-05 02:10:02 &  70.0 &  0 & ⋯ & 1 & 1 & 1 & 0 & 0 & 1 & 1 & 0 & 0 & 0\\\\\n",
       "\t3 & 31501167 & 20944291 & 12162143 & F & 87.59137 & 35 & 2174-08-05 00:49:12 & 2174-08-06 16:13:22 &  65.0 &  1 & ⋯ & 1 & 1 & 1 & 0 & 1 & 1 & 1 & 0 & 1 & 1\\\\\n",
       "\t4 & 39256124 & 24959920 & 18226317 & M & 66.88656 & 28 & 2130-11-20 19:28:29 & 2130-11-25 12:42:59 &  88.0 &  3 & ⋯ & 1 & 1 & 1 & 0 & 0 & 1 & 1 & 0 & 0 & 0\\\\\n",
       "\t5 & 31132695 & 28164203 & 15928453 & F & 44.39155 & 55 & 2113-05-24 00:14:32 & 2113-05-29 14:24:45 &  45.9 & 10 & ⋯ & 1 & 1 & 1 & 0 & 1 & 1 & 1 & 0 & 1 & 1\\\\\n",
       "\t6 & 39784690 & 23246205 & 16810503 & M & 56.61848 & 30 & 2149-08-14 21:32:37 & 2149-08-21 12:15:14 &  80.0 &  3 & ⋯ & 1 & 1 & 1 & 0 & 1 & 1 & 1 & 0 & 1 & 1\\\\\n",
       "\\end{tabular}\n"
      ],
      "text/markdown": [
       "\n",
       "A data.frame: 6 × 116\n",
       "\n",
       "| <!--/--> | stay_id &lt;int&gt; | hadm_id &lt;int&gt; | subject_id &lt;int&gt; | gender &lt;chr&gt; | age &lt;dbl&gt; | sapsii &lt;int&gt; | icu_intime &lt;dttm&gt; | icu_outtime &lt;dttm&gt; | weight &lt;dbl&gt; | sofa_24hours &lt;int&gt; | ⋯ ⋯ | lab_sodium_flag &lt;int&gt; | lab_bun_flag &lt;int&gt; | lab_bicarbonate_flag &lt;int&gt; | lab_bnp_flag &lt;int&gt; | lab_pco2_flag &lt;int&gt; | lab_creatinine_flag &lt;int&gt; | lab_potassium_flag &lt;int&gt; | lab_troponin_flag &lt;int&gt; | lab_po2_flag &lt;int&gt; | lab_lactate_flag &lt;int&gt; |\n",
       "|---|---|---|---|---|---|---|---|---|---|---|---|---|---|---|---|---|---|---|---|---|---|\n",
       "| 1 | 38302142 | 20475690 | 13620446 | F | 66.04835 | 31 | 2159-01-21 01:45:32 | 2159-01-25 14:09:02 | 138.0 |  1 | ⋯ | 1 | 1 | 1 | 0 | 1 | 1 | 1 | 0 | 1 | 1 |\n",
       "| 2 | 31869153 | 21383344 | 15359363 | F | 41.91122 | 39 | 2166-12-02 16:08:45 | 2166-12-05 02:10:02 |  70.0 |  0 | ⋯ | 1 | 1 | 1 | 0 | 0 | 1 | 1 | 0 | 0 | 0 |\n",
       "| 3 | 31501167 | 20944291 | 12162143 | F | 87.59137 | 35 | 2174-08-05 00:49:12 | 2174-08-06 16:13:22 |  65.0 |  1 | ⋯ | 1 | 1 | 1 | 0 | 1 | 1 | 1 | 0 | 1 | 1 |\n",
       "| 4 | 39256124 | 24959920 | 18226317 | M | 66.88656 | 28 | 2130-11-20 19:28:29 | 2130-11-25 12:42:59 |  88.0 |  3 | ⋯ | 1 | 1 | 1 | 0 | 0 | 1 | 1 | 0 | 0 | 0 |\n",
       "| 5 | 31132695 | 28164203 | 15928453 | F | 44.39155 | 55 | 2113-05-24 00:14:32 | 2113-05-29 14:24:45 |  45.9 | 10 | ⋯ | 1 | 1 | 1 | 0 | 1 | 1 | 1 | 0 | 1 | 1 |\n",
       "| 6 | 39784690 | 23246205 | 16810503 | M | 56.61848 | 30 | 2149-08-14 21:32:37 | 2149-08-21 12:15:14 |  80.0 |  3 | ⋯ | 1 | 1 | 1 | 0 | 1 | 1 | 1 | 0 | 1 | 1 |\n",
       "\n"
      ],
      "text/plain": [
       "  stay_id  hadm_id  subject_id gender age      sapsii icu_intime         \n",
       "1 38302142 20475690 13620446   F      66.04835 31     2159-01-21 01:45:32\n",
       "2 31869153 21383344 15359363   F      41.91122 39     2166-12-02 16:08:45\n",
       "3 31501167 20944291 12162143   F      87.59137 35     2174-08-05 00:49:12\n",
       "4 39256124 24959920 18226317   M      66.88656 28     2130-11-20 19:28:29\n",
       "5 31132695 28164203 15928453   F      44.39155 55     2113-05-24 00:14:32\n",
       "6 39784690 23246205 16810503   M      56.61848 30     2149-08-14 21:32:37\n",
       "  icu_outtime         weight sofa_24hours ⋯ lab_sodium_flag lab_bun_flag\n",
       "1 2159-01-25 14:09:02 138.0   1           ⋯ 1               1           \n",
       "2 2166-12-05 02:10:02  70.0   0           ⋯ 1               1           \n",
       "3 2174-08-06 16:13:22  65.0   1           ⋯ 1               1           \n",
       "4 2130-11-25 12:42:59  88.0   3           ⋯ 1               1           \n",
       "5 2113-05-29 14:24:45  45.9  10           ⋯ 1               1           \n",
       "6 2149-08-21 12:15:14  80.0   3           ⋯ 1               1           \n",
       "  lab_bicarbonate_flag lab_bnp_flag lab_pco2_flag lab_creatinine_flag\n",
       "1 1                    0            1             1                  \n",
       "2 1                    0            0             1                  \n",
       "3 1                    0            1             1                  \n",
       "4 1                    0            0             1                  \n",
       "5 1                    0            1             1                  \n",
       "6 1                    0            1             1                  \n",
       "  lab_potassium_flag lab_troponin_flag lab_po2_flag lab_lactate_flag\n",
       "1 1                  0                 1            1               \n",
       "2 1                  0                 0            0               \n",
       "3 1                  0                 1            1               \n",
       "4 1                  0                 0            0               \n",
       "5 1                  0                 1            1               \n",
       "6 1                  0                 1            1               "
      ]
     },
     "metadata": {},
     "output_type": "display_data"
    },
    {
     "data": {
      "text/html": [
       "<style>\n",
       ".list-inline {list-style: none; margin:0; padding: 0}\n",
       ".list-inline>li {display: inline-block}\n",
       ".list-inline>li:not(:last-child)::after {content: \"\\00b7\"; padding: 0 .5ex}\n",
       "</style>\n",
       "<ol class=list-inline><li>'stay_id'</li><li>'hadm_id'</li><li>'subject_id'</li><li>'gender'</li><li>'age'</li><li>'sapsii'</li><li>'icu_intime'</li><li>'icu_outtime'</li><li>'weight'</li><li>'sofa_24hours'</li><li>'infection'</li><li>'mort_28_day'</li><li>'survival_days'</li><li>'gcs_include'</li><li>'gcs_include_combine'</li><li>'vs_heart_rate_first'</li><li>'vs_heart_rate_min'</li><li>'vs_heart_rate_max'</li><li>'vs_cvp_first'</li><li>'vs_cvp_min'</li><li>'vs_cvp_max'</li><li>'vs_map_first'</li><li>'vs_map_min'</li><li>'vs_map_max'</li><li>'vs_temp_first'</li><li>'vs_temp_min'</li><li>'vs_temp_max'</li><li>'lab_hemoglobin_first'</li><li>'lab_hemoglobin_min'</li><li>'lab_hemoglobin_max'</li><li>'lab_hemoglobin_abnormal'</li><li>'lab_platelet_first'</li><li>'lab_platelet_min'</li><li>'lab_platelet_max'</li><li>'lab_platelet_abnormal'</li><li>'lab_creatinine_kinase_first'</li><li>'lab_creatinine_kinase_min'</li><li>'lab_creatinine_kinase_max'</li><li>'lab_creatinine_kinase_abnormal'</li><li>'lab_wbc_first'</li><li>'lab_wbc_min'</li><li>'lab_wbc_max'</li><li>'lab_wbc_abnormal'</li><li>'lab_ph_first'</li><li>'lab_ph_min'</li><li>'lab_ph_max'</li><li>'lab_ph_abnormal'</li><li>'lab_chloride_first'</li><li>'lab_chloride_min'</li><li>'lab_chloride_max'</li><li>'lab_chloride_abnormal'</li><li>'lab_sodium_first'</li><li>'lab_sodium_min'</li><li>'lab_sodium_max'</li><li>'lab_sodium_abnormal'</li><li>'lab_bun_first'</li><li>'lab_bun_min'</li><li>'lab_bun_max'</li><li>'lab_bun_abnormal'</li><li>'lab_bicarbonate_first'</li><li>'lab_bicarbonate_min'</li><li>'lab_bicarbonate_max'</li><li>'lab_bicarbonate_abnormal'</li><li>'lab_pco2_first'</li><li>'lab_pco2_min'</li><li>'lab_pco2_max'</li><li>'lab_pco2_abnormal'</li><li>'lab_creatinine_first'</li><li>'lab_creatinine_min'</li><li>'lab_creatinine_max'</li><li>'lab_creatinine_abnormal'</li><li>'lab_potassium_first'</li><li>'lab_potassium_min'</li><li>'lab_potassium_max'</li><li>'lab_potassium_abnormal'</li><li>'lab_troponin_first'</li><li>'lab_troponin_min'</li><li>'lab_troponin_max'</li><li>'lab_troponin_abnormal'</li><li>'lab_po2_first'</li><li>'lab_po2_min'</li><li>'lab_po2_max'</li><li>'lab_po2_abnormal'</li><li>'lab_lactate_first'</li><li>'lab_lactate_min'</li><li>'lab_lactate_max'</li><li>'lab_lactate_abnormal'</li><li>'pre_dose_val_rx'</li><li>'los_drug'</li><li>'cumulative_dose'</li><li>'gcs'</li><li>'ca'</li><li>'infection_flag'</li><li>'dose_val_rx_average'</li><li>'los_drug_average'</li><li>'event_state'</li><li>'vs_heart_rate_flag'</li><li>'vs_cvp_flag'</li><li>'vs_map_flag'</li><li>'vs_temp_flag'</li><li>'lab_hemoglobin_flag'</li><li>'lab_platelet_flag'</li><li>'lab_creatinine_kinase_flag'</li><li>'lab_wbc_flag'</li><li>'lab_ph_flag'</li><li>'lab_chloride_flag'</li><li>'lab_sodium_flag'</li><li>'lab_bun_flag'</li><li>'lab_bicarbonate_flag'</li><li>'lab_bnp_flag'</li><li>'lab_pco2_flag'</li><li>'lab_creatinine_flag'</li><li>'lab_potassium_flag'</li><li>'lab_troponin_flag'</li><li>'lab_po2_flag'</li><li>'lab_lactate_flag'</li></ol>\n"
      ],
      "text/latex": [
       "\\begin{enumerate*}\n",
       "\\item 'stay\\_id'\n",
       "\\item 'hadm\\_id'\n",
       "\\item 'subject\\_id'\n",
       "\\item 'gender'\n",
       "\\item 'age'\n",
       "\\item 'sapsii'\n",
       "\\item 'icu\\_intime'\n",
       "\\item 'icu\\_outtime'\n",
       "\\item 'weight'\n",
       "\\item 'sofa\\_24hours'\n",
       "\\item 'infection'\n",
       "\\item 'mort\\_28\\_day'\n",
       "\\item 'survival\\_days'\n",
       "\\item 'gcs\\_include'\n",
       "\\item 'gcs\\_include\\_combine'\n",
       "\\item 'vs\\_heart\\_rate\\_first'\n",
       "\\item 'vs\\_heart\\_rate\\_min'\n",
       "\\item 'vs\\_heart\\_rate\\_max'\n",
       "\\item 'vs\\_cvp\\_first'\n",
       "\\item 'vs\\_cvp\\_min'\n",
       "\\item 'vs\\_cvp\\_max'\n",
       "\\item 'vs\\_map\\_first'\n",
       "\\item 'vs\\_map\\_min'\n",
       "\\item 'vs\\_map\\_max'\n",
       "\\item 'vs\\_temp\\_first'\n",
       "\\item 'vs\\_temp\\_min'\n",
       "\\item 'vs\\_temp\\_max'\n",
       "\\item 'lab\\_hemoglobin\\_first'\n",
       "\\item 'lab\\_hemoglobin\\_min'\n",
       "\\item 'lab\\_hemoglobin\\_max'\n",
       "\\item 'lab\\_hemoglobin\\_abnormal'\n",
       "\\item 'lab\\_platelet\\_first'\n",
       "\\item 'lab\\_platelet\\_min'\n",
       "\\item 'lab\\_platelet\\_max'\n",
       "\\item 'lab\\_platelet\\_abnormal'\n",
       "\\item 'lab\\_creatinine\\_kinase\\_first'\n",
       "\\item 'lab\\_creatinine\\_kinase\\_min'\n",
       "\\item 'lab\\_creatinine\\_kinase\\_max'\n",
       "\\item 'lab\\_creatinine\\_kinase\\_abnormal'\n",
       "\\item 'lab\\_wbc\\_first'\n",
       "\\item 'lab\\_wbc\\_min'\n",
       "\\item 'lab\\_wbc\\_max'\n",
       "\\item 'lab\\_wbc\\_abnormal'\n",
       "\\item 'lab\\_ph\\_first'\n",
       "\\item 'lab\\_ph\\_min'\n",
       "\\item 'lab\\_ph\\_max'\n",
       "\\item 'lab\\_ph\\_abnormal'\n",
       "\\item 'lab\\_chloride\\_first'\n",
       "\\item 'lab\\_chloride\\_min'\n",
       "\\item 'lab\\_chloride\\_max'\n",
       "\\item 'lab\\_chloride\\_abnormal'\n",
       "\\item 'lab\\_sodium\\_first'\n",
       "\\item 'lab\\_sodium\\_min'\n",
       "\\item 'lab\\_sodium\\_max'\n",
       "\\item 'lab\\_sodium\\_abnormal'\n",
       "\\item 'lab\\_bun\\_first'\n",
       "\\item 'lab\\_bun\\_min'\n",
       "\\item 'lab\\_bun\\_max'\n",
       "\\item 'lab\\_bun\\_abnormal'\n",
       "\\item 'lab\\_bicarbonate\\_first'\n",
       "\\item 'lab\\_bicarbonate\\_min'\n",
       "\\item 'lab\\_bicarbonate\\_max'\n",
       "\\item 'lab\\_bicarbonate\\_abnormal'\n",
       "\\item 'lab\\_pco2\\_first'\n",
       "\\item 'lab\\_pco2\\_min'\n",
       "\\item 'lab\\_pco2\\_max'\n",
       "\\item 'lab\\_pco2\\_abnormal'\n",
       "\\item 'lab\\_creatinine\\_first'\n",
       "\\item 'lab\\_creatinine\\_min'\n",
       "\\item 'lab\\_creatinine\\_max'\n",
       "\\item 'lab\\_creatinine\\_abnormal'\n",
       "\\item 'lab\\_potassium\\_first'\n",
       "\\item 'lab\\_potassium\\_min'\n",
       "\\item 'lab\\_potassium\\_max'\n",
       "\\item 'lab\\_potassium\\_abnormal'\n",
       "\\item 'lab\\_troponin\\_first'\n",
       "\\item 'lab\\_troponin\\_min'\n",
       "\\item 'lab\\_troponin\\_max'\n",
       "\\item 'lab\\_troponin\\_abnormal'\n",
       "\\item 'lab\\_po2\\_first'\n",
       "\\item 'lab\\_po2\\_min'\n",
       "\\item 'lab\\_po2\\_max'\n",
       "\\item 'lab\\_po2\\_abnormal'\n",
       "\\item 'lab\\_lactate\\_first'\n",
       "\\item 'lab\\_lactate\\_min'\n",
       "\\item 'lab\\_lactate\\_max'\n",
       "\\item 'lab\\_lactate\\_abnormal'\n",
       "\\item 'pre\\_dose\\_val\\_rx'\n",
       "\\item 'los\\_drug'\n",
       "\\item 'cumulative\\_dose'\n",
       "\\item 'gcs'\n",
       "\\item 'ca'\n",
       "\\item 'infection\\_flag'\n",
       "\\item 'dose\\_val\\_rx\\_average'\n",
       "\\item 'los\\_drug\\_average'\n",
       "\\item 'event\\_state'\n",
       "\\item 'vs\\_heart\\_rate\\_flag'\n",
       "\\item 'vs\\_cvp\\_flag'\n",
       "\\item 'vs\\_map\\_flag'\n",
       "\\item 'vs\\_temp\\_flag'\n",
       "\\item 'lab\\_hemoglobin\\_flag'\n",
       "\\item 'lab\\_platelet\\_flag'\n",
       "\\item 'lab\\_creatinine\\_kinase\\_flag'\n",
       "\\item 'lab\\_wbc\\_flag'\n",
       "\\item 'lab\\_ph\\_flag'\n",
       "\\item 'lab\\_chloride\\_flag'\n",
       "\\item 'lab\\_sodium\\_flag'\n",
       "\\item 'lab\\_bun\\_flag'\n",
       "\\item 'lab\\_bicarbonate\\_flag'\n",
       "\\item 'lab\\_bnp\\_flag'\n",
       "\\item 'lab\\_pco2\\_flag'\n",
       "\\item 'lab\\_creatinine\\_flag'\n",
       "\\item 'lab\\_potassium\\_flag'\n",
       "\\item 'lab\\_troponin\\_flag'\n",
       "\\item 'lab\\_po2\\_flag'\n",
       "\\item 'lab\\_lactate\\_flag'\n",
       "\\end{enumerate*}\n"
      ],
      "text/markdown": [
       "1. 'stay_id'\n",
       "2. 'hadm_id'\n",
       "3. 'subject_id'\n",
       "4. 'gender'\n",
       "5. 'age'\n",
       "6. 'sapsii'\n",
       "7. 'icu_intime'\n",
       "8. 'icu_outtime'\n",
       "9. 'weight'\n",
       "10. 'sofa_24hours'\n",
       "11. 'infection'\n",
       "12. 'mort_28_day'\n",
       "13. 'survival_days'\n",
       "14. 'gcs_include'\n",
       "15. 'gcs_include_combine'\n",
       "16. 'vs_heart_rate_first'\n",
       "17. 'vs_heart_rate_min'\n",
       "18. 'vs_heart_rate_max'\n",
       "19. 'vs_cvp_first'\n",
       "20. 'vs_cvp_min'\n",
       "21. 'vs_cvp_max'\n",
       "22. 'vs_map_first'\n",
       "23. 'vs_map_min'\n",
       "24. 'vs_map_max'\n",
       "25. 'vs_temp_first'\n",
       "26. 'vs_temp_min'\n",
       "27. 'vs_temp_max'\n",
       "28. 'lab_hemoglobin_first'\n",
       "29. 'lab_hemoglobin_min'\n",
       "30. 'lab_hemoglobin_max'\n",
       "31. 'lab_hemoglobin_abnormal'\n",
       "32. 'lab_platelet_first'\n",
       "33. 'lab_platelet_min'\n",
       "34. 'lab_platelet_max'\n",
       "35. 'lab_platelet_abnormal'\n",
       "36. 'lab_creatinine_kinase_first'\n",
       "37. 'lab_creatinine_kinase_min'\n",
       "38. 'lab_creatinine_kinase_max'\n",
       "39. 'lab_creatinine_kinase_abnormal'\n",
       "40. 'lab_wbc_first'\n",
       "41. 'lab_wbc_min'\n",
       "42. 'lab_wbc_max'\n",
       "43. 'lab_wbc_abnormal'\n",
       "44. 'lab_ph_first'\n",
       "45. 'lab_ph_min'\n",
       "46. 'lab_ph_max'\n",
       "47. 'lab_ph_abnormal'\n",
       "48. 'lab_chloride_first'\n",
       "49. 'lab_chloride_min'\n",
       "50. 'lab_chloride_max'\n",
       "51. 'lab_chloride_abnormal'\n",
       "52. 'lab_sodium_first'\n",
       "53. 'lab_sodium_min'\n",
       "54. 'lab_sodium_max'\n",
       "55. 'lab_sodium_abnormal'\n",
       "56. 'lab_bun_first'\n",
       "57. 'lab_bun_min'\n",
       "58. 'lab_bun_max'\n",
       "59. 'lab_bun_abnormal'\n",
       "60. 'lab_bicarbonate_first'\n",
       "61. 'lab_bicarbonate_min'\n",
       "62. 'lab_bicarbonate_max'\n",
       "63. 'lab_bicarbonate_abnormal'\n",
       "64. 'lab_pco2_first'\n",
       "65. 'lab_pco2_min'\n",
       "66. 'lab_pco2_max'\n",
       "67. 'lab_pco2_abnormal'\n",
       "68. 'lab_creatinine_first'\n",
       "69. 'lab_creatinine_min'\n",
       "70. 'lab_creatinine_max'\n",
       "71. 'lab_creatinine_abnormal'\n",
       "72. 'lab_potassium_first'\n",
       "73. 'lab_potassium_min'\n",
       "74. 'lab_potassium_max'\n",
       "75. 'lab_potassium_abnormal'\n",
       "76. 'lab_troponin_first'\n",
       "77. 'lab_troponin_min'\n",
       "78. 'lab_troponin_max'\n",
       "79. 'lab_troponin_abnormal'\n",
       "80. 'lab_po2_first'\n",
       "81. 'lab_po2_min'\n",
       "82. 'lab_po2_max'\n",
       "83. 'lab_po2_abnormal'\n",
       "84. 'lab_lactate_first'\n",
       "85. 'lab_lactate_min'\n",
       "86. 'lab_lactate_max'\n",
       "87. 'lab_lactate_abnormal'\n",
       "88. 'pre_dose_val_rx'\n",
       "89. 'los_drug'\n",
       "90. 'cumulative_dose'\n",
       "91. 'gcs'\n",
       "92. 'ca'\n",
       "93. 'infection_flag'\n",
       "94. 'dose_val_rx_average'\n",
       "95. 'los_drug_average'\n",
       "96. 'event_state'\n",
       "97. 'vs_heart_rate_flag'\n",
       "98. 'vs_cvp_flag'\n",
       "99. 'vs_map_flag'\n",
       "100. 'vs_temp_flag'\n",
       "101. 'lab_hemoglobin_flag'\n",
       "102. 'lab_platelet_flag'\n",
       "103. 'lab_creatinine_kinase_flag'\n",
       "104. 'lab_wbc_flag'\n",
       "105. 'lab_ph_flag'\n",
       "106. 'lab_chloride_flag'\n",
       "107. 'lab_sodium_flag'\n",
       "108. 'lab_bun_flag'\n",
       "109. 'lab_bicarbonate_flag'\n",
       "110. 'lab_bnp_flag'\n",
       "111. 'lab_pco2_flag'\n",
       "112. 'lab_creatinine_flag'\n",
       "113. 'lab_potassium_flag'\n",
       "114. 'lab_troponin_flag'\n",
       "115. 'lab_po2_flag'\n",
       "116. 'lab_lactate_flag'\n",
       "\n",
       "\n"
      ],
      "text/plain": [
       "  [1] \"stay_id\"                        \"hadm_id\"                       \n",
       "  [3] \"subject_id\"                     \"gender\"                        \n",
       "  [5] \"age\"                            \"sapsii\"                        \n",
       "  [7] \"icu_intime\"                     \"icu_outtime\"                   \n",
       "  [9] \"weight\"                         \"sofa_24hours\"                  \n",
       " [11] \"infection\"                      \"mort_28_day\"                   \n",
       " [13] \"survival_days\"                  \"gcs_include\"                   \n",
       " [15] \"gcs_include_combine\"            \"vs_heart_rate_first\"           \n",
       " [17] \"vs_heart_rate_min\"              \"vs_heart_rate_max\"             \n",
       " [19] \"vs_cvp_first\"                   \"vs_cvp_min\"                    \n",
       " [21] \"vs_cvp_max\"                     \"vs_map_first\"                  \n",
       " [23] \"vs_map_min\"                     \"vs_map_max\"                    \n",
       " [25] \"vs_temp_first\"                  \"vs_temp_min\"                   \n",
       " [27] \"vs_temp_max\"                    \"lab_hemoglobin_first\"          \n",
       " [29] \"lab_hemoglobin_min\"             \"lab_hemoglobin_max\"            \n",
       " [31] \"lab_hemoglobin_abnormal\"        \"lab_platelet_first\"            \n",
       " [33] \"lab_platelet_min\"               \"lab_platelet_max\"              \n",
       " [35] \"lab_platelet_abnormal\"          \"lab_creatinine_kinase_first\"   \n",
       " [37] \"lab_creatinine_kinase_min\"      \"lab_creatinine_kinase_max\"     \n",
       " [39] \"lab_creatinine_kinase_abnormal\" \"lab_wbc_first\"                 \n",
       " [41] \"lab_wbc_min\"                    \"lab_wbc_max\"                   \n",
       " [43] \"lab_wbc_abnormal\"               \"lab_ph_first\"                  \n",
       " [45] \"lab_ph_min\"                     \"lab_ph_max\"                    \n",
       " [47] \"lab_ph_abnormal\"                \"lab_chloride_first\"            \n",
       " [49] \"lab_chloride_min\"               \"lab_chloride_max\"              \n",
       " [51] \"lab_chloride_abnormal\"          \"lab_sodium_first\"              \n",
       " [53] \"lab_sodium_min\"                 \"lab_sodium_max\"                \n",
       " [55] \"lab_sodium_abnormal\"            \"lab_bun_first\"                 \n",
       " [57] \"lab_bun_min\"                    \"lab_bun_max\"                   \n",
       " [59] \"lab_bun_abnormal\"               \"lab_bicarbonate_first\"         \n",
       " [61] \"lab_bicarbonate_min\"            \"lab_bicarbonate_max\"           \n",
       " [63] \"lab_bicarbonate_abnormal\"       \"lab_pco2_first\"                \n",
       " [65] \"lab_pco2_min\"                   \"lab_pco2_max\"                  \n",
       " [67] \"lab_pco2_abnormal\"              \"lab_creatinine_first\"          \n",
       " [69] \"lab_creatinine_min\"             \"lab_creatinine_max\"            \n",
       " [71] \"lab_creatinine_abnormal\"        \"lab_potassium_first\"           \n",
       " [73] \"lab_potassium_min\"              \"lab_potassium_max\"             \n",
       " [75] \"lab_potassium_abnormal\"         \"lab_troponin_first\"            \n",
       " [77] \"lab_troponin_min\"               \"lab_troponin_max\"              \n",
       " [79] \"lab_troponin_abnormal\"          \"lab_po2_first\"                 \n",
       " [81] \"lab_po2_min\"                    \"lab_po2_max\"                   \n",
       " [83] \"lab_po2_abnormal\"               \"lab_lactate_first\"             \n",
       " [85] \"lab_lactate_min\"                \"lab_lactate_max\"               \n",
       " [87] \"lab_lactate_abnormal\"           \"pre_dose_val_rx\"               \n",
       " [89] \"los_drug\"                       \"cumulative_dose\"               \n",
       " [91] \"gcs\"                            \"ca\"                            \n",
       " [93] \"infection_flag\"                 \"dose_val_rx_average\"           \n",
       " [95] \"los_drug_average\"               \"event_state\"                   \n",
       " [97] \"vs_heart_rate_flag\"             \"vs_cvp_flag\"                   \n",
       " [99] \"vs_map_flag\"                    \"vs_temp_flag\"                  \n",
       "[101] \"lab_hemoglobin_flag\"            \"lab_platelet_flag\"             \n",
       "[103] \"lab_creatinine_kinase_flag\"     \"lab_wbc_flag\"                  \n",
       "[105] \"lab_ph_flag\"                    \"lab_chloride_flag\"             \n",
       "[107] \"lab_sodium_flag\"                \"lab_bun_flag\"                  \n",
       "[109] \"lab_bicarbonate_flag\"           \"lab_bnp_flag\"                  \n",
       "[111] \"lab_pco2_flag\"                  \"lab_creatinine_flag\"           \n",
       "[113] \"lab_potassium_flag\"             \"lab_troponin_flag\"             \n",
       "[115] \"lab_po2_flag\"                   \"lab_lactate_flag\"              "
      ]
     },
     "metadata": {},
     "output_type": "display_data"
    }
   ],
   "source": [
    "full_data = dbGetQuery(con, \"select*from mimiciv_hosp.merged_data_gcs\")\n",
    "head(full_data)\n",
    "colnames(full_data)\n"
   ]
  },
  {
   "cell_type": "code",
   "execution_count": 5,
   "metadata": {
    "vscode": {
     "languageId": "r"
    }
   },
   "outputs": [],
   "source": [
    "to_factor <- function(x) {\n",
    "    if(length(na.omit(unique(x))) <= 1) return(factor(x, levels = c(0, 1)))\n",
    "    return(factor(x))\n",
    "}"
   ]
  },
  {
   "cell_type": "code",
   "execution_count": 6,
   "metadata": {
    "vscode": {
     "languageId": "r"
    }
   },
   "outputs": [
    {
     "data": {
      "text/html": [
       "<style>\n",
       ".list-inline {list-style: none; margin:0; padding: 0}\n",
       ".list-inline>li {display: inline-block}\n",
       ".list-inline>li:not(:last-child)::after {content: \"\\00b7\"; padding: 0 .5ex}\n",
       "</style>\n",
       "<ol class=list-inline><li>'gcs_include'</li><li>'gcs_include_combine'</li><li>'lab_hemoglobin_abnormal'</li><li>'lab_platelet_abnormal'</li><li>'lab_creatinine_kinase_abnormal'</li><li>'lab_wbc_abnormal'</li><li>'lab_ph_abnormal'</li><li>'lab_chloride_abnormal'</li><li>'lab_sodium_abnormal'</li><li>'lab_bun_abnormal'</li><li>'lab_bicarbonate_abnormal'</li><li>'lab_pco2_abnormal'</li><li>'lab_creatinine_abnormal'</li><li>'lab_potassium_abnormal'</li><li>'lab_troponin_abnormal'</li><li>'lab_po2_abnormal'</li><li>'lab_lactate_abnormal'</li><li>'gcs'</li><li>'infection_flag'</li><li>'vs_heart_rate_flag'</li><li>'vs_cvp_flag'</li><li>'vs_map_flag'</li><li>'vs_temp_flag'</li><li>'lab_hemoglobin_flag'</li><li>'lab_platelet_flag'</li><li>'lab_creatinine_kinase_flag'</li><li>'lab_wbc_flag'</li><li>'lab_ph_flag'</li><li>'lab_chloride_flag'</li><li>'lab_sodium_flag'</li><li>'lab_bun_flag'</li><li>'lab_bicarbonate_flag'</li><li>'lab_bnp_flag'</li><li>'lab_pco2_flag'</li><li>'lab_creatinine_flag'</li><li>'lab_potassium_flag'</li><li>'lab_troponin_flag'</li><li>'lab_po2_flag'</li><li>'lab_lactate_flag'</li><li>'gender'</li><li>'mort_28_day'</li><li>'event_state'</li><li>'gcs'</li><li>'ca'</li><li>'infection'</li></ol>\n"
      ],
      "text/latex": [
       "\\begin{enumerate*}\n",
       "\\item 'gcs\\_include'\n",
       "\\item 'gcs\\_include\\_combine'\n",
       "\\item 'lab\\_hemoglobin\\_abnormal'\n",
       "\\item 'lab\\_platelet\\_abnormal'\n",
       "\\item 'lab\\_creatinine\\_kinase\\_abnormal'\n",
       "\\item 'lab\\_wbc\\_abnormal'\n",
       "\\item 'lab\\_ph\\_abnormal'\n",
       "\\item 'lab\\_chloride\\_abnormal'\n",
       "\\item 'lab\\_sodium\\_abnormal'\n",
       "\\item 'lab\\_bun\\_abnormal'\n",
       "\\item 'lab\\_bicarbonate\\_abnormal'\n",
       "\\item 'lab\\_pco2\\_abnormal'\n",
       "\\item 'lab\\_creatinine\\_abnormal'\n",
       "\\item 'lab\\_potassium\\_abnormal'\n",
       "\\item 'lab\\_troponin\\_abnormal'\n",
       "\\item 'lab\\_po2\\_abnormal'\n",
       "\\item 'lab\\_lactate\\_abnormal'\n",
       "\\item 'gcs'\n",
       "\\item 'infection\\_flag'\n",
       "\\item 'vs\\_heart\\_rate\\_flag'\n",
       "\\item 'vs\\_cvp\\_flag'\n",
       "\\item 'vs\\_map\\_flag'\n",
       "\\item 'vs\\_temp\\_flag'\n",
       "\\item 'lab\\_hemoglobin\\_flag'\n",
       "\\item 'lab\\_platelet\\_flag'\n",
       "\\item 'lab\\_creatinine\\_kinase\\_flag'\n",
       "\\item 'lab\\_wbc\\_flag'\n",
       "\\item 'lab\\_ph\\_flag'\n",
       "\\item 'lab\\_chloride\\_flag'\n",
       "\\item 'lab\\_sodium\\_flag'\n",
       "\\item 'lab\\_bun\\_flag'\n",
       "\\item 'lab\\_bicarbonate\\_flag'\n",
       "\\item 'lab\\_bnp\\_flag'\n",
       "\\item 'lab\\_pco2\\_flag'\n",
       "\\item 'lab\\_creatinine\\_flag'\n",
       "\\item 'lab\\_potassium\\_flag'\n",
       "\\item 'lab\\_troponin\\_flag'\n",
       "\\item 'lab\\_po2\\_flag'\n",
       "\\item 'lab\\_lactate\\_flag'\n",
       "\\item 'gender'\n",
       "\\item 'mort\\_28\\_day'\n",
       "\\item 'event\\_state'\n",
       "\\item 'gcs'\n",
       "\\item 'ca'\n",
       "\\item 'infection'\n",
       "\\end{enumerate*}\n"
      ],
      "text/markdown": [
       "1. 'gcs_include'\n",
       "2. 'gcs_include_combine'\n",
       "3. 'lab_hemoglobin_abnormal'\n",
       "4. 'lab_platelet_abnormal'\n",
       "5. 'lab_creatinine_kinase_abnormal'\n",
       "6. 'lab_wbc_abnormal'\n",
       "7. 'lab_ph_abnormal'\n",
       "8. 'lab_chloride_abnormal'\n",
       "9. 'lab_sodium_abnormal'\n",
       "10. 'lab_bun_abnormal'\n",
       "11. 'lab_bicarbonate_abnormal'\n",
       "12. 'lab_pco2_abnormal'\n",
       "13. 'lab_creatinine_abnormal'\n",
       "14. 'lab_potassium_abnormal'\n",
       "15. 'lab_troponin_abnormal'\n",
       "16. 'lab_po2_abnormal'\n",
       "17. 'lab_lactate_abnormal'\n",
       "18. 'gcs'\n",
       "19. 'infection_flag'\n",
       "20. 'vs_heart_rate_flag'\n",
       "21. 'vs_cvp_flag'\n",
       "22. 'vs_map_flag'\n",
       "23. 'vs_temp_flag'\n",
       "24. 'lab_hemoglobin_flag'\n",
       "25. 'lab_platelet_flag'\n",
       "26. 'lab_creatinine_kinase_flag'\n",
       "27. 'lab_wbc_flag'\n",
       "28. 'lab_ph_flag'\n",
       "29. 'lab_chloride_flag'\n",
       "30. 'lab_sodium_flag'\n",
       "31. 'lab_bun_flag'\n",
       "32. 'lab_bicarbonate_flag'\n",
       "33. 'lab_bnp_flag'\n",
       "34. 'lab_pco2_flag'\n",
       "35. 'lab_creatinine_flag'\n",
       "36. 'lab_potassium_flag'\n",
       "37. 'lab_troponin_flag'\n",
       "38. 'lab_po2_flag'\n",
       "39. 'lab_lactate_flag'\n",
       "40. 'gender'\n",
       "41. 'mort_28_day'\n",
       "42. 'event_state'\n",
       "43. 'gcs'\n",
       "44. 'ca'\n",
       "45. 'infection'\n",
       "\n",
       "\n"
      ],
      "text/plain": [
       " [1] \"gcs_include\"                    \"gcs_include_combine\"           \n",
       " [3] \"lab_hemoglobin_abnormal\"        \"lab_platelet_abnormal\"         \n",
       " [5] \"lab_creatinine_kinase_abnormal\" \"lab_wbc_abnormal\"              \n",
       " [7] \"lab_ph_abnormal\"                \"lab_chloride_abnormal\"         \n",
       " [9] \"lab_sodium_abnormal\"            \"lab_bun_abnormal\"              \n",
       "[11] \"lab_bicarbonate_abnormal\"       \"lab_pco2_abnormal\"             \n",
       "[13] \"lab_creatinine_abnormal\"        \"lab_potassium_abnormal\"        \n",
       "[15] \"lab_troponin_abnormal\"          \"lab_po2_abnormal\"              \n",
       "[17] \"lab_lactate_abnormal\"           \"gcs\"                           \n",
       "[19] \"infection_flag\"                 \"vs_heart_rate_flag\"            \n",
       "[21] \"vs_cvp_flag\"                    \"vs_map_flag\"                   \n",
       "[23] \"vs_temp_flag\"                   \"lab_hemoglobin_flag\"           \n",
       "[25] \"lab_platelet_flag\"              \"lab_creatinine_kinase_flag\"    \n",
       "[27] \"lab_wbc_flag\"                   \"lab_ph_flag\"                   \n",
       "[29] \"lab_chloride_flag\"              \"lab_sodium_flag\"               \n",
       "[31] \"lab_bun_flag\"                   \"lab_bicarbonate_flag\"          \n",
       "[33] \"lab_bnp_flag\"                   \"lab_pco2_flag\"                 \n",
       "[35] \"lab_creatinine_flag\"            \"lab_potassium_flag\"            \n",
       "[37] \"lab_troponin_flag\"              \"lab_po2_flag\"                  \n",
       "[39] \"lab_lactate_flag\"               \"gender\"                        \n",
       "[41] \"mort_28_day\"                    \"event_state\"                   \n",
       "[43] \"gcs\"                            \"ca\"                            \n",
       "[45] \"infection\"                     "
      ]
     },
     "metadata": {},
     "output_type": "display_data"
    }
   ],
   "source": [
    "\n",
    "factor_vars <- full_data %>%\n",
    "    names %>%\n",
    "    grep(\"flag|abnormal|gcs\", ., value = TRUE) %>%\n",
    "    c(\"gender\",  \"mort_28_day\", \"event_state\", \"gcs\", \"ca\",\"infection\")\n",
    "factor_vars"
   ]
  },
  {
   "cell_type": "code",
   "execution_count": 7,
   "metadata": {
    "vscode": {
     "languageId": "r"
    }
   },
   "outputs": [],
   "source": [
    "full_data <- full_data %>%\n",
    "  mutate(gcs_int = as.integer(gcs)) %>%\n",
    "  mutate(ca_int = as.integer(ca)) %>%\n",
    "  mutate(event_state_int = as.integer(event_state)) %>%\n",
    "  mutate(mort_28_day_int = as.integer(mort_28_day)) %>%\n",
    "  mutate_at(factor_vars, to_factor) %>%\n",
    "  mutate(gender = relevel(gender, \"M\")) \n",
    "\n"
   ]
  },
  {
   "cell_type": "code",
   "execution_count": 8,
   "metadata": {
    "vscode": {
     "languageId": "r"
    }
   },
   "outputs": [
    {
     "data": {
      "text/html": [
       "<style>\n",
       ".list-inline {list-style: none; margin:0; padding: 0}\n",
       ".list-inline>li {display: inline-block}\n",
       ".list-inline>li:not(:last-child)::after {content: \"\\00b7\"; padding: 0 .5ex}\n",
       "</style>\n",
       "<ol class=list-inline><li>'gender'</li><li>'age'</li><li>'sapsii'</li><li>'weight'</li><li>'sofa_24hours'</li><li>'vs_heart_rate_first'</li><li>'vs_cvp_first'</li><li>'vs_map_first'</li><li>'vs_temp_first'</li><li>'lab_hemoglobin_first'</li><li>'lab_platelet_first'</li><li>'lab_creatinine_kinase_first'</li><li>'lab_wbc_first'</li><li>'lab_ph_first'</li><li>'lab_chloride_first'</li><li>'lab_sodium_first'</li><li>'lab_bun_first'</li><li>'lab_bicarbonate_first'</li><li>'lab_pco2_first'</li><li>'lab_creatinine_first'</li><li>'lab_potassium_first'</li><li>'lab_troponin_first'</li><li>'lab_po2_first'</li><li>'lab_lactate_first'</li><li>'gcs'</li><li>'dose_val_rx_average'</li><li>'los_drug_average'</li><li>'event_state'</li><li>'gcs_int'</li><li>'event_state_int'</li></ol>\n"
      ],
      "text/latex": [
       "\\begin{enumerate*}\n",
       "\\item 'gender'\n",
       "\\item 'age'\n",
       "\\item 'sapsii'\n",
       "\\item 'weight'\n",
       "\\item 'sofa\\_24hours'\n",
       "\\item 'vs\\_heart\\_rate\\_first'\n",
       "\\item 'vs\\_cvp\\_first'\n",
       "\\item 'vs\\_map\\_first'\n",
       "\\item 'vs\\_temp\\_first'\n",
       "\\item 'lab\\_hemoglobin\\_first'\n",
       "\\item 'lab\\_platelet\\_first'\n",
       "\\item 'lab\\_creatinine\\_kinase\\_first'\n",
       "\\item 'lab\\_wbc\\_first'\n",
       "\\item 'lab\\_ph\\_first'\n",
       "\\item 'lab\\_chloride\\_first'\n",
       "\\item 'lab\\_sodium\\_first'\n",
       "\\item 'lab\\_bun\\_first'\n",
       "\\item 'lab\\_bicarbonate\\_first'\n",
       "\\item 'lab\\_pco2\\_first'\n",
       "\\item 'lab\\_creatinine\\_first'\n",
       "\\item 'lab\\_potassium\\_first'\n",
       "\\item 'lab\\_troponin\\_first'\n",
       "\\item 'lab\\_po2\\_first'\n",
       "\\item 'lab\\_lactate\\_first'\n",
       "\\item 'gcs'\n",
       "\\item 'dose\\_val\\_rx\\_average'\n",
       "\\item 'los\\_drug\\_average'\n",
       "\\item 'event\\_state'\n",
       "\\item 'gcs\\_int'\n",
       "\\item 'event\\_state\\_int'\n",
       "\\end{enumerate*}\n"
      ],
      "text/markdown": [
       "1. 'gender'\n",
       "2. 'age'\n",
       "3. 'sapsii'\n",
       "4. 'weight'\n",
       "5. 'sofa_24hours'\n",
       "6. 'vs_heart_rate_first'\n",
       "7. 'vs_cvp_first'\n",
       "8. 'vs_map_first'\n",
       "9. 'vs_temp_first'\n",
       "10. 'lab_hemoglobin_first'\n",
       "11. 'lab_platelet_first'\n",
       "12. 'lab_creatinine_kinase_first'\n",
       "13. 'lab_wbc_first'\n",
       "14. 'lab_ph_first'\n",
       "15. 'lab_chloride_first'\n",
       "16. 'lab_sodium_first'\n",
       "17. 'lab_bun_first'\n",
       "18. 'lab_bicarbonate_first'\n",
       "19. 'lab_pco2_first'\n",
       "20. 'lab_creatinine_first'\n",
       "21. 'lab_potassium_first'\n",
       "22. 'lab_troponin_first'\n",
       "23. 'lab_po2_first'\n",
       "24. 'lab_lactate_first'\n",
       "25. 'gcs'\n",
       "26. 'dose_val_rx_average'\n",
       "27. 'los_drug_average'\n",
       "28. 'event_state'\n",
       "29. 'gcs_int'\n",
       "30. 'event_state_int'\n",
       "\n",
       "\n"
      ],
      "text/plain": [
       " [1] \"gender\"                      \"age\"                        \n",
       " [3] \"sapsii\"                      \"weight\"                     \n",
       " [5] \"sofa_24hours\"                \"vs_heart_rate_first\"        \n",
       " [7] \"vs_cvp_first\"                \"vs_map_first\"               \n",
       " [9] \"vs_temp_first\"               \"lab_hemoglobin_first\"       \n",
       "[11] \"lab_platelet_first\"          \"lab_creatinine_kinase_first\"\n",
       "[13] \"lab_wbc_first\"               \"lab_ph_first\"               \n",
       "[15] \"lab_chloride_first\"          \"lab_sodium_first\"           \n",
       "[17] \"lab_bun_first\"               \"lab_bicarbonate_first\"      \n",
       "[19] \"lab_pco2_first\"              \"lab_creatinine_first\"       \n",
       "[21] \"lab_potassium_first\"         \"lab_troponin_first\"         \n",
       "[23] \"lab_po2_first\"               \"lab_lactate_first\"          \n",
       "[25] \"gcs\"                         \"dose_val_rx_average\"        \n",
       "[27] \"los_drug_average\"            \"event_state\"                \n",
       "[29] \"gcs_int\"                     \"event_state_int\"            "
      ]
     },
     "metadata": {},
     "output_type": "display_data"
    },
    {
     "data": {
      "text/html": [
       "30"
      ],
      "text/latex": [
       "30"
      ],
      "text/markdown": [
       "30"
      ],
      "text/plain": [
       "[1] 30"
      ]
     },
     "metadata": {},
     "output_type": "display_data"
    }
   ],
   "source": [
    "feature_names <- full_data %>%\n",
    "    names %>%\n",
    "    keep(grepl(\"vs|lab|age|gender|weight|sapsii|sofa|sofa_24hours|event_state|cam_state|gcs\", .)) %>%\n",
    "    discard(grepl(\"vs|lab\", .) & grepl(\"flag\", .) & !grepl(\"bnp|troponin|kinase|cvp\", .)) %>%\n",
    "\n",
    "    discard(grepl(\"min|max|flag|gcs_include\", .)) %>%\n",
    "    discard(grepl(\"abnormal\", .))\n",
    "feature_names\n",
    "length(feature_names)"
   ]
  },
  {
   "cell_type": "code",
   "execution_count": 9,
   "metadata": {
    "vscode": {
     "languageId": "r"
    }
   },
   "outputs": [],
   "source": [
    "\n",
    "feature_names %>%\n",
    "    data.frame(feature = ., stringsAsFactors = FALSE) %>%\n",
    "    data.table::fwrite(file = file.path(data_dir, \"feature_names2.csv\"))\n",
    "\n",
    "\n"
   ]
  },
  {
   "cell_type": "code",
   "execution_count": 10,
   "metadata": {
    "vscode": {
     "languageId": "r"
    }
   },
   "outputs": [
    {
     "data": {
      "text/html": [
       "<table class=\"dataframe\">\n",
       "<caption>A data.frame: 6 × 30</caption>\n",
       "<thead>\n",
       "\t<tr><th></th><th scope=col>gender</th><th scope=col>age</th><th scope=col>sapsii</th><th scope=col>weight</th><th scope=col>sofa_24hours</th><th scope=col>vs_heart_rate_first</th><th scope=col>vs_cvp_first</th><th scope=col>vs_map_first</th><th scope=col>vs_temp_first</th><th scope=col>lab_hemoglobin_first</th><th scope=col>⋯</th><th scope=col>lab_potassium_first</th><th scope=col>lab_troponin_first</th><th scope=col>lab_po2_first</th><th scope=col>lab_lactate_first</th><th scope=col>gcs</th><th scope=col>dose_val_rx_average</th><th scope=col>los_drug_average</th><th scope=col>event_state</th><th scope=col>gcs_int</th><th scope=col>event_state_int</th></tr>\n",
       "\t<tr><th></th><th scope=col>&lt;fct&gt;</th><th scope=col>&lt;dbl&gt;</th><th scope=col>&lt;int&gt;</th><th scope=col>&lt;dbl&gt;</th><th scope=col>&lt;int&gt;</th><th scope=col>&lt;dbl&gt;</th><th scope=col>&lt;dbl&gt;</th><th scope=col>&lt;dbl&gt;</th><th scope=col>&lt;dbl&gt;</th><th scope=col>&lt;dbl&gt;</th><th scope=col>⋯</th><th scope=col>&lt;dbl&gt;</th><th scope=col>&lt;dbl&gt;</th><th scope=col>&lt;dbl&gt;</th><th scope=col>&lt;dbl&gt;</th><th scope=col>&lt;fct&gt;</th><th scope=col>&lt;chr&gt;</th><th scope=col>&lt;dbl&gt;</th><th scope=col>&lt;fct&gt;</th><th scope=col>&lt;int&gt;</th><th scope=col>&lt;int&gt;</th></tr>\n",
       "</thead>\n",
       "<tbody>\n",
       "\t<tr><th scope=row>1</th><td>F</td><td>66.04835</td><td>31</td><td>138.0</td><td> 1</td><td>143</td><td>NA</td><td> 78</td><td>38.27778</td><td> 8.5</td><td>⋯</td><td>3.9</td><td>NA</td><td> 40</td><td>1.1</td><td>0</td><td>NA</td><td> NA</td><td>1</td><td>0</td><td>1</td></tr>\n",
       "\t<tr><th scope=row>2</th><td>F</td><td>41.91122</td><td>39</td><td> 70.0</td><td> 0</td><td>140</td><td>NA</td><td> 99</td><td>39.44444</td><td> 8.0</td><td>⋯</td><td>3.0</td><td>NA</td><td> NA</td><td> NA</td><td>1</td><td>50</td><td>  2</td><td>0</td><td>1</td><td>0</td></tr>\n",
       "\t<tr><th scope=row>3</th><td>F</td><td>87.59137</td><td>35</td><td> 65.0</td><td> 1</td><td> 97</td><td>NA</td><td>110</td><td>36.72222</td><td>11.4</td><td>⋯</td><td>3.7</td><td>NA</td><td> 40</td><td>2.7</td><td>0</td><td>5 </td><td>136</td><td>0</td><td>0</td><td>0</td></tr>\n",
       "\t<tr><th scope=row>4</th><td>M</td><td>66.88656</td><td>28</td><td> 88.0</td><td> 3</td><td> 72</td><td>NA</td><td> 82</td><td>37.05556</td><td>13.5</td><td>⋯</td><td>4.1</td><td>NA</td><td> NA</td><td> NA</td><td>0</td><td>NA</td><td> NA</td><td>0</td><td>0</td><td>0</td></tr>\n",
       "\t<tr><th scope=row>5</th><td>F</td><td>44.39155</td><td>55</td><td> 45.9</td><td>10</td><td>110</td><td>16</td><td> 78</td><td>37.33333</td><td>13.0</td><td>⋯</td><td>2.5</td><td>NA</td><td>296</td><td>2.4</td><td>0</td><td>NA</td><td> NA</td><td>1</td><td>0</td><td>1</td></tr>\n",
       "\t<tr><th scope=row>6</th><td>M</td><td>56.61848</td><td>30</td><td> 80.0</td><td> 3</td><td>110</td><td> 4</td><td> 86</td><td>      NA</td><td>11.4</td><td>⋯</td><td>4.3</td><td>NA</td><td>223</td><td>1.0</td><td>0</td><td>NA</td><td> NA</td><td>0</td><td>0</td><td>0</td></tr>\n",
       "</tbody>\n",
       "</table>\n"
      ],
      "text/latex": [
       "A data.frame: 6 × 30\n",
       "\\begin{tabular}{r|lllllllllllllllllllll}\n",
       "  & gender & age & sapsii & weight & sofa\\_24hours & vs\\_heart\\_rate\\_first & vs\\_cvp\\_first & vs\\_map\\_first & vs\\_temp\\_first & lab\\_hemoglobin\\_first & ⋯ & lab\\_potassium\\_first & lab\\_troponin\\_first & lab\\_po2\\_first & lab\\_lactate\\_first & gcs & dose\\_val\\_rx\\_average & los\\_drug\\_average & event\\_state & gcs\\_int & event\\_state\\_int\\\\\n",
       "  & <fct> & <dbl> & <int> & <dbl> & <int> & <dbl> & <dbl> & <dbl> & <dbl> & <dbl> & ⋯ & <dbl> & <dbl> & <dbl> & <dbl> & <fct> & <chr> & <dbl> & <fct> & <int> & <int>\\\\\n",
       "\\hline\n",
       "\t1 & F & 66.04835 & 31 & 138.0 &  1 & 143 & NA &  78 & 38.27778 &  8.5 & ⋯ & 3.9 & NA &  40 & 1.1 & 0 & NA &  NA & 1 & 0 & 1\\\\\n",
       "\t2 & F & 41.91122 & 39 &  70.0 &  0 & 140 & NA &  99 & 39.44444 &  8.0 & ⋯ & 3.0 & NA &  NA &  NA & 1 & 50 &   2 & 0 & 1 & 0\\\\\n",
       "\t3 & F & 87.59137 & 35 &  65.0 &  1 &  97 & NA & 110 & 36.72222 & 11.4 & ⋯ & 3.7 & NA &  40 & 2.7 & 0 & 5  & 136 & 0 & 0 & 0\\\\\n",
       "\t4 & M & 66.88656 & 28 &  88.0 &  3 &  72 & NA &  82 & 37.05556 & 13.5 & ⋯ & 4.1 & NA &  NA &  NA & 0 & NA &  NA & 0 & 0 & 0\\\\\n",
       "\t5 & F & 44.39155 & 55 &  45.9 & 10 & 110 & 16 &  78 & 37.33333 & 13.0 & ⋯ & 2.5 & NA & 296 & 2.4 & 0 & NA &  NA & 1 & 0 & 1\\\\\n",
       "\t6 & M & 56.61848 & 30 &  80.0 &  3 & 110 &  4 &  86 &       NA & 11.4 & ⋯ & 4.3 & NA & 223 & 1.0 & 0 & NA &  NA & 0 & 0 & 0\\\\\n",
       "\\end{tabular}\n"
      ],
      "text/markdown": [
       "\n",
       "A data.frame: 6 × 30\n",
       "\n",
       "| <!--/--> | gender &lt;fct&gt; | age &lt;dbl&gt; | sapsii &lt;int&gt; | weight &lt;dbl&gt; | sofa_24hours &lt;int&gt; | vs_heart_rate_first &lt;dbl&gt; | vs_cvp_first &lt;dbl&gt; | vs_map_first &lt;dbl&gt; | vs_temp_first &lt;dbl&gt; | lab_hemoglobin_first &lt;dbl&gt; | ⋯ ⋯ | lab_potassium_first &lt;dbl&gt; | lab_troponin_first &lt;dbl&gt; | lab_po2_first &lt;dbl&gt; | lab_lactate_first &lt;dbl&gt; | gcs &lt;fct&gt; | dose_val_rx_average &lt;chr&gt; | los_drug_average &lt;dbl&gt; | event_state &lt;fct&gt; | gcs_int &lt;int&gt; | event_state_int &lt;int&gt; |\n",
       "|---|---|---|---|---|---|---|---|---|---|---|---|---|---|---|---|---|---|---|---|---|---|\n",
       "| 1 | F | 66.04835 | 31 | 138.0 |  1 | 143 | NA |  78 | 38.27778 |  8.5 | ⋯ | 3.9 | NA |  40 | 1.1 | 0 | NA |  NA | 1 | 0 | 1 |\n",
       "| 2 | F | 41.91122 | 39 |  70.0 |  0 | 140 | NA |  99 | 39.44444 |  8.0 | ⋯ | 3.0 | NA |  NA |  NA | 1 | 50 |   2 | 0 | 1 | 0 |\n",
       "| 3 | F | 87.59137 | 35 |  65.0 |  1 |  97 | NA | 110 | 36.72222 | 11.4 | ⋯ | 3.7 | NA |  40 | 2.7 | 0 | 5  | 136 | 0 | 0 | 0 |\n",
       "| 4 | M | 66.88656 | 28 |  88.0 |  3 |  72 | NA |  82 | 37.05556 | 13.5 | ⋯ | 4.1 | NA |  NA |  NA | 0 | NA |  NA | 0 | 0 | 0 |\n",
       "| 5 | F | 44.39155 | 55 |  45.9 | 10 | 110 | 16 |  78 | 37.33333 | 13.0 | ⋯ | 2.5 | NA | 296 | 2.4 | 0 | NA |  NA | 1 | 0 | 1 |\n",
       "| 6 | M | 56.61848 | 30 |  80.0 |  3 | 110 |  4 |  86 |       NA | 11.4 | ⋯ | 4.3 | NA | 223 | 1.0 | 0 | NA |  NA | 0 | 0 | 0 |\n",
       "\n"
      ],
      "text/plain": [
       "  gender age      sapsii weight sofa_24hours vs_heart_rate_first vs_cvp_first\n",
       "1 F      66.04835 31     138.0   1           143                 NA          \n",
       "2 F      41.91122 39      70.0   0           140                 NA          \n",
       "3 F      87.59137 35      65.0   1            97                 NA          \n",
       "4 M      66.88656 28      88.0   3            72                 NA          \n",
       "5 F      44.39155 55      45.9  10           110                 16          \n",
       "6 M      56.61848 30      80.0   3           110                  4          \n",
       "  vs_map_first vs_temp_first lab_hemoglobin_first ⋯ lab_potassium_first\n",
       "1  78          38.27778       8.5                 ⋯ 3.9                \n",
       "2  99          39.44444       8.0                 ⋯ 3.0                \n",
       "3 110          36.72222      11.4                 ⋯ 3.7                \n",
       "4  82          37.05556      13.5                 ⋯ 4.1                \n",
       "5  78          37.33333      13.0                 ⋯ 2.5                \n",
       "6  86                NA      11.4                 ⋯ 4.3                \n",
       "  lab_troponin_first lab_po2_first lab_lactate_first gcs dose_val_rx_average\n",
       "1 NA                  40           1.1               0   NA                 \n",
       "2 NA                  NA            NA               1   50                 \n",
       "3 NA                  40           2.7               0   5                  \n",
       "4 NA                  NA            NA               0   NA                 \n",
       "5 NA                 296           2.4               0   NA                 \n",
       "6 NA                 223           1.0               0   NA                 \n",
       "  los_drug_average event_state gcs_int event_state_int\n",
       "1  NA              1           0       1              \n",
       "2   2              0           1       0              \n",
       "3 136              0           0       0              \n",
       "4  NA              0           0       0              \n",
       "5  NA              1           0       1              \n",
       "6  NA              0           0       0              "
      ]
     },
     "metadata": {},
     "output_type": "display_data"
    }
   ],
   "source": [
    "features <- full_data %>%\n",
    "    dplyr::select(!!!rlang::syms(feature_names))\n",
    "head(features)\n",
    "\n",
    "\n",
    "\n",
    "\n"
   ]
  },
  {
   "cell_type": "code",
   "execution_count": 11,
   "metadata": {
    "vscode": {
     "languageId": "r"
    }
   },
   "outputs": [
    {
     "name": "stdout",
     "output_type": "stream",
     "text": [
      " Factor w/ 2 levels \"0\",\"1\": 1 2 1 1 1 1 2 1 1 1 ...\n"
     ]
    }
   ],
   "source": [
    "label_name <- \"gcs\"\n",
    "label <- full_data %>% pull(gcs)\n",
    "str(label)"
   ]
  },
  {
   "cell_type": "code",
   "execution_count": 12,
   "metadata": {
    "vscode": {
     "languageId": "r"
    }
   },
   "outputs": [
    {
     "name": "stdout",
     "output_type": "stream",
     "text": [
      " Factor w/ 2 levels \"0\",\"1\": 1 2 1 1 1 1 2 1 1 1 ...\n"
     ]
    }
   ],
   "source": [
    "label <- full_data %>% pull(gcs)\n",
    "str(label)"
   ]
  },
  {
   "cell_type": "code",
   "execution_count": 13,
   "metadata": {
    "vscode": {
     "languageId": "r"
    }
   },
   "outputs": [],
   "source": [
    " full_data$pre_dose_val_rx <- as.numeric(full_data$pre_dose_val_rx)"
   ]
  },
  {
   "cell_type": "code",
   "execution_count": 14,
   "metadata": {
    "vscode": {
     "languageId": "r"
    }
   },
   "outputs": [
    {
     "data": {
      "text/html": [
       "'mort_28_day ~ gcs + gender + age + sapsii + weight + sofa_24hours + vs_heart_rate_first + vs_map_first + vs_temp_first + lab_hemoglobin_first + lab_platelet_first + lab_wbc_first + lab_ph_first + lab_chloride_first + lab_sodium_first + lab_bun_first + lab_bicarbonate_first + lab_pco2_first + lab_creatinine_first + lab_potassium_first + lab_po2_first + lab_lactate_first'"
      ],
      "text/latex": [
       "'mort\\_28\\_day \\textasciitilde{} gcs + gender + age + sapsii + weight + sofa\\_24hours + vs\\_heart\\_rate\\_first + vs\\_map\\_first + vs\\_temp\\_first + lab\\_hemoglobin\\_first + lab\\_platelet\\_first + lab\\_wbc\\_first + lab\\_ph\\_first + lab\\_chloride\\_first + lab\\_sodium\\_first + lab\\_bun\\_first + lab\\_bicarbonate\\_first + lab\\_pco2\\_first + lab\\_creatinine\\_first + lab\\_potassium\\_first + lab\\_po2\\_first + lab\\_lactate\\_first'"
      ],
      "text/markdown": [
       "'mort_28_day ~ gcs + gender + age + sapsii + weight + sofa_24hours + vs_heart_rate_first + vs_map_first + vs_temp_first + lab_hemoglobin_first + lab_platelet_first + lab_wbc_first + lab_ph_first + lab_chloride_first + lab_sodium_first + lab_bun_first + lab_bicarbonate_first + lab_pco2_first + lab_creatinine_first + lab_potassium_first + lab_po2_first + lab_lactate_first'"
      ],
      "text/plain": [
       "[1] \"mort_28_day ~ gcs + gender + age + sapsii + weight + sofa_24hours + vs_heart_rate_first + vs_map_first + vs_temp_first + lab_hemoglobin_first + lab_platelet_first + lab_wbc_first + lab_ph_first + lab_chloride_first + lab_sodium_first + lab_bun_first + lab_bicarbonate_first + lab_pco2_first + lab_creatinine_first + lab_potassium_first + lab_po2_first + lab_lactate_first\""
      ]
     },
     "metadata": {},
     "output_type": "display_data"
    }
   ],
   "source": [
    "\n",
    "fml <- \"mort_28_day ~ gcs + gender + age + sapsii + weight + sofa_24hours + vs_heart_rate_first + vs_map_first + vs_temp_first + lab_hemoglobin_first + lab_platelet_first + lab_wbc_first + lab_ph_first + lab_chloride_first + lab_sodium_first + lab_bun_first + lab_bicarbonate_first + lab_pco2_first + lab_creatinine_first + lab_potassium_first + lab_po2_first + lab_lactate_first\"\n",
    "fml\n"
   ]
  },
  {
   "cell_type": "markdown",
   "metadata": {},
   "source": [
    "fml <- feature_names %>%\n",
    "    c(\"gcs\", .) %>%\n",
    "    paste(collapse = \" + \") %>%\n",
    "    sprintf(\"mort_28_day ~ %s\", .)\n",
    "fml"
   ]
  },
  {
   "cell_type": "markdown",
   "metadata": {},
   "source": []
  },
  {
   "cell_type": "code",
   "execution_count": 15,
   "metadata": {
    "vscode": {
     "languageId": "r"
    }
   },
   "outputs": [
    {
     "data": {
      "text/plain": [
       "\n",
       "Call:\n",
       "glm(formula = as.formula(fml), family = binomial, data = full_data, \n",
       "    na.action = na.exclude)\n",
       "\n",
       "Coefficients:\n",
       "                        Estimate Std. Error z value Pr(>|z|)    \n",
       "(Intercept)           -4.9834123  9.8553248  -0.506 0.613098    \n",
       "gcs1                  -0.0404799  0.2292858  -0.177 0.859864    \n",
       "genderF                0.3942072  0.1631194   2.417 0.015663 *  \n",
       "age                    0.0208507  0.0061461   3.393 0.000693 ***\n",
       "sapsii                 0.0330349  0.0061967   5.331 9.76e-08 ***\n",
       "weight                -0.0137895  0.0039460  -3.495 0.000475 ***\n",
       "sofa_24hours           0.2162730  0.0247158   8.750  < 2e-16 ***\n",
       "vs_heart_rate_first    0.0074115  0.0037301   1.987 0.046928 *  \n",
       "vs_map_first          -0.0002146  0.0038383  -0.056 0.955418    \n",
       "vs_temp_first         -0.1044461  0.0807706  -1.293 0.195969    \n",
       "lab_hemoglobin_first  -0.0386125  0.0372900  -1.035 0.300452    \n",
       "lab_platelet_first     0.0004273  0.0006381   0.670 0.503116    \n",
       "lab_wbc_first          0.0031915  0.0068607   0.465 0.641799    \n",
       "lab_ph_first           0.4167411  1.2657981   0.329 0.741980    \n",
       "lab_chloride_first    -0.0533211  0.0201398  -2.648 0.008108 ** \n",
       "lab_sodium_first       0.0484007  0.0222838   2.172 0.029855 *  \n",
       "lab_bun_first          0.0092538  0.0040469   2.287 0.022218 *  \n",
       "lab_bicarbonate_first -0.0491311  0.0275551  -1.783 0.074584 .  \n",
       "lab_pco2_first         0.0100643  0.0106978   0.941 0.346819    \n",
       "lab_creatinine_first  -0.2807957  0.0707379  -3.970 7.20e-05 ***\n",
       "lab_potassium_first    0.0244679  0.0971549   0.252 0.801162    \n",
       "lab_po2_first         -0.0028712  0.0008007  -3.586 0.000336 ***\n",
       "lab_lactate_first      0.0513514  0.0413615   1.242 0.214411    \n",
       "---\n",
       "Signif. codes:  0 '***' 0.001 '**' 0.01 '*' 0.05 '.' 0.1 ' ' 1\n",
       "\n",
       "(Dispersion parameter for binomial family taken to be 1)\n",
       "\n",
       "    Null deviance: 1627.2  on 2172  degrees of freedom\n",
       "Residual deviance: 1204.8  on 2150  degrees of freedom\n",
       "  (2228 observations deleted due to missingness)\n",
       "AIC: 1250.8\n",
       "\n",
       "Number of Fisher Scoring iterations: 6\n"
      ]
     },
     "metadata": {},
     "output_type": "display_data"
    },
    {
     "name": "stderr",
     "output_type": "stream",
     "text": [
      "Waiting for profiling to be done...\n",
      "\n"
     ]
    },
    {
     "data": {
      "text/html": [
       "<table class=\"dataframe\">\n",
       "<caption>A matrix: 23 × 3 of type dbl</caption>\n",
       "<thead>\n",
       "\t<tr><th></th><th scope=col>OR</th><th scope=col>2.5 %</th><th scope=col>97.5 %</th></tr>\n",
       "</thead>\n",
       "<tbody>\n",
       "\t<tr><th scope=row>(Intercept)</th><td>0.006850646</td><td>1.921037e-11</td><td>1.173442e+06</td></tr>\n",
       "\t<tr><th scope=row>gcs1</th><td>0.960328470</td><td>6.048227e-01</td><td>1.488672e+00</td></tr>\n",
       "\t<tr><th scope=row>genderF</th><td>1.483207909</td><td>1.078862e+00</td><td>2.046237e+00</td></tr>\n",
       "\t<tr><th scope=row>age</th><td>1.021069616</td><td>1.008956e+00</td><td>1.033579e+00</td></tr>\n",
       "\t<tr><th scope=row>sapsii</th><td>1.033586655</td><td>1.021089e+00</td><td>1.046220e+00</td></tr>\n",
       "\t<tr><th scope=row>weight</th><td>0.986305111</td><td>9.785687e-01</td><td>9.938306e-01</td></tr>\n",
       "\t<tr><th scope=row>sofa_24hours</th><td>1.241441265</td><td>1.183413e+00</td><td>1.303950e+00</td></tr>\n",
       "\t<tr><th scope=row>vs_heart_rate_first</th><td>1.007439033</td><td>1.000089e+00</td><td>1.014833e+00</td></tr>\n",
       "\t<tr><th scope=row>vs_map_first</th><td>0.999785443</td><td>9.922002e-01</td><td>1.007236e+00</td></tr>\n",
       "\t<tr><th scope=row>vs_temp_first</th><td>0.900823340</td><td>7.710793e-01</td><td>1.057658e+00</td></tr>\n",
       "\t<tr><th scope=row>lab_hemoglobin_first</th><td>0.962123498</td><td>8.939928e-01</td><td>1.034845e+00</td></tr>\n",
       "\t<tr><th scope=row>lab_platelet_first</th><td>1.000427382</td><td>9.991292e-01</td><td>1.001637e+00</td></tr>\n",
       "\t<tr><th scope=row>lab_wbc_first</th><td>1.003196574</td><td>9.893491e-01</td><td>1.016829e+00</td></tr>\n",
       "\t<tr><th scope=row>lab_ph_first</th><td>1.517009764</td><td>1.347043e-01</td><td>1.924709e+01</td></tr>\n",
       "\t<tr><th scope=row>lab_chloride_first</th><td>0.948075546</td><td>9.113300e-01</td><td>9.862265e-01</td></tr>\n",
       "\t<tr><th scope=row>lab_sodium_first</th><td>1.049591091</td><td>1.004742e+00</td><td>1.096540e+00</td></tr>\n",
       "\t<tr><th scope=row>lab_bun_first</th><td>1.009296729</td><td>1.001362e+00</td><td>1.017410e+00</td></tr>\n",
       "\t<tr><th scope=row>lab_bicarbonate_first</th><td>0.952056300</td><td>9.010220e-01</td><td>1.003913e+00</td></tr>\n",
       "\t<tr><th scope=row>lab_pco2_first</th><td>1.010115078</td><td>9.895980e-01</td><td>1.031947e+00</td></tr>\n",
       "\t<tr><th scope=row>lab_creatinine_first</th><td>0.755182576</td><td>6.527322e-01</td><td>8.613818e-01</td></tr>\n",
       "\t<tr><th scope=row>lab_potassium_first</th><td>1.024769676</td><td>8.451100e-01</td><td>1.236883e+00</td></tr>\n",
       "\t<tr><th scope=row>lab_po2_first</th><td>0.997132874</td><td>9.955305e-01</td><td>9.986641e-01</td></tr>\n",
       "\t<tr><th scope=row>lab_lactate_first</th><td>1.052692734</td><td>9.712893e-01</td><td>1.142477e+00</td></tr>\n",
       "</tbody>\n",
       "</table>\n"
      ],
      "text/latex": [
       "A matrix: 23 × 3 of type dbl\n",
       "\\begin{tabular}{r|lll}\n",
       "  & OR & 2.5 \\% & 97.5 \\%\\\\\n",
       "\\hline\n",
       "\t(Intercept) & 0.006850646 & 1.921037e-11 & 1.173442e+06\\\\\n",
       "\tgcs1 & 0.960328470 & 6.048227e-01 & 1.488672e+00\\\\\n",
       "\tgenderF & 1.483207909 & 1.078862e+00 & 2.046237e+00\\\\\n",
       "\tage & 1.021069616 & 1.008956e+00 & 1.033579e+00\\\\\n",
       "\tsapsii & 1.033586655 & 1.021089e+00 & 1.046220e+00\\\\\n",
       "\tweight & 0.986305111 & 9.785687e-01 & 9.938306e-01\\\\\n",
       "\tsofa\\_24hours & 1.241441265 & 1.183413e+00 & 1.303950e+00\\\\\n",
       "\tvs\\_heart\\_rate\\_first & 1.007439033 & 1.000089e+00 & 1.014833e+00\\\\\n",
       "\tvs\\_map\\_first & 0.999785443 & 9.922002e-01 & 1.007236e+00\\\\\n",
       "\tvs\\_temp\\_first & 0.900823340 & 7.710793e-01 & 1.057658e+00\\\\\n",
       "\tlab\\_hemoglobin\\_first & 0.962123498 & 8.939928e-01 & 1.034845e+00\\\\\n",
       "\tlab\\_platelet\\_first & 1.000427382 & 9.991292e-01 & 1.001637e+00\\\\\n",
       "\tlab\\_wbc\\_first & 1.003196574 & 9.893491e-01 & 1.016829e+00\\\\\n",
       "\tlab\\_ph\\_first & 1.517009764 & 1.347043e-01 & 1.924709e+01\\\\\n",
       "\tlab\\_chloride\\_first & 0.948075546 & 9.113300e-01 & 9.862265e-01\\\\\n",
       "\tlab\\_sodium\\_first & 1.049591091 & 1.004742e+00 & 1.096540e+00\\\\\n",
       "\tlab\\_bun\\_first & 1.009296729 & 1.001362e+00 & 1.017410e+00\\\\\n",
       "\tlab\\_bicarbonate\\_first & 0.952056300 & 9.010220e-01 & 1.003913e+00\\\\\n",
       "\tlab\\_pco2\\_first & 1.010115078 & 9.895980e-01 & 1.031947e+00\\\\\n",
       "\tlab\\_creatinine\\_first & 0.755182576 & 6.527322e-01 & 8.613818e-01\\\\\n",
       "\tlab\\_potassium\\_first & 1.024769676 & 8.451100e-01 & 1.236883e+00\\\\\n",
       "\tlab\\_po2\\_first & 0.997132874 & 9.955305e-01 & 9.986641e-01\\\\\n",
       "\tlab\\_lactate\\_first & 1.052692734 & 9.712893e-01 & 1.142477e+00\\\\\n",
       "\\end{tabular}\n"
      ],
      "text/markdown": [
       "\n",
       "A matrix: 23 × 3 of type dbl\n",
       "\n",
       "| <!--/--> | OR | 2.5 % | 97.5 % |\n",
       "|---|---|---|---|\n",
       "| (Intercept) | 0.006850646 | 1.921037e-11 | 1.173442e+06 |\n",
       "| gcs1 | 0.960328470 | 6.048227e-01 | 1.488672e+00 |\n",
       "| genderF | 1.483207909 | 1.078862e+00 | 2.046237e+00 |\n",
       "| age | 1.021069616 | 1.008956e+00 | 1.033579e+00 |\n",
       "| sapsii | 1.033586655 | 1.021089e+00 | 1.046220e+00 |\n",
       "| weight | 0.986305111 | 9.785687e-01 | 9.938306e-01 |\n",
       "| sofa_24hours | 1.241441265 | 1.183413e+00 | 1.303950e+00 |\n",
       "| vs_heart_rate_first | 1.007439033 | 1.000089e+00 | 1.014833e+00 |\n",
       "| vs_map_first | 0.999785443 | 9.922002e-01 | 1.007236e+00 |\n",
       "| vs_temp_first | 0.900823340 | 7.710793e-01 | 1.057658e+00 |\n",
       "| lab_hemoglobin_first | 0.962123498 | 8.939928e-01 | 1.034845e+00 |\n",
       "| lab_platelet_first | 1.000427382 | 9.991292e-01 | 1.001637e+00 |\n",
       "| lab_wbc_first | 1.003196574 | 9.893491e-01 | 1.016829e+00 |\n",
       "| lab_ph_first | 1.517009764 | 1.347043e-01 | 1.924709e+01 |\n",
       "| lab_chloride_first | 0.948075546 | 9.113300e-01 | 9.862265e-01 |\n",
       "| lab_sodium_first | 1.049591091 | 1.004742e+00 | 1.096540e+00 |\n",
       "| lab_bun_first | 1.009296729 | 1.001362e+00 | 1.017410e+00 |\n",
       "| lab_bicarbonate_first | 0.952056300 | 9.010220e-01 | 1.003913e+00 |\n",
       "| lab_pco2_first | 1.010115078 | 9.895980e-01 | 1.031947e+00 |\n",
       "| lab_creatinine_first | 0.755182576 | 6.527322e-01 | 8.613818e-01 |\n",
       "| lab_potassium_first | 1.024769676 | 8.451100e-01 | 1.236883e+00 |\n",
       "| lab_po2_first | 0.997132874 | 9.955305e-01 | 9.986641e-01 |\n",
       "| lab_lactate_first | 1.052692734 | 9.712893e-01 | 1.142477e+00 |\n",
       "\n"
      ],
      "text/plain": [
       "                      OR          2.5 %        97.5 %      \n",
       "(Intercept)           0.006850646 1.921037e-11 1.173442e+06\n",
       "gcs1                  0.960328470 6.048227e-01 1.488672e+00\n",
       "genderF               1.483207909 1.078862e+00 2.046237e+00\n",
       "age                   1.021069616 1.008956e+00 1.033579e+00\n",
       "sapsii                1.033586655 1.021089e+00 1.046220e+00\n",
       "weight                0.986305111 9.785687e-01 9.938306e-01\n",
       "sofa_24hours          1.241441265 1.183413e+00 1.303950e+00\n",
       "vs_heart_rate_first   1.007439033 1.000089e+00 1.014833e+00\n",
       "vs_map_first          0.999785443 9.922002e-01 1.007236e+00\n",
       "vs_temp_first         0.900823340 7.710793e-01 1.057658e+00\n",
       "lab_hemoglobin_first  0.962123498 8.939928e-01 1.034845e+00\n",
       "lab_platelet_first    1.000427382 9.991292e-01 1.001637e+00\n",
       "lab_wbc_first         1.003196574 9.893491e-01 1.016829e+00\n",
       "lab_ph_first          1.517009764 1.347043e-01 1.924709e+01\n",
       "lab_chloride_first    0.948075546 9.113300e-01 9.862265e-01\n",
       "lab_sodium_first      1.049591091 1.004742e+00 1.096540e+00\n",
       "lab_bun_first         1.009296729 1.001362e+00 1.017410e+00\n",
       "lab_bicarbonate_first 0.952056300 9.010220e-01 1.003913e+00\n",
       "lab_pco2_first        1.010115078 9.895980e-01 1.031947e+00\n",
       "lab_creatinine_first  0.755182576 6.527322e-01 8.613818e-01\n",
       "lab_potassium_first   1.024769676 8.451100e-01 1.236883e+00\n",
       "lab_po2_first         0.997132874 9.955305e-01 9.986641e-01\n",
       "lab_lactate_first     1.052692734 9.712893e-01 1.142477e+00"
      ]
     },
     "metadata": {},
     "output_type": "display_data"
    }
   ],
   "source": [
    "unweighted <- glm(as.formula(fml), data = full_data, family = binomial, na.action = na.exclude)\n",
    "summary(unweighted)\n",
    "\n",
    "\n",
    "exp(cbind(OR = coef(unweighted), confint(unweighted)))\n",
    "\n",
    "## 这里得到的有效变量非常多，而且主要分类变量的意义比较大，这是通过回归之后得到的结果，所以在进行分析的第一步就可以用回归的方法来研究有效变量。\n"
   ]
  },
  {
   "cell_type": "code",
   "execution_count": 16,
   "metadata": {
    "vscode": {
     "languageId": "r"
    }
   },
   "outputs": [],
   "source": [
    "saveRDS(unweighted, file = file.path(data_dir, \"multivariate_model.rds\"))"
   ]
  },
  {
   "cell_type": "code",
   "execution_count": 17,
   "metadata": {
    "vscode": {
     "languageId": "r"
    }
   },
   "outputs": [
    {
     "name": "stderr",
     "output_type": "stream",
     "text": [
      "Waiting for profiling to be done...\n",
      "\n"
     ]
    }
   ],
   "source": [
    "# 计算结果并存储在变量中\n",
    "result <- exp(cbind(OR = coef(unweighted), confint(unweighted)))\n",
    "\n",
    "# 将协变量的名称添加为新的一列\n",
    "result <- data.frame(Variable = rownames(result), result)\n",
    "\n",
    "# 将结果写入 CSV 文件\n",
    "data.table::fwrite(result, file.path(data_dir, \"result.csv\"))"
   ]
  },
  {
   "cell_type": "code",
   "execution_count": 18,
   "metadata": {
    "vscode": {
     "languageId": "r"
    }
   },
   "outputs": [],
   "source": [
    "fml <-  \"gcs_int ~ gender + age + sapsii + weight + sofa_24hours + vs_heart_rate_first + vs_map_first + vs_temp_first + lab_hemoglobin_first + lab_platelet_first + lab_wbc_first + lab_ph_first + lab_chloride_first + lab_sodium_first + lab_bun_first + lab_bicarbonate_first +  lab_creatinine_first + lab_potassium_first + lab_po2_flag + lab_pco2_flag + lab_lactate_flag  + lab_creatinine_kinase_flag +lab_bnp_flag +infection_flag\"\n",
    "\n"
   ]
  },
  {
   "cell_type": "code",
   "execution_count": 19,
   "metadata": {
    "vscode": {
     "languageId": "r"
    }
   },
   "outputs": [],
   "source": [
    "echo_ps_ate <- ps(as.formula(fml),\n",
    "                  data = full_data,\n",
    "                  interaction.depth = 2,\n",
    "                  shrinkage = 0.01,\n",
    "                  perm.test.iters = 0,\n",
    "                  estimand = \"ATE\",\n",
    "                  verbose = FALSE,\n",
    "                  stop.method = c(\"es.mean\", \"es.max\", \"ks.mean\", \"ks.max\"),\n",
    "                  n.trees = 10000,\n",
    "                  train.fraction = 0.8, \n",
    "                  cv.folds = 3, \n",
    "                  early_stopping_rounds = 20,\n",
    "                  version = \"legacy\",\n",
    "                  subsample = 0.3,\n",
    "                  colsample_bytree = 0.3,  \n",
    "                  n.cores = 8)"
   ]
  },
  {
   "cell_type": "code",
   "execution_count": 20,
   "metadata": {
    "vscode": {
     "languageId": "r"
    }
   },
   "outputs": [
    {
     "data": {
      "text/html": [
       "0.805430035447441"
      ],
      "text/latex": [
       "0.805430035447441"
      ],
      "text/markdown": [
       "0.805430035447441"
      ],
      "text/plain": [
       "[1] 0.80543"
      ]
     },
     "metadata": {},
     "output_type": "display_data"
    }
   ],
   "source": [
    "library(\"survey\")\n",
    "\n",
    "pred <- echo_ps_ate$ps$es.mean.ATE\n",
    "full_data <- full_data %>% mutate(ps = pred)\n",
    "ROCR::performance(ROCR::prediction(pred, label), \"auc\")@y.values %>% first\n",
    "\n"
   ]
  },
  {
   "cell_type": "code",
   "execution_count": 21,
   "metadata": {
    "vscode": {
     "languageId": "r"
    }
   },
   "outputs": [
    {
     "data": {
      "text/html": [
       "<table class=\"dataframe\">\n",
       "<caption>A data.frame: 24 × 2</caption>\n",
       "<thead>\n",
       "\t<tr><th></th><th scope=col>var</th><th scope=col>rel.inf</th></tr>\n",
       "\t<tr><th></th><th scope=col>&lt;chr&gt;</th><th scope=col>&lt;dbl&gt;</th></tr>\n",
       "</thead>\n",
       "<tbody>\n",
       "\t<tr><th scope=row>lab_wbc_first</th><td>lab_wbc_first             </td><td>12.06265284</td></tr>\n",
       "\t<tr><th scope=row>lab_platelet_first</th><td>lab_platelet_first        </td><td>11.60184076</td></tr>\n",
       "\t<tr><th scope=row>weight</th><td>weight                    </td><td> 8.47860015</td></tr>\n",
       "\t<tr><th scope=row>vs_heart_rate_first</th><td>vs_heart_rate_first       </td><td> 7.71049272</td></tr>\n",
       "\t<tr><th scope=row>lab_hemoglobin_first</th><td>lab_hemoglobin_first      </td><td> 7.51525036</td></tr>\n",
       "\t<tr><th scope=row>vs_temp_first</th><td>vs_temp_first             </td><td> 6.24292049</td></tr>\n",
       "\t<tr><th scope=row>lab_creatinine_first</th><td>lab_creatinine_first      </td><td> 5.90376144</td></tr>\n",
       "\t<tr><th scope=row>lab_bun_first</th><td>lab_bun_first             </td><td> 5.37278246</td></tr>\n",
       "\t<tr><th scope=row>vs_map_first</th><td>vs_map_first              </td><td> 5.19796557</td></tr>\n",
       "\t<tr><th scope=row>lab_ph_first</th><td>lab_ph_first              </td><td> 4.83304989</td></tr>\n",
       "\t<tr><th scope=row>lab_chloride_first</th><td>lab_chloride_first        </td><td> 4.68107978</td></tr>\n",
       "\t<tr><th scope=row>lab_bicarbonate_first</th><td>lab_bicarbonate_first     </td><td> 4.38186627</td></tr>\n",
       "\t<tr><th scope=row>age</th><td>age                       </td><td> 4.06670333</td></tr>\n",
       "\t<tr><th scope=row>sapsii</th><td>sapsii                    </td><td> 3.18596613</td></tr>\n",
       "\t<tr><th scope=row>lab_potassium_first</th><td>lab_potassium_first       </td><td> 3.10835939</td></tr>\n",
       "\t<tr><th scope=row>lab_sodium_first</th><td>lab_sodium_first          </td><td> 2.65658800</td></tr>\n",
       "\t<tr><th scope=row>sofa_24hours</th><td>sofa_24hours              </td><td> 1.46290457</td></tr>\n",
       "\t<tr><th scope=row>lab_lactate_flag</th><td>lab_lactate_flag          </td><td> 0.40103290</td></tr>\n",
       "\t<tr><th scope=row>infection_flag</th><td>infection_flag            </td><td> 0.36895784</td></tr>\n",
       "\t<tr><th scope=row>lab_creatinine_kinase_flag</th><td>lab_creatinine_kinase_flag</td><td> 0.30366331</td></tr>\n",
       "\t<tr><th scope=row>gender</th><td>gender                    </td><td> 0.26776359</td></tr>\n",
       "\t<tr><th scope=row>lab_bnp_flag</th><td>lab_bnp_flag              </td><td> 0.15396274</td></tr>\n",
       "\t<tr><th scope=row>lab_po2_flag</th><td>lab_po2_flag              </td><td> 0.04183548</td></tr>\n",
       "\t<tr><th scope=row>lab_pco2_flag</th><td>lab_pco2_flag             </td><td> 0.00000000</td></tr>\n",
       "</tbody>\n",
       "</table>\n"
      ],
      "text/latex": [
       "A data.frame: 24 × 2\n",
       "\\begin{tabular}{r|ll}\n",
       "  & var & rel.inf\\\\\n",
       "  & <chr> & <dbl>\\\\\n",
       "\\hline\n",
       "\tlab\\_wbc\\_first & lab\\_wbc\\_first              & 12.06265284\\\\\n",
       "\tlab\\_platelet\\_first & lab\\_platelet\\_first         & 11.60184076\\\\\n",
       "\tweight & weight                     &  8.47860015\\\\\n",
       "\tvs\\_heart\\_rate\\_first & vs\\_heart\\_rate\\_first        &  7.71049272\\\\\n",
       "\tlab\\_hemoglobin\\_first & lab\\_hemoglobin\\_first       &  7.51525036\\\\\n",
       "\tvs\\_temp\\_first & vs\\_temp\\_first              &  6.24292049\\\\\n",
       "\tlab\\_creatinine\\_first & lab\\_creatinine\\_first       &  5.90376144\\\\\n",
       "\tlab\\_bun\\_first & lab\\_bun\\_first              &  5.37278246\\\\\n",
       "\tvs\\_map\\_first & vs\\_map\\_first               &  5.19796557\\\\\n",
       "\tlab\\_ph\\_first & lab\\_ph\\_first               &  4.83304989\\\\\n",
       "\tlab\\_chloride\\_first & lab\\_chloride\\_first         &  4.68107978\\\\\n",
       "\tlab\\_bicarbonate\\_first & lab\\_bicarbonate\\_first      &  4.38186627\\\\\n",
       "\tage & age                        &  4.06670333\\\\\n",
       "\tsapsii & sapsii                     &  3.18596613\\\\\n",
       "\tlab\\_potassium\\_first & lab\\_potassium\\_first        &  3.10835939\\\\\n",
       "\tlab\\_sodium\\_first & lab\\_sodium\\_first           &  2.65658800\\\\\n",
       "\tsofa\\_24hours & sofa\\_24hours               &  1.46290457\\\\\n",
       "\tlab\\_lactate\\_flag & lab\\_lactate\\_flag           &  0.40103290\\\\\n",
       "\tinfection\\_flag & infection\\_flag             &  0.36895784\\\\\n",
       "\tlab\\_creatinine\\_kinase\\_flag & lab\\_creatinine\\_kinase\\_flag &  0.30366331\\\\\n",
       "\tgender & gender                     &  0.26776359\\\\\n",
       "\tlab\\_bnp\\_flag & lab\\_bnp\\_flag               &  0.15396274\\\\\n",
       "\tlab\\_po2\\_flag & lab\\_po2\\_flag               &  0.04183548\\\\\n",
       "\tlab\\_pco2\\_flag & lab\\_pco2\\_flag              &  0.00000000\\\\\n",
       "\\end{tabular}\n"
      ],
      "text/markdown": [
       "\n",
       "A data.frame: 24 × 2\n",
       "\n",
       "| <!--/--> | var &lt;chr&gt; | rel.inf &lt;dbl&gt; |\n",
       "|---|---|---|\n",
       "| lab_wbc_first | lab_wbc_first              | 12.06265284 |\n",
       "| lab_platelet_first | lab_platelet_first         | 11.60184076 |\n",
       "| weight | weight                     |  8.47860015 |\n",
       "| vs_heart_rate_first | vs_heart_rate_first        |  7.71049272 |\n",
       "| lab_hemoglobin_first | lab_hemoglobin_first       |  7.51525036 |\n",
       "| vs_temp_first | vs_temp_first              |  6.24292049 |\n",
       "| lab_creatinine_first | lab_creatinine_first       |  5.90376144 |\n",
       "| lab_bun_first | lab_bun_first              |  5.37278246 |\n",
       "| vs_map_first | vs_map_first               |  5.19796557 |\n",
       "| lab_ph_first | lab_ph_first               |  4.83304989 |\n",
       "| lab_chloride_first | lab_chloride_first         |  4.68107978 |\n",
       "| lab_bicarbonate_first | lab_bicarbonate_first      |  4.38186627 |\n",
       "| age | age                        |  4.06670333 |\n",
       "| sapsii | sapsii                     |  3.18596613 |\n",
       "| lab_potassium_first | lab_potassium_first        |  3.10835939 |\n",
       "| lab_sodium_first | lab_sodium_first           |  2.65658800 |\n",
       "| sofa_24hours | sofa_24hours               |  1.46290457 |\n",
       "| lab_lactate_flag | lab_lactate_flag           |  0.40103290 |\n",
       "| infection_flag | infection_flag             |  0.36895784 |\n",
       "| lab_creatinine_kinase_flag | lab_creatinine_kinase_flag |  0.30366331 |\n",
       "| gender | gender                     |  0.26776359 |\n",
       "| lab_bnp_flag | lab_bnp_flag               |  0.15396274 |\n",
       "| lab_po2_flag | lab_po2_flag               |  0.04183548 |\n",
       "| lab_pco2_flag | lab_pco2_flag              |  0.00000000 |\n",
       "\n"
      ],
      "text/plain": [
       "                           var                        rel.inf    \n",
       "lab_wbc_first              lab_wbc_first              12.06265284\n",
       "lab_platelet_first         lab_platelet_first         11.60184076\n",
       "weight                     weight                      8.47860015\n",
       "vs_heart_rate_first        vs_heart_rate_first         7.71049272\n",
       "lab_hemoglobin_first       lab_hemoglobin_first        7.51525036\n",
       "vs_temp_first              vs_temp_first               6.24292049\n",
       "lab_creatinine_first       lab_creatinine_first        5.90376144\n",
       "lab_bun_first              lab_bun_first               5.37278246\n",
       "vs_map_first               vs_map_first                5.19796557\n",
       "lab_ph_first               lab_ph_first                4.83304989\n",
       "lab_chloride_first         lab_chloride_first          4.68107978\n",
       "lab_bicarbonate_first      lab_bicarbonate_first       4.38186627\n",
       "age                        age                         4.06670333\n",
       "sapsii                     sapsii                      3.18596613\n",
       "lab_potassium_first        lab_potassium_first         3.10835939\n",
       "lab_sodium_first           lab_sodium_first            2.65658800\n",
       "sofa_24hours               sofa_24hours                1.46290457\n",
       "lab_lactate_flag           lab_lactate_flag            0.40103290\n",
       "infection_flag             infection_flag              0.36895784\n",
       "lab_creatinine_kinase_flag lab_creatinine_kinase_flag  0.30366331\n",
       "gender                     gender                      0.26776359\n",
       "lab_bnp_flag               lab_bnp_flag                0.15396274\n",
       "lab_po2_flag               lab_po2_flag                0.04183548\n",
       "lab_pco2_flag              lab_pco2_flag               0.00000000"
      ]
     },
     "metadata": {},
     "output_type": "display_data"
    }
   ],
   "source": [
    "ft_importance <- summary(echo_ps_ate$gbm.obj,\n",
    "                         n.trees = echo_ps_ate$desc$es.mean.ATE$n.trees,\n",
    "                         plot = FALSE)\n",
    "ft_importance"
   ]
  },
  {
   "cell_type": "code",
   "execution_count": 22,
   "metadata": {
    "vscode": {
     "languageId": "r"
    }
   },
   "outputs": [],
   "source": [
    "full_data <- full_data %>%\n",
    "    mutate(ps_weight = get.weights(echo_ps_ate, stop.method = \"es.mean\"))"
   ]
  },
  {
   "cell_type": "code",
   "execution_count": 23,
   "metadata": {
    "vscode": {
     "languageId": "r"
    }
   },
   "outputs": [],
   "source": [
    "saveRDS(full_data, file = file.path(data_dir, \"full_data_ps.rds\"))"
   ]
  },
  {
   "cell_type": "code",
   "execution_count": 24,
   "metadata": {
    "vscode": {
     "languageId": "r"
    }
   },
   "outputs": [],
   "source": [
    "saveRDS(ft_importance, file = file.path(data_dir, \"feature_importance.rds\"))"
   ]
  },
  {
   "cell_type": "code",
   "execution_count": 25,
   "metadata": {
    "vscode": {
     "languageId": "r"
    }
   },
   "outputs": [
    {
     "name": "stderr",
     "output_type": "stream",
     "text": [
      "Warning message in eval(family$initialize):\n",
      "\"non-integer #successes in a binomial glm!\"\n"
     ]
    },
    {
     "data": {
      "text/plain": [
       "\n",
       "Call:\n",
       "glm(formula = mort_28_day ~ gcs, family = binomial, data = full_data, \n",
       "    weights = full_data$ps_weight)\n",
       "\n",
       "Coefficients:\n",
       "            Estimate Std. Error z value Pr(>|z|)    \n",
       "(Intercept) -2.20096    0.05058 -43.515   <2e-16 ***\n",
       "gcs1        -0.09500    0.07781  -1.221    0.222    \n",
       "---\n",
       "Signif. codes:  0 '***' 0.001 '**' 0.01 '*' 0.05 '.' 0.1 ' ' 1\n",
       "\n",
       "(Dispersion parameter for binomial family taken to be 1)\n",
       "\n",
       "    Null deviance: 4932.8  on 4400  degrees of freedom\n",
       "Residual deviance: 4931.3  on 4399  degrees of freedom\n",
       "AIC: 4618.3\n",
       "\n",
       "Number of Fisher Scoring iterations: 5\n"
      ]
     },
     "metadata": {},
     "output_type": "display_data"
    },
    {
     "name": "stderr",
     "output_type": "stream",
     "text": [
      "Waiting for profiling to be done...\n",
      "\n",
      "Warning message in eval(family$initialize):\n",
      "\"non-integer #successes in a binomial glm!\"\n",
      "Warning message in eval(family$initialize):\n",
      "\"non-integer #successes in a binomial glm!\"\n",
      "Warning message in eval(family$initialize):\n",
      "\"non-integer #successes in a binomial glm!\"\n",
      "Warning message in eval(family$initialize):\n",
      "\"non-integer #successes in a binomial glm!\"\n",
      "Warning message in eval(family$initialize):\n",
      "\"non-integer #successes in a binomial glm!\"\n",
      "Warning message in eval(family$initialize):\n",
      "\"non-integer #successes in a binomial glm!\"\n",
      "Warning message in eval(family$initialize):\n",
      "\"non-integer #successes in a binomial glm!\"\n",
      "Warning message in eval(family$initialize):\n",
      "\"non-integer #successes in a binomial glm!\"\n",
      "Warning message in eval(family$initialize):\n",
      "\"non-integer #successes in a binomial glm!\"\n",
      "Warning message in eval(family$initialize):\n",
      "\"non-integer #successes in a binomial glm!\"\n",
      "Warning message in eval(family$initialize):\n",
      "\"non-integer #successes in a binomial glm!\"\n",
      "Warning message in eval(family$initialize):\n",
      "\"non-integer #successes in a binomial glm!\"\n",
      "Warning message in eval(family$initialize):\n",
      "\"non-integer #successes in a binomial glm!\"\n",
      "Warning message in eval(family$initialize):\n",
      "\"non-integer #successes in a binomial glm!\"\n",
      "Warning message in eval(family$initialize):\n",
      "\"non-integer #successes in a binomial glm!\"\n",
      "Warning message in eval(family$initialize):\n",
      "\"non-integer #successes in a binomial glm!\"\n",
      "Warning message in eval(family$initialize):\n",
      "\"non-integer #successes in a binomial glm!\"\n",
      "Warning message in eval(family$initialize):\n",
      "\"non-integer #successes in a binomial glm!\"\n",
      "Warning message in eval(family$initialize):\n",
      "\"non-integer #successes in a binomial glm!\"\n",
      "Warning message in eval(family$initialize):\n",
      "\"non-integer #successes in a binomial glm!\"\n",
      "Warning message in eval(family$initialize):\n",
      "\"non-integer #successes in a binomial glm!\"\n",
      "Warning message in eval(family$initialize):\n",
      "\"non-integer #successes in a binomial glm!\"\n"
     ]
    },
    {
     "data": {
      "text/html": [
       "<table class=\"dataframe\">\n",
       "<caption>A matrix: 2 × 3 of type dbl</caption>\n",
       "<thead>\n",
       "\t<tr><th></th><th scope=col>OR</th><th scope=col>2.5 %</th><th scope=col>97.5 %</th></tr>\n",
       "</thead>\n",
       "<tbody>\n",
       "\t<tr><th scope=row>(Intercept)</th><td>0.1106966</td><td>0.1001150</td><td>0.1220753</td></tr>\n",
       "\t<tr><th scope=row>gcs1</th><td>0.9093735</td><td>0.7803023</td><td>1.0587280</td></tr>\n",
       "</tbody>\n",
       "</table>\n"
      ],
      "text/latex": [
       "A matrix: 2 × 3 of type dbl\n",
       "\\begin{tabular}{r|lll}\n",
       "  & OR & 2.5 \\% & 97.5 \\%\\\\\n",
       "\\hline\n",
       "\t(Intercept) & 0.1106966 & 0.1001150 & 0.1220753\\\\\n",
       "\tgcs1 & 0.9093735 & 0.7803023 & 1.0587280\\\\\n",
       "\\end{tabular}\n"
      ],
      "text/markdown": [
       "\n",
       "A matrix: 2 × 3 of type dbl\n",
       "\n",
       "| <!--/--> | OR | 2.5 % | 97.5 % |\n",
       "|---|---|---|---|\n",
       "| (Intercept) | 0.1106966 | 0.1001150 | 0.1220753 |\n",
       "| gcs1 | 0.9093735 | 0.7803023 | 1.0587280 |\n",
       "\n"
      ],
      "text/plain": [
       "            OR        2.5 %     97.5 %   \n",
       "(Intercept) 0.1106966 0.1001150 0.1220753\n",
       "gcs1        0.9093735 0.7803023 1.0587280"
      ]
     },
     "metadata": {},
     "output_type": "display_data"
    }
   ],
   "source": [
    "\n",
    "primary_ipw <- glm(mort_28_day ~ gcs, data = full_data,\n",
    "                   weights = full_data$ps_weight, family = binomial)\n",
    "summary(primary_ipw)\n",
    "exp(cbind(OR = coef(primary_ipw), confint(primary_ipw)))\n",
    "\n"
   ]
  },
  {
   "cell_type": "code",
   "execution_count": 26,
   "metadata": {
    "vscode": {
     "languageId": "r"
    }
   },
   "outputs": [],
   "source": [
    "saveRDS(primary_ipw, file = file.path(data_dir, \"ipw_model.rds\"))"
   ]
  },
  {
   "cell_type": "code",
   "execution_count": 27,
   "metadata": {
    "vscode": {
     "languageId": "r"
    }
   },
   "outputs": [],
   "source": [
    "\n",
    "ipw_svydesign <- svydesign(ids = ~ stay_id, weights = ~ ps_weight, data = full_data)\n"
   ]
  },
  {
   "cell_type": "code",
   "execution_count": 28,
   "metadata": {
    "vscode": {
     "languageId": "r"
    }
   },
   "outputs": [],
   "source": [
    "saveRDS(ipw_svydesign, file = file.path(data_dir, \"ipw_svydesign.rds\"))"
   ]
  },
  {
   "cell_type": "code",
   "execution_count": 29,
   "metadata": {
    "vscode": {
     "languageId": "r"
    }
   },
   "outputs": [
    {
     "data": {
      "text/html": [
       "<span style=white-space:pre-wrap>'gcs_int ~ gender + age + sapsii + weight + sofa_24hours + vs_heart_rate_first + vs_map_first + vs_temp_first + lab_hemoglobin_first + lab_platelet_first + lab_wbc_first + lab_ph_first + lab_chloride_first + lab_sodium_first + lab_bun_first + lab_bicarbonate_first +  lab_creatinine_first + lab_potassium_first + lab_po2_flag + lab_pco2_flag + lab_lactate_flag  + lab_creatinine_kinase_flag +lab_bnp_flag +infection_flag'</span>"
      ],
      "text/latex": [
       "'gcs\\_int \\textasciitilde{} gender + age + sapsii + weight + sofa\\_24hours + vs\\_heart\\_rate\\_first + vs\\_map\\_first + vs\\_temp\\_first + lab\\_hemoglobin\\_first + lab\\_platelet\\_first + lab\\_wbc\\_first + lab\\_ph\\_first + lab\\_chloride\\_first + lab\\_sodium\\_first + lab\\_bun\\_first + lab\\_bicarbonate\\_first +  lab\\_creatinine\\_first + lab\\_potassium\\_first + lab\\_po2\\_flag + lab\\_pco2\\_flag + lab\\_lactate\\_flag  + lab\\_creatinine\\_kinase\\_flag +lab\\_bnp\\_flag +infection\\_flag'"
      ],
      "text/markdown": [
       "<span style=white-space:pre-wrap>'gcs_int ~ gender + age + sapsii + weight + sofa_24hours + vs_heart_rate_first + vs_map_first + vs_temp_first + lab_hemoglobin_first + lab_platelet_first + lab_wbc_first + lab_ph_first + lab_chloride_first + lab_sodium_first + lab_bun_first + lab_bicarbonate_first +  lab_creatinine_first + lab_potassium_first + lab_po2_flag + lab_pco2_flag + lab_lactate_flag  + lab_creatinine_kinase_flag +lab_bnp_flag +infection_flag'</span>"
      ],
      "text/plain": [
       "[1] \"gcs_int ~ gender + age + sapsii + weight + sofa_24hours + vs_heart_rate_first + vs_map_first + vs_temp_first + lab_hemoglobin_first + lab_platelet_first + lab_wbc_first + lab_ph_first + lab_chloride_first + lab_sodium_first + lab_bun_first + lab_bicarbonate_first +  lab_creatinine_first + lab_potassium_first + lab_po2_flag + lab_pco2_flag + lab_lactate_flag  + lab_creatinine_kinase_flag +lab_bnp_flag +infection_flag\""
      ]
     },
     "metadata": {},
     "output_type": "display_data"
    }
   ],
   "source": [
    "fml"
   ]
  },
  {
   "cell_type": "code",
   "execution_count": 30,
   "metadata": {
    "vscode": {
     "languageId": "r"
    }
   },
   "outputs": [
    {
     "name": "stdout",
     "output_type": "stream",
     "text": [
      "'data.frame':\t4401 obs. of  122 variables:\n",
      " $ stay_id                       : int  38302142 31869153 31501167 39256124 31132695 39784690 30676468 36764451 37622123 33677073 ...\n",
      " $ hadm_id                       : int  20475690 21383344 20944291 24959920 28164203 23246205 25726133 25762316 23409728 25424583 ...\n",
      " $ subject_id                    : int  13620446 15359363 12162143 18226317 15928453 16810503 18111896 15558620 13263395 12252649 ...\n",
      " $ gender                        : Factor w/ 2 levels \"M\",\"F\": 2 2 2 1 2 1 1 2 1 1 ...\n",
      " $ age                           : num  66 41.9 87.6 66.9 44.4 ...\n",
      " $ sapsii                        : int  31 39 35 28 55 30 62 35 20 46 ...\n",
      " $ icu_intime                    : POSIXct, format: \"2159-01-21 01:45:32\" \"2166-12-02 16:08:45\" ...\n",
      " $ icu_outtime                   : POSIXct, format: \"2159-01-25 14:09:02\" \"2166-12-05 02:10:02\" ...\n",
      " $ weight                        : num  138 70 65 88 45.9 80 99.7 72 89.6 90.5 ...\n",
      " $ sofa_24hours                  : int  1 0 1 3 10 3 8 1 2 6 ...\n",
      " $ infection                     : Factor w/ 2 levels \"0\",\"1\": 2 2 NA 1 2 2 2 NA NA 2 ...\n",
      " $ mort_28_day                   : Factor w/ 2 levels \"0\",\"1\": 1 1 1 1 1 1 1 1 1 1 ...\n",
      " $ survival_days                 : num  1653.93 2.42 1.64 4.72 2199.99 ...\n",
      " $ gcs_include                   : Factor w/ 2 levels \"0\",\"1\": 1 2 1 1 1 1 2 1 1 1 ...\n",
      " $ gcs_include_combine           : Factor w/ 2 levels \"0\",\"1\": 1 2 2 1 1 1 2 2 1 1 ...\n",
      " $ vs_heart_rate_first           : num  143 140 97 72 110 110 89 82 76 68 ...\n",
      " $ vs_heart_rate_min             : num  106 63 78 57 108 79 52 59 56 57 ...\n",
      " $ vs_heart_rate_max             : num  143 142 103 82 133 111 93 82 80 100 ...\n",
      " $ vs_cvp_first                  : num  NA NA NA NA 16 4 NA NA NA 12 ...\n",
      " $ vs_cvp_min                    : num  NA NA NA NA 8 4 NA NA NA 8 ...\n",
      " $ vs_cvp_max                    : num  NA NA NA NA 335 27 NA NA NA 21 ...\n",
      " $ vs_map_first                  : num  78 99 110 82 78 86 97 75 83 75 ...\n",
      " $ vs_map_min                    : num  55 68 102 56 50 61 63 45 58 60 ...\n",
      " $ vs_map_max                    : num  102 99 199 106 86 178 138 113 140 98 ...\n",
      " $ vs_temp_first                 : num  38.3 39.4 36.7 37.1 37.3 ...\n",
      " $ vs_temp_min                   : num  37.2 36.1 36.7 36.7 37 ...\n",
      " $ vs_temp_max                   : num  39.4 39.6 36.9 37.1 39.1 ...\n",
      " $ lab_hemoglobin_first          : num  8.5 8 11.4 13.5 13 11.4 7.1 8.9 13.5 10.5 ...\n",
      " $ lab_hemoglobin_min            : num  8.5 8 11.4 13.5 10.2 7 7.1 8.9 13.5 9.5 ...\n",
      " $ lab_hemoglobin_max            : num  8.5 8 12 13.5 13.7 12.1 8.8 9.1 13.5 11.2 ...\n",
      " $ lab_hemoglobin_abnormal       : Factor w/ 2 levels \"0\",\"1\": 2 2 2 2 2 2 2 2 2 2 ...\n",
      " $ lab_platelet_first            : num  250 145 113 143 128 124 417 151 193 95 ...\n",
      " $ lab_platelet_min              : num  250 145 113 143 91 123 298 139 193 87 ...\n",
      " $ lab_platelet_max              : num  250 145 135 143 128 143 417 151 193 107 ...\n",
      " $ lab_platelet_abnormal         : Factor w/ 2 levels \"0\",\"1\": 1 2 2 2 2 2 2 2 1 2 ...\n",
      " $ lab_creatinine_kinase_first   : num  NA NA 367 NA NA NA 240 NA 5 NA ...\n",
      " $ lab_creatinine_kinase_min     : num  NA NA 4 NA NA NA 240 NA 5 NA ...\n",
      " $ lab_creatinine_kinase_max     : num  NA NA 367 NA NA NA 240 NA 162 NA ...\n",
      " $ lab_creatinine_kinase_abnormal: Factor w/ 2 levels \"0\",\"1\": NA NA 2 NA NA NA 2 NA 2 NA ...\n",
      " $ lab_wbc_first                 : num  6.5 0.7 8.8 10.6 10.6 18.8 36.7 5.3 8.9 16.5 ...\n",
      " $ lab_wbc_min                   : num  6.5 0.7 8.8 10.6 9.4 12.1 29.3 4.9 8.9 12.1 ...\n",
      " $ lab_wbc_max                   : num  6.5 0.7 9.7 10.6 16.6 20 36.7 5.3 8.9 21.2 ...\n",
      " $ lab_wbc_abnormal              : Factor w/ 2 levels \"0\",\"1\": 1 2 1 2 2 2 2 1 1 2 ...\n",
      " $ lab_ph_first                  : num  7.34 NA 7.39 NA 7.38 7.31 7.29 NA NA 7.34 ...\n",
      " $ lab_ph_min                    : num  7.3 NA 7.36 NA 7.28 7.16 7.29 NA NA 7.31 ...\n",
      " $ lab_ph_max                    : num  7.34 NA 7.4 NA 7.39 7.42 7.35 NA NA 7.44 ...\n",
      " $ lab_ph_abnormal               : Factor w/ 2 levels \"0\",\"1\": 2 NA 2 NA 2 2 2 NA NA 2 ...\n",
      " $ lab_chloride_first            : num  101 101 105 100 85 111 106 109 104 107 ...\n",
      " $ lab_chloride_min              : num  101 101 101 100 85 111 102 109 104 102 ...\n",
      " $ lab_chloride_max              : num  101 101 105 100 102 116 106 109 104 107 ...\n",
      " $ lab_chloride_abnormal         : Factor w/ 2 levels \"0\",\"1\": 1 1 1 1 2 2 1 2 1 2 ...\n",
      " $ lab_sodium_first              : num  139 136 136 137 120 137 140 143 138 136 ...\n",
      " $ lab_sodium_min                : num  139 136 136 137 120 136 140 143 138 136 ...\n",
      " $ lab_sodium_max                : num  139 136 141 137 134 139 140 143 138 138 ...\n",
      " $ lab_sodium_abnormal           : Factor w/ 2 levels \"0\",\"1\": 1 1 1 1 2 1 1 1 1 1 ...\n",
      " $ lab_bun_first                 : num  18 5 40 30 91 15 105 22 16 21 ...\n",
      " $ lab_bun_min                   : num  18 5 39 30 32 15 105 22 16 21 ...\n",
      " $ lab_bun_max                   : num  18 5 40 30 91 15 136 22 16 22 ...\n",
      " $ lab_bun_abnormal              : Factor w/ 2 levels \"0\",\"1\": 1 2 2 2 2 1 2 2 1 2 ...\n",
      " $ lab_bicarbonate_first         : num  29 23 18 25 26 20 10 23 23 21 ...\n",
      " $ lab_bicarbonate_min           : num  29 23 15 25 22 20 10 23 23 18 ...\n",
      " $ lab_bicarbonate_max           : num  29 23 18 25 26 20 20 23 23 21 ...\n",
      " $ lab_bicarbonate_abnormal      : Factor w/ 2 levels \"0\",\"1\": 2 1 2 1 1 2 2 1 1 2 ...\n",
      " $ lab_pco2_first                : num  66 NA 31 NA 47 41 45 NA NA 42 ...\n",
      " $ lab_pco2_min                  : num  66 NA 24 NA 47 31 37 NA NA 29 ...\n",
      " $ lab_pco2_max                  : num  72 NA 37 NA 55 57 45 NA NA 44 ...\n",
      " $ lab_pco2_abnormal             : Factor w/ 2 levels \"0\",\"1\": 2 NA 2 NA 2 2 1 NA NA 2 ...\n",
      " $ lab_creatinine_first          : num  0.7 0.5 2.2 1.1 1.4 1 4.5 1 0.8 1.4 ...\n",
      " $ lab_creatinine_min            : num  0.7 0.5 2.1 1.1 0.6 1 4.5 1 0.8 1.4 ...\n",
      " $ lab_creatinine_max            : num  0.7 0.5 2.2 1.1 1.4 1 5.5 1 0.8 1.4 ...\n",
      " $ lab_creatinine_abnormal       : Factor w/ 2 levels \"0\",\"1\": 1 1 2 1 2 1 2 1 1 2 ...\n",
      " $ lab_potassium_first           : num  3.9 3 3.7 4.1 2.5 4.3 5.1 4.8 3.9 4.9 ...\n",
      " $ lab_potassium_min             : num  3.9 3 3.6 4.1 2.5 4.3 4.5 4.8 3.9 3.7 ...\n",
      " $ lab_potassium_max             : num  3.9 3 4.1 4.1 4.1 6.3 5.1 4.8 3.9 4.9 ...\n",
      " $ lab_potassium_abnormal        : Factor w/ 2 levels \"0\",\"1\": 1 2 2 1 2 2 1 1 1 1 ...\n",
      " $ lab_troponin_first            : num  NA NA NA NA NA NA NA NA NA NA ...\n",
      " $ lab_troponin_min              : num  NA NA NA NA NA NA NA NA NA NA ...\n",
      " $ lab_troponin_max              : num  NA NA NA NA NA NA NA NA NA NA ...\n",
      " $ lab_troponin_abnormal         : Factor w/ 2 levels \"0\",\"1\": NA NA NA NA NA NA NA NA NA NA ...\n",
      " $ lab_po2_first                 : num  40 NA 40 NA 296 223 87 NA NA 249 ...\n",
      " $ lab_po2_min                   : num  40 NA 38 NA 60 71 82 NA NA 65 ...\n",
      " $ lab_po2_max                   : num  119 NA 81 NA 296 405 126 NA NA 249 ...\n",
      " $ lab_po2_abnormal              : Factor w/ 2 levels \"0\",\"1\": 2 NA 2 NA 2 2 2 NA NA 2 ...\n",
      " $ lab_lactate_first             : num  1.1 NA 2.7 NA 2.4 1 5.1 NA NA 1.7 ...\n",
      " $ lab_lactate_min               : num  1 NA 2.7 NA 0.9 1 2.9 NA NA 1.6 ...\n",
      " $ lab_lactate_max               : num  1.3 NA 3.8 NA 2.4 4.3 5.1 NA NA 1.7 ...\n",
      " $ lab_lactate_abnormal          : Factor w/ 2 levels \"0\",\"1\": 1 NA 2 NA 2 2 2 NA NA 1 ...\n",
      " $ pre_dose_val_rx               : num  NA 50 NA NA NA NA 40 NA NA NA ...\n",
      " $ los_drug                      : num  NA 29 NA NA NA NA 23 NA NA NA ...\n",
      " $ cumulative_dose               : num  NA 1450 NA NA NA NA 920 NA NA NA ...\n",
      " $ gcs                           : Factor w/ 2 levels \"0\",\"1\": 1 2 1 1 1 1 2 1 1 1 ...\n",
      " $ ca                            : Factor w/ 2 levels \"0\",\"1\": 2 NA 2 2 2 2 1 1 1 2 ...\n",
      " $ infection_flag                : Factor w/ 2 levels \"0\",\"1\": 2 2 1 2 2 2 2 1 1 2 ...\n",
      " $ dose_val_rx_average           : chr  NA \"50\" \"5\" NA ...\n",
      " $ los_drug_average              : num  NA 2 136 NA NA NA 13 322 NA NA ...\n",
      " $ event_state                   : Factor w/ 2 levels \"0\",\"1\": 2 1 1 1 2 1 1 2 1 1 ...\n",
      " $ vs_heart_rate_flag            : Factor w/ 2 levels \"0\",\"1\": 2 2 2 2 2 2 2 2 2 2 ...\n",
      " $ vs_cvp_flag                   : Factor w/ 2 levels \"0\",\"1\": 1 1 1 1 2 2 1 1 1 2 ...\n",
      " $ vs_map_flag                   : Factor w/ 2 levels \"0\",\"1\": 2 2 2 2 2 2 2 2 2 2 ...\n",
      "  [list output truncated]\n"
     ]
    }
   ],
   "source": [
    "str(full_data)"
   ]
  },
  {
   "cell_type": "markdown",
   "metadata": {},
   "source": [
    "'mort_28_day ~ gender + age + sapsii + weight + sofa_24hours + vs_heart_rate_first + vs_cvp_first + vs_map_first + vs_temp_first + lab_hemoglobin_first + lab_platelet_first + lab_wbc_first + lab_ph_first + lab_chloride_first + lab_sodium_first + lab_bun_first + lab_bicarbonate_first + lab_pco2_first + lab_creatinine_first + lab_potassium_first + lab_troponin_flag + lab_po2_first + lab_lactate_first  + vs_cvp_flag + + lab_creatinine_kinase_flag +lab_bnp_flag + infection_flag'"
   ]
  },
  {
   "cell_type": "code",
   "execution_count": 31,
   "metadata": {
    "vscode": {
     "languageId": "r"
    }
   },
   "outputs": [
    {
     "data": {
      "text/html": [
       "'mort_28_day ~ gcs + gender + age + sapsii + weight + sofa_24hours + vs_heart_rate_first + vs_cvp_first + vs_map_first + vs_temp_first + lab_hemoglobin_first + lab_platelet_first + lab_creatinine_kinase_first + lab_wbc_first + lab_ph_first + lab_chloride_first + lab_sodium_first + lab_bun_first + lab_bicarbonate_first + lab_pco2_first + lab_creatinine_first + lab_potassium_first + lab_troponin_first + lab_po2_first + lab_lactate_first + gcs + dose_val_rx_average + los_drug_average + event_state + gcs_int + event_state_int'"
      ],
      "text/latex": [
       "'mort\\_28\\_day \\textasciitilde{} gcs + gender + age + sapsii + weight + sofa\\_24hours + vs\\_heart\\_rate\\_first + vs\\_cvp\\_first + vs\\_map\\_first + vs\\_temp\\_first + lab\\_hemoglobin\\_first + lab\\_platelet\\_first + lab\\_creatinine\\_kinase\\_first + lab\\_wbc\\_first + lab\\_ph\\_first + lab\\_chloride\\_first + lab\\_sodium\\_first + lab\\_bun\\_first + lab\\_bicarbonate\\_first + lab\\_pco2\\_first + lab\\_creatinine\\_first + lab\\_potassium\\_first + lab\\_troponin\\_first + lab\\_po2\\_first + lab\\_lactate\\_first + gcs + dose\\_val\\_rx\\_average + los\\_drug\\_average + event\\_state + gcs\\_int + event\\_state\\_int'"
      ],
      "text/markdown": [
       "'mort_28_day ~ gcs + gender + age + sapsii + weight + sofa_24hours + vs_heart_rate_first + vs_cvp_first + vs_map_first + vs_temp_first + lab_hemoglobin_first + lab_platelet_first + lab_creatinine_kinase_first + lab_wbc_first + lab_ph_first + lab_chloride_first + lab_sodium_first + lab_bun_first + lab_bicarbonate_first + lab_pco2_first + lab_creatinine_first + lab_potassium_first + lab_troponin_first + lab_po2_first + lab_lactate_first + gcs + dose_val_rx_average + los_drug_average + event_state + gcs_int + event_state_int'"
      ],
      "text/plain": [
       "[1] \"mort_28_day ~ gcs + gender + age + sapsii + weight + sofa_24hours + vs_heart_rate_first + vs_cvp_first + vs_map_first + vs_temp_first + lab_hemoglobin_first + lab_platelet_first + lab_creatinine_kinase_first + lab_wbc_first + lab_ph_first + lab_chloride_first + lab_sodium_first + lab_bun_first + lab_bicarbonate_first + lab_pco2_first + lab_creatinine_first + lab_potassium_first + lab_troponin_first + lab_po2_first + lab_lactate_first + gcs + dose_val_rx_average + los_drug_average + event_state + gcs_int + event_state_int\""
      ]
     },
     "metadata": {},
     "output_type": "display_data"
    }
   ],
   "source": [
    "fml <- feature_names %>%\n",
    "    c(label_name, .) %>%\n",
    "    paste(collapse = \" + \") %>%\n",
    "    sprintf(\"mort_28_day ~ %s\", .)\n",
    "fml"
   ]
  },
  {
   "cell_type": "code",
   "execution_count": 32,
   "metadata": {
    "vscode": {
     "languageId": "r"
    }
   },
   "outputs": [
    {
     "data": {
      "text/html": [
       "<span style=white-space:pre-wrap>'mort_28_day ~ gcs + gender + age + sapsii + weight + sofa_24hours + infection_flag + vs_heart_rate_first + vs_map_first + vs_temp_first + lab_hemoglobin_first + lab_platelet_first  + lab_wbc_first + lab_ph_first + lab_chloride_first + lab_sodium_first + lab_bun_first + lab_bicarbonate_first + lab_pco2_first + lab_creatinine_first + lab_potassium_first+ lab_po2_first + lab_lactate_first + lab_creatinine_kinase_flag + lab_bnp_flag'</span>"
      ],
      "text/latex": [
       "'mort\\_28\\_day \\textasciitilde{} gcs + gender + age + sapsii + weight + sofa\\_24hours + infection\\_flag + vs\\_heart\\_rate\\_first + vs\\_map\\_first + vs\\_temp\\_first + lab\\_hemoglobin\\_first + lab\\_platelet\\_first  + lab\\_wbc\\_first + lab\\_ph\\_first + lab\\_chloride\\_first + lab\\_sodium\\_first + lab\\_bun\\_first + lab\\_bicarbonate\\_first + lab\\_pco2\\_first + lab\\_creatinine\\_first + lab\\_potassium\\_first+ lab\\_po2\\_first + lab\\_lactate\\_first + lab\\_creatinine\\_kinase\\_flag + lab\\_bnp\\_flag'"
      ],
      "text/markdown": [
       "<span style=white-space:pre-wrap>'mort_28_day ~ gcs + gender + age + sapsii + weight + sofa_24hours + infection_flag + vs_heart_rate_first + vs_map_first + vs_temp_first + lab_hemoglobin_first + lab_platelet_first  + lab_wbc_first + lab_ph_first + lab_chloride_first + lab_sodium_first + lab_bun_first + lab_bicarbonate_first + lab_pco2_first + lab_creatinine_first + lab_potassium_first+ lab_po2_first + lab_lactate_first + lab_creatinine_kinase_flag + lab_bnp_flag'</span>"
      ],
      "text/plain": [
       "[1] \"mort_28_day ~ gcs + gender + age + sapsii + weight + sofa_24hours + infection_flag + vs_heart_rate_first + vs_map_first + vs_temp_first + lab_hemoglobin_first + lab_platelet_first  + lab_wbc_first + lab_ph_first + lab_chloride_first + lab_sodium_first + lab_bun_first + lab_bicarbonate_first + lab_pco2_first + lab_creatinine_first + lab_potassium_first+ lab_po2_first + lab_lactate_first + lab_creatinine_kinase_flag + lab_bnp_flag\""
      ]
     },
     "metadata": {},
     "output_type": "display_data"
    }
   ],
   "source": [
    "fml <-  \"mort_28_day ~ gcs + gender + age + sapsii + weight + sofa_24hours + infection_flag + vs_heart_rate_first + vs_map_first + vs_temp_first + lab_hemoglobin_first + lab_platelet_first  + lab_wbc_first + lab_ph_first + lab_chloride_first + lab_sodium_first + lab_bun_first + lab_bicarbonate_first + lab_pco2_first + lab_creatinine_first + lab_potassium_first+ lab_po2_first + lab_lactate_first + lab_creatinine_kinase_flag + lab_bnp_flag\"\n",
    "fml\n"
   ]
  },
  {
   "cell_type": "code",
   "execution_count": 33,
   "metadata": {
    "vscode": {
     "languageId": "r"
    }
   },
   "outputs": [],
   "source": [
    "\n",
    "logi <- svyglm(as.formula(fml),\n",
    "               family = quasibinomial,\n",
    "               design = ipw_svydesign)\n"
   ]
  },
  {
   "cell_type": "markdown",
   "metadata": {},
   "source": [
    "fml <- feature_names %>%\n",
    "    c(label_name, .) %>%\n",
    "    paste(collapse = \" + \") %>%\n",
    "    sprintf(\"mort_28_day ~ %s\", .)\n",
    "fml"
   ]
  },
  {
   "cell_type": "code",
   "execution_count": 34,
   "metadata": {
    "vscode": {
     "languageId": "r"
    }
   },
   "outputs": [
    {
     "data": {
      "text/plain": [
       "\n",
       "Call:\n",
       "svyglm(formula = as.formula(fml), design = ipw_svydesign, family = quasibinomial)\n",
       "\n",
       "Survey design:\n",
       "svydesign(ids = ~stay_id, weights = ~ps_weight, data = full_data)\n",
       "\n",
       "Coefficients:\n",
       "                              Estimate Std. Error t value Pr(>|t|)    \n",
       "(Intercept)                  6.8643512 15.5172676   0.442 0.658267    \n",
       "gcs1                        -0.1731024  0.2438105  -0.710 0.477789    \n",
       "genderF                      0.3711136  0.2421241   1.533 0.125487    \n",
       "age                          0.0301495  0.0087548   3.444 0.000585 ***\n",
       "sapsii                       0.0303557  0.0089286   3.400 0.000687 ***\n",
       "weight                      -0.0106673  0.0053413  -1.997 0.045937 *  \n",
       "sofa_24hours                 0.2222548  0.0446558   4.977 6.97e-07 ***\n",
       "infection_flag1              0.9908395  0.3388030   2.925 0.003486 ** \n",
       "vs_heart_rate_first          0.0132728  0.0061509   2.158 0.031048 *  \n",
       "vs_map_first                 0.0044783  0.0053379   0.839 0.401578    \n",
       "vs_temp_first               -0.0207588  0.1138238  -0.182 0.855305    \n",
       "lab_hemoglobin_first        -0.0973558  0.0425206  -2.290 0.022140 *  \n",
       "lab_platelet_first          -0.0006089  0.0009686  -0.629 0.529666    \n",
       "lab_wbc_first                0.0001984  0.0076014   0.026 0.979182    \n",
       "lab_ph_first                -1.3840356  2.0519417  -0.675 0.500066    \n",
       "lab_chloride_first          -0.0815676  0.0248098  -3.288 0.001026 ** \n",
       "lab_sodium_first             0.0569045  0.0294519   1.932 0.053476 .  \n",
       "lab_bun_first                0.0100420  0.0058480   1.717 0.086091 .  \n",
       "lab_bicarbonate_first       -0.0484489  0.0412736  -1.174 0.240586    \n",
       "lab_pco2_first              -0.0155298  0.0158265  -0.981 0.326579    \n",
       "lab_creatinine_first        -0.3225125  0.1106696  -2.914 0.003603 ** \n",
       "lab_potassium_first         -0.0639165  0.1395291  -0.458 0.646936    \n",
       "lab_po2_first               -0.0034958  0.0010124  -3.453 0.000565 ***\n",
       "lab_lactate_first           -0.0425581  0.0551732  -0.771 0.440582    \n",
       "lab_creatinine_kinase_flag1  0.1036176  0.2132218   0.486 0.627044    \n",
       "lab_bnp_flag1                0.0176749  0.3604997   0.049 0.960901    \n",
       "---\n",
       "Signif. codes:  0 '***' 0.001 '**' 0.01 '*' 0.05 '.' 0.1 ' ' 1\n",
       "\n",
       "(Dispersion parameter for quasibinomial family taken to be 0.9336717)\n",
       "\n",
       "Number of Fisher Scoring iterations: 6\n"
      ]
     },
     "metadata": {},
     "output_type": "display_data"
    }
   ],
   "source": [
    "summary(logi)"
   ]
  },
  {
   "cell_type": "code",
   "execution_count": 35,
   "metadata": {
    "vscode": {
     "languageId": "r"
    }
   },
   "outputs": [
    {
     "data": {
      "text/html": [
       "<table class=\"dataframe\">\n",
       "<caption>A matrix: 26 × 3 of type dbl</caption>\n",
       "<thead>\n",
       "\t<tr><th></th><th scope=col>OR</th><th scope=col>2.5 %</th><th scope=col>97.5 %</th></tr>\n",
       "</thead>\n",
       "<tbody>\n",
       "\t<tr><th scope=row>(Intercept)</th><td>957.5243771</td><td>5.826093e-11</td><td>1.573701e+16</td></tr>\n",
       "\t<tr><th scope=row>gcs1</th><td>  0.8410515</td><td>5.214031e-01</td><td>1.356662e+00</td></tr>\n",
       "\t<tr><th scope=row>genderF</th><td>  1.4493478</td><td>9.014880e-01</td><td>2.330157e+00</td></tr>\n",
       "\t<tr><th scope=row>age</th><td>  1.0306086</td><td>1.013065e+00</td><td>1.048456e+00</td></tr>\n",
       "\t<tr><th scope=row>sapsii</th><td>  1.0308211</td><td>1.012929e+00</td><td>1.049029e+00</td></tr>\n",
       "\t<tr><th scope=row>weight</th><td>  0.9893894</td><td>9.790800e-01</td><td>9.998074e-01</td></tr>\n",
       "\t<tr><th scope=row>sofa_24hours</th><td>  1.2488896</td><td>1.144173e+00</td><td>1.363191e+00</td></tr>\n",
       "\t<tr><th scope=row>infection_flag1</th><td>  2.6934946</td><td>1.386002e+00</td><td>5.234418e+00</td></tr>\n",
       "\t<tr><th scope=row>vs_heart_rate_first</th><td>  1.0133612</td><td>1.001211e+00</td><td>1.025659e+00</td></tr>\n",
       "\t<tr><th scope=row>vs_map_first</th><td>  1.0044884</td><td>9.940283e-01</td><td>1.015059e+00</td></tr>\n",
       "\t<tr><th scope=row>vs_temp_first</th><td>  0.9794552</td><td>7.835072e-01</td><td>1.224408e+00</td></tr>\n",
       "\t<tr><th scope=row>lab_hemoglobin_first</th><td>  0.9072331</td><td>8.346509e-01</td><td>9.861272e-01</td></tr>\n",
       "\t<tr><th scope=row>lab_platelet_first</th><td>  0.9993913</td><td>9.974948e-01</td><td>1.001291e+00</td></tr>\n",
       "\t<tr><th scope=row>lab_wbc_first</th><td>  1.0001984</td><td>9.853991e-01</td><td>1.015220e+00</td></tr>\n",
       "\t<tr><th scope=row>lab_ph_first</th><td>  0.2505653</td><td>4.480432e-03</td><td>1.401271e+01</td></tr>\n",
       "\t<tr><th scope=row>lab_chloride_first</th><td>  0.9216704</td><td>8.779012e-01</td><td>9.676219e-01</td></tr>\n",
       "\t<tr><th scope=row>lab_sodium_first</th><td>  1.0585547</td><td>9.991477e-01</td><td>1.121494e+00</td></tr>\n",
       "\t<tr><th scope=row>lab_bun_first</th><td>  1.0100926</td><td>9.985747e-01</td><td>1.021743e+00</td></tr>\n",
       "\t<tr><th scope=row>lab_bicarbonate_first</th><td>  0.9527060</td><td>8.786318e-01</td><td>1.033025e+00</td></tr>\n",
       "\t<tr><th scope=row>lab_pco2_first</th><td>  0.9845902</td><td>9.545010e-01</td><td>1.015628e+00</td></tr>\n",
       "\t<tr><th scope=row>lab_creatinine_first</th><td>  0.7243269</td><td>5.830144e-01</td><td>8.998910e-01</td></tr>\n",
       "\t<tr><th scope=row>lab_potassium_first</th><td>  0.9380834</td><td>7.135215e-01</td><td>1.233320e+00</td></tr>\n",
       "\t<tr><th scope=row>lab_po2_first</th><td>  0.9965103</td><td>9.945339e-01</td><td>9.984907e-01</td></tr>\n",
       "\t<tr><th scope=row>lab_lactate_first</th><td>  0.9583348</td><td>8.600570e-01</td><td>1.067843e+00</td></tr>\n",
       "\t<tr><th scope=row>lab_creatinine_kinase_flag1</th><td>  1.1091762</td><td>7.301355e-01</td><td>1.684991e+00</td></tr>\n",
       "\t<tr><th scope=row>lab_bnp_flag1</th><td>  1.0178320</td><td>5.019323e-01</td><td>2.063988e+00</td></tr>\n",
       "</tbody>\n",
       "</table>\n"
      ],
      "text/latex": [
       "A matrix: 26 × 3 of type dbl\n",
       "\\begin{tabular}{r|lll}\n",
       "  & OR & 2.5 \\% & 97.5 \\%\\\\\n",
       "\\hline\n",
       "\t(Intercept) & 957.5243771 & 5.826093e-11 & 1.573701e+16\\\\\n",
       "\tgcs1 &   0.8410515 & 5.214031e-01 & 1.356662e+00\\\\\n",
       "\tgenderF &   1.4493478 & 9.014880e-01 & 2.330157e+00\\\\\n",
       "\tage &   1.0306086 & 1.013065e+00 & 1.048456e+00\\\\\n",
       "\tsapsii &   1.0308211 & 1.012929e+00 & 1.049029e+00\\\\\n",
       "\tweight &   0.9893894 & 9.790800e-01 & 9.998074e-01\\\\\n",
       "\tsofa\\_24hours &   1.2488896 & 1.144173e+00 & 1.363191e+00\\\\\n",
       "\tinfection\\_flag1 &   2.6934946 & 1.386002e+00 & 5.234418e+00\\\\\n",
       "\tvs\\_heart\\_rate\\_first &   1.0133612 & 1.001211e+00 & 1.025659e+00\\\\\n",
       "\tvs\\_map\\_first &   1.0044884 & 9.940283e-01 & 1.015059e+00\\\\\n",
       "\tvs\\_temp\\_first &   0.9794552 & 7.835072e-01 & 1.224408e+00\\\\\n",
       "\tlab\\_hemoglobin\\_first &   0.9072331 & 8.346509e-01 & 9.861272e-01\\\\\n",
       "\tlab\\_platelet\\_first &   0.9993913 & 9.974948e-01 & 1.001291e+00\\\\\n",
       "\tlab\\_wbc\\_first &   1.0001984 & 9.853991e-01 & 1.015220e+00\\\\\n",
       "\tlab\\_ph\\_first &   0.2505653 & 4.480432e-03 & 1.401271e+01\\\\\n",
       "\tlab\\_chloride\\_first &   0.9216704 & 8.779012e-01 & 9.676219e-01\\\\\n",
       "\tlab\\_sodium\\_first &   1.0585547 & 9.991477e-01 & 1.121494e+00\\\\\n",
       "\tlab\\_bun\\_first &   1.0100926 & 9.985747e-01 & 1.021743e+00\\\\\n",
       "\tlab\\_bicarbonate\\_first &   0.9527060 & 8.786318e-01 & 1.033025e+00\\\\\n",
       "\tlab\\_pco2\\_first &   0.9845902 & 9.545010e-01 & 1.015628e+00\\\\\n",
       "\tlab\\_creatinine\\_first &   0.7243269 & 5.830144e-01 & 8.998910e-01\\\\\n",
       "\tlab\\_potassium\\_first &   0.9380834 & 7.135215e-01 & 1.233320e+00\\\\\n",
       "\tlab\\_po2\\_first &   0.9965103 & 9.945339e-01 & 9.984907e-01\\\\\n",
       "\tlab\\_lactate\\_first &   0.9583348 & 8.600570e-01 & 1.067843e+00\\\\\n",
       "\tlab\\_creatinine\\_kinase\\_flag1 &   1.1091762 & 7.301355e-01 & 1.684991e+00\\\\\n",
       "\tlab\\_bnp\\_flag1 &   1.0178320 & 5.019323e-01 & 2.063988e+00\\\\\n",
       "\\end{tabular}\n"
      ],
      "text/markdown": [
       "\n",
       "A matrix: 26 × 3 of type dbl\n",
       "\n",
       "| <!--/--> | OR | 2.5 % | 97.5 % |\n",
       "|---|---|---|---|\n",
       "| (Intercept) | 957.5243771 | 5.826093e-11 | 1.573701e+16 |\n",
       "| gcs1 |   0.8410515 | 5.214031e-01 | 1.356662e+00 |\n",
       "| genderF |   1.4493478 | 9.014880e-01 | 2.330157e+00 |\n",
       "| age |   1.0306086 | 1.013065e+00 | 1.048456e+00 |\n",
       "| sapsii |   1.0308211 | 1.012929e+00 | 1.049029e+00 |\n",
       "| weight |   0.9893894 | 9.790800e-01 | 9.998074e-01 |\n",
       "| sofa_24hours |   1.2488896 | 1.144173e+00 | 1.363191e+00 |\n",
       "| infection_flag1 |   2.6934946 | 1.386002e+00 | 5.234418e+00 |\n",
       "| vs_heart_rate_first |   1.0133612 | 1.001211e+00 | 1.025659e+00 |\n",
       "| vs_map_first |   1.0044884 | 9.940283e-01 | 1.015059e+00 |\n",
       "| vs_temp_first |   0.9794552 | 7.835072e-01 | 1.224408e+00 |\n",
       "| lab_hemoglobin_first |   0.9072331 | 8.346509e-01 | 9.861272e-01 |\n",
       "| lab_platelet_first |   0.9993913 | 9.974948e-01 | 1.001291e+00 |\n",
       "| lab_wbc_first |   1.0001984 | 9.853991e-01 | 1.015220e+00 |\n",
       "| lab_ph_first |   0.2505653 | 4.480432e-03 | 1.401271e+01 |\n",
       "| lab_chloride_first |   0.9216704 | 8.779012e-01 | 9.676219e-01 |\n",
       "| lab_sodium_first |   1.0585547 | 9.991477e-01 | 1.121494e+00 |\n",
       "| lab_bun_first |   1.0100926 | 9.985747e-01 | 1.021743e+00 |\n",
       "| lab_bicarbonate_first |   0.9527060 | 8.786318e-01 | 1.033025e+00 |\n",
       "| lab_pco2_first |   0.9845902 | 9.545010e-01 | 1.015628e+00 |\n",
       "| lab_creatinine_first |   0.7243269 | 5.830144e-01 | 8.998910e-01 |\n",
       "| lab_potassium_first |   0.9380834 | 7.135215e-01 | 1.233320e+00 |\n",
       "| lab_po2_first |   0.9965103 | 9.945339e-01 | 9.984907e-01 |\n",
       "| lab_lactate_first |   0.9583348 | 8.600570e-01 | 1.067843e+00 |\n",
       "| lab_creatinine_kinase_flag1 |   1.1091762 | 7.301355e-01 | 1.684991e+00 |\n",
       "| lab_bnp_flag1 |   1.0178320 | 5.019323e-01 | 2.063988e+00 |\n",
       "\n"
      ],
      "text/plain": [
       "                            OR          2.5 %        97.5 %      \n",
       "(Intercept)                 957.5243771 5.826093e-11 1.573701e+16\n",
       "gcs1                          0.8410515 5.214031e-01 1.356662e+00\n",
       "genderF                       1.4493478 9.014880e-01 2.330157e+00\n",
       "age                           1.0306086 1.013065e+00 1.048456e+00\n",
       "sapsii                        1.0308211 1.012929e+00 1.049029e+00\n",
       "weight                        0.9893894 9.790800e-01 9.998074e-01\n",
       "sofa_24hours                  1.2488896 1.144173e+00 1.363191e+00\n",
       "infection_flag1               2.6934946 1.386002e+00 5.234418e+00\n",
       "vs_heart_rate_first           1.0133612 1.001211e+00 1.025659e+00\n",
       "vs_map_first                  1.0044884 9.940283e-01 1.015059e+00\n",
       "vs_temp_first                 0.9794552 7.835072e-01 1.224408e+00\n",
       "lab_hemoglobin_first          0.9072331 8.346509e-01 9.861272e-01\n",
       "lab_platelet_first            0.9993913 9.974948e-01 1.001291e+00\n",
       "lab_wbc_first                 1.0001984 9.853991e-01 1.015220e+00\n",
       "lab_ph_first                  0.2505653 4.480432e-03 1.401271e+01\n",
       "lab_chloride_first            0.9216704 8.779012e-01 9.676219e-01\n",
       "lab_sodium_first              1.0585547 9.991477e-01 1.121494e+00\n",
       "lab_bun_first                 1.0100926 9.985747e-01 1.021743e+00\n",
       "lab_bicarbonate_first         0.9527060 8.786318e-01 1.033025e+00\n",
       "lab_pco2_first                0.9845902 9.545010e-01 1.015628e+00\n",
       "lab_creatinine_first          0.7243269 5.830144e-01 8.998910e-01\n",
       "lab_potassium_first           0.9380834 7.135215e-01 1.233320e+00\n",
       "lab_po2_first                 0.9965103 9.945339e-01 9.984907e-01\n",
       "lab_lactate_first             0.9583348 8.600570e-01 1.067843e+00\n",
       "lab_creatinine_kinase_flag1   1.1091762 7.301355e-01 1.684991e+00\n",
       "lab_bnp_flag1                 1.0178320 5.019323e-01 2.063988e+00"
      ]
     },
     "metadata": {},
     "output_type": "display_data"
    }
   ],
   "source": [
    "exp(cbind(OR = coef(logi), confint(logi)))"
   ]
  },
  {
   "cell_type": "code",
   "execution_count": 36,
   "metadata": {
    "vscode": {
     "languageId": "r"
    }
   },
   "outputs": [],
   "source": [
    "saveRDS(logi, file = file.path(data_dir, \"doubly_robust_all_model.rds\"))"
   ]
  },
  {
   "cell_type": "code",
   "execution_count": 37,
   "metadata": {
    "vscode": {
     "languageId": "r"
    }
   },
   "outputs": [],
   "source": [
    "\n",
    "result2 <- exp(cbind(OR = coef(logi), confint(logi)))\n",
    "result2 <- data.frame(Variable = rownames(result2), result2)\n",
    "data.table::fwrite(result2, file.path(data_dir, \"result2.csv\"))"
   ]
  }
 ],
 "metadata": {
  "kernelspec": {
   "display_name": "R",
   "language": "R",
   "name": "ir"
  },
  "language_info": {
   "codemirror_mode": "r",
   "file_extension": ".r",
   "mimetype": "text/x-r-source",
   "name": "R",
   "pygments_lexer": "r",
   "version": "4.3.2"
  },
  "varInspector": {
   "cols": {
    "lenName": 16,
    "lenType": 16,
    "lenVar": 40
   },
   "kernels_config": {
    "python": {
     "delete_cmd_postfix": "",
     "delete_cmd_prefix": "del ",
     "library": "var_list.py",
     "varRefreshCmd": "print(var_dic_list())"
    },
    "r": {
     "delete_cmd_postfix": ") ",
     "delete_cmd_prefix": "rm(",
     "library": "var_list.r",
     "varRefreshCmd": "cat(var_dic_list()) "
    }
   },
   "types_to_exclude": [
    "module",
    "function",
    "builtin_function_or_method",
    "instance",
    "_Feature"
   ],
   "window_display": false
  }
 },
 "nbformat": 4,
 "nbformat_minor": 2
}
