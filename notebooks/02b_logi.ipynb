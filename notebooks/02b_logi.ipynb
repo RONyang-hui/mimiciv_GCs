{
 "cells": [
  {
   "cell_type": "code",
   "execution_count": 7,
   "metadata": {
    "vscode": {
     "languageId": "r"
    }
   },
   "outputs": [],
   "source": [
    "library(tidyverse)"
   ]
  },
  {
   "cell_type": "code",
   "execution_count": 8,
   "metadata": {
    "vscode": {
     "languageId": "r"
    }
   },
   "outputs": [],
   "source": [
    "data_dir <- file.path(\"..\", \"data\")"
   ]
  },
  {
   "cell_type": "code",
   "execution_count": 9,
   "metadata": {
    "vscode": {
     "languageId": "r"
    }
   },
   "outputs": [],
   "source": [
    "model <- readRDS(file.path(data_dir, \"multivariate_model.rds\"))"
   ]
  },
  {
   "cell_type": "code",
   "execution_count": 10,
   "metadata": {
    "vscode": {
     "languageId": "r"
    }
   },
   "outputs": [
    {
     "name": "stderr",
     "output_type": "stream",
     "text": [
      "Waiting for profiling to be done...\n",
      "\n"
     ]
    }
   ],
   "source": [
    "coefs_mtx <- confint(model)\n",
    "\n",
    "# 这个函数可以统计置信区间。"
   ]
  },
  {
   "cell_type": "code",
   "execution_count": 11,
   "metadata": {
    "vscode": {
     "languageId": "r"
    }
   },
   "outputs": [
    {
     "name": "stdout",
     "output_type": "stream",
     "text": [
      "              Covariate Odds Ratio (2.5%~97.5%) p value\n",
      "1          Gcs (tested)         0.96 (0.6~1.49)    0.86\n",
      "2      genderF (tested)        1.48 (1.08~2.05)    0.02\n",
      "3          Age (tested)        1.02 (1.01~1.03)   <0.01\n",
      "4            SAPS Score        1.03 (1.02~1.05)   <0.01\n",
      "5           Weight (Kg)        0.99 (0.98~0.99)   <0.01\n",
      "6   Sofa Hours (tested)         1.24 (1.18~1.3)   <0.01\n",
      "7   Heart Rate (tested)           1.01 (1~1.01)    0.05\n",
      "8          Map (tested)           1 (0.99~1.01)    0.96\n",
      "9         Temp (tested)         0.9 (0.77~1.06)     0.2\n",
      "10  HEMOGLOBIN (tested)        0.96 (0.89~1.03)     0.3\n",
      "11    PLATELET (tested)                 1 (1~1)     0.5\n",
      "12         WBC (tested)           1 (0.99~1.02)    0.64\n",
      "13          PH (tested)       1.52 (0.13~19.25)    0.74\n",
      "14    CHLORIDE (tested)        0.95 (0.91~0.99)   <0.01\n",
      "15      SODIUM (tested)            1.05 (1~1.1)    0.03\n",
      "16         BUN (tested)           1.01 (1~1.02)    0.02\n",
      "17 BICARBONATE (tested)            0.95 (0.9~1)    0.07\n",
      "18        PCO2 (tested)        1.01 (0.99~1.03)    0.35\n",
      "19  CREATININE (tested)        0.76 (0.65~0.86)   <0.01\n",
      "20   POTASSIUM (tested)        1.02 (0.85~1.24)     0.8\n",
      "21         PO2 (tested)                 1 (1~1)   <0.01\n",
      "22     LACTATE (tested)        1.05 (0.97~1.14)    0.21\n"
     ]
    }
   ],
   "source": [
    "coefs <- coefs_mtx %>%\n",
    "exp %>%\n",
    "as.data.frame(stringsAsFactors = FALSE) %>%\n",
    "setNames(c(\"lo\", \"hi\")) %>%\n",
    "mutate(cov = rownames(.))\n",
    "\n",
    "ests <- model %>%\n",
    "summary %>%\n",
    "pluck(\"coefficients\") %>%\n",
    "as.data.frame(stringsAsFactors = FALSE) %>%\n",
    "setNames(c(\"est\", \"se\", \"zval\", \"pval\")) %>%\n",
    "mutate(cov = rownames(.)) %>%\n",
    "mutate(est = exp(est))\n",
    "\n",
    "df <- coefs %>%\n",
    "  full_join(ests, by = \"cov\") %>%\n",
    "  mutate(ests = sprintf(\"%s (%s~%s)\",\n",
    "                        round(est, 2), round(lo, 2), round(hi, 2))) %>%\n",
    "  mutate(cov_ = cov) %>%\n",
    "  mutate(cov = case_when(\n",
    "    grepl(\"po2|pco2\", cov) ~ cov,\n",
    "    TRUE ~ str_replace_all(cov, \"[0-9]\", \"\")\n",
    "  )) %>%\n",
    "  mutate(cov = str_replace_all(cov, \"_\", \" \")) %>%\n",
    "  mutate(cov = str_replace_all(cov, \"lab|vs|flag|first\", \"\")) %>%\n",
    "  mutate(cov = str_replace_all(cov, \"\\\\s+$|^\\\\s+\", \"\")) %>%\n",
    "  mutate(cov = case_when(\n",
    "    grepl(\"lab|day\", cov_) ~ toupper(cov),\n",
    "    TRUE ~ tools::toTitleCase(cov)\n",
    "  )) %>%\n",
    "  mutate(cov = case_when(\n",
    "    cov == \"Weight\" ~ \"Weight (Kg)\",\n",
    "    cov == \"Sapsii\" ~ \"SAPS Score\",\n",
    "    TRUE ~ paste(cov, \"(tested)\")\n",
    "  )) %>%\n",
    "  filter(!grepl(\"Intercept\", cov)) %>%\n",
    "  mutate(pval = case_when(\n",
    "    pval < 0.01 ~ \"<0.01\",\n",
    "    TRUE ~ as.character(round(pval, 2))\n",
    "  )) %>%\n",
    "  dplyr::select(Covariate = cov, `Odds Ratio (2.5%~97.5%)` = ests, `p value` = pval)\n",
    "\n",
    "print(df)"
   ]
  },
  {
   "cell_type": "code",
   "execution_count": 12,
   "metadata": {
    "vscode": {
     "languageId": "r"
    }
   },
   "outputs": [],
   "source": [
    "data.table::fwrite(df, file.path(data_dir, \"coefficients.csv\"))"
   ]
  }
 ],
 "metadata": {
  "kernelspec": {
   "display_name": "R",
   "language": "R",
   "name": "ir"
  },
  "language_info": {
   "codemirror_mode": "r",
   "file_extension": ".r",
   "mimetype": "text/x-r-source",
   "name": "R",
   "pygments_lexer": "r",
   "version": "4.3.2"
  },
  "varInspector": {
   "cols": {
    "lenName": 16,
    "lenType": 16,
    "lenVar": 40
   },
   "kernels_config": {
    "python": {
     "delete_cmd_postfix": "",
     "delete_cmd_prefix": "del ",
     "library": "var_list.py",
     "varRefreshCmd": "print(var_dic_list())"
    },
    "r": {
     "delete_cmd_postfix": ") ",
     "delete_cmd_prefix": "rm(",
     "library": "var_list.r",
     "varRefreshCmd": "cat(var_dic_list()) "
    }
   },
   "types_to_exclude": [
    "module",
    "function",
    "builtin_function_or_method",
    "instance",
    "_Feature"
   ],
   "window_display": false
  }
 },
 "nbformat": 4,
 "nbformat_minor": 2
}
