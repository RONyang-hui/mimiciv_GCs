{
 "cells": [
  {
   "cell_type": "code",
   "execution_count": 8,
   "metadata": {
    "vscode": {
     "languageId": "r"
    }
   },
   "outputs": [],
   "source": [
    "library(tidyverse)"
   ]
  },
  {
   "cell_type": "code",
   "execution_count": 9,
   "metadata": {
    "vscode": {
     "languageId": "r"
    }
   },
   "outputs": [],
   "source": [
    "data_dir <- file.path(\"..\", \"data\")\n",
    "sql_dir <- file.path(\"..\", \"sql\")"
   ]
  },
  {
   "cell_type": "code",
   "execution_count": 10,
   "metadata": {
    "vscode": {
     "languageId": "r"
    }
   },
   "outputs": [
    {
     "data": {
      "text/html": [
       "<table class=\"dataframe\">\n",
       "<caption>A data.frame: 24 × 2</caption>\n",
       "<thead>\n",
       "\t<tr><th></th><th scope=col>cov</th><th scope=col>inf</th></tr>\n",
       "\t<tr><th></th><th scope=col>&lt;chr&gt;</th><th scope=col>&lt;dbl&gt;</th></tr>\n",
       "</thead>\n",
       "<tbody>\n",
       "\t<tr><th scope=row>lab_platelet_first</th><td>PLATELET                  </td><td>11.46112148</td></tr>\n",
       "\t<tr><th scope=row>lab_wbc_first</th><td>WBC                       </td><td>11.16089374</td></tr>\n",
       "\t<tr><th scope=row>weight</th><td>Weight                    </td><td> 9.02132777</td></tr>\n",
       "\t<tr><th scope=row>vs_heart_rate_first</th><td>Heart Rate                </td><td> 7.18336142</td></tr>\n",
       "\t<tr><th scope=row>lab_hemoglobin_first</th><td>HEMOGLOBIN                </td><td> 6.95898771</td></tr>\n",
       "\t<tr><th scope=row>lab_creatinine_first</th><td>CREATININE                </td><td> 6.52079311</td></tr>\n",
       "\t<tr><th scope=row>vs_temp_first</th><td>Temperature               </td><td> 6.32893217</td></tr>\n",
       "\t<tr><th scope=row>vs_map_first</th><td>MAP                       </td><td> 5.43157703</td></tr>\n",
       "\t<tr><th scope=row>lab_bun_first</th><td>BUN                       </td><td> 5.08483938</td></tr>\n",
       "\t<tr><th scope=row>lab_ph_first</th><td>PH                        </td><td> 4.86451959</td></tr>\n",
       "\t<tr><th scope=row>lab_bicarbonate_first</th><td>BICARBONATE               </td><td> 4.80315130</td></tr>\n",
       "\t<tr><th scope=row>age</th><td>Age                       </td><td> 4.42486362</td></tr>\n",
       "\t<tr><th scope=row>lab_chloride_first</th><td>CHLORIDE                  </td><td> 4.32073357</td></tr>\n",
       "\t<tr><th scope=row>lab_potassium_first</th><td>POTASSIUM                 </td><td> 3.30802333</td></tr>\n",
       "\t<tr><th scope=row>sapsii</th><td>SAPS Score                </td><td> 3.25092530</td></tr>\n",
       "\t<tr><th scope=row>lab_sodium_first</th><td>SODIUM                    </td><td> 3.24744172</td></tr>\n",
       "\t<tr><th scope=row>sofa_24hours</th><td>Sofa 24hours              </td><td> 1.16387057</td></tr>\n",
       "\t<tr><th scope=row>infection_flag</th><td>Infection                 </td><td> 0.55886663</td></tr>\n",
       "\t<tr><th scope=row>lab_lactate_flag</th><td>LACTATE                   </td><td> 0.30801158</td></tr>\n",
       "\t<tr><th scope=row>gender</th><td>Gender                    </td><td> 0.21869626</td></tr>\n",
       "\t<tr><th scope=row>lab_creatinine_kinase_flag</th><td>CREATININE KINASE (tested)</td><td> 0.17885109</td></tr>\n",
       "\t<tr><th scope=row>lab_bnp_flag</th><td>BNP (tested)              </td><td> 0.16230334</td></tr>\n",
       "\t<tr><th scope=row>lab_po2_flag</th><td>PO2                       </td><td> 0.03790831</td></tr>\n",
       "\t<tr><th scope=row>lab_pco2_flag</th><td>PCO2                      </td><td> 0.00000000</td></tr>\n",
       "</tbody>\n",
       "</table>\n"
      ],
      "text/latex": [
       "A data.frame: 24 × 2\n",
       "\\begin{tabular}{r|ll}\n",
       "  & cov & inf\\\\\n",
       "  & <chr> & <dbl>\\\\\n",
       "\\hline\n",
       "\tlab\\_platelet\\_first & PLATELET                   & 11.46112148\\\\\n",
       "\tlab\\_wbc\\_first & WBC                        & 11.16089374\\\\\n",
       "\tweight & Weight                     &  9.02132777\\\\\n",
       "\tvs\\_heart\\_rate\\_first & Heart Rate                 &  7.18336142\\\\\n",
       "\tlab\\_hemoglobin\\_first & HEMOGLOBIN                 &  6.95898771\\\\\n",
       "\tlab\\_creatinine\\_first & CREATININE                 &  6.52079311\\\\\n",
       "\tvs\\_temp\\_first & Temperature                &  6.32893217\\\\\n",
       "\tvs\\_map\\_first & MAP                        &  5.43157703\\\\\n",
       "\tlab\\_bun\\_first & BUN                        &  5.08483938\\\\\n",
       "\tlab\\_ph\\_first & PH                         &  4.86451959\\\\\n",
       "\tlab\\_bicarbonate\\_first & BICARBONATE                &  4.80315130\\\\\n",
       "\tage & Age                        &  4.42486362\\\\\n",
       "\tlab\\_chloride\\_first & CHLORIDE                   &  4.32073357\\\\\n",
       "\tlab\\_potassium\\_first & POTASSIUM                  &  3.30802333\\\\\n",
       "\tsapsii & SAPS Score                 &  3.25092530\\\\\n",
       "\tlab\\_sodium\\_first & SODIUM                     &  3.24744172\\\\\n",
       "\tsofa\\_24hours & Sofa 24hours               &  1.16387057\\\\\n",
       "\tinfection\\_flag & Infection                  &  0.55886663\\\\\n",
       "\tlab\\_lactate\\_flag & LACTATE                    &  0.30801158\\\\\n",
       "\tgender & Gender                     &  0.21869626\\\\\n",
       "\tlab\\_creatinine\\_kinase\\_flag & CREATININE KINASE (tested) &  0.17885109\\\\\n",
       "\tlab\\_bnp\\_flag & BNP (tested)               &  0.16230334\\\\\n",
       "\tlab\\_po2\\_flag & PO2                        &  0.03790831\\\\\n",
       "\tlab\\_pco2\\_flag & PCO2                       &  0.00000000\\\\\n",
       "\\end{tabular}\n"
      ],
      "text/markdown": [
       "\n",
       "A data.frame: 24 × 2\n",
       "\n",
       "| <!--/--> | cov &lt;chr&gt; | inf &lt;dbl&gt; |\n",
       "|---|---|---|\n",
       "| lab_platelet_first | PLATELET                   | 11.46112148 |\n",
       "| lab_wbc_first | WBC                        | 11.16089374 |\n",
       "| weight | Weight                     |  9.02132777 |\n",
       "| vs_heart_rate_first | Heart Rate                 |  7.18336142 |\n",
       "| lab_hemoglobin_first | HEMOGLOBIN                 |  6.95898771 |\n",
       "| lab_creatinine_first | CREATININE                 |  6.52079311 |\n",
       "| vs_temp_first | Temperature                |  6.32893217 |\n",
       "| vs_map_first | MAP                        |  5.43157703 |\n",
       "| lab_bun_first | BUN                        |  5.08483938 |\n",
       "| lab_ph_first | PH                         |  4.86451959 |\n",
       "| lab_bicarbonate_first | BICARBONATE                |  4.80315130 |\n",
       "| age | Age                        |  4.42486362 |\n",
       "| lab_chloride_first | CHLORIDE                   |  4.32073357 |\n",
       "| lab_potassium_first | POTASSIUM                  |  3.30802333 |\n",
       "| sapsii | SAPS Score                 |  3.25092530 |\n",
       "| lab_sodium_first | SODIUM                     |  3.24744172 |\n",
       "| sofa_24hours | Sofa 24hours               |  1.16387057 |\n",
       "| infection_flag | Infection                  |  0.55886663 |\n",
       "| lab_lactate_flag | LACTATE                    |  0.30801158 |\n",
       "| gender | Gender                     |  0.21869626 |\n",
       "| lab_creatinine_kinase_flag | CREATININE KINASE (tested) |  0.17885109 |\n",
       "| lab_bnp_flag | BNP (tested)               |  0.16230334 |\n",
       "| lab_po2_flag | PO2                        |  0.03790831 |\n",
       "| lab_pco2_flag | PCO2                       |  0.00000000 |\n",
       "\n"
      ],
      "text/plain": [
       "                           cov                        inf        \n",
       "lab_platelet_first         PLATELET                   11.46112148\n",
       "lab_wbc_first              WBC                        11.16089374\n",
       "weight                     Weight                      9.02132777\n",
       "vs_heart_rate_first        Heart Rate                  7.18336142\n",
       "lab_hemoglobin_first       HEMOGLOBIN                  6.95898771\n",
       "lab_creatinine_first       CREATININE                  6.52079311\n",
       "vs_temp_first              Temperature                 6.32893217\n",
       "vs_map_first               MAP                         5.43157703\n",
       "lab_bun_first              BUN                         5.08483938\n",
       "lab_ph_first               PH                          4.86451959\n",
       "lab_bicarbonate_first      BICARBONATE                 4.80315130\n",
       "age                        Age                         4.42486362\n",
       "lab_chloride_first         CHLORIDE                    4.32073357\n",
       "lab_potassium_first        POTASSIUM                   3.30802333\n",
       "sapsii                     SAPS Score                  3.25092530\n",
       "lab_sodium_first           SODIUM                      3.24744172\n",
       "sofa_24hours               Sofa 24hours                1.16387057\n",
       "infection_flag             Infection                   0.55886663\n",
       "lab_lactate_flag           LACTATE                     0.30801158\n",
       "gender                     Gender                      0.21869626\n",
       "lab_creatinine_kinase_flag CREATININE KINASE (tested)  0.17885109\n",
       "lab_bnp_flag               BNP (tested)                0.16230334\n",
       "lab_po2_flag               PO2                         0.03790831\n",
       "lab_pco2_flag              PCO2                        0.00000000"
      ]
     },
     "metadata": {},
     "output_type": "display_data"
    }
   ],
   "source": [
    "importance <- readRDS(file.path(data_dir, \"feature_importance.rds\")) %>%\n",
    "rename(cov = var, inf = rel.inf) %>%\n",
    "mutate(cov = str_replace_all(cov, \"_\", \" \")) %>%\n",
    "mutate(cov_ = cov) %>%\n",
    "mutate(cov = str_replace_all(cov, \"lab|vs|flag|first\", \"\")) %>%\n",
    "mutate(cov = str_replace_all(cov, \"\\\\s+$|^\\\\s+\", \"\")) %>%\n",
    "mutate(cov = case_when(\n",
    "    grepl(\"lab\", cov_) ~ toupper(cov),\n",
    "    TRUE ~ tools::toTitleCase(cov)\n",
    ")) %>%\n",
    "mutate(cov = case_when(\n",
    "    cov == \"Weight\" ~ \"Weight\",\n",
    "    cov == \"Sapsii\" ~ \"SAPS Score\",\n",
    "    cov == \"Sofa\" ~ \"SOFA Score\",\n",
    "    cov == \"infection\" ~ \"Infection\",\n",
    "    cov == \"Temp\" ~ \"Temperature\",\n",
    "    cov == \"Map\" ~ \"MAP\",\n",
    "    cov == \"Cvp\" ~ \"CVP (measured)\",\n",
    "    cov %in% c(\"TROPONIN\", \"BNP\", \"CREATININE KINASE\") ~ paste(cov, \"(tested)\"),\n",
    "    TRUE ~ cov\n",
    ")) %>%\n",
    "dplyr::select(-cov_)\n",
    "\n",
    "importance\n",
    "\n",
    "\n"
   ]
  },
  {
   "cell_type": "code",
   "execution_count": 11,
   "metadata": {
    "vscode": {
     "languageId": "r"
    }
   },
   "outputs": [],
   "source": [
    "data.table::fwrite(importance, file.path(data_dir, \"relative_influence.csv\"))"
   ]
  },
  {
   "cell_type": "code",
   "execution_count": 12,
   "metadata": {
    "vscode": {
     "languageId": "r"
    }
   },
   "outputs": [],
   "source": [
    "options(repr.plot.width = 10, repr.plot.height = 6.2)"
   ]
  },
  {
   "cell_type": "code",
   "execution_count": 13,
   "metadata": {
    "vscode": {
     "languageId": "r"
    }
   },
   "outputs": [
    {
     "data": {
      "text/html": [
       "<table class=\"dataframe\">\n",
       "<caption>A data.frame: 24 × 2</caption>\n",
       "<thead>\n",
       "\t<tr><th></th><th scope=col>cov</th><th scope=col>inf</th></tr>\n",
       "\t<tr><th></th><th scope=col>&lt;chr&gt;</th><th scope=col>&lt;dbl&gt;</th></tr>\n",
       "</thead>\n",
       "<tbody>\n",
       "\t<tr><th scope=row>lab_platelet_first</th><td>PLATELET                  </td><td>11.46112148</td></tr>\n",
       "\t<tr><th scope=row>lab_wbc_first</th><td>WBC                       </td><td>11.16089374</td></tr>\n",
       "\t<tr><th scope=row>weight</th><td>Weight                    </td><td> 9.02132777</td></tr>\n",
       "\t<tr><th scope=row>vs_heart_rate_first</th><td>Heart Rate                </td><td> 7.18336142</td></tr>\n",
       "\t<tr><th scope=row>lab_hemoglobin_first</th><td>HEMOGLOBIN                </td><td> 6.95898771</td></tr>\n",
       "\t<tr><th scope=row>lab_creatinine_first</th><td>CREATININE                </td><td> 6.52079311</td></tr>\n",
       "\t<tr><th scope=row>vs_temp_first</th><td>Temperature               </td><td> 6.32893217</td></tr>\n",
       "\t<tr><th scope=row>vs_map_first</th><td>MAP                       </td><td> 5.43157703</td></tr>\n",
       "\t<tr><th scope=row>lab_bun_first</th><td>BUN                       </td><td> 5.08483938</td></tr>\n",
       "\t<tr><th scope=row>lab_ph_first</th><td>PH                        </td><td> 4.86451959</td></tr>\n",
       "\t<tr><th scope=row>lab_bicarbonate_first</th><td>BICARBONATE               </td><td> 4.80315130</td></tr>\n",
       "\t<tr><th scope=row>age</th><td>Age                       </td><td> 4.42486362</td></tr>\n",
       "\t<tr><th scope=row>lab_chloride_first</th><td>CHLORIDE                  </td><td> 4.32073357</td></tr>\n",
       "\t<tr><th scope=row>lab_potassium_first</th><td>POTASSIUM                 </td><td> 3.30802333</td></tr>\n",
       "\t<tr><th scope=row>sapsii</th><td>SAPS Score                </td><td> 3.25092530</td></tr>\n",
       "\t<tr><th scope=row>lab_sodium_first</th><td>SODIUM                    </td><td> 3.24744172</td></tr>\n",
       "\t<tr><th scope=row>sofa_24hours</th><td>Sofa 24hours              </td><td> 1.16387057</td></tr>\n",
       "\t<tr><th scope=row>infection_flag</th><td>Infection                 </td><td> 0.55886663</td></tr>\n",
       "\t<tr><th scope=row>lab_lactate_flag</th><td>LACTATE                   </td><td> 0.30801158</td></tr>\n",
       "\t<tr><th scope=row>gender</th><td>Gender                    </td><td> 0.21869626</td></tr>\n",
       "\t<tr><th scope=row>lab_creatinine_kinase_flag</th><td>CREATININE KINASE (tested)</td><td> 0.17885109</td></tr>\n",
       "\t<tr><th scope=row>lab_bnp_flag</th><td>BNP (tested)              </td><td> 0.16230334</td></tr>\n",
       "\t<tr><th scope=row>lab_po2_flag</th><td>PO2                       </td><td> 0.03790831</td></tr>\n",
       "\t<tr><th scope=row>lab_pco2_flag</th><td>PCO2                      </td><td> 0.00000000</td></tr>\n",
       "</tbody>\n",
       "</table>\n"
      ],
      "text/latex": [
       "A data.frame: 24 × 2\n",
       "\\begin{tabular}{r|ll}\n",
       "  & cov & inf\\\\\n",
       "  & <chr> & <dbl>\\\\\n",
       "\\hline\n",
       "\tlab\\_platelet\\_first & PLATELET                   & 11.46112148\\\\\n",
       "\tlab\\_wbc\\_first & WBC                        & 11.16089374\\\\\n",
       "\tweight & Weight                     &  9.02132777\\\\\n",
       "\tvs\\_heart\\_rate\\_first & Heart Rate                 &  7.18336142\\\\\n",
       "\tlab\\_hemoglobin\\_first & HEMOGLOBIN                 &  6.95898771\\\\\n",
       "\tlab\\_creatinine\\_first & CREATININE                 &  6.52079311\\\\\n",
       "\tvs\\_temp\\_first & Temperature                &  6.32893217\\\\\n",
       "\tvs\\_map\\_first & MAP                        &  5.43157703\\\\\n",
       "\tlab\\_bun\\_first & BUN                        &  5.08483938\\\\\n",
       "\tlab\\_ph\\_first & PH                         &  4.86451959\\\\\n",
       "\tlab\\_bicarbonate\\_first & BICARBONATE                &  4.80315130\\\\\n",
       "\tage & Age                        &  4.42486362\\\\\n",
       "\tlab\\_chloride\\_first & CHLORIDE                   &  4.32073357\\\\\n",
       "\tlab\\_potassium\\_first & POTASSIUM                  &  3.30802333\\\\\n",
       "\tsapsii & SAPS Score                 &  3.25092530\\\\\n",
       "\tlab\\_sodium\\_first & SODIUM                     &  3.24744172\\\\\n",
       "\tsofa\\_24hours & Sofa 24hours               &  1.16387057\\\\\n",
       "\tinfection\\_flag & Infection                  &  0.55886663\\\\\n",
       "\tlab\\_lactate\\_flag & LACTATE                    &  0.30801158\\\\\n",
       "\tgender & Gender                     &  0.21869626\\\\\n",
       "\tlab\\_creatinine\\_kinase\\_flag & CREATININE KINASE (tested) &  0.17885109\\\\\n",
       "\tlab\\_bnp\\_flag & BNP (tested)               &  0.16230334\\\\\n",
       "\tlab\\_po2\\_flag & PO2                        &  0.03790831\\\\\n",
       "\tlab\\_pco2\\_flag & PCO2                       &  0.00000000\\\\\n",
       "\\end{tabular}\n"
      ],
      "text/markdown": [
       "\n",
       "A data.frame: 24 × 2\n",
       "\n",
       "| <!--/--> | cov &lt;chr&gt; | inf &lt;dbl&gt; |\n",
       "|---|---|---|\n",
       "| lab_platelet_first | PLATELET                   | 11.46112148 |\n",
       "| lab_wbc_first | WBC                        | 11.16089374 |\n",
       "| weight | Weight                     |  9.02132777 |\n",
       "| vs_heart_rate_first | Heart Rate                 |  7.18336142 |\n",
       "| lab_hemoglobin_first | HEMOGLOBIN                 |  6.95898771 |\n",
       "| lab_creatinine_first | CREATININE                 |  6.52079311 |\n",
       "| vs_temp_first | Temperature                |  6.32893217 |\n",
       "| vs_map_first | MAP                        |  5.43157703 |\n",
       "| lab_bun_first | BUN                        |  5.08483938 |\n",
       "| lab_ph_first | PH                         |  4.86451959 |\n",
       "| lab_bicarbonate_first | BICARBONATE                |  4.80315130 |\n",
       "| age | Age                        |  4.42486362 |\n",
       "| lab_chloride_first | CHLORIDE                   |  4.32073357 |\n",
       "| lab_potassium_first | POTASSIUM                  |  3.30802333 |\n",
       "| sapsii | SAPS Score                 |  3.25092530 |\n",
       "| lab_sodium_first | SODIUM                     |  3.24744172 |\n",
       "| sofa_24hours | Sofa 24hours               |  1.16387057 |\n",
       "| infection_flag | Infection                  |  0.55886663 |\n",
       "| lab_lactate_flag | LACTATE                    |  0.30801158 |\n",
       "| gender | Gender                     |  0.21869626 |\n",
       "| lab_creatinine_kinase_flag | CREATININE KINASE (tested) |  0.17885109 |\n",
       "| lab_bnp_flag | BNP (tested)               |  0.16230334 |\n",
       "| lab_po2_flag | PO2                        |  0.03790831 |\n",
       "| lab_pco2_flag | PCO2                       |  0.00000000 |\n",
       "\n"
      ],
      "text/plain": [
       "                           cov                        inf        \n",
       "lab_platelet_first         PLATELET                   11.46112148\n",
       "lab_wbc_first              WBC                        11.16089374\n",
       "weight                     Weight                      9.02132777\n",
       "vs_heart_rate_first        Heart Rate                  7.18336142\n",
       "lab_hemoglobin_first       HEMOGLOBIN                  6.95898771\n",
       "lab_creatinine_first       CREATININE                  6.52079311\n",
       "vs_temp_first              Temperature                 6.32893217\n",
       "vs_map_first               MAP                         5.43157703\n",
       "lab_bun_first              BUN                         5.08483938\n",
       "lab_ph_first               PH                          4.86451959\n",
       "lab_bicarbonate_first      BICARBONATE                 4.80315130\n",
       "age                        Age                         4.42486362\n",
       "lab_chloride_first         CHLORIDE                    4.32073357\n",
       "lab_potassium_first        POTASSIUM                   3.30802333\n",
       "sapsii                     SAPS Score                  3.25092530\n",
       "lab_sodium_first           SODIUM                      3.24744172\n",
       "sofa_24hours               Sofa 24hours                1.16387057\n",
       "infection_flag             Infection                   0.55886663\n",
       "lab_lactate_flag           LACTATE                     0.30801158\n",
       "gender                     Gender                      0.21869626\n",
       "lab_creatinine_kinase_flag CREATININE KINASE (tested)  0.17885109\n",
       "lab_bnp_flag               BNP (tested)                0.16230334\n",
       "lab_po2_flag               PO2                         0.03790831\n",
       "lab_pco2_flag              PCO2                        0.00000000"
      ]
     },
     "metadata": {},
     "output_type": "display_data"
    }
   ],
   "source": [
    "importance"
   ]
  },
  {
   "cell_type": "code",
   "execution_count": 14,
   "metadata": {
    "vscode": {
     "languageId": "r"
    }
   },
   "outputs": [
    {
     "data": {
      "image/png": "[encoded data removed]",
      "text/plain": [
       "plot without title"
      ]
     },
     "metadata": {
      "image/png": {
       "height": 372,
       "width": 600
      }
     },
     "output_type": "display_data"
    }
   ],
   "source": [
    "library(\"ggplot2\")\n",
    "\n",
    "\n",
    "importance <- importance[order(importance$inf),]\n",
    "\n",
    "ggplot(data = importance) +\n",
    "  geom_bar(aes(y = reorder(cov, inf), x = inf), stat = \"identity\",\n",
    "           fill = \"#0f97f2\") +  \n",
    "  labs(y = \"Covariate\", x = \"Influence\", title = \"Relative Influence of Covariates\") +\n",
    "  theme_bw() +\n",
    "  theme(axis.text.x = element_text(angle = 0, hjust = 1, vjust = .5),\n",
    "        panel.grid.minor.y = element_blank(), panel.grid.major.y = element_blank(),\n",
    "        plot.title = element_text(hjust = 0.5))"
   ]
  }
 ],
 "metadata": {
  "kernelspec": {
   "display_name": "R",
   "language": "R",
   "name": "ir"
  },
  "language_info": {
   "codemirror_mode": "r",
   "file_extension": ".r",
   "mimetype": "text/x-r-source",
   "name": "R",
   "pygments_lexer": "r",
   "version": "4.3.2"
  },
  "varInspector": {
   "cols": {
    "lenName": 16,
    "lenType": 16,
    "lenVar": 40
   },
   "kernels_config": {
    "python": {
     "delete_cmd_postfix": "",
     "delete_cmd_prefix": "del ",
     "library": "var_list.py",
     "varRefreshCmd": "print(var_dic_list())"
    },
    "r": {
     "delete_cmd_postfix": ") ",
     "delete_cmd_prefix": "rm(",
     "library": "var_list.r",
     "varRefreshCmd": "cat(var_dic_list()) "
    }
   },
   "types_to_exclude": [
    "module",
    "function",
    "builtin_function_or_method",
    "instance",
    "_Feature"
   ],
   "window_display": false
  }
 },
 "nbformat": 4,
 "nbformat_minor": 2
}
