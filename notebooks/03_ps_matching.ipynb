{
 "cells": [
  {
   "cell_type": "code",
   "execution_count": 21,
   "metadata": {
    "vscode": {
     "languageId": "r"
    }
   },
   "outputs": [],
   "source": [
    "library(Matching)\n",
    "library(tidyverse)\n",
    "library(TriMatch)\n",
    "library(ggplot2)\n",
    "library(cobalt)\n",
    "library(WeightIt)\n",
    "library(mlogit)\n",
    "library(brglm2)\n",
    "library(MASS)"
   ]
  },
  {
   "cell_type": "markdown",
   "metadata": {},
   "source": []
  },
  {
   "cell_type": "code",
   "execution_count": 22,
   "metadata": {
    "vscode": {
     "languageId": "r"
    }
   },
   "outputs": [],
   "source": [
    "data_dir <- file.path(\"..\", \"data\")"
   ]
  },
  {
   "cell_type": "code",
   "execution_count": 23,
   "metadata": {
    "vscode": {
     "languageId": "r"
    }
   },
   "outputs": [
    {
     "data": {
      "text/html": [
       "<table class=\"dataframe\">\n",
       "<caption>A data.frame: 6 × 122</caption>\n",
       "<thead>\n",
       "\t<tr><th></th><th scope=col>stay_id</th><th scope=col>hadm_id</th><th scope=col>subject_id</th><th scope=col>gender</th><th scope=col>age</th><th scope=col>sapsii</th><th scope=col>icu_intime</th><th scope=col>icu_outtime</th><th scope=col>weight</th><th scope=col>sofa_24hours</th><th scope=col>⋯</th><th scope=col>lab_potassium_flag</th><th scope=col>lab_troponin_flag</th><th scope=col>lab_po2_flag</th><th scope=col>lab_lactate_flag</th><th scope=col>gcs_int</th><th scope=col>ca_int</th><th scope=col>event_state_int</th><th scope=col>mort_28_day_int</th><th scope=col>ps</th><th scope=col>ps_weight</th></tr>\n",
       "\t<tr><th></th><th scope=col>&lt;int&gt;</th><th scope=col>&lt;int&gt;</th><th scope=col>&lt;int&gt;</th><th scope=col>&lt;fct&gt;</th><th scope=col>&lt;dbl&gt;</th><th scope=col>&lt;int&gt;</th><th scope=col>&lt;dttm&gt;</th><th scope=col>&lt;dttm&gt;</th><th scope=col>&lt;dbl&gt;</th><th scope=col>&lt;int&gt;</th><th scope=col>⋯</th><th scope=col>&lt;fct&gt;</th><th scope=col>&lt;fct&gt;</th><th scope=col>&lt;fct&gt;</th><th scope=col>&lt;fct&gt;</th><th scope=col>&lt;int&gt;</th><th scope=col>&lt;int&gt;</th><th scope=col>&lt;int&gt;</th><th scope=col>&lt;int&gt;</th><th scope=col>&lt;dbl&gt;</th><th scope=col>&lt;dbl&gt;</th></tr>\n",
       "</thead>\n",
       "<tbody>\n",
       "\t<tr><th scope=row>1</th><td>38302142</td><td>20475690</td><td>13620446</td><td>F</td><td>66.04835</td><td>31</td><td>2159-01-21 01:45:32</td><td>2159-01-25 14:09:02</td><td>138.0</td><td> 1</td><td>⋯</td><td>1</td><td>0</td><td>1</td><td>1</td><td>0</td><td> 1</td><td>1</td><td>0</td><td>0.23004888</td><td>1.298784</td></tr>\n",
       "\t<tr><th scope=row>2</th><td>31869153</td><td>21383344</td><td>15359363</td><td>F</td><td>41.91122</td><td>39</td><td>2166-12-02 16:08:45</td><td>2166-12-05 02:10:02</td><td> 70.0</td><td> 0</td><td>⋯</td><td>1</td><td>0</td><td>0</td><td>0</td><td>1</td><td>NA</td><td>0</td><td>0</td><td>0.51034613</td><td>1.959454</td></tr>\n",
       "\t<tr><th scope=row>3</th><td>31501167</td><td>20944291</td><td>12162143</td><td>F</td><td>87.59137</td><td>35</td><td>2174-08-05 00:49:12</td><td>2174-08-06 16:13:22</td><td> 65.0</td><td> 1</td><td>⋯</td><td>1</td><td>0</td><td>1</td><td>1</td><td>0</td><td> 1</td><td>0</td><td>0</td><td>0.06373611</td><td>1.068075</td></tr>\n",
       "\t<tr><th scope=row>4</th><td>39256124</td><td>24959920</td><td>18226317</td><td>M</td><td>66.88656</td><td>28</td><td>2130-11-20 19:28:29</td><td>2130-11-25 12:42:59</td><td> 88.0</td><td> 3</td><td>⋯</td><td>1</td><td>0</td><td>0</td><td>0</td><td>0</td><td> 1</td><td>0</td><td>0</td><td>0.06686745</td><td>1.071659</td></tr>\n",
       "\t<tr><th scope=row>5</th><td>31132695</td><td>28164203</td><td>15928453</td><td>F</td><td>44.39155</td><td>55</td><td>2113-05-24 00:14:32</td><td>2113-05-29 14:24:45</td><td> 45.9</td><td>10</td><td>⋯</td><td>1</td><td>0</td><td>1</td><td>1</td><td>0</td><td> 1</td><td>1</td><td>0</td><td>0.04697845</td><td>1.049294</td></tr>\n",
       "\t<tr><th scope=row>6</th><td>39784690</td><td>23246205</td><td>16810503</td><td>M</td><td>56.61848</td><td>30</td><td>2149-08-14 21:32:37</td><td>2149-08-21 12:15:14</td><td> 80.0</td><td> 3</td><td>⋯</td><td>1</td><td>0</td><td>1</td><td>1</td><td>0</td><td> 1</td><td>0</td><td>0</td><td>0.03507564</td><td>1.036351</td></tr>\n",
       "</tbody>\n",
       "</table>\n"
      ],
      "text/latex": [
       "A data.frame: 6 × 122\n",
       "\\begin{tabular}{r|lllllllllllllllllllll}\n",
       "  & stay\\_id & hadm\\_id & subject\\_id & gender & age & sapsii & icu\\_intime & icu\\_outtime & weight & sofa\\_24hours & ⋯ & lab\\_potassium\\_flag & lab\\_troponin\\_flag & lab\\_po2\\_flag & lab\\_lactate\\_flag & gcs\\_int & ca\\_int & event\\_state\\_int & mort\\_28\\_day\\_int & ps & ps\\_weight\\\\\n",
       "  & <int> & <int> & <int> & <fct> & <dbl> & <int> & <dttm> & <dttm> & <dbl> & <int> & ⋯ & <fct> & <fct> & <fct> & <fct> & <int> & <int> & <int> & <int> & <dbl> & <dbl>\\\\\n",
       "\\hline\n",
       "\t1 & 38302142 & 20475690 & 13620446 & F & 66.04835 & 31 & 2159-01-21 01:45:32 & 2159-01-25 14:09:02 & 138.0 &  1 & ⋯ & 1 & 0 & 1 & 1 & 0 &  1 & 1 & 0 & 0.23004888 & 1.298784\\\\\n",
       "\t2 & 31869153 & 21383344 & 15359363 & F & 41.91122 & 39 & 2166-12-02 16:08:45 & 2166-12-05 02:10:02 &  70.0 &  0 & ⋯ & 1 & 0 & 0 & 0 & 1 & NA & 0 & 0 & 0.51034613 & 1.959454\\\\\n",
       "\t3 & 31501167 & 20944291 & 12162143 & F & 87.59137 & 35 & 2174-08-05 00:49:12 & 2174-08-06 16:13:22 &  65.0 &  1 & ⋯ & 1 & 0 & 1 & 1 & 0 &  1 & 0 & 0 & 0.06373611 & 1.068075\\\\\n",
       "\t4 & 39256124 & 24959920 & 18226317 & M & 66.88656 & 28 & 2130-11-20 19:28:29 & 2130-11-25 12:42:59 &  88.0 &  3 & ⋯ & 1 & 0 & 0 & 0 & 0 &  1 & 0 & 0 & 0.06686745 & 1.071659\\\\\n",
       "\t5 & 31132695 & 28164203 & 15928453 & F & 44.39155 & 55 & 2113-05-24 00:14:32 & 2113-05-29 14:24:45 &  45.9 & 10 & ⋯ & 1 & 0 & 1 & 1 & 0 &  1 & 1 & 0 & 0.04697845 & 1.049294\\\\\n",
       "\t6 & 39784690 & 23246205 & 16810503 & M & 56.61848 & 30 & 2149-08-14 21:32:37 & 2149-08-21 12:15:14 &  80.0 &  3 & ⋯ & 1 & 0 & 1 & 1 & 0 &  1 & 0 & 0 & 0.03507564 & 1.036351\\\\\n",
       "\\end{tabular}\n"
      ],
      "text/markdown": [
       "\n",
       "A data.frame: 6 × 122\n",
       "\n",
       "| <!--/--> | stay_id &lt;int&gt; | hadm_id &lt;int&gt; | subject_id &lt;int&gt; | gender &lt;fct&gt; | age &lt;dbl&gt; | sapsii &lt;int&gt; | icu_intime &lt;dttm&gt; | icu_outtime &lt;dttm&gt; | weight &lt;dbl&gt; | sofa_24hours &lt;int&gt; | ⋯ ⋯ | lab_potassium_flag &lt;fct&gt; | lab_troponin_flag &lt;fct&gt; | lab_po2_flag &lt;fct&gt; | lab_lactate_flag &lt;fct&gt; | gcs_int &lt;int&gt; | ca_int &lt;int&gt; | event_state_int &lt;int&gt; | mort_28_day_int &lt;int&gt; | ps &lt;dbl&gt; | ps_weight &lt;dbl&gt; |\n",
       "|---|---|---|---|---|---|---|---|---|---|---|---|---|---|---|---|---|---|---|---|---|---|\n",
       "| 1 | 38302142 | 20475690 | 13620446 | F | 66.04835 | 31 | 2159-01-21 01:45:32 | 2159-01-25 14:09:02 | 138.0 |  1 | ⋯ | 1 | 0 | 1 | 1 | 0 |  1 | 1 | 0 | 0.23004888 | 1.298784 |\n",
       "| 2 | 31869153 | 21383344 | 15359363 | F | 41.91122 | 39 | 2166-12-02 16:08:45 | 2166-12-05 02:10:02 |  70.0 |  0 | ⋯ | 1 | 0 | 0 | 0 | 1 | NA | 0 | 0 | 0.51034613 | 1.959454 |\n",
       "| 3 | 31501167 | 20944291 | 12162143 | F | 87.59137 | 35 | 2174-08-05 00:49:12 | 2174-08-06 16:13:22 |  65.0 |  1 | ⋯ | 1 | 0 | 1 | 1 | 0 |  1 | 0 | 0 | 0.06373611 | 1.068075 |\n",
       "| 4 | 39256124 | 24959920 | 18226317 | M | 66.88656 | 28 | 2130-11-20 19:28:29 | 2130-11-25 12:42:59 |  88.0 |  3 | ⋯ | 1 | 0 | 0 | 0 | 0 |  1 | 0 | 0 | 0.06686745 | 1.071659 |\n",
       "| 5 | 31132695 | 28164203 | 15928453 | F | 44.39155 | 55 | 2113-05-24 00:14:32 | 2113-05-29 14:24:45 |  45.9 | 10 | ⋯ | 1 | 0 | 1 | 1 | 0 |  1 | 1 | 0 | 0.04697845 | 1.049294 |\n",
       "| 6 | 39784690 | 23246205 | 16810503 | M | 56.61848 | 30 | 2149-08-14 21:32:37 | 2149-08-21 12:15:14 |  80.0 |  3 | ⋯ | 1 | 0 | 1 | 1 | 0 |  1 | 0 | 0 | 0.03507564 | 1.036351 |\n",
       "\n"
      ],
      "text/plain": [
       "  stay_id  hadm_id  subject_id gender age      sapsii icu_intime         \n",
       "1 38302142 20475690 13620446   F      66.04835 31     2159-01-21 01:45:32\n",
       "2 31869153 21383344 15359363   F      41.91122 39     2166-12-02 16:08:45\n",
       "3 31501167 20944291 12162143   F      87.59137 35     2174-08-05 00:49:12\n",
       "4 39256124 24959920 18226317   M      66.88656 28     2130-11-20 19:28:29\n",
       "5 31132695 28164203 15928453   F      44.39155 55     2113-05-24 00:14:32\n",
       "6 39784690 23246205 16810503   M      56.61848 30     2149-08-14 21:32:37\n",
       "  icu_outtime         weight sofa_24hours ⋯ lab_potassium_flag\n",
       "1 2159-01-25 14:09:02 138.0   1           ⋯ 1                 \n",
       "2 2166-12-05 02:10:02  70.0   0           ⋯ 1                 \n",
       "3 2174-08-06 16:13:22  65.0   1           ⋯ 1                 \n",
       "4 2130-11-25 12:42:59  88.0   3           ⋯ 1                 \n",
       "5 2113-05-29 14:24:45  45.9  10           ⋯ 1                 \n",
       "6 2149-08-21 12:15:14  80.0   3           ⋯ 1                 \n",
       "  lab_troponin_flag lab_po2_flag lab_lactate_flag gcs_int ca_int\n",
       "1 0                 1            1                0        1    \n",
       "2 0                 0            0                1       NA    \n",
       "3 0                 1            1                0        1    \n",
       "4 0                 0            0                0        1    \n",
       "5 0                 1            1                0        1    \n",
       "6 0                 1            1                0        1    \n",
       "  event_state_int mort_28_day_int ps         ps_weight\n",
       "1 1               0               0.23004888 1.298784 \n",
       "2 0               0               0.51034613 1.959454 \n",
       "3 0               0               0.06373611 1.068075 \n",
       "4 0               0               0.06686745 1.071659 \n",
       "5 1               0               0.04697845 1.049294 \n",
       "6 0               0               0.03507564 1.036351 "
      ]
     },
     "metadata": {},
     "output_type": "display_data"
    }
   ],
   "source": [
    "full_data <- readRDS(file.path(data_dir, \"full_data_ps.rds\"))\n",
    "head(full_data)"
   ]
  },
  {
   "cell_type": "code",
   "execution_count": 24,
   "metadata": {
    "vscode": {
     "languageId": "r"
    }
   },
   "outputs": [],
   "source": [
    "set.seed(4958)"
   ]
  },
  {
   "cell_type": "code",
   "execution_count": 25,
   "metadata": {
    "vscode": {
     "languageId": "r"
    }
   },
   "outputs": [
    {
     "data": {
      "text/html": [
       "<table class=\"dataframe\">\n",
       "<caption>A data.frame: 6 × 122</caption>\n",
       "<thead>\n",
       "\t<tr><th></th><th scope=col>stay_id</th><th scope=col>hadm_id</th><th scope=col>subject_id</th><th scope=col>gender</th><th scope=col>age</th><th scope=col>sapsii</th><th scope=col>icu_intime</th><th scope=col>icu_outtime</th><th scope=col>weight</th><th scope=col>sofa_24hours</th><th scope=col>⋯</th><th scope=col>lab_potassium_flag</th><th scope=col>lab_troponin_flag</th><th scope=col>lab_po2_flag</th><th scope=col>lab_lactate_flag</th><th scope=col>gcs_int</th><th scope=col>ca_int</th><th scope=col>event_state_int</th><th scope=col>mort_28_day_int</th><th scope=col>ps</th><th scope=col>ps_weight</th></tr>\n",
       "\t<tr><th></th><th scope=col>&lt;int&gt;</th><th scope=col>&lt;int&gt;</th><th scope=col>&lt;int&gt;</th><th scope=col>&lt;fct&gt;</th><th scope=col>&lt;dbl&gt;</th><th scope=col>&lt;int&gt;</th><th scope=col>&lt;dttm&gt;</th><th scope=col>&lt;dttm&gt;</th><th scope=col>&lt;dbl&gt;</th><th scope=col>&lt;int&gt;</th><th scope=col>⋯</th><th scope=col>&lt;fct&gt;</th><th scope=col>&lt;fct&gt;</th><th scope=col>&lt;fct&gt;</th><th scope=col>&lt;fct&gt;</th><th scope=col>&lt;int&gt;</th><th scope=col>&lt;int&gt;</th><th scope=col>&lt;int&gt;</th><th scope=col>&lt;int&gt;</th><th scope=col>&lt;dbl&gt;</th><th scope=col>&lt;dbl&gt;</th></tr>\n",
       "</thead>\n",
       "<tbody>\n",
       "\t<tr><th scope=row>1</th><td>38302142</td><td>20475690</td><td>13620446</td><td>F</td><td>66.04835</td><td>31</td><td>2159-01-21 01:45:32</td><td>2159-01-25 14:09:02</td><td>138.0</td><td> 1</td><td>⋯</td><td>1</td><td>0</td><td>1</td><td>1</td><td>0</td><td> 1</td><td>1</td><td>0</td><td>0.23004888</td><td>1.298784</td></tr>\n",
       "\t<tr><th scope=row>2</th><td>31869153</td><td>21383344</td><td>15359363</td><td>F</td><td>41.91122</td><td>39</td><td>2166-12-02 16:08:45</td><td>2166-12-05 02:10:02</td><td> 70.0</td><td> 0</td><td>⋯</td><td>1</td><td>0</td><td>0</td><td>0</td><td>1</td><td>NA</td><td>0</td><td>0</td><td>0.51034613</td><td>1.959454</td></tr>\n",
       "\t<tr><th scope=row>3</th><td>31501167</td><td>20944291</td><td>12162143</td><td>F</td><td>87.59137</td><td>35</td><td>2174-08-05 00:49:12</td><td>2174-08-06 16:13:22</td><td> 65.0</td><td> 1</td><td>⋯</td><td>1</td><td>0</td><td>1</td><td>1</td><td>0</td><td> 1</td><td>0</td><td>0</td><td>0.06373611</td><td>1.068075</td></tr>\n",
       "\t<tr><th scope=row>4</th><td>39256124</td><td>24959920</td><td>18226317</td><td>M</td><td>66.88656</td><td>28</td><td>2130-11-20 19:28:29</td><td>2130-11-25 12:42:59</td><td> 88.0</td><td> 3</td><td>⋯</td><td>1</td><td>0</td><td>0</td><td>0</td><td>0</td><td> 1</td><td>0</td><td>0</td><td>0.06686745</td><td>1.071659</td></tr>\n",
       "\t<tr><th scope=row>5</th><td>31132695</td><td>28164203</td><td>15928453</td><td>F</td><td>44.39155</td><td>55</td><td>2113-05-24 00:14:32</td><td>2113-05-29 14:24:45</td><td> 45.9</td><td>10</td><td>⋯</td><td>1</td><td>0</td><td>1</td><td>1</td><td>0</td><td> 1</td><td>1</td><td>0</td><td>0.04697845</td><td>1.049294</td></tr>\n",
       "\t<tr><th scope=row>6</th><td>39784690</td><td>23246205</td><td>16810503</td><td>M</td><td>56.61848</td><td>30</td><td>2149-08-14 21:32:37</td><td>2149-08-21 12:15:14</td><td> 80.0</td><td> 3</td><td>⋯</td><td>1</td><td>0</td><td>1</td><td>1</td><td>0</td><td> 1</td><td>0</td><td>0</td><td>0.03507564</td><td>1.036351</td></tr>\n",
       "</tbody>\n",
       "</table>\n"
      ],
      "text/latex": [
       "A data.frame: 6 × 122\n",
       "\\begin{tabular}{r|lllllllllllllllllllll}\n",
       "  & stay\\_id & hadm\\_id & subject\\_id & gender & age & sapsii & icu\\_intime & icu\\_outtime & weight & sofa\\_24hours & ⋯ & lab\\_potassium\\_flag & lab\\_troponin\\_flag & lab\\_po2\\_flag & lab\\_lactate\\_flag & gcs\\_int & ca\\_int & event\\_state\\_int & mort\\_28\\_day\\_int & ps & ps\\_weight\\\\\n",
       "  & <int> & <int> & <int> & <fct> & <dbl> & <int> & <dttm> & <dttm> & <dbl> & <int> & ⋯ & <fct> & <fct> & <fct> & <fct> & <int> & <int> & <int> & <int> & <dbl> & <dbl>\\\\\n",
       "\\hline\n",
       "\t1 & 38302142 & 20475690 & 13620446 & F & 66.04835 & 31 & 2159-01-21 01:45:32 & 2159-01-25 14:09:02 & 138.0 &  1 & ⋯ & 1 & 0 & 1 & 1 & 0 &  1 & 1 & 0 & 0.23004888 & 1.298784\\\\\n",
       "\t2 & 31869153 & 21383344 & 15359363 & F & 41.91122 & 39 & 2166-12-02 16:08:45 & 2166-12-05 02:10:02 &  70.0 &  0 & ⋯ & 1 & 0 & 0 & 0 & 1 & NA & 0 & 0 & 0.51034613 & 1.959454\\\\\n",
       "\t3 & 31501167 & 20944291 & 12162143 & F & 87.59137 & 35 & 2174-08-05 00:49:12 & 2174-08-06 16:13:22 &  65.0 &  1 & ⋯ & 1 & 0 & 1 & 1 & 0 &  1 & 0 & 0 & 0.06373611 & 1.068075\\\\\n",
       "\t4 & 39256124 & 24959920 & 18226317 & M & 66.88656 & 28 & 2130-11-20 19:28:29 & 2130-11-25 12:42:59 &  88.0 &  3 & ⋯ & 1 & 0 & 0 & 0 & 0 &  1 & 0 & 0 & 0.06686745 & 1.071659\\\\\n",
       "\t5 & 31132695 & 28164203 & 15928453 & F & 44.39155 & 55 & 2113-05-24 00:14:32 & 2113-05-29 14:24:45 &  45.9 & 10 & ⋯ & 1 & 0 & 1 & 1 & 0 &  1 & 1 & 0 & 0.04697845 & 1.049294\\\\\n",
       "\t6 & 39784690 & 23246205 & 16810503 & M & 56.61848 & 30 & 2149-08-14 21:32:37 & 2149-08-21 12:15:14 &  80.0 &  3 & ⋯ & 1 & 0 & 1 & 1 & 0 &  1 & 0 & 0 & 0.03507564 & 1.036351\\\\\n",
       "\\end{tabular}\n"
      ],
      "text/markdown": [
       "\n",
       "A data.frame: 6 × 122\n",
       "\n",
       "| <!--/--> | stay_id &lt;int&gt; | hadm_id &lt;int&gt; | subject_id &lt;int&gt; | gender &lt;fct&gt; | age &lt;dbl&gt; | sapsii &lt;int&gt; | icu_intime &lt;dttm&gt; | icu_outtime &lt;dttm&gt; | weight &lt;dbl&gt; | sofa_24hours &lt;int&gt; | ⋯ ⋯ | lab_potassium_flag &lt;fct&gt; | lab_troponin_flag &lt;fct&gt; | lab_po2_flag &lt;fct&gt; | lab_lactate_flag &lt;fct&gt; | gcs_int &lt;int&gt; | ca_int &lt;int&gt; | event_state_int &lt;int&gt; | mort_28_day_int &lt;int&gt; | ps &lt;dbl&gt; | ps_weight &lt;dbl&gt; |\n",
       "|---|---|---|---|---|---|---|---|---|---|---|---|---|---|---|---|---|---|---|---|---|---|\n",
       "| 1 | 38302142 | 20475690 | 13620446 | F | 66.04835 | 31 | 2159-01-21 01:45:32 | 2159-01-25 14:09:02 | 138.0 |  1 | ⋯ | 1 | 0 | 1 | 1 | 0 |  1 | 1 | 0 | 0.23004888 | 1.298784 |\n",
       "| 2 | 31869153 | 21383344 | 15359363 | F | 41.91122 | 39 | 2166-12-02 16:08:45 | 2166-12-05 02:10:02 |  70.0 |  0 | ⋯ | 1 | 0 | 0 | 0 | 1 | NA | 0 | 0 | 0.51034613 | 1.959454 |\n",
       "| 3 | 31501167 | 20944291 | 12162143 | F | 87.59137 | 35 | 2174-08-05 00:49:12 | 2174-08-06 16:13:22 |  65.0 |  1 | ⋯ | 1 | 0 | 1 | 1 | 0 |  1 | 0 | 0 | 0.06373611 | 1.068075 |\n",
       "| 4 | 39256124 | 24959920 | 18226317 | M | 66.88656 | 28 | 2130-11-20 19:28:29 | 2130-11-25 12:42:59 |  88.0 |  3 | ⋯ | 1 | 0 | 0 | 0 | 0 |  1 | 0 | 0 | 0.06686745 | 1.071659 |\n",
       "| 5 | 31132695 | 28164203 | 15928453 | F | 44.39155 | 55 | 2113-05-24 00:14:32 | 2113-05-29 14:24:45 |  45.9 | 10 | ⋯ | 1 | 0 | 1 | 1 | 0 |  1 | 1 | 0 | 0.04697845 | 1.049294 |\n",
       "| 6 | 39784690 | 23246205 | 16810503 | M | 56.61848 | 30 | 2149-08-14 21:32:37 | 2149-08-21 12:15:14 |  80.0 |  3 | ⋯ | 1 | 0 | 1 | 1 | 0 |  1 | 0 | 0 | 0.03507564 | 1.036351 |\n",
       "\n"
      ],
      "text/plain": [
       "  stay_id  hadm_id  subject_id gender age      sapsii icu_intime         \n",
       "1 38302142 20475690 13620446   F      66.04835 31     2159-01-21 01:45:32\n",
       "2 31869153 21383344 15359363   F      41.91122 39     2166-12-02 16:08:45\n",
       "3 31501167 20944291 12162143   F      87.59137 35     2174-08-05 00:49:12\n",
       "4 39256124 24959920 18226317   M      66.88656 28     2130-11-20 19:28:29\n",
       "5 31132695 28164203 15928453   F      44.39155 55     2113-05-24 00:14:32\n",
       "6 39784690 23246205 16810503   M      56.61848 30     2149-08-14 21:32:37\n",
       "  icu_outtime         weight sofa_24hours ⋯ lab_potassium_flag\n",
       "1 2159-01-25 14:09:02 138.0   1           ⋯ 1                 \n",
       "2 2166-12-05 02:10:02  70.0   0           ⋯ 1                 \n",
       "3 2174-08-06 16:13:22  65.0   1           ⋯ 1                 \n",
       "4 2130-11-25 12:42:59  88.0   3           ⋯ 1                 \n",
       "5 2113-05-29 14:24:45  45.9  10           ⋯ 1                 \n",
       "6 2149-08-21 12:15:14  80.0   3           ⋯ 1                 \n",
       "  lab_troponin_flag lab_po2_flag lab_lactate_flag gcs_int ca_int\n",
       "1 0                 1            1                0        1    \n",
       "2 0                 0            0                1       NA    \n",
       "3 0                 1            1                0        1    \n",
       "4 0                 0            0                0        1    \n",
       "5 0                 1            1                0        1    \n",
       "6 0                 1            1                0        1    \n",
       "  event_state_int mort_28_day_int ps         ps_weight\n",
       "1 1               0               0.23004888 1.298784 \n",
       "2 0               0               0.51034613 1.959454 \n",
       "3 0               0               0.06373611 1.068075 \n",
       "4 0               0               0.06686745 1.071659 \n",
       "5 1               0               0.04697845 1.049294 \n",
       "6 0               0               0.03507564 1.036351 "
      ]
     },
     "metadata": {},
     "output_type": "display_data"
    }
   ],
   "source": [
    "\n",
    "head(full_data)"
   ]
  },
  {
   "cell_type": "code",
   "execution_count": 26,
   "metadata": {
    "vscode": {
     "languageId": "r"
    }
   },
   "outputs": [],
   "source": [
    "library(cobalt)\n",
    "library(ggplot2)"
   ]
  },
  {
   "cell_type": "code",
   "execution_count": 27,
   "metadata": {
    "vscode": {
     "languageId": "r"
    }
   },
   "outputs": [
    {
     "name": "stdout",
     "output_type": "stream",
     "text": [
      "\n",
      "Estimate...  0 \n",
      "SE.........  0.020322 \n",
      "T-stat.....  0 \n",
      "p.val......  1 \n",
      "\n",
      "Original number of observations..............  4401 \n",
      "Original number of treated obs...............  533 \n",
      "Matched number of observations...............  451 \n",
      "Matched number of observations  (unweighted).  451 \n",
      "\n",
      "Number of obs dropped by 'exact' or 'caliper'  82 \n",
      "\n"
     ]
    }
   ],
   "source": [
    "ps_matches <- Match(Y = full_data$mort_28_day_int, Tr = full_data$gcs_int,\n",
    "                    X = full_data$ps, M = 1, estimand = \"ATT\", caliper = 0.05,\n",
    "                    exact = FALSE, replace = FALSE, ties = FALSE)\n",
    "\n",
    "summary(ps_matches)\n"
   ]
  },
  {
   "cell_type": "code",
   "execution_count": 28,
   "metadata": {
    "vscode": {
     "languageId": "r"
    }
   },
   "outputs": [
    {
     "name": "stderr",
     "output_type": "stream",
     "text": [
      "Warning message:\n",
      "\"Missing values exist in the covariates. Displayed values omit these observations.\"\n",
      "Note: `s.d.denom` not specified; assuming \"pooled\".\n",
      "Warning message:\n",
      "\"No aggregation will take place, so `agg.fun` will be ignored. Remember to set `which.<ARG> = .none` to aggregate across <ARG>.\"\n"
     ]
    },
    {
     "data": {
      "image/png": "[encoded data removed]",
      "text/plain": [
       "plot without title"
      ]
     },
     "metadata": {
      "image/png": {
       "height": 420,
       "width": 420
      }
     },
     "output_type": "display_data"
    }
   ],
   "source": [
    "library(MatchIt)\n",
    "\n",
    "# 提取协变量公式的右侧部分\n",
    "fml <- as.formula(\"gcs_int ~ gender + age + sapsii + weight + sofa_24hours + vs_heart_rate_first + vs_cvp_first + vs_map_first + vs_temp_first + lab_hemoglobin_first + lab_platelet_first + lab_creatinine_kinase_first + lab_wbc_first + lab_ph_first + lab_chloride_first + lab_sodium_first + lab_bun_first + lab_bicarbonate_first + lab_pco2_first + lab_creatinine_first + lab_potassium_first + lab_troponin_first + lab_po2_first + lab_lactate_first + event_state\")\n",
    "\n",
    "# 使用MatchBalance创建一个balance对象\n",
    "balance <- cobalt::bal.tab(x = fml, \n",
    "                           treat = full_data$treatment_indicator,  # 确保这是一个二元治疗指标\n",
    "                           m.out = ps_matches, \n",
    "                           data = full_data, \n",
    "                           un = TRUE, \n",
    "                           adj = TRUE, # 添加这个参数以包含未匹配的结果\n",
    "                           m.threshold = 0.1,  # 设置标准化均值差阈值为0.1\n",
    "                           agg.fun=\"range\",\n",
    "                           binary=\"std\",\n",
    "                           disp.v = \"love.plot\")\n",
    "\n",
    "# 绘制love.plot\n",
    "# 绘制love.plot\n",
    "cobalt::love.plot(balance, \n",
    "                  threshold = 0.1, \n",
    "                  agg.fun = \"range\",\n",
    "                  binary = \"std\",\n",
    "                  imp = TRUE)"
   ]
  },
  {
   "cell_type": "code",
   "execution_count": 29,
   "metadata": {
    "vscode": {
     "languageId": "r"
    }
   },
   "outputs": [
    {
     "data": {
      "text/html": [
       "<table class=\"dataframe\">\n",
       "<caption>A data.frame: 902 × 3</caption>\n",
       "<thead>\n",
       "\t<tr><th scope=col>stay_id</th><th scope=col>group</th><th scope=col>match</th></tr>\n",
       "\t<tr><th scope=col>&lt;int&gt;</th><th scope=col>&lt;chr&gt;</th><th scope=col>&lt;int&gt;</th></tr>\n",
       "</thead>\n",
       "<tbody>\n",
       "\t<tr><td>35119191</td><td>ctrl</td><td> 1</td></tr>\n",
       "\t<tr><td>31861835</td><td>ctrl</td><td> 2</td></tr>\n",
       "\t<tr><td>37322694</td><td>ctrl</td><td> 3</td></tr>\n",
       "\t<tr><td>33778687</td><td>ctrl</td><td> 4</td></tr>\n",
       "\t<tr><td>31604497</td><td>ctrl</td><td> 5</td></tr>\n",
       "\t<tr><td>32703334</td><td>ctrl</td><td> 6</td></tr>\n",
       "\t<tr><td>30117329</td><td>ctrl</td><td> 7</td></tr>\n",
       "\t<tr><td>38888871</td><td>ctrl</td><td> 8</td></tr>\n",
       "\t<tr><td>38320178</td><td>ctrl</td><td> 9</td></tr>\n",
       "\t<tr><td>37524474</td><td>ctrl</td><td>10</td></tr>\n",
       "\t<tr><td>31573677</td><td>ctrl</td><td>11</td></tr>\n",
       "\t<tr><td>39758202</td><td>ctrl</td><td>12</td></tr>\n",
       "\t<tr><td>39336799</td><td>ctrl</td><td>13</td></tr>\n",
       "\t<tr><td>36078887</td><td>ctrl</td><td>14</td></tr>\n",
       "\t<tr><td>39116385</td><td>ctrl</td><td>15</td></tr>\n",
       "\t<tr><td>30175989</td><td>ctrl</td><td>16</td></tr>\n",
       "\t<tr><td>33461037</td><td>ctrl</td><td>17</td></tr>\n",
       "\t<tr><td>31533063</td><td>ctrl</td><td>18</td></tr>\n",
       "\t<tr><td>35147241</td><td>ctrl</td><td>19</td></tr>\n",
       "\t<tr><td>32995033</td><td>ctrl</td><td>20</td></tr>\n",
       "\t<tr><td>36273977</td><td>ctrl</td><td>21</td></tr>\n",
       "\t<tr><td>31289872</td><td>ctrl</td><td>22</td></tr>\n",
       "\t<tr><td>39589962</td><td>ctrl</td><td>23</td></tr>\n",
       "\t<tr><td>33657066</td><td>ctrl</td><td>24</td></tr>\n",
       "\t<tr><td>32027486</td><td>ctrl</td><td>25</td></tr>\n",
       "\t<tr><td>39864331</td><td>ctrl</td><td>26</td></tr>\n",
       "\t<tr><td>34586534</td><td>ctrl</td><td>27</td></tr>\n",
       "\t<tr><td>30489904</td><td>ctrl</td><td>28</td></tr>\n",
       "\t<tr><td>33702581</td><td>ctrl</td><td>29</td></tr>\n",
       "\t<tr><td>33513039</td><td>ctrl</td><td>30</td></tr>\n",
       "\t<tr><td>⋮</td><td>⋮</td><td>⋮</td></tr>\n",
       "\t<tr><td>31363270</td><td>trtd</td><td>422</td></tr>\n",
       "\t<tr><td>34146500</td><td>trtd</td><td>423</td></tr>\n",
       "\t<tr><td>31862758</td><td>trtd</td><td>424</td></tr>\n",
       "\t<tr><td>33181285</td><td>trtd</td><td>425</td></tr>\n",
       "\t<tr><td>32626706</td><td>trtd</td><td>426</td></tr>\n",
       "\t<tr><td>31185851</td><td>trtd</td><td>427</td></tr>\n",
       "\t<tr><td>33388043</td><td>trtd</td><td>428</td></tr>\n",
       "\t<tr><td>38940421</td><td>trtd</td><td>429</td></tr>\n",
       "\t<tr><td>32256785</td><td>trtd</td><td>430</td></tr>\n",
       "\t<tr><td>33123107</td><td>trtd</td><td>431</td></tr>\n",
       "\t<tr><td>31471308</td><td>trtd</td><td>432</td></tr>\n",
       "\t<tr><td>39417457</td><td>trtd</td><td>433</td></tr>\n",
       "\t<tr><td>39280649</td><td>trtd</td><td>434</td></tr>\n",
       "\t<tr><td>38740380</td><td>trtd</td><td>435</td></tr>\n",
       "\t<tr><td>37769316</td><td>trtd</td><td>436</td></tr>\n",
       "\t<tr><td>30659837</td><td>trtd</td><td>437</td></tr>\n",
       "\t<tr><td>30309657</td><td>trtd</td><td>438</td></tr>\n",
       "\t<tr><td>37053709</td><td>trtd</td><td>439</td></tr>\n",
       "\t<tr><td>31932552</td><td>trtd</td><td>440</td></tr>\n",
       "\t<tr><td>35645575</td><td>trtd</td><td>441</td></tr>\n",
       "\t<tr><td>33161440</td><td>trtd</td><td>442</td></tr>\n",
       "\t<tr><td>35347896</td><td>trtd</td><td>443</td></tr>\n",
       "\t<tr><td>34080576</td><td>trtd</td><td>444</td></tr>\n",
       "\t<tr><td>33902904</td><td>trtd</td><td>445</td></tr>\n",
       "\t<tr><td>30191849</td><td>trtd</td><td>446</td></tr>\n",
       "\t<tr><td>32983793</td><td>trtd</td><td>447</td></tr>\n",
       "\t<tr><td>37596757</td><td>trtd</td><td>448</td></tr>\n",
       "\t<tr><td>37816593</td><td>trtd</td><td>449</td></tr>\n",
       "\t<tr><td>37113445</td><td>trtd</td><td>450</td></tr>\n",
       "\t<tr><td>37819041</td><td>trtd</td><td>451</td></tr>\n",
       "</tbody>\n",
       "</table>\n"
      ],
      "text/latex": [
       "A data.frame: 902 × 3\n",
       "\\begin{tabular}{lll}\n",
       " stay\\_id & group & match\\\\\n",
       " <int> & <chr> & <int>\\\\\n",
       "\\hline\n",
       "\t 35119191 & ctrl &  1\\\\\n",
       "\t 31861835 & ctrl &  2\\\\\n",
       "\t 37322694 & ctrl &  3\\\\\n",
       "\t 33778687 & ctrl &  4\\\\\n",
       "\t 31604497 & ctrl &  5\\\\\n",
       "\t 32703334 & ctrl &  6\\\\\n",
       "\t 30117329 & ctrl &  7\\\\\n",
       "\t 38888871 & ctrl &  8\\\\\n",
       "\t 38320178 & ctrl &  9\\\\\n",
       "\t 37524474 & ctrl & 10\\\\\n",
       "\t 31573677 & ctrl & 11\\\\\n",
       "\t 39758202 & ctrl & 12\\\\\n",
       "\t 39336799 & ctrl & 13\\\\\n",
       "\t 36078887 & ctrl & 14\\\\\n",
       "\t 39116385 & ctrl & 15\\\\\n",
       "\t 30175989 & ctrl & 16\\\\\n",
       "\t 33461037 & ctrl & 17\\\\\n",
       "\t 31533063 & ctrl & 18\\\\\n",
       "\t 35147241 & ctrl & 19\\\\\n",
       "\t 32995033 & ctrl & 20\\\\\n",
       "\t 36273977 & ctrl & 21\\\\\n",
       "\t 31289872 & ctrl & 22\\\\\n",
       "\t 39589962 & ctrl & 23\\\\\n",
       "\t 33657066 & ctrl & 24\\\\\n",
       "\t 32027486 & ctrl & 25\\\\\n",
       "\t 39864331 & ctrl & 26\\\\\n",
       "\t 34586534 & ctrl & 27\\\\\n",
       "\t 30489904 & ctrl & 28\\\\\n",
       "\t 33702581 & ctrl & 29\\\\\n",
       "\t 33513039 & ctrl & 30\\\\\n",
       "\t ⋮ & ⋮ & ⋮\\\\\n",
       "\t 31363270 & trtd & 422\\\\\n",
       "\t 34146500 & trtd & 423\\\\\n",
       "\t 31862758 & trtd & 424\\\\\n",
       "\t 33181285 & trtd & 425\\\\\n",
       "\t 32626706 & trtd & 426\\\\\n",
       "\t 31185851 & trtd & 427\\\\\n",
       "\t 33388043 & trtd & 428\\\\\n",
       "\t 38940421 & trtd & 429\\\\\n",
       "\t 32256785 & trtd & 430\\\\\n",
       "\t 33123107 & trtd & 431\\\\\n",
       "\t 31471308 & trtd & 432\\\\\n",
       "\t 39417457 & trtd & 433\\\\\n",
       "\t 39280649 & trtd & 434\\\\\n",
       "\t 38740380 & trtd & 435\\\\\n",
       "\t 37769316 & trtd & 436\\\\\n",
       "\t 30659837 & trtd & 437\\\\\n",
       "\t 30309657 & trtd & 438\\\\\n",
       "\t 37053709 & trtd & 439\\\\\n",
       "\t 31932552 & trtd & 440\\\\\n",
       "\t 35645575 & trtd & 441\\\\\n",
       "\t 33161440 & trtd & 442\\\\\n",
       "\t 35347896 & trtd & 443\\\\\n",
       "\t 34080576 & trtd & 444\\\\\n",
       "\t 33902904 & trtd & 445\\\\\n",
       "\t 30191849 & trtd & 446\\\\\n",
       "\t 32983793 & trtd & 447\\\\\n",
       "\t 37596757 & trtd & 448\\\\\n",
       "\t 37816593 & trtd & 449\\\\\n",
       "\t 37113445 & trtd & 450\\\\\n",
       "\t 37819041 & trtd & 451\\\\\n",
       "\\end{tabular}\n"
      ],
      "text/markdown": [
       "\n",
       "A data.frame: 902 × 3\n",
       "\n",
       "| stay_id &lt;int&gt; | group &lt;chr&gt; | match &lt;int&gt; |\n",
       "|---|---|---|\n",
       "| 35119191 | ctrl |  1 |\n",
       "| 31861835 | ctrl |  2 |\n",
       "| 37322694 | ctrl |  3 |\n",
       "| 33778687 | ctrl |  4 |\n",
       "| 31604497 | ctrl |  5 |\n",
       "| 32703334 | ctrl |  6 |\n",
       "| 30117329 | ctrl |  7 |\n",
       "| 38888871 | ctrl |  8 |\n",
       "| 38320178 | ctrl |  9 |\n",
       "| 37524474 | ctrl | 10 |\n",
       "| 31573677 | ctrl | 11 |\n",
       "| 39758202 | ctrl | 12 |\n",
       "| 39336799 | ctrl | 13 |\n",
       "| 36078887 | ctrl | 14 |\n",
       "| 39116385 | ctrl | 15 |\n",
       "| 30175989 | ctrl | 16 |\n",
       "| 33461037 | ctrl | 17 |\n",
       "| 31533063 | ctrl | 18 |\n",
       "| 35147241 | ctrl | 19 |\n",
       "| 32995033 | ctrl | 20 |\n",
       "| 36273977 | ctrl | 21 |\n",
       "| 31289872 | ctrl | 22 |\n",
       "| 39589962 | ctrl | 23 |\n",
       "| 33657066 | ctrl | 24 |\n",
       "| 32027486 | ctrl | 25 |\n",
       "| 39864331 | ctrl | 26 |\n",
       "| 34586534 | ctrl | 27 |\n",
       "| 30489904 | ctrl | 28 |\n",
       "| 33702581 | ctrl | 29 |\n",
       "| 33513039 | ctrl | 30 |\n",
       "| ⋮ | ⋮ | ⋮ |\n",
       "| 31363270 | trtd | 422 |\n",
       "| 34146500 | trtd | 423 |\n",
       "| 31862758 | trtd | 424 |\n",
       "| 33181285 | trtd | 425 |\n",
       "| 32626706 | trtd | 426 |\n",
       "| 31185851 | trtd | 427 |\n",
       "| 33388043 | trtd | 428 |\n",
       "| 38940421 | trtd | 429 |\n",
       "| 32256785 | trtd | 430 |\n",
       "| 33123107 | trtd | 431 |\n",
       "| 31471308 | trtd | 432 |\n",
       "| 39417457 | trtd | 433 |\n",
       "| 39280649 | trtd | 434 |\n",
       "| 38740380 | trtd | 435 |\n",
       "| 37769316 | trtd | 436 |\n",
       "| 30659837 | trtd | 437 |\n",
       "| 30309657 | trtd | 438 |\n",
       "| 37053709 | trtd | 439 |\n",
       "| 31932552 | trtd | 440 |\n",
       "| 35645575 | trtd | 441 |\n",
       "| 33161440 | trtd | 442 |\n",
       "| 35347896 | trtd | 443 |\n",
       "| 34080576 | trtd | 444 |\n",
       "| 33902904 | trtd | 445 |\n",
       "| 30191849 | trtd | 446 |\n",
       "| 32983793 | trtd | 447 |\n",
       "| 37596757 | trtd | 448 |\n",
       "| 37816593 | trtd | 449 |\n",
       "| 37113445 | trtd | 450 |\n",
       "| 37819041 | trtd | 451 |\n",
       "\n"
      ],
      "text/plain": [
       "    stay_id  group match\n",
       "1   35119191 ctrl   1   \n",
       "2   31861835 ctrl   2   \n",
       "3   37322694 ctrl   3   \n",
       "4   33778687 ctrl   4   \n",
       "5   31604497 ctrl   5   \n",
       "6   32703334 ctrl   6   \n",
       "7   30117329 ctrl   7   \n",
       "8   38888871 ctrl   8   \n",
       "9   38320178 ctrl   9   \n",
       "10  37524474 ctrl  10   \n",
       "11  31573677 ctrl  11   \n",
       "12  39758202 ctrl  12   \n",
       "13  39336799 ctrl  13   \n",
       "14  36078887 ctrl  14   \n",
       "15  39116385 ctrl  15   \n",
       "16  30175989 ctrl  16   \n",
       "17  33461037 ctrl  17   \n",
       "18  31533063 ctrl  18   \n",
       "19  35147241 ctrl  19   \n",
       "20  32995033 ctrl  20   \n",
       "21  36273977 ctrl  21   \n",
       "22  31289872 ctrl  22   \n",
       "23  39589962 ctrl  23   \n",
       "24  33657066 ctrl  24   \n",
       "25  32027486 ctrl  25   \n",
       "26  39864331 ctrl  26   \n",
       "27  34586534 ctrl  27   \n",
       "28  30489904 ctrl  28   \n",
       "29  33702581 ctrl  29   \n",
       "30  33513039 ctrl  30   \n",
       "⋮   ⋮        ⋮     ⋮    \n",
       "873 31363270 trtd  422  \n",
       "874 34146500 trtd  423  \n",
       "875 31862758 trtd  424  \n",
       "876 33181285 trtd  425  \n",
       "877 32626706 trtd  426  \n",
       "878 31185851 trtd  427  \n",
       "879 33388043 trtd  428  \n",
       "880 38940421 trtd  429  \n",
       "881 32256785 trtd  430  \n",
       "882 33123107 trtd  431  \n",
       "883 31471308 trtd  432  \n",
       "884 39417457 trtd  433  \n",
       "885 39280649 trtd  434  \n",
       "886 38740380 trtd  435  \n",
       "887 37769316 trtd  436  \n",
       "888 30659837 trtd  437  \n",
       "889 30309657 trtd  438  \n",
       "890 37053709 trtd  439  \n",
       "891 31932552 trtd  440  \n",
       "892 35645575 trtd  441  \n",
       "893 33161440 trtd  442  \n",
       "894 35347896 trtd  443  \n",
       "895 34080576 trtd  444  \n",
       "896 33902904 trtd  445  \n",
       "897 30191849 trtd  446  \n",
       "898 32983793 trtd  447  \n",
       "899 37596757 trtd  448  \n",
       "900 37816593 trtd  449  \n",
       "901 37113445 trtd  450  \n",
       "902 37819041 trtd  451  "
      ]
     },
     "metadata": {},
     "output_type": "display_data"
    }
   ],
   "source": [
    "ps_matches_df <-\n",
    "full_data[ps_matches$index.treated, \"stay_id\", drop = FALSE] %>%\n",
    "mutate(match = full_data[ps_matches$index.control, \"stay_id\"]) %>%\n",
    "rename(trtd = stay_id, ctrl = match) %>%\n",
    "mutate(match = 1:n()) %>%\n",
    "gather(\"group\", \"stay_id\", trtd, ctrl) %>%\n",
    "dplyr::select(stay_id, group, match) %>%\n",
    "arrange(group, match)\n",
    "\n",
    "ps_matches_df\n"
   ]
  },
  {
   "cell_type": "code",
   "execution_count": 30,
   "metadata": {
    "vscode": {
     "languageId": "r"
    }
   },
   "outputs": [],
   "source": [
    "# saveRDS(ps_matches, file = file.path(data_dir, \"ps_matches.rds\"))\n",
    "data.table::fwrite(ps_matches_df, file.path(data_dir, \"ps_matches_df.csv\"))\n",
    "\n"
   ]
  },
  {
   "cell_type": "code",
   "execution_count": 31,
   "metadata": {
    "vscode": {
     "languageId": "r"
    }
   },
   "outputs": [
    {
     "data": {
      "text/html": [
       "451"
      ],
      "text/latex": [
       "451"
      ],
      "text/markdown": [
       "451"
      ],
      "text/plain": [
       "[1] 451"
      ]
     },
     "metadata": {},
     "output_type": "display_data"
    },
    {
     "data": {
      "text/html": [
       "<style>\n",
       ".list-inline {list-style: none; margin:0; padding: 0}\n",
       ".list-inline>li {display: inline-block}\n",
       ".list-inline>li:not(:last-child)::after {content: \"\\00b7\"; padding: 0 .5ex}\n",
       "</style>\n",
       "<ol class=list-inline><li>35119191</li><li>31861835</li><li>37322694</li><li>33778687</li><li>31604497</li><li>32703334</li></ol>\n"
      ],
      "text/latex": [
       "\\begin{enumerate*}\n",
       "\\item 35119191\n",
       "\\item 31861835\n",
       "\\item 37322694\n",
       "\\item 33778687\n",
       "\\item 31604497\n",
       "\\item 32703334\n",
       "\\end{enumerate*}\n"
      ],
      "text/markdown": [
       "1. 35119191\n",
       "2. 31861835\n",
       "3. 37322694\n",
       "4. 33778687\n",
       "5. 31604497\n",
       "6. 32703334\n",
       "\n",
       "\n"
      ],
      "text/plain": [
       "[1] 35119191 31861835 37322694 33778687 31604497 32703334"
      ]
     },
     "metadata": {},
     "output_type": "display_data"
    }
   ],
   "source": [
    "ids <- full_data[unlist(ps_matches[c(\"index.control\", \"index.treated\")]), \"stay_id\"]\n",
    "length(ids) / 2\n",
    "head(ids)"
   ]
  },
  {
   "cell_type": "code",
   "execution_count": 32,
   "metadata": {
    "vscode": {
     "languageId": "r"
    }
   },
   "outputs": [],
   "source": [
    "data.table::fwrite(data.frame(stay_id = ids), file = file.path(data_dir, \"ps_stay_id\"))"
   ]
  },
  {
   "cell_type": "code",
   "execution_count": 33,
   "metadata": {
    "vscode": {
     "languageId": "r"
    }
   },
   "outputs": [
    {
     "name": "stdout",
     "output_type": "stream",
     "text": [
      "\n",
      "Estimate...  0 \n",
      "SE.........  0.020322 \n",
      "T-stat.....  0 \n",
      "p.val......  1 \n",
      "\n",
      "Original number of observations..............  4401 \n",
      "Original number of treated obs...............  533 \n",
      "Matched number of observations...............  451 \n",
      "Matched number of observations  (unweighted).  451 \n",
      "\n",
      "Number of obs dropped by 'exact' or 'caliper'  82 \n",
      "\n"
     ]
    }
   ],
   "source": [
    "summary(ps_matches)"
   ]
  },
  {
   "cell_type": "code",
   "execution_count": 34,
   "metadata": {
    "vscode": {
     "languageId": "r"
    }
   },
   "outputs": [],
   "source": [
    "outcome <- data.frame(gcs_pt = full_data$mort_28_day_int[ps_matches$index.treated],\n",
    "                      match_pt = full_data$mort_28_day_int[ps_matches$index.control])\n",
    "\n",
    "\n"
   ]
  },
  {
   "cell_type": "code",
   "execution_count": 35,
   "metadata": {
    "vscode": {
     "languageId": "r"
    }
   },
   "outputs": [
    {
     "data": {
      "text/html": [
       "<table class=\"dataframe\">\n",
       "<caption>A data.frame: 6 × 2</caption>\n",
       "<thead>\n",
       "\t<tr><th></th><th scope=col>gcs_pt</th><th scope=col>match_pt</th></tr>\n",
       "\t<tr><th></th><th scope=col>&lt;int&gt;</th><th scope=col>&lt;int&gt;</th></tr>\n",
       "</thead>\n",
       "<tbody>\n",
       "\t<tr><th scope=row>1</th><td>0</td><td>0</td></tr>\n",
       "\t<tr><th scope=row>2</th><td>0</td><td>0</td></tr>\n",
       "\t<tr><th scope=row>3</th><td>1</td><td>0</td></tr>\n",
       "\t<tr><th scope=row>4</th><td>0</td><td>0</td></tr>\n",
       "\t<tr><th scope=row>5</th><td>0</td><td>0</td></tr>\n",
       "\t<tr><th scope=row>6</th><td>0</td><td>0</td></tr>\n",
       "</tbody>\n",
       "</table>\n"
      ],
      "text/latex": [
       "A data.frame: 6 × 2\n",
       "\\begin{tabular}{r|ll}\n",
       "  & gcs\\_pt & match\\_pt\\\\\n",
       "  & <int> & <int>\\\\\n",
       "\\hline\n",
       "\t1 & 0 & 0\\\\\n",
       "\t2 & 0 & 0\\\\\n",
       "\t3 & 1 & 0\\\\\n",
       "\t4 & 0 & 0\\\\\n",
       "\t5 & 0 & 0\\\\\n",
       "\t6 & 0 & 0\\\\\n",
       "\\end{tabular}\n"
      ],
      "text/markdown": [
       "\n",
       "A data.frame: 6 × 2\n",
       "\n",
       "| <!--/--> | gcs_pt &lt;int&gt; | match_pt &lt;int&gt; |\n",
       "|---|---|---|\n",
       "| 1 | 0 | 0 |\n",
       "| 2 | 0 | 0 |\n",
       "| 3 | 1 | 0 |\n",
       "| 4 | 0 | 0 |\n",
       "| 5 | 0 | 0 |\n",
       "| 6 | 0 | 0 |\n",
       "\n"
      ],
      "text/plain": [
       "  gcs_pt match_pt\n",
       "1 0      0       \n",
       "2 0      0       \n",
       "3 1      0       \n",
       "4 0      0       \n",
       "5 0      0       \n",
       "6 0      0       "
      ]
     },
     "metadata": {},
     "output_type": "display_data"
    }
   ],
   "source": [
    "head(outcome)"
   ]
  },
  {
   "cell_type": "code",
   "execution_count": 36,
   "metadata": {
    "vscode": {
     "languageId": "r"
    }
   },
   "outputs": [
    {
     "data": {
      "text/plain": [
       "   Non-Gcs\n",
       "Gcs   0   1\n",
       "  0 359  42\n",
       "  1  42   8"
      ]
     },
     "metadata": {},
     "output_type": "display_data"
    },
    {
     "data": {
      "text/html": [
       "1"
      ],
      "text/latex": [
       "1"
      ],
      "text/markdown": [
       "1"
      ],
      "text/plain": [
       "[1] 1"
      ]
     },
     "metadata": {},
     "output_type": "display_data"
    },
    {
     "data": {
      "text/html": [
       "<style>\n",
       ".list-inline {list-style: none; margin:0; padding: 0}\n",
       ".list-inline>li {display: inline-block}\n",
       ".list-inline>li:not(:last-child)::after {content: \"\\00b7\"; padding: 0 .5ex}\n",
       "</style>\n",
       "<ol class=list-inline><li>'95% Confint 0.6520075'</li><li>'95% Confint 1.5337247'</li></ol>\n"
      ],
      "text/latex": [
       "\\begin{enumerate*}\n",
       "\\item '95\\% Confint 0.6520075'\n",
       "\\item '95\\% Confint 1.5337247'\n",
       "\\end{enumerate*}\n"
      ],
      "text/markdown": [
       "1. '95% Confint 0.6520075'\n",
       "2. '95% Confint 1.5337247'\n",
       "\n",
       "\n"
      ],
      "text/plain": [
       "[1] \"95% Confint 0.6520075\" \"95% Confint 1.5337247\""
      ]
     },
     "metadata": {},
     "output_type": "display_data"
    },
    {
     "data": {
      "text/plain": [
       "\n",
       "\tMcNemar's Chi-squared test\n",
       "\n",
       "data:  tab\n",
       "McNemar's chi-squared = 0, df = 1, p-value = 1\n"
      ]
     },
     "metadata": {},
     "output_type": "display_data"
    }
   ],
   "source": [
    "tab <- table(outcome$gcs_pt, outcome$match_pt, dnn = c(\"Gcs\", \"Non-Gcs\"))\n",
    "tab\n",
    "tab[2, 1] / tab[1, 2]\n",
    "paste(\"95% Confint\",\n",
    "      round(exp(c(log(tab[2, 1] / tab[1, 2]) - qnorm(0.975) * sqrt(1 / tab[1, 2] + 1 / tab[2, 1]),\n",
    "                  log(tab[2, 1] / tab[1, 2]) + qnorm(0.975) * sqrt(1 / tab[1, 2] + 1 / tab[2, 1]))), 7))\n",
    "mcnemar.test(tab) # for 1-1 pairs"
   ]
  },
  {
   "cell_type": "code",
   "execution_count": 37,
   "metadata": {
    "vscode": {
     "languageId": "r"
    }
   },
   "outputs": [
    {
     "data": {
      "text/html": [
       "0.110864745011086"
      ],
      "text/latex": [
       "0.110864745011086"
      ],
      "text/markdown": [
       "0.110864745011086"
      ],
      "text/plain": [
       "[1] 0.1108647"
      ]
     },
     "metadata": {},
     "output_type": "display_data"
    },
    {
     "data": {
      "text/html": [
       "0.110864745011086"
      ],
      "text/latex": [
       "0.110864745011086"
      ],
      "text/markdown": [
       "0.110864745011086"
      ],
      "text/plain": [
       "[1] 0.1108647"
      ]
     },
     "metadata": {},
     "output_type": "display_data"
    }
   ],
   "source": [
    "(tab[2, 2] + tab[1, 2]) / sum(tab)\n",
    "(tab[2, 2] + tab[2, 1]) / sum(tab)"
   ]
  },
  {
   "cell_type": "code",
   "execution_count": 38,
   "metadata": {
    "vscode": {
     "languageId": "r"
    }
   },
   "outputs": [
    {
     "data": {
      "text/html": [
       "<table class=\"dataframe\">\n",
       "<caption>A data.frame: 2 × 2</caption>\n",
       "<thead>\n",
       "\t<tr><th scope=col>gcs</th><th scope=col>mortality</th></tr>\n",
       "\t<tr><th scope=col>&lt;dbl&gt;</th><th scope=col>&lt;dbl&gt;</th></tr>\n",
       "</thead>\n",
       "<tbody>\n",
       "\t<tr><td>0</td><td>0.1108647</td></tr>\n",
       "\t<tr><td>1</td><td>0.1108647</td></tr>\n",
       "</tbody>\n",
       "</table>\n"
      ],
      "text/latex": [
       "A data.frame: 2 × 2\n",
       "\\begin{tabular}{ll}\n",
       " gcs & mortality\\\\\n",
       " <dbl> & <dbl>\\\\\n",
       "\\hline\n",
       "\t 0 & 0.1108647\\\\\n",
       "\t 1 & 0.1108647\\\\\n",
       "\\end{tabular}\n"
      ],
      "text/markdown": [
       "\n",
       "A data.frame: 2 × 2\n",
       "\n",
       "| gcs &lt;dbl&gt; | mortality &lt;dbl&gt; |\n",
       "|---|---|\n",
       "| 0 | 0.1108647 |\n",
       "| 1 | 0.1108647 |\n",
       "\n"
      ],
      "text/plain": [
       "  gcs mortality\n",
       "1 0   0.1108647\n",
       "2 1   0.1108647"
      ]
     },
     "metadata": {},
     "output_type": "display_data"
    }
   ],
   "source": [
    "mortality <- data.frame(gcs = c(0, 1),\n",
    "                        mortality = c((tab[2, 2] + tab[1, 2]) / sum(tab),\n",
    "                                      (tab[2, 2] + tab[2, 1]) / sum(tab)))\n",
    "mortality"
   ]
  },
  {
   "cell_type": "code",
   "execution_count": 39,
   "metadata": {
    "vscode": {
     "languageId": "r"
    }
   },
   "outputs": [
    {
     "data": {
      "text/html": [
       "<table class=\"dataframe\">\n",
       "<caption>A data.frame: 1 × 3</caption>\n",
       "<thead>\n",
       "\t<tr><th scope=col>Method</th><th scope=col>gcs</th><th scope=col>Non_gcs</th></tr>\n",
       "\t<tr><th scope=col>&lt;chr&gt;</th><th scope=col>&lt;dbl&gt;</th><th scope=col>&lt;dbl&gt;</th></tr>\n",
       "</thead>\n",
       "<tbody>\n",
       "\t<tr><td>PS Match</td><td>0.1108647</td><td>0.1108647</td></tr>\n",
       "</tbody>\n",
       "</table>\n"
      ],
      "text/latex": [
       "A data.frame: 1 × 3\n",
       "\\begin{tabular}{lll}\n",
       " Method & gcs & Non\\_gcs\\\\\n",
       " <chr> & <dbl> & <dbl>\\\\\n",
       "\\hline\n",
       "\t PS Match & 0.1108647 & 0.1108647\\\\\n",
       "\\end{tabular}\n"
      ],
      "text/markdown": [
       "\n",
       "A data.frame: 1 × 3\n",
       "\n",
       "| Method &lt;chr&gt; | gcs &lt;dbl&gt; | Non_gcs &lt;dbl&gt; |\n",
       "|---|---|---|\n",
       "| PS Match | 0.1108647 | 0.1108647 |\n",
       "\n"
      ],
      "text/plain": [
       "  Method   gcs       Non_gcs  \n",
       "1 PS Match 0.1108647 0.1108647"
      ]
     },
     "metadata": {},
     "output_type": "display_data"
    }
   ],
   "source": [
    "\n",
    "\n",
    "mort_fmt <- mortality %>%\n",
    "mutate(gcs = case_when(\n",
    "    gcs == 0 ~ \"Non_gcs\",\n",
    "    gcs == 1 ~ \"gcs\"\n",
    ")) %>%\n",
    "dplyr::select(gcs, mortality) %>%\n",
    "spread(gcs, mortality) %>%\n",
    "mutate(Method = \"PS Match\") %>%\n",
    "dplyr::select(Method, gcs, Non_gcs)\n",
    "\n",
    "mort_fmt"
   ]
  },
  {
   "cell_type": "code",
   "execution_count": 40,
   "metadata": {
    "vscode": {
     "languageId": "r"
    }
   },
   "outputs": [],
   "source": [
    "data.table::fwrite(mort_fmt, file.path(data_dir, \"mort_ps.csv\"))"
   ]
  }
 ],
 "metadata": {
  "kernelspec": {
   "display_name": "R",
   "language": "R",
   "name": "ir"
  },
  "language_info": {
   "codemirror_mode": "r",
   "file_extension": ".r",
   "mimetype": "text/x-r-source",
   "name": "R",
   "pygments_lexer": "r",
   "version": "4.3.2"
  },
  "varInspector": {
   "cols": {
    "lenName": 16,
    "lenType": 16,
    "lenVar": 40
   },
   "kernels_config": {
    "python": {
     "delete_cmd_postfix": "",
     "delete_cmd_prefix": "del ",
     "library": "var_list.py",
     "varRefreshCmd": "print(var_dic_list())"
    },
    "r": {
     "delete_cmd_postfix": ") ",
     "delete_cmd_prefix": "rm(",
     "library": "var_list.r",
     "varRefreshCmd": "cat(var_dic_list()) "
    }
   },
   "types_to_exclude": [
    "module",
    "function",
    "builtin_function_or_method",
    "instance",
    "_Feature"
   ],
   "window_display": false
  }
 },
 "nbformat": 4,
 "nbformat_minor": 2
}
