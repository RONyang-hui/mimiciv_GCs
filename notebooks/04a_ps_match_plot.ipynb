{
 "cells": [
  {
   "cell_type": "code",
   "execution_count": 1,
   "metadata": {
    "vscode": {
     "languageId": "r"
    }
   },
   "outputs": [
    {
     "name": "stderr",
     "output_type": "stream",
     "text": [
      "Warning message:\n",
      "\"package 'tidyverse' was built under R version 4.3.3\"\n",
      "Warning message:\n",
      "\"package 'ggplot2' was built under R version 4.3.3\"\n",
      "Warning message:\n",
      "\"package 'readr' was built under R version 4.3.3\"\n",
      "Warning message:\n",
      "\"package 'forcats' was built under R version 4.3.3\"\n",
      "Warning message:\n",
      "\"package 'lubridate' was built under R version 4.3.3\"\n",
      "── \u001b[1mAttaching core tidyverse packages\u001b[22m ──────────────────────── tidyverse 2.0.0 ──\n",
      "\u001b[32m✔\u001b[39m \u001b[34mdplyr    \u001b[39m 1.1.4     \u001b[32m✔\u001b[39m \u001b[34mreadr    \u001b[39m 2.1.5\n",
      "\u001b[32m✔\u001b[39m \u001b[34mforcats  \u001b[39m 1.0.0     \u001b[32m✔\u001b[39m \u001b[34mstringr  \u001b[39m 1.5.1\n",
      "\u001b[32m✔\u001b[39m \u001b[34mggplot2  \u001b[39m 3.5.1     \u001b[32m✔\u001b[39m \u001b[34mtibble   \u001b[39m 3.2.1\n",
      "\u001b[32m✔\u001b[39m \u001b[34mlubridate\u001b[39m 1.9.3     \u001b[32m✔\u001b[39m \u001b[34mtidyr    \u001b[39m 1.3.1\n",
      "\u001b[32m✔\u001b[39m \u001b[34mpurrr    \u001b[39m 1.0.2     \n",
      "── \u001b[1mConflicts\u001b[22m ────────────────────────────────────────── tidyverse_conflicts() ──\n",
      "\u001b[31m✖\u001b[39m \u001b[34mdplyr\u001b[39m::\u001b[32mfilter()\u001b[39m masks \u001b[34mstats\u001b[39m::filter()\n",
      "\u001b[31m✖\u001b[39m \u001b[34mdplyr\u001b[39m::\u001b[32mlag()\u001b[39m    masks \u001b[34mstats\u001b[39m::lag()\n",
      "\u001b[36mℹ\u001b[39m Use the conflicted package (\u001b[3m\u001b[34m<http://conflicted.r-lib.org/>\u001b[39m\u001b[23m) to force all conflicts to become errors\n"
     ]
    }
   ],
   "source": [
    "library(tidyverse)"
   ]
  },
  {
   "cell_type": "code",
   "execution_count": 2,
   "metadata": {
    "vscode": {
     "languageId": "r"
    }
   },
   "outputs": [],
   "source": [
    "data_dir <- file.path(\"..\", \"data\")"
   ]
  },
  {
   "cell_type": "code",
   "execution_count": 3,
   "metadata": {
    "vscode": {
     "languageId": "r"
    }
   },
   "outputs": [
    {
     "data": {
      "text/html": [
       "<table class=\"dataframe\">\n",
       "<caption>A data.frame: 6 × 9</caption>\n",
       "<thead>\n",
       "\t<tr><th></th><th scope=col>cov</th><th scope=col>ctrl.x</th><th scope=col>trtd.x</th><th scope=col>pval.x</th><th scope=col>smd.x</th><th scope=col>ctrl.y</th><th scope=col>trtd.y</th><th scope=col>smd.y</th><th scope=col>pval.y</th></tr>\n",
       "\t<tr><th></th><th scope=col>&lt;chr&gt;</th><th scope=col>&lt;chr&gt;</th><th scope=col>&lt;chr&gt;</th><th scope=col>&lt;chr&gt;</th><th scope=col>&lt;dbl&gt;</th><th scope=col>&lt;chr&gt;</th><th scope=col>&lt;chr&gt;</th><th scope=col>&lt;dbl&gt;</th><th scope=col>&lt;dbl&gt;</th></tr>\n",
       "</thead>\n",
       "<tbody>\n",
       "\t<tr><th scope=row>1</th><td>n           </td><td>3868         </td><td>533          </td><td>     </td><td>   NA</td><td>454          </td><td>454          </td><td>   NA</td><td>   NA</td></tr>\n",
       "\t<tr><th scope=row>2</th><td>age         </td><td>64.02 (15.15)</td><td>64.77 (15.00)</td><td>0.284</td><td>0.049</td><td>65.05 (16.14)</td><td>65.10 (14.88)</td><td>0.004</td><td>0.958</td></tr>\n",
       "\t<tr><th scope=row>3</th><td>gender      </td><td>52.1%        </td><td>56.5%        </td><td>0.066</td><td>0.087</td><td>55.1%        </td><td>55.5%        </td><td>0.009</td><td>0.945</td></tr>\n",
       "\t<tr><th scope=row>4</th><td>weight      </td><td>81.05 (22.06)</td><td>80.41 (23.18)</td><td>0.549</td><td>0.028</td><td>80.94 (24.83)</td><td>80.70 (23.01)</td><td>0.010</td><td>0.886</td></tr>\n",
       "\t<tr><th scope=row>5</th><td>sapsii      </td><td>36.61 (13.80)</td><td>38.56 (14.32)</td><td>0.003</td><td>0.139</td><td>39.48 (14.69)</td><td>37.02 (13.48)</td><td>0.175</td><td>0.006</td></tr>\n",
       "\t<tr><th scope=row>6</th><td>sofa_24hours</td><td>3.68 (3.01)  </td><td>3.69 (2.97)  </td><td>0.942</td><td>0.003</td><td>3.83 (2.92)  </td><td>3.51 (2.93)  </td><td>0.109</td><td>0.102</td></tr>\n",
       "</tbody>\n",
       "</table>\n"
      ],
      "text/latex": [
       "A data.frame: 6 × 9\n",
       "\\begin{tabular}{r|lllllllll}\n",
       "  & cov & ctrl.x & trtd.x & pval.x & smd.x & ctrl.y & trtd.y & smd.y & pval.y\\\\\n",
       "  & <chr> & <chr> & <chr> & <chr> & <dbl> & <chr> & <chr> & <dbl> & <dbl>\\\\\n",
       "\\hline\n",
       "\t1 & n            & 3868          & 533           &       &    NA & 454           & 454           &    NA &    NA\\\\\n",
       "\t2 & age          & 64.02 (15.15) & 64.77 (15.00) & 0.284 & 0.049 & 65.05 (16.14) & 65.10 (14.88) & 0.004 & 0.958\\\\\n",
       "\t3 & gender       & 52.1\\%         & 56.5\\%         & 0.066 & 0.087 & 55.1\\%         & 55.5\\%         & 0.009 & 0.945\\\\\n",
       "\t4 & weight       & 81.05 (22.06) & 80.41 (23.18) & 0.549 & 0.028 & 80.94 (24.83) & 80.70 (23.01) & 0.010 & 0.886\\\\\n",
       "\t5 & sapsii       & 36.61 (13.80) & 38.56 (14.32) & 0.003 & 0.139 & 39.48 (14.69) & 37.02 (13.48) & 0.175 & 0.006\\\\\n",
       "\t6 & sofa\\_24hours & 3.68 (3.01)   & 3.69 (2.97)   & 0.942 & 0.003 & 3.83 (2.92)   & 3.51 (2.93)   & 0.109 & 0.102\\\\\n",
       "\\end{tabular}\n"
      ],
      "text/markdown": [
       "\n",
       "A data.frame: 6 × 9\n",
       "\n",
       "| <!--/--> | cov &lt;chr&gt; | ctrl.x &lt;chr&gt; | trtd.x &lt;chr&gt; | pval.x &lt;chr&gt; | smd.x &lt;dbl&gt; | ctrl.y &lt;chr&gt; | trtd.y &lt;chr&gt; | smd.y &lt;dbl&gt; | pval.y &lt;dbl&gt; |\n",
       "|---|---|---|---|---|---|---|---|---|---|\n",
       "| 1 | n            | 3868          | 533           | <!----> |    NA | 454           | 454           |    NA |    NA |\n",
       "| 2 | age          | 64.02 (15.15) | 64.77 (15.00) | 0.284 | 0.049 | 65.05 (16.14) | 65.10 (14.88) | 0.004 | 0.958 |\n",
       "| 3 | gender       | 52.1%         | 56.5%         | 0.066 | 0.087 | 55.1%         | 55.5%         | 0.009 | 0.945 |\n",
       "| 4 | weight       | 81.05 (22.06) | 80.41 (23.18) | 0.549 | 0.028 | 80.94 (24.83) | 80.70 (23.01) | 0.010 | 0.886 |\n",
       "| 5 | sapsii       | 36.61 (13.80) | 38.56 (14.32) | 0.003 | 0.139 | 39.48 (14.69) | 37.02 (13.48) | 0.175 | 0.006 |\n",
       "| 6 | sofa_24hours | 3.68 (3.01)   | 3.69 (2.97)   | 0.942 | 0.003 | 3.83 (2.92)   | 3.51 (2.93)   | 0.109 | 0.102 |\n",
       "\n"
      ],
      "text/plain": [
       "  cov          ctrl.x        trtd.x        pval.x smd.x ctrl.y       \n",
       "1 n            3868          533                     NA 454          \n",
       "2 age          64.02 (15.15) 64.77 (15.00) 0.284  0.049 65.05 (16.14)\n",
       "3 gender       52.1%         56.5%         0.066  0.087 55.1%        \n",
       "4 weight       81.05 (22.06) 80.41 (23.18) 0.549  0.028 80.94 (24.83)\n",
       "5 sapsii       36.61 (13.80) 38.56 (14.32) 0.003  0.139 39.48 (14.69)\n",
       "6 sofa_24hours 3.68 (3.01)   3.69 (2.97)   0.942  0.003 3.83 (2.92)  \n",
       "  trtd.y        smd.y pval.y\n",
       "1 454              NA    NA \n",
       "2 65.10 (14.88) 0.004 0.958 \n",
       "3 55.5%         0.009 0.945 \n",
       "4 80.70 (23.01) 0.010 0.886 \n",
       "5 37.02 (13.48) 0.175 0.006 \n",
       "6 3.51 (2.93)   0.109 0.102 "
      ]
     },
     "metadata": {},
     "output_type": "display_data"
    }
   ],
   "source": [
    "tableone <- data.table::fread(file.path(data_dir, \"tableone_raw.csv\"), data.table = FALSE)\n",
    "head(tableone)"
   ]
  },
  {
   "cell_type": "code",
   "execution_count": 4,
   "metadata": {
    "vscode": {
     "languageId": "r"
    }
   },
   "outputs": [
    {
     "data": {
      "text/html": [
       "<table class=\"dataframe\">\n",
       "<caption>A data.frame: 6 × 5</caption>\n",
       "<thead>\n",
       "\t<tr><th></th><th scope=col>cov</th><th scope=col>pval.x</th><th scope=col>smd.x</th><th scope=col>pval.y</th><th scope=col>smd.y</th></tr>\n",
       "\t<tr><th></th><th scope=col>&lt;chr&gt;</th><th scope=col>&lt;chr&gt;</th><th scope=col>&lt;dbl&gt;</th><th scope=col>&lt;dbl&gt;</th><th scope=col>&lt;dbl&gt;</th></tr>\n",
       "</thead>\n",
       "<tbody>\n",
       "\t<tr><th scope=row>1</th><td>n           </td><td>     </td><td>   NA</td><td>   NA</td><td>   NA</td></tr>\n",
       "\t<tr><th scope=row>2</th><td>age         </td><td>0.284</td><td>0.049</td><td>0.958</td><td>0.004</td></tr>\n",
       "\t<tr><th scope=row>3</th><td>gender      </td><td>0.066</td><td>0.087</td><td>0.945</td><td>0.009</td></tr>\n",
       "\t<tr><th scope=row>4</th><td>weight      </td><td>0.549</td><td>0.028</td><td>0.886</td><td>0.010</td></tr>\n",
       "\t<tr><th scope=row>5</th><td>sapsii      </td><td>0.003</td><td>0.139</td><td>0.006</td><td>0.175</td></tr>\n",
       "\t<tr><th scope=row>6</th><td>sofa_24hours</td><td>0.942</td><td>0.003</td><td>0.102</td><td>0.109</td></tr>\n",
       "</tbody>\n",
       "</table>\n"
      ],
      "text/latex": [
       "A data.frame: 6 × 5\n",
       "\\begin{tabular}{r|lllll}\n",
       "  & cov & pval.x & smd.x & pval.y & smd.y\\\\\n",
       "  & <chr> & <chr> & <dbl> & <dbl> & <dbl>\\\\\n",
       "\\hline\n",
       "\t1 & n            &       &    NA &    NA &    NA\\\\\n",
       "\t2 & age          & 0.284 & 0.049 & 0.958 & 0.004\\\\\n",
       "\t3 & gender       & 0.066 & 0.087 & 0.945 & 0.009\\\\\n",
       "\t4 & weight       & 0.549 & 0.028 & 0.886 & 0.010\\\\\n",
       "\t5 & sapsii       & 0.003 & 0.139 & 0.006 & 0.175\\\\\n",
       "\t6 & sofa\\_24hours & 0.942 & 0.003 & 0.102 & 0.109\\\\\n",
       "\\end{tabular}\n"
      ],
      "text/markdown": [
       "\n",
       "A data.frame: 6 × 5\n",
       "\n",
       "| <!--/--> | cov &lt;chr&gt; | pval.x &lt;chr&gt; | smd.x &lt;dbl&gt; | pval.y &lt;dbl&gt; | smd.y &lt;dbl&gt; |\n",
       "|---|---|---|---|---|---|\n",
       "| 1 | n            | <!----> |    NA |    NA |    NA |\n",
       "| 2 | age          | 0.284 | 0.049 | 0.958 | 0.004 |\n",
       "| 3 | gender       | 0.066 | 0.087 | 0.945 | 0.009 |\n",
       "| 4 | weight       | 0.549 | 0.028 | 0.886 | 0.010 |\n",
       "| 5 | sapsii       | 0.003 | 0.139 | 0.006 | 0.175 |\n",
       "| 6 | sofa_24hours | 0.942 | 0.003 | 0.102 | 0.109 |\n",
       "\n"
      ],
      "text/plain": [
       "  cov          pval.x smd.x pval.y smd.y\n",
       "1 n                      NA    NA     NA\n",
       "2 age          0.284  0.049 0.958  0.004\n",
       "3 gender       0.066  0.087 0.945  0.009\n",
       "4 weight       0.549  0.028 0.886  0.010\n",
       "5 sapsii       0.003  0.139 0.006  0.175\n",
       "6 sofa_24hours 0.942  0.003 0.102  0.109"
      ]
     },
     "metadata": {},
     "output_type": "display_data"
    }
   ],
   "source": [
    "tableone <- tableone %>%\n",
    "dplyr::select(cov, pval.x, smd.x, pval.y, smd.y)\n",
    "\n",
    "head(tableone)"
   ]
  },
  {
   "cell_type": "code",
   "execution_count": 5,
   "metadata": {
    "vscode": {
     "languageId": "r"
    }
   },
   "outputs": [
    {
     "name": "stdout",
     "output_type": "stream",
     "text": [
      "'data.frame':\t55 obs. of  3 variables:\n",
      " $ cov  : chr  \"age\" \"gender\" \"weight\" \"sapsii\" ...\n",
      " $ key  : chr  \"smd.x\" \"smd.x\" \"smd.x\" \"smd.x\" ...\n",
      " $ value: num  0.049 0.087 0.028 0.139 0.003 0.072 0.081 0.049 0.029 0.178 ...\n"
     ]
    }
   ],
   "source": [
    "smd_tab <- tableone %>%\n",
    "select(cov, smd.x, smd.y) %>%\n",
    "gather(\"key\", \"value\", smd.x, smd.y) %>%\n",
    "filter(!is.na(value), value != \"\") %>%\n",
    "mutate(value = gsub(\"<\", \"\", value)) %>%\n",
    "mutate(value = as.numeric(value))\n",
    "\n",
    "str(smd_tab)\n",
    "\n",
    "smd_tab <- tableone %>%\n",
    "  dplyr::select(covariate = cov, smd.x, smd.y) %>%\n",
    "  tidyr::gather(\"key\", \"value\", smd.x, smd.y) %>%\n",
    "  dplyr::filter(!is.na(value) & value != \"\") %>%\n",
    "  dplyr::mutate(value = gsub(\"<\", \"\", value)) %>%\n",
    "  dplyr::mutate(value = as.numeric(value))"
   ]
  },
  {
   "cell_type": "markdown",
   "metadata": {},
   "source": [
    "注意数据的格式，可以打印出来看一下数据集，head(tableone)"
   ]
  },
  {
   "cell_type": "code",
   "execution_count": 6,
   "metadata": {
    "vscode": {
     "languageId": "r"
    }
   },
   "outputs": [
    {
     "name": "stderr",
     "output_type": "stream",
     "text": [
      "Warning message:\n",
      "\"\u001b[1m\u001b[22mRemoved 2 rows containing missing values or values outside the scale range\n",
      "(`geom_segment()`).\"\n",
      "Warning message:\n",
      "\"\u001b[1m\u001b[22mRemoved 1 row containing missing values or values outside the scale range\n",
      "(`geom_segment()`).\"\n"
     ]
    },
    {
     "data": {
      "image/png": "[encoded data removed]",
      "text/plain": [
       "plot without title"
      ]
     },
     "metadata": {
      "image/png": {
       "height": 420,
       "width": 420
      }
     },
     "output_type": "display_data"
    }
   ],
   "source": [
    "ggplot() +\n",
    "geom_segment(data = smd_tab %>% spread(key, value),\n",
    "             aes(x = 0, y = smd.x, xend = 1, yend = smd.y), color = \"#92c5de\") +\n",
    "geom_point(data = smd_tab %>%\n",
    "           mutate(key = case_when(\n",
    "               key == \"smd.x\" ~ 0L,\n",
    "               key == \"smd.y\" ~ 1L\n",
    "           )), aes(x = key, y = value), color = \"#dc3535\") +\n",
    "scale_x_continuous(breaks = c(0, 1), labels = c(\"Before\", \"After\")) +\n",
    "labs(x = \"\", y = \"Absolute Standard Mean Difference\") +\n",
    "theme_bw() +\n",
    "theme(panel.grid = element_blank())"
   ]
  },
  {
   "cell_type": "code",
   "execution_count": 7,
   "metadata": {
    "vscode": {
     "languageId": "r"
    }
   },
   "outputs": [
    {
     "data": {
      "text/html": [
       "<table class=\"dataframe\">\n",
       "<caption>A data.frame: 6 × 3</caption>\n",
       "<thead>\n",
       "\t<tr><th></th><th scope=col>r</th><th scope=col>key</th><th scope=col>value</th></tr>\n",
       "\t<tr><th></th><th scope=col>&lt;int&gt;</th><th scope=col>&lt;chr&gt;</th><th scope=col>&lt;dbl&gt;</th></tr>\n",
       "</thead>\n",
       "<tbody>\n",
       "\t<tr><th scope=row>1</th><td>1</td><td>x</td><td>0.001</td></tr>\n",
       "\t<tr><th scope=row>2</th><td>2</td><td>x</td><td>0.001</td></tr>\n",
       "\t<tr><th scope=row>3</th><td>3</td><td>x</td><td>0.001</td></tr>\n",
       "\t<tr><th scope=row>4</th><td>4</td><td>x</td><td>0.001</td></tr>\n",
       "\t<tr><th scope=row>5</th><td>5</td><td>x</td><td>0.003</td></tr>\n",
       "\t<tr><th scope=row>6</th><td>6</td><td>x</td><td>0.009</td></tr>\n",
       "</tbody>\n",
       "</table>\n"
      ],
      "text/latex": [
       "A data.frame: 6 × 3\n",
       "\\begin{tabular}{r|lll}\n",
       "  & r & key & value\\\\\n",
       "  & <int> & <chr> & <dbl>\\\\\n",
       "\\hline\n",
       "\t1 & 1 & x & 0.001\\\\\n",
       "\t2 & 2 & x & 0.001\\\\\n",
       "\t3 & 3 & x & 0.001\\\\\n",
       "\t4 & 4 & x & 0.001\\\\\n",
       "\t5 & 5 & x & 0.003\\\\\n",
       "\t6 & 6 & x & 0.009\\\\\n",
       "\\end{tabular}\n"
      ],
      "text/markdown": [
       "\n",
       "A data.frame: 6 × 3\n",
       "\n",
       "| <!--/--> | r &lt;int&gt; | key &lt;chr&gt; | value &lt;dbl&gt; |\n",
       "|---|---|---|---|\n",
       "| 1 | 1 | x | 0.001 |\n",
       "| 2 | 2 | x | 0.001 |\n",
       "| 3 | 3 | x | 0.001 |\n",
       "| 4 | 4 | x | 0.001 |\n",
       "| 5 | 5 | x | 0.003 |\n",
       "| 6 | 6 | x | 0.009 |\n",
       "\n"
      ],
      "text/plain": [
       "  r key value\n",
       "1 1 x   0.001\n",
       "2 2 x   0.001\n",
       "3 3 x   0.001\n",
       "4 4 x   0.001\n",
       "5 5 x   0.003\n",
       "6 6 x   0.009"
      ]
     },
     "metadata": {},
     "output_type": "display_data"
    }
   ],
   "source": [
    "pval_tab <- tableone %>%\n",
    "dplyr::select(cov, pval.x, pval.y) %>%\n",
    "rename(x = pval.x, y = pval.y) %>% \n",
    "gather(\"key\", \"value\", x, y) %>%\n",
    "filter(!is.na(value), value != \"\") %>%\n",
    "mutate(value = gsub(\"<\", \"\", value)) %>%\n",
    "mutate(value = as.numeric(value)) %>%\n",
    "spread(key, value) %>%\n",
    "mutate(rx = rank(x, ties.method = \"first\"), ry = rank(y, ties.method = \"first\"))\n",
    "\n",
    "pval_tab <- pval_tab %>%\n",
    "dplyr::select(rx, x) %>%\n",
    "rename(r = rx) %>%\n",
    "full_join(pval_tab %>%\n",
    "         dplyr:: select(ry, y) %>%\n",
    "          rename(r = ry), by = \"r\") %>%\n",
    "arrange(r) %>%\n",
    "gather(\"key\", \"value\", x, y)\n",
    "\n",
    "head(pval_tab)"
   ]
  },
  {
   "cell_type": "code",
   "execution_count": 8,
   "metadata": {
    "vscode": {
     "languageId": "r"
    }
   },
   "outputs": [
    {
     "data": {
      "text/html": [
       "<table class=\"dataframe\">\n",
       "<caption>A data.frame: 6 × 3</caption>\n",
       "<thead>\n",
       "\t<tr><th></th><th scope=col>r</th><th scope=col>key</th><th scope=col>value</th></tr>\n",
       "\t<tr><th></th><th scope=col>&lt;int&gt;</th><th scope=col>&lt;chr&gt;</th><th scope=col>&lt;dbl&gt;</th></tr>\n",
       "</thead>\n",
       "<tbody>\n",
       "\t<tr><th scope=row>1</th><td>1</td><td>x</td><td>0.001</td></tr>\n",
       "\t<tr><th scope=row>2</th><td>2</td><td>x</td><td>0.001</td></tr>\n",
       "\t<tr><th scope=row>3</th><td>3</td><td>x</td><td>0.001</td></tr>\n",
       "\t<tr><th scope=row>4</th><td>4</td><td>x</td><td>0.001</td></tr>\n",
       "\t<tr><th scope=row>5</th><td>5</td><td>x</td><td>0.003</td></tr>\n",
       "\t<tr><th scope=row>6</th><td>6</td><td>x</td><td>0.009</td></tr>\n",
       "</tbody>\n",
       "</table>\n"
      ],
      "text/latex": [
       "A data.frame: 6 × 3\n",
       "\\begin{tabular}{r|lll}\n",
       "  & r & key & value\\\\\n",
       "  & <int> & <chr> & <dbl>\\\\\n",
       "\\hline\n",
       "\t1 & 1 & x & 0.001\\\\\n",
       "\t2 & 2 & x & 0.001\\\\\n",
       "\t3 & 3 & x & 0.001\\\\\n",
       "\t4 & 4 & x & 0.001\\\\\n",
       "\t5 & 5 & x & 0.003\\\\\n",
       "\t6 & 6 & x & 0.009\\\\\n",
       "\\end{tabular}\n"
      ],
      "text/markdown": [
       "\n",
       "A data.frame: 6 × 3\n",
       "\n",
       "| <!--/--> | r &lt;int&gt; | key &lt;chr&gt; | value &lt;dbl&gt; |\n",
       "|---|---|---|---|\n",
       "| 1 | 1 | x | 0.001 |\n",
       "| 2 | 2 | x | 0.001 |\n",
       "| 3 | 3 | x | 0.001 |\n",
       "| 4 | 4 | x | 0.001 |\n",
       "| 5 | 5 | x | 0.003 |\n",
       "| 6 | 6 | x | 0.009 |\n",
       "\n"
      ],
      "text/plain": [
       "  r key value\n",
       "1 1 x   0.001\n",
       "2 2 x   0.001\n",
       "3 3 x   0.001\n",
       "4 4 x   0.001\n",
       "5 5 x   0.003\n",
       "6 6 x   0.009"
      ]
     },
     "metadata": {},
     "output_type": "display_data"
    },
    {
     "data": {
      "image/png": "[encoded data removed]",
      "text/plain": [
       "plot without title"
      ]
     },
     "metadata": {
      "image/png": {
       "height": 420,
       "width": 420
      }
     },
     "output_type": "display_data"
    }
   ],
   "source": [
    "pval_tab <- tableone %>%\n",
    "dplyr::select(cov, pval.x, pval.y) %>%\n",
    "rename(x = pval.x, y = pval.y) %>% \n",
    "gather(\"key\", \"value\", x, y) %>%\n",
    "filter(!is.na(value), value != \"\") %>%\n",
    "mutate(value = gsub(\"<\", \"\", value)) %>%\n",
    "mutate(value = as.numeric(value)) %>%\n",
    "spread(key, value) %>%\n",
    "mutate(rx = rank(x, ties.method = \"first\"), ry = rank(y, ties.method = \"first\"))\n",
    "\n",
    "pval_tab <- pval_tab %>%\n",
    "dplyr::select(rx, x) %>%\n",
    "rename(r = rx) %>%\n",
    "full_join(pval_tab %>%\n",
    "         dplyr:: select(ry, y) %>%\n",
    "          rename(r = ry), by = \"r\") %>%\n",
    "arrange(r) %>%\n",
    "gather(\"key\", \"value\", x, y)\n",
    "\n",
    "head(pval_tab)\n",
    "\n",
    "\n",
    "\n",
    "\n",
    "p <- ggplot() +\n",
    "geom_point(data = pval_tab, aes(x = r, y = value, shape = key), show.legend = FALSE) +\n",
    "geom_hline(yintercept = 0.05, color = \"#dc3545\") +\n",
    "scale_shape_manual(values = c(19, 1)) +\n",
    "annotation_custom(grid::textGrob(\"0.05\",\n",
    "                                 gp = grid::gpar(col = \"#dc3545\", fontsize = 9.1)), \n",
    "        xmin = -2.2, xmax = -2.2, ymin = 0.05, ymax = 0.05) +\n",
    "labs(y = \"p-value\",\n",
    "     x = \"rank of p-value for pretreatment variables\\n(hollow is after propensity score matching, solid is before)\") +\n",
    "theme_bw() +\n",
    "theme(panel.grid = element_blank())\n",
    "\n",
    "g <- ggplotGrob(p)\n",
    "g$layout$clip[g$layout$name==\"panel\"] <- \"off\"\n",
    "grid::grid.draw(g)"
   ]
  }
 ],
 "metadata": {
  "kernelspec": {
   "display_name": "R",
   "language": "R",
   "name": "ir"
  },
  "language_info": {
   "codemirror_mode": "r",
   "file_extension": ".r",
   "mimetype": "text/x-r-source",
   "name": "R",
   "pygments_lexer": "r",
   "version": "4.3.2"
  },
  "varInspector": {
   "cols": {
    "lenName": 16,
    "lenType": 16,
    "lenVar": 40
   },
   "kernels_config": {
    "python": {
     "delete_cmd_postfix": "",
     "delete_cmd_prefix": "del ",
     "library": "var_list.py",
     "varRefreshCmd": "print(var_dic_list())"
    },
    "r": {
     "delete_cmd_postfix": ") ",
     "delete_cmd_prefix": "rm(",
     "library": "var_list.r",
     "varRefreshCmd": "cat(var_dic_list()) "
    }
   },
   "types_to_exclude": [
    "module",
    "function",
    "builtin_function_or_method",
    "instance",
    "_Feature"
   ],
   "window_display": false
  }
 },
 "nbformat": 4,
 "nbformat_minor": 2
}
